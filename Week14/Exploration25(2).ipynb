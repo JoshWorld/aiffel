{
 "cells": [
  {
   "cell_type": "markdown",
   "metadata": {},
   "source": [
    "# 프로젝트 : Spectrogram Classification 모델 구현\n",
    "\n",
    "## 1. 데이터 처리와 분류\n",
    "\n",
    "- 라벨 데이터 처리하기\n",
    "- `sklearn`의 `Train_test_split` 함수를 이용하여 train, test 분리"
   ]
  },
  {
   "cell_type": "code",
   "execution_count": 1,
   "metadata": {},
   "outputs": [],
   "source": [
    "import numpy as np\n",
    "import os\n",
    "import IPython.display as ipd\n",
    "import random"
   ]
  },
  {
   "cell_type": "code",
   "execution_count": 2,
   "metadata": {},
   "outputs": [
    {
     "data": {
      "text/plain": [
       "[PhysicalDevice(name='/physical_device:CPU:0', device_type='CPU'),\n",
       " PhysicalDevice(name='/physical_device:XLA_CPU:0', device_type='XLA_CPU'),\n",
       " PhysicalDevice(name='/physical_device:XLA_GPU:0', device_type='XLA_GPU'),\n",
       " PhysicalDevice(name='/physical_device:GPU:0', device_type='GPU')]"
      ]
     },
     "execution_count": 2,
     "metadata": {},
     "output_type": "execute_result"
    }
   ],
   "source": [
    "import tensorflow as tf\n",
    "\n",
    "tf.config.list_physical_devices()"
   ]
  },
  {
   "cell_type": "code",
   "execution_count": 3,
   "metadata": {},
   "outputs": [
    {
     "name": "stdout",
     "output_type": "stream",
     "text": [
      "✅\n"
     ]
    }
   ],
   "source": [
    "data_path = os.getenv(\"HOME\")+'/aiffel/speech_recognition/data/speech_wav_8000.npz'\n",
    "speech_data = np.load(data_path)\n",
    "print(\"✅\")"
   ]
  },
  {
   "cell_type": "code",
   "execution_count": 3,
   "metadata": {},
   "outputs": [
    {
     "name": "stdout",
     "output_type": "stream",
     "text": [
      "rand num :  6518\n",
      "Wave data shape :  (8000,)\n",
      "label :  ['no']\n"
     ]
    },
    {
     "data": {
      "text/html": [
       "\n",
       "                <audio  controls=\"controls\" >\n",
       "                    <source src=\"data:audio/wav;base64,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\" type=\"audio/wav\" />\n",
       "                    Your browser does not support the audio element.\n",
       "                </audio>\n",
       "              "
      ],
      "text/plain": [
       "<IPython.lib.display.Audio object>"
      ]
     },
     "execution_count": 3,
     "metadata": {},
     "output_type": "execute_result"
    }
   ],
   "source": [
    "import IPython.display as ipd\n",
    "import random\n",
    "\n",
    "# 데이터 선택\n",
    "rand = random.randint(0, len(speech_data[\"wav_vals\"]))\n",
    "print(\"rand num : \", rand)\n",
    "\n",
    "sr = 8000 # 1초동안 재생되는 샘플의 갯수\n",
    "data = speech_data[\"wav_vals\"][rand]\n",
    "print(\"Wave data shape : \", data.shape)\n",
    "print(\"label : \", speech_data[\"label_vals\"][rand])\n",
    "\n",
    "ipd.Audio(data, rate=sr)"
   ]
  },
  {
   "cell_type": "markdown",
   "metadata": {},
   "source": [
    "#### 데이터를 2차원으로 만들기!!"
   ]
  },
  {
   "cell_type": "code",
   "execution_count": 4,
   "metadata": {},
   "outputs": [],
   "source": [
    "data = speech_data['wav_vals']"
   ]
  },
  {
   "cell_type": "code",
   "execution_count": 5,
   "metadata": {},
   "outputs": [],
   "source": [
    "import librosa\n",
    "\n",
    "def wav2spec(wav, fft_size=258): # spectrogram shape을 맞추기위해서 size 변형\n",
    "    D = np.abs(librosa.stft(wav, n_fft=fft_size))\n",
    "    return D"
   ]
  },
  {
   "cell_type": "code",
   "execution_count": 6,
   "metadata": {},
   "outputs": [
    {
     "name": "stderr",
     "output_type": "stream",
     "text": [
      "100%|██████████| 50620/50620 [00:29<00:00, 1713.28it/s]\n"
     ]
    }
   ],
   "source": [
    "from tqdm import tqdm\n",
    "\n",
    "spec_data = []\n",
    "for one_data in tqdm(data):\n",
    "    spec = wav2spec(one_data)\n",
    "    spec_data.append(spec)\n",
    "\n",
    "spec_data = np.array(spec_data)"
   ]
  },
  {
   "cell_type": "code",
   "execution_count": 7,
   "metadata": {},
   "outputs": [
    {
     "name": "stdout",
     "output_type": "stream",
     "text": [
      "(50620, 130, 126)\n"
     ]
    }
   ],
   "source": [
    "print(spec_data.shape)"
   ]
  },
  {
   "cell_type": "markdown",
   "metadata": {},
   "source": [
    "#### 라벨 데이터 만들기!!"
   ]
  },
  {
   "cell_type": "code",
   "execution_count": 8,
   "metadata": {},
   "outputs": [
    {
     "name": "stdout",
     "output_type": "stream",
     "text": [
      "✅\n"
     ]
    }
   ],
   "source": [
    "# 라벨 데이터 처리\n",
    "target_list = ['yes', 'no', 'up', 'down', 'left', 'right', 'on', 'off', 'stop', 'go']\n",
    "\n",
    "label_value = target_list\n",
    "label_value.append('unknown')\n",
    "label_value.append('silence')\n",
    "\n",
    "new_label_value = dict()\n",
    "for i, l in enumerate(label_value):\n",
    "    new_label_value[l] = i\n",
    "label_value = new_label_value\n",
    "print(\"✅\")"
   ]
  },
  {
   "cell_type": "code",
   "execution_count": 9,
   "metadata": {},
   "outputs": [],
   "source": [
    "temp = []\n",
    "for v in speech_data['label_vals']:\n",
    "    temp.append(label_value[v[0]])\n",
    "\n",
    "label_data = np.array(temp)"
   ]
  },
  {
   "cell_type": "code",
   "execution_count": 10,
   "metadata": {},
   "outputs": [
    {
     "name": "stdout",
     "output_type": "stream",
     "text": [
      "(50620,)\n"
     ]
    }
   ],
   "source": [
    "print(label_data.shape)"
   ]
  },
  {
   "cell_type": "markdown",
   "metadata": {},
   "source": [
    "굳!! 잘 만들어진 것 같습니다. 계속해서 볼까요?!"
   ]
  },
  {
   "cell_type": "markdown",
   "metadata": {},
   "source": [
    "#### 학습을 위한 데이터 분리"
   ]
  },
  {
   "cell_type": "code",
   "execution_count": 11,
   "metadata": {},
   "outputs": [],
   "source": [
    "from sklearn.model_selection import train_test_split\n",
    "\n",
    "train_spec, test_spec, train_label, test_label = train_test_split(spec_data, \n",
    "                                                                label_data, \n",
    "                                                                test_size=0.1,\n",
    "                                                                shuffle=True)"
   ]
  },
  {
   "cell_type": "code",
   "execution_count": 12,
   "metadata": {},
   "outputs": [
    {
     "name": "stdout",
     "output_type": "stream",
     "text": [
      "train data :  (45558, 130, 126)\n",
      "train labels :  (45558,)\n",
      "test data :  (5062, 130, 126)\n",
      "test labels :  (5062,)\n",
      "✅\n"
     ]
    }
   ],
   "source": [
    "print(\"train data : \", train_spec.shape)\n",
    "print(\"train labels : \", train_label.shape)\n",
    "print(\"test data : \", test_spec.shape)\n",
    "print(\"test labels : \", test_label.shape)\n",
    "print(\"✅\")"
   ]
  },
  {
   "cell_type": "markdown",
   "metadata": {},
   "source": [
    "## 2. 학습을 위한 하이퍼파라미터 설정"
   ]
  },
  {
   "cell_type": "markdown",
   "metadata": {},
   "source": [
    "#### Hyper parameters setting"
   ]
  },
  {
   "cell_type": "code",
   "execution_count": 13,
   "metadata": {},
   "outputs": [
    {
     "data": {
      "text/plain": [
       "'/home/aiffel0039/aiffel/speech_recognition/models/wav'"
      ]
     },
     "execution_count": 13,
     "metadata": {},
     "output_type": "execute_result"
    }
   ],
   "source": [
    "batch_size = 16\n",
    "max_epochs = 10\n",
    "\n",
    "# the save point\n",
    "checkpoint_dir = os.getenv('HOME')+'/aiffel/speech_recognition/models/wav'\n",
    "checkpoint_dir"
   ]
  },
  {
   "cell_type": "markdown",
   "metadata": {},
   "source": [
    "## 3. 데이터셋 구성\n",
    "\n",
    "- `tf.data.Dataset`을 이용\n",
    "- `from_tensor_slices` 함수에 return 받길 원하는 데이터를 튜플 (data, label) 형태로 넣어서 사용\n",
    "- map과 batch를 이용한 데이터 전처리"
   ]
  },
  {
   "cell_type": "code",
   "execution_count": 14,
   "metadata": {},
   "outputs": [
    {
     "name": "stdout",
     "output_type": "stream",
     "text": [
      "✅\n"
     ]
    }
   ],
   "source": [
    "def one_hot_label(wav, label):\n",
    "    label = tf.one_hot(label, depth=12)\n",
    "    return wav, label\n",
    "print(\"✅\")"
   ]
  },
  {
   "cell_type": "code",
   "execution_count": 15,
   "metadata": {},
   "outputs": [
    {
     "name": "stdout",
     "output_type": "stream",
     "text": [
      "<BatchDataset shapes: ((None, 130, 126), (None, 12)), types: (tf.float32, tf.float32)>\n",
      "<BatchDataset shapes: ((None, 130, 126), (None, 12)), types: (tf.float32, tf.float32)>\n",
      "✅\n"
     ]
    }
   ],
   "source": [
    "import tensorflow as tf\n",
    "\n",
    "# for train\n",
    "train_dataset = tf.data.Dataset.from_tensor_slices((train_spec, train_label))\n",
    "train_dataset = train_dataset.map(one_hot_label)\n",
    "train_dataset = train_dataset.repeat().batch(batch_size=batch_size)\n",
    "print(train_dataset)\n",
    "\n",
    "# for test\n",
    "test_dataset = tf.data.Dataset.from_tensor_slices((test_spec, test_label))\n",
    "test_dataset = test_dataset.map(one_hot_label)\n",
    "test_dataset = test_dataset.batch(batch_size=batch_size)\n",
    "print(test_dataset)\n",
    "print(\"✅\")"
   ]
  },
  {
   "cell_type": "markdown",
   "metadata": {},
   "source": [
    "## 4. 2차원 Spectrogram 데이터를 처리하는 모델 구성\n",
    "\n",
    "- Conv2D layer, batchnorm, dropout, dense layer등을 이용\n",
    "- 12개의 단어 class를 구분하는 loss를 사용하고 Adam optimizer를 사용\n",
    "- 모델 가중치를 저장하는 checkpoint callback 함수를 추가"
   ]
  },
  {
   "cell_type": "code",
   "execution_count": 16,
   "metadata": {},
   "outputs": [],
   "source": [
    "from tensorflow.keras import layers\n",
    "\n",
    "input_tensor = layers.Input(shape=(130, 126, 1))\n",
    "\n",
    "x = layers.Conv2D(32, 9, padding='same', activation='relu')(input_tensor)\n",
    "x = layers.Conv2D(32, 9, padding='same', activation='relu')(x)\n",
    "x = layers.MaxPool2D()(x)\n",
    "\n",
    "x = layers.Conv2D(64, 9, padding='same', activation='relu')(x)\n",
    "x = layers.Conv2D(64, 9, padding='same', activation='relu')(x)\n",
    "x = layers.MaxPool2D()(x)\n",
    "\n",
    "x = layers.Conv2D(128, 9, padding='same', activation='relu')(x)\n",
    "x = layers.Conv2D(128, 9, padding='same', activation='relu')(x)\n",
    "x = layers.Conv2D(128, 9, padding='same', activation='relu')(x)\n",
    "x = layers.MaxPool2D()(x)\n",
    "\n",
    "x = layers.Conv2D(256, 9, padding='same', activation='relu')(x)\n",
    "x = layers.Conv2D(256, 9, padding='same', activation='relu')(x)\n",
    "x = layers.Conv2D(256, 9, padding='same', activation='relu')(x)\n",
    "x = layers.MaxPool2D()(x)\n",
    "x = layers.Dropout(0.3)(x)\n",
    "\n",
    "x = layers.Flatten()(x)\n",
    "x = layers.Dense(256)(x)\n",
    "x = layers.BatchNormalization()(x)\n",
    "x = layers.Activation('relu')(x)\n",
    "\n",
    "output_tensor = layers.Dense(12)(x)\n",
    "\n",
    "model_spec = tf.keras.Model(input_tensor, output_tensor)"
   ]
  },
  {
   "cell_type": "code",
   "execution_count": 17,
   "metadata": {},
   "outputs": [
    {
     "name": "stdout",
     "output_type": "stream",
     "text": [
      "Model: \"functional_1\"\n",
      "_________________________________________________________________\n",
      "Layer (type)                 Output Shape              Param #   \n",
      "=================================================================\n",
      "input_1 (InputLayer)         [(None, 130, 126, 1)]     0         \n",
      "_________________________________________________________________\n",
      "conv2d (Conv2D)              (None, 130, 126, 32)      2624      \n",
      "_________________________________________________________________\n",
      "conv2d_1 (Conv2D)            (None, 130, 126, 32)      82976     \n",
      "_________________________________________________________________\n",
      "max_pooling2d (MaxPooling2D) (None, 65, 63, 32)        0         \n",
      "_________________________________________________________________\n",
      "conv2d_2 (Conv2D)            (None, 65, 63, 64)        165952    \n",
      "_________________________________________________________________\n",
      "conv2d_3 (Conv2D)            (None, 65, 63, 64)        331840    \n",
      "_________________________________________________________________\n",
      "max_pooling2d_1 (MaxPooling2 (None, 32, 31, 64)        0         \n",
      "_________________________________________________________________\n",
      "conv2d_4 (Conv2D)            (None, 32, 31, 128)       663680    \n",
      "_________________________________________________________________\n",
      "conv2d_5 (Conv2D)            (None, 32, 31, 128)       1327232   \n",
      "_________________________________________________________________\n",
      "conv2d_6 (Conv2D)            (None, 32, 31, 128)       1327232   \n",
      "_________________________________________________________________\n",
      "max_pooling2d_2 (MaxPooling2 (None, 16, 15, 128)       0         \n",
      "_________________________________________________________________\n",
      "conv2d_7 (Conv2D)            (None, 16, 15, 256)       2654464   \n",
      "_________________________________________________________________\n",
      "conv2d_8 (Conv2D)            (None, 16, 15, 256)       5308672   \n",
      "_________________________________________________________________\n",
      "conv2d_9 (Conv2D)            (None, 16, 15, 256)       5308672   \n",
      "_________________________________________________________________\n",
      "max_pooling2d_3 (MaxPooling2 (None, 8, 7, 256)         0         \n",
      "_________________________________________________________________\n",
      "dropout (Dropout)            (None, 8, 7, 256)         0         \n",
      "_________________________________________________________________\n",
      "flatten (Flatten)            (None, 14336)             0         \n",
      "_________________________________________________________________\n",
      "dense (Dense)                (None, 256)               3670272   \n",
      "_________________________________________________________________\n",
      "batch_normalization (BatchNo (None, 256)               1024      \n",
      "_________________________________________________________________\n",
      "activation (Activation)      (None, 256)               0         \n",
      "_________________________________________________________________\n",
      "dense_1 (Dense)              (None, 12)                3084      \n",
      "=================================================================\n",
      "Total params: 20,847,724\n",
      "Trainable params: 20,847,212\n",
      "Non-trainable params: 512\n",
      "_________________________________________________________________\n"
     ]
    }
   ],
   "source": [
    "model_spec.summary()"
   ]
  },
  {
   "cell_type": "code",
   "execution_count": 18,
   "metadata": {},
   "outputs": [
    {
     "name": "stdout",
     "output_type": "stream",
     "text": [
      "✅\n"
     ]
    }
   ],
   "source": [
    "optimizer=tf.keras.optimizers.Adam(1e-4)\n",
    "model_spec.compile(loss=tf.keras.losses.CategoricalCrossentropy(from_logits=True),\n",
    "             optimizer=optimizer,\n",
    "             metrics=['accuracy'])\n",
    "print(\"✅\")"
   ]
  },
  {
   "cell_type": "code",
   "execution_count": 19,
   "metadata": {},
   "outputs": [
    {
     "name": "stdout",
     "output_type": "stream",
     "text": [
      "✅\n"
     ]
    }
   ],
   "source": [
    "cp_callback = tf.keras.callbacks.ModelCheckpoint(checkpoint_dir,\n",
    "                                                 save_weights_only=True,\n",
    "                                                 monitor='val_loss',\n",
    "                                                 mode='auto',\n",
    "                                                 save_best_only=True,\n",
    "                                                 verbose=1)\n",
    "print(\"✅\")"
   ]
  },
  {
   "cell_type": "markdown",
   "metadata": {},
   "source": [
    "## 5. 학습 후, 학습이 어떻게 진행되었는지 그래프로 출력\n",
    "\n",
    "- loss, accuracy를 그래프로 표현"
   ]
  },
  {
   "cell_type": "code",
   "execution_count": null,
   "metadata": {},
   "outputs": [],
   "source": [
    "history_spec = model_spec.fit(\n",
    "    train_dataset,\n",
    "    epochs = max_epochs,\n",
    "    steps_per_epoch = len(train_spec) // batch_size,\n",
    "    validation_data = test_dataset,\n",
    "    validation_steps = len(test_spec) // batch_size,\n",
    "    callbacks = [cp_callback]\n",
    ")\n",
    "print(\"✅\")"
   ]
  },
  {
   "cell_type": "code",
   "execution_count": null,
   "metadata": {},
   "outputs": [],
   "source": []
  },
  {
   "cell_type": "code",
   "execution_count": null,
   "metadata": {},
   "outputs": [],
   "source": []
  },
  {
   "cell_type": "code",
   "execution_count": null,
   "metadata": {},
   "outputs": [],
   "source": []
  },
  {
   "cell_type": "code",
   "execution_count": 15,
   "metadata": {},
   "outputs": [
    {
     "name": "stdout",
     "output_type": "stream",
     "text": [
      "Epoch 1/10\n",
      "  2/355 [..............................] - ETA: 1:11 - loss: 2.4840 - accuracy: 0.1289WARNING:tensorflow:Callbacks method `on_train_batch_end` is slow compared to the batch time (batch time: 0.1328s vs `on_train_batch_end` time: 0.2687s). Check your callbacks.\n",
      "355/355 [==============================] - ETA: 0s - loss: 1.4667 - accuracy: 0.5123\n",
      "Epoch 00001: val_loss improved from inf to 1.24444, saving model to /home/aiffel0039/aiffel/speech_recognition/models/wav\n",
      "355/355 [==============================] - 135s 380ms/step - loss: 1.4667 - accuracy: 0.5123 - val_loss: 1.2444 - val_accuracy: 0.6458\n",
      "Epoch 2/10\n",
      "355/355 [==============================] - ETA: 0s - loss: 0.8511 - accuracy: 0.7417\n",
      "Epoch 00002: val_loss improved from 1.24444 to 0.80731, saving model to /home/aiffel0039/aiffel/speech_recognition/models/wav\n",
      "355/355 [==============================] - 137s 385ms/step - loss: 0.8511 - accuracy: 0.7417 - val_loss: 0.8073 - val_accuracy: 0.7530\n",
      "Epoch 3/10\n",
      "355/355 [==============================] - ETA: 0s - loss: 0.6290 - accuracy: 0.8152\n",
      "Epoch 00003: val_loss improved from 0.80731 to 0.56948, saving model to /home/aiffel0039/aiffel/speech_recognition/models/wav\n",
      "355/355 [==============================] - 133s 374ms/step - loss: 0.6290 - accuracy: 0.8152 - val_loss: 0.5695 - val_accuracy: 0.8207\n",
      "Epoch 4/10\n",
      "355/355 [==============================] - ETA: 0s - loss: 0.4752 - accuracy: 0.8651\n",
      "Epoch 00004: val_loss did not improve from 0.56948\n",
      "355/355 [==============================] - 134s 377ms/step - loss: 0.4752 - accuracy: 0.8651 - val_loss: 0.6480 - val_accuracy: 0.7839\n",
      "Epoch 5/10\n",
      "355/355 [==============================] - ETA: 0s - loss: 0.3659 - accuracy: 0.9017\n",
      "Epoch 00005: val_loss improved from 0.56948 to 0.55115, saving model to /home/aiffel0039/aiffel/speech_recognition/models/wav\n",
      "355/355 [==============================] - 135s 380ms/step - loss: 0.3659 - accuracy: 0.9017 - val_loss: 0.5512 - val_accuracy: 0.8213\n",
      "Epoch 6/10\n",
      "355/355 [==============================] - ETA: 0s - loss: 0.2810 - accuracy: 0.9293\n",
      "Epoch 00006: val_loss improved from 0.55115 to 0.35515, saving model to /home/aiffel0039/aiffel/speech_recognition/models/wav\n",
      "355/355 [==============================] - 135s 379ms/step - loss: 0.2810 - accuracy: 0.9293 - val_loss: 0.3551 - val_accuracy: 0.8904\n",
      "Epoch 7/10\n",
      "355/355 [==============================] - ETA: 0s - loss: 0.2079 - accuracy: 0.9526\n",
      "Epoch 00007: val_loss did not improve from 0.35515\n",
      "355/355 [==============================] - 138s 389ms/step - loss: 0.2079 - accuracy: 0.9526 - val_loss: 0.4039 - val_accuracy: 0.8790\n",
      "Epoch 8/10\n",
      "355/355 [==============================] - ETA: 0s - loss: 0.1640 - accuracy: 0.9651\n",
      "Epoch 00008: val_loss improved from 0.35515 to 0.26699, saving model to /home/aiffel0039/aiffel/speech_recognition/models/wav\n",
      "355/355 [==============================] - 138s 388ms/step - loss: 0.1640 - accuracy: 0.9651 - val_loss: 0.2670 - val_accuracy: 0.9205\n",
      "Epoch 9/10\n",
      "355/355 [==============================] - ETA: 0s - loss: 0.1289 - accuracy: 0.9732\n",
      "Epoch 00009: val_loss improved from 0.26699 to 0.26649, saving model to /home/aiffel0039/aiffel/speech_recognition/models/wav\n",
      "355/355 [==============================] - 133s 375ms/step - loss: 0.1289 - accuracy: 0.9732 - val_loss: 0.2665 - val_accuracy: 0.9227\n",
      "Epoch 10/10\n",
      "355/355 [==============================] - ETA: 0s - loss: 0.1016 - accuracy: 0.9792\n",
      "Epoch 00010: val_loss improved from 0.26649 to 0.26229, saving model to /home/aiffel0039/aiffel/speech_recognition/models/wav\n",
      "355/355 [==============================] - 136s 383ms/step - loss: 0.1016 - accuracy: 0.9792 - val_loss: 0.2623 - val_accuracy: 0.9247\n",
      "✅\n"
     ]
    }
   ],
   "source": [
    "#30분 내외 소요\n",
    "history_wav = model_wav.fit(train_dataset, epochs=max_epochs,\n",
    "                    steps_per_epoch=len(train_wav) // batch_size,\n",
    "                    validation_data=test_dataset,\n",
    "                    validation_steps=len(test_wav) // batch_size,\n",
    "                    callbacks=[cp_callback]\n",
    "                    )\n",
    "print(\"✅\")"
   ]
  },
  {
   "cell_type": "code",
   "execution_count": 17,
   "metadata": {},
   "outputs": [
    {
     "data": {
      "image/png": "[encoded data removed]",
      "text/plain": [
       "<Figure size 720x576 with 2 Axes>"
      ]
     },
     "metadata": {
      "needs_background": "light"
     },
     "output_type": "display_data"
    },
    {
     "name": "stdout",
     "output_type": "stream",
     "text": [
      "✅\n"
     ]
    }
   ],
   "source": [
    "import matplotlib.pyplot as plt\n",
    "\n",
    "acc = history_wav.history['accuracy']\n",
    "val_acc = history_wav.history['val_accuracy']\n",
    "\n",
    "loss=history_wav.history['loss']\n",
    "val_loss=history_wav.history['val_loss']\n",
    "\n",
    "epochs_range = range(len(acc))\n",
    "\n",
    "plt.figure(figsize=(10, 8))\n",
    "plt.subplot(1, 2, 1)\n",
    "plt.plot(epochs_range, acc, label='Training Accuracy')\n",
    "plt.plot(epochs_range, val_acc, label='Validation Accuracy')\n",
    "plt.legend(loc='lower right')\n",
    "plt.title('Training and Validation Accuracy')\n",
    "\n",
    "plt.subplot(1, 2, 2)\n",
    "plt.plot(epochs_range, loss, label='Training Loss')\n",
    "plt.plot(epochs_range, val_loss, label='Validation Loss')\n",
    "plt.legend(loc='upper right')\n",
    "plt.title('Training and Validation Loss')\n",
    "plt.show()\n",
    "print(\"✅\")"
   ]
  },
  {
   "cell_type": "code",
   "execution_count": 19,
   "metadata": {},
   "outputs": [
    {
     "name": "stdout",
     "output_type": "stream",
     "text": [
      "✅\n"
     ]
    }
   ],
   "source": [
    "import librosa\n",
    "\n",
    "def wav2spec(wav, fft_size=258): # spectrogram shape을 맞추기위해서 size 변형\n",
    "    D = np.abs(librosa.stft(wav, n_fft=fft_size))\n",
    "    return D\n",
    "print(\"✅\")"
   ]
  },
  {
   "cell_type": "code",
   "execution_count": 20,
   "metadata": {},
   "outputs": [
    {
     "name": "stdout",
     "output_type": "stream",
     "text": [
      "Waveform shape :  (8000,)\n",
      "Spectrogram shape :  (130, 126)\n"
     ]
    }
   ],
   "source": [
    "# 위에서 뽑았던 sample data\n",
    "spec = wav2spec(data)\n",
    "print(\"Waveform shape : \",data.shape)\n",
    "print(\"Spectrogram shape : \",spec.shape)"
   ]
  },
  {
   "cell_type": "code",
   "execution_count": 21,
   "metadata": {},
   "outputs": [
    {
     "data": {
      "image/png": "[encoded data removed]",
      "text/plain": [
       "<Figure size 432x288 with 2 Axes>"
      ]
     },
     "metadata": {
      "needs_background": "light"
     },
     "output_type": "display_data"
    }
   ],
   "source": [
    "import librosa.display\n",
    "\n",
    "librosa.display.specshow(librosa.amplitude_to_db(spec, ref=np.max), x_axis='time')\n",
    "plt.title('Power spectrogram')\n",
    "plt.colorbar(format='%+2.0f dB')\n",
    "plt.xticks(range(0, 1))\n",
    "plt.tight_layout()\n",
    "plt.show()"
   ]
  },
  {
   "cell_type": "code",
   "execution_count": null,
   "metadata": {},
   "outputs": [],
   "source": []
  },
  {
   "cell_type": "code",
   "execution_count": 28,
   "metadata": {},
   "outputs": [
    {
     "data": {
      "text/plain": [
       "(130, 126)"
      ]
     },
     "execution_count": 28,
     "metadata": {},
     "output_type": "execute_result"
    }
   ],
   "source": [
    "spec.shape"
   ]
  },
  {
   "cell_type": "code",
   "execution_count": 43,
   "metadata": {},
   "outputs": [
    {
     "data": {
      "text/plain": [
       "50620"
      ]
     },
     "execution_count": 43,
     "metadata": {},
     "output_type": "execute_result"
    }
   ],
   "source": [
    "len(label_data)"
   ]
  },
  {
   "cell_type": "code",
   "execution_count": null,
   "metadata": {},
   "outputs": [],
   "source": []
  },
  {
   "cell_type": "code",
   "execution_count": 24,
   "metadata": {},
   "outputs": [
    {
     "ename": "ValueError",
     "evalue": "Found input variables with inconsistent numbers of samples: [130, 50620]",
     "output_type": "error",
     "traceback": [
      "\u001b[0;31m---------------------------------------------------------------------------\u001b[0m",
      "\u001b[0;31mValueError\u001b[0m                                Traceback (most recent call last)",
      "\u001b[0;32m<ipython-input-24-d8f7de6c075e>\u001b[0m in \u001b[0;36m<module>\u001b[0;34m\u001b[0m\n\u001b[1;32m      5\u001b[0m     \u001b[0mlabel_data\u001b[0m\u001b[0;34m,\u001b[0m\u001b[0;34m\u001b[0m\u001b[0;34m\u001b[0m\u001b[0m\n\u001b[1;32m      6\u001b[0m     \u001b[0mtest_size\u001b[0m \u001b[0;34m=\u001b[0m \u001b[0;36m0.1\u001b[0m\u001b[0;34m,\u001b[0m\u001b[0;34m\u001b[0m\u001b[0;34m\u001b[0m\u001b[0m\n\u001b[0;32m----> 7\u001b[0;31m     \u001b[0mshuffle\u001b[0m \u001b[0;34m=\u001b[0m \u001b[0;32mTrue\u001b[0m\u001b[0;34m\u001b[0m\u001b[0;34m\u001b[0m\u001b[0m\n\u001b[0m\u001b[1;32m      8\u001b[0m )\n\u001b[1;32m      9\u001b[0m \u001b[0mprint\u001b[0m\u001b[0;34m(\u001b[0m\u001b[0mtrain_spec\u001b[0m\u001b[0;34m)\u001b[0m\u001b[0;34m\u001b[0m\u001b[0;34m\u001b[0m\u001b[0m\n",
      "\u001b[0;32m~/anaconda3/envs/aiffel/lib/python3.7/site-packages/sklearn/model_selection/_split.py\u001b[0m in \u001b[0;36mtrain_test_split\u001b[0;34m(*arrays, **options)\u001b[0m\n\u001b[1;32m   2125\u001b[0m         \u001b[0;32mraise\u001b[0m \u001b[0mTypeError\u001b[0m\u001b[0;34m(\u001b[0m\u001b[0;34m\"Invalid parameters passed: %s\"\u001b[0m \u001b[0;34m%\u001b[0m \u001b[0mstr\u001b[0m\u001b[0;34m(\u001b[0m\u001b[0moptions\u001b[0m\u001b[0;34m)\u001b[0m\u001b[0;34m)\u001b[0m\u001b[0;34m\u001b[0m\u001b[0;34m\u001b[0m\u001b[0m\n\u001b[1;32m   2126\u001b[0m \u001b[0;34m\u001b[0m\u001b[0m\n\u001b[0;32m-> 2127\u001b[0;31m     \u001b[0marrays\u001b[0m \u001b[0;34m=\u001b[0m \u001b[0mindexable\u001b[0m\u001b[0;34m(\u001b[0m\u001b[0;34m*\u001b[0m\u001b[0marrays\u001b[0m\u001b[0;34m)\u001b[0m\u001b[0;34m\u001b[0m\u001b[0;34m\u001b[0m\u001b[0m\n\u001b[0m\u001b[1;32m   2128\u001b[0m \u001b[0;34m\u001b[0m\u001b[0m\n\u001b[1;32m   2129\u001b[0m     \u001b[0mn_samples\u001b[0m \u001b[0;34m=\u001b[0m \u001b[0m_num_samples\u001b[0m\u001b[0;34m(\u001b[0m\u001b[0marrays\u001b[0m\u001b[0;34m[\u001b[0m\u001b[0;36m0\u001b[0m\u001b[0;34m]\u001b[0m\u001b[0;34m)\u001b[0m\u001b[0;34m\u001b[0m\u001b[0;34m\u001b[0m\u001b[0m\n",
      "\u001b[0;32m~/anaconda3/envs/aiffel/lib/python3.7/site-packages/sklearn/utils/validation.py\u001b[0m in \u001b[0;36mindexable\u001b[0;34m(*iterables)\u001b[0m\n\u001b[1;32m    291\u001b[0m     \"\"\"\n\u001b[1;32m    292\u001b[0m     \u001b[0mresult\u001b[0m \u001b[0;34m=\u001b[0m \u001b[0;34m[\u001b[0m\u001b[0m_make_indexable\u001b[0m\u001b[0;34m(\u001b[0m\u001b[0mX\u001b[0m\u001b[0;34m)\u001b[0m \u001b[0;32mfor\u001b[0m \u001b[0mX\u001b[0m \u001b[0;32min\u001b[0m \u001b[0miterables\u001b[0m\u001b[0;34m]\u001b[0m\u001b[0;34m\u001b[0m\u001b[0;34m\u001b[0m\u001b[0m\n\u001b[0;32m--> 293\u001b[0;31m     \u001b[0mcheck_consistent_length\u001b[0m\u001b[0;34m(\u001b[0m\u001b[0;34m*\u001b[0m\u001b[0mresult\u001b[0m\u001b[0;34m)\u001b[0m\u001b[0;34m\u001b[0m\u001b[0;34m\u001b[0m\u001b[0m\n\u001b[0m\u001b[1;32m    294\u001b[0m     \u001b[0;32mreturn\u001b[0m \u001b[0mresult\u001b[0m\u001b[0;34m\u001b[0m\u001b[0;34m\u001b[0m\u001b[0m\n\u001b[1;32m    295\u001b[0m \u001b[0;34m\u001b[0m\u001b[0m\n",
      "\u001b[0;32m~/anaconda3/envs/aiffel/lib/python3.7/site-packages/sklearn/utils/validation.py\u001b[0m in \u001b[0;36mcheck_consistent_length\u001b[0;34m(*arrays)\u001b[0m\n\u001b[1;32m    255\u001b[0m     \u001b[0;32mif\u001b[0m \u001b[0mlen\u001b[0m\u001b[0;34m(\u001b[0m\u001b[0muniques\u001b[0m\u001b[0;34m)\u001b[0m \u001b[0;34m>\u001b[0m \u001b[0;36m1\u001b[0m\u001b[0;34m:\u001b[0m\u001b[0;34m\u001b[0m\u001b[0;34m\u001b[0m\u001b[0m\n\u001b[1;32m    256\u001b[0m         raise ValueError(\"Found input variables with inconsistent numbers of\"\n\u001b[0;32m--> 257\u001b[0;31m                          \" samples: %r\" % [int(l) for l in lengths])\n\u001b[0m\u001b[1;32m    258\u001b[0m \u001b[0;34m\u001b[0m\u001b[0m\n\u001b[1;32m    259\u001b[0m \u001b[0;34m\u001b[0m\u001b[0m\n",
      "\u001b[0;31mValueError\u001b[0m: Found input variables with inconsistent numbers of samples: [130, 50620]"
     ]
    }
   ],
   "source": [
    "sr = 8000\n",
    "\n",
    "train_spec, test_spec, train_label, test_label = train_test_split(\n",
    "    spec,\n",
    "    label_data,\n",
    "    test_size = 0.1,\n",
    "    shuffle = True\n",
    ")\n",
    "print(train_spec)\n",
    "\n",
    "train_spec = train_spec.reshape([-1, sr, 1]) # add channel for CNN\n",
    "test_spec = test_spec.reshape([-1, sr, 1])\n",
    "print(\"✅\")"
   ]
  },
  {
   "cell_type": "code",
   "execution_count": null,
   "metadata": {},
   "outputs": [],
   "source": [
    "from sklearn.model_selection import train_test_split\n",
    "\n",
    "sr = 8000\n",
    "train_wav, test_wav, train_label, test_label = train_test_split(speech_data[\"wav_vals\"], \n",
    "                                                                label_data, \n",
    "                                                                test_size=0.1,\n",
    "                                                                shuffle=True)\n",
    "print(train_wav)\n",
    "\n",
    "train_wav = train_wav.reshape([-1, sr, 1]) # add channel for CNN\n",
    "test_wav = test_wav.reshape([-1, sr, 1])\n",
    "print(\"✅\")"
   ]
  },
  {
   "cell_type": "markdown",
   "metadata": {},
   "source": [
    "## 6. Test dataset을 이용해서 모델의 성능을 평가\\\n",
    "\n",
    "- 저장한 weight 불러오기\n",
    "- 모델의 예측값과 정답값이 얼마나 일치하는지 확인"
   ]
  },
  {
   "cell_type": "code",
   "execution_count": null,
   "metadata": {},
   "outputs": [],
   "source": [
    "model_wav.load_weights(checkpoint_dir)\n",
    "print(\"✅\")"
   ]
  },
  {
   "cell_type": "code",
   "execution_count": null,
   "metadata": {},
   "outputs": [],
   "source": [
    "results = model_wav.evaluate(test_dataset)\n",
    "print(\"✅\")"
   ]
  },
  {
   "cell_type": "code",
   "execution_count": null,
   "metadata": {},
   "outputs": [],
   "source": [
    "# loss\n",
    "print(\"loss value: {:.3f}\".format(results[0]))\n",
    "# accuracy\n",
    "print(\"accuracy value: {:.4f}%\".format(results[1]*100))  Out [22]:\n",
    "print(\"✅\")"
   ]
  },
  {
   "cell_type": "code",
   "execution_count": null,
   "metadata": {},
   "outputs": [],
   "source": [
    "inv_label_value = {v: k for k, v in label_value.items()}\n",
    "batch_index = np.random.choice(len(test_wav), size=1, replace=False)\n",
    "\n",
    "batch_xs = test_wav[batch_index]\n",
    "batch_ys = test_label[batch_index]\n",
    "y_pred_ = model_wav(batch_xs, training=False)\n",
    "\n",
    "print(\"label : \", str(inv_label_value[batch_ys[0]]))\n",
    "\n",
    "ipd.Audio(batch_xs.reshape(8000,), rate=8000)"
   ]
  },
  {
   "cell_type": "code",
   "execution_count": null,
   "metadata": {},
   "outputs": [],
   "source": [
    "if np.argmax(y_pred_) == test_label[i]:\n",
    "    print(\"y_pred: \" + str(inv_label_value[np.argmax(y_pred_)]))\n",
    "else:\n",
    "    print(\"y_pred: \" + str(inv_label_value[np.argmax(y_pred_)]))\n",
    "print(\"✅\")"
   ]
  }
 ],
 "metadata": {
  "kernelspec": {
   "display_name": "aiffel",
   "language": "python",
   "name": "aiffel"
  },
  "language_info": {
   "codemirror_mode": {
    "name": "ipython",
    "version": 3
   },
   "file_extension": ".py",
   "mimetype": "text/x-python",
   "name": "python",
   "nbconvert_exporter": "python",
   "pygments_lexer": "ipython3",
   "version": "3.7.7"
  }
 },
 "nbformat": 4,
 "nbformat_minor": 4
}
