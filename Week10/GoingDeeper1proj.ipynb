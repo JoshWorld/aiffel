{
 "cells": [
  {
   "cell_type": "markdown",
   "metadata": {},
   "source": [
    "# 없다면 어떻게 될까? (ResNet Ablation Study)\n",
    "\n",
    "딥러닝 논문에서는 다양한 방법을 적용하며 그 방법 적용 전후의 차이를 실험 결과로 보여줍니다.이번 시간에서는 직접 ResNet을 구현해보면서 기법을 적용했을 때와 아닐때를 비교해보면서 효과를 직접 체감해보는 시간을 가지도록 하겠습니다.\n",
    "\n",
    "**오늘의 내용**\n",
    "- Ablation Study\n",
    "- Back to the 2015\n",
    "- Block\n",
    "- Complete Model\n",
    "- Experiment\n",
    "\n"
   ]
  },
  {
   "cell_type": "markdown",
   "metadata": {},
   "source": [
    "## Ablation Study\n",
    "\n",
    "- [In the context of deep learning, what is an ablation study?\n",
    "](https://www.quora.com/In-the-context-of-deep-learning-what-is-an-ablation-study)\n",
    "\n",
    "**애블레이션 연구(ablation study)**는 직역하자면 '제거연구'가 되겠습니다. 애볼레이션 연구란 \"아이디어를 제거해 봄\"으로써 제안한 방법이 어떻게 성능이나 문제 해결에 효과를 주는지 확인하는 실험입니다.\n",
    "\n",
    "아래는 ResNet 논문에서 제시한 residual connection의 애볼레이션 연구입니다. 이미지넷 검증 데이터셋에 대한 Top-1 error rate을 지표로 사용해 residual connection이 없는 일반 네트워크 (plain net)의 ResNet을 비교하였습니다. 이 비교를 통하여 ResNet이 residual connection을 활용해서 깊은 네트워크를 쌓았을 때, 이를 통한 성능 향상을 얻을 수 있음을 증명하고 있습니다.\n",
    "\n",
    "![img](https://aiffelstaticprd.blob.core.windows.net/media/images/GC-1-P-2_KU8V5aZ.max-800x600.png)\n",
    "\n"
   ]
  },
  {
   "cell_type": "markdown",
   "metadata": {},
   "source": [
    "## Ablation Study 실습 (1) - CIFAR-10 데이터셋 준비하기\n",
    "\n",
    "![img](https://aiffelstaticprd.blob.core.windows.net/media/original_images/gc-1-p-cifar-10.png)\n",
    "\n",
    "CIFAR-10에 대해 일반 네트워크와 ResNet을 구현해서 이 둘을 비교하여 ResNet 및 residual connection의 유효성을 확인해봅시다. \n",
    "\n",
    "먼저 데이터셋을 준비해줍시다. 텐서플로우에서 제공하는 `tensorflow-datasets` 패키지가 설치되어있지 않다면 아래 커맨드로 설치해주세요.\n",
    "\n",
    "```bash\n",
    "$ pip install tensorflow-datasets\n",
    "```"
   ]
  },
  {
   "cell_type": "code",
   "execution_count": 1,
   "metadata": {},
   "outputs": [],
   "source": [
    "# 필요한 모듈 import\n",
    "import tensorflow as tf\n",
    "from tensorflow import keras\n",
    "\n",
    "# Helper libraries\n",
    "import numpy as np\n",
    "import matplotlib.pyplot as plt\n",
    "\n",
    "import tensorflow_datasets as tfds"
   ]
  },
  {
   "cell_type": "code",
   "execution_count": 2,
   "metadata": {},
   "outputs": [
    {
     "data": {
      "text/plain": [
       "[PhysicalDevice(name='/physical_device:CPU:0', device_type='CPU'),\n",
       " PhysicalDevice(name='/physical_device:XLA_CPU:0', device_type='XLA_CPU')]"
      ]
     },
     "execution_count": 2,
     "metadata": {},
     "output_type": "execute_result"
    }
   ],
   "source": [
    "tf.config.list_physical_devices()"
   ]
  },
  {
   "cell_type": "code",
   "execution_count": null,
   "metadata": {},
   "outputs": [],
   "source": []
  }
 ],
 "metadata": {
  "kernelspec": {
   "display_name": "aiffel",
   "language": "python",
   "name": "aiffel"
  },
  "language_info": {
   "codemirror_mode": {
    "name": "ipython",
    "version": 3
   },
   "file_extension": ".py",
   "mimetype": "text/x-python",
   "name": "python",
   "nbconvert_exporter": "python",
   "pygments_lexer": "ipython3",
   "version": "3.7.7"
  }
 },
 "nbformat": 4,
 "nbformat_minor": 4
}
