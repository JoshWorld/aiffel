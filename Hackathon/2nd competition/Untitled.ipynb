{
 "cells": [
  {
   "cell_type": "code",
   "execution_count": 1,
   "metadata": {},
   "outputs": [
    {
     "name": "stdout",
     "output_type": "stream",
     "text": [
      "'┴ª6╚╕ L.POINT Big Data Competition'\r\n",
      "'┴ª6╚╕ L.POINT Big Data Competition-╡Ñ└╠┼═ ╝│╕φ╝¡.pdf'\r\n",
      "'┴ª6╚╕ L.POINT Big Data Competition-╝│╕φ╚╕ └┌╖ß.pdf'\r\n",
      " 거래정보.csv\r\n",
      " 상품분류정보.csv\r\n",
      " 온라인행동정보.csv\r\n",
      " 고객demographic정보.csv\r\n",
      " Untitled.ipynb\r\n"
     ]
    }
   ],
   "source": [
    "!ls"
   ]
  },
  {
   "cell_type": "code",
   "execution_count": 2,
   "metadata": {},
   "outputs": [
    {
     "name": "stderr",
     "output_type": "stream",
     "text": [
      "/home/aiffel0039/anaconda3/envs/aiffel/lib/python3.7/site-packages/IPython/core/interactiveshell.py:3072: DtypeWarning: Columns (9) have mixed types.Specify dtype option on import or set low_memory=False.\n",
      "  interactivity=interactivity, compiler=compiler, result=result)\n"
     ]
    }
   ],
   "source": [
    "import pandas as pd\n",
    "import matplotlib.pyplot as plt\n",
    "\n",
    "df_transaction = pd.read_csv(\"거래정보.csv\")\n",
    "df_category = pd.read_csv(\"상품분류정보.csv\")\n",
    "df_activation = pd.read_csv(\"온라인행동정보.csv\")\n",
    "df_demo = pd.read_csv(\"고객demographic정보.csv\")"
   ]
  },
  {
   "cell_type": "code",
   "execution_count": 3,
   "metadata": {},
   "outputs": [
    {
     "name": "stdout",
     "output_type": "stream",
     "text": [
      "(599961, 9)\n"
     ]
    },
    {
     "data": {
      "text/html": [
       "<div>\n",
       "<style scoped>\n",
       "    .dataframe tbody tr th:only-of-type {\n",
       "        vertical-align: middle;\n",
       "    }\n",
       "\n",
       "    .dataframe tbody tr th {\n",
       "        vertical-align: top;\n",
       "    }\n",
       "\n",
       "    .dataframe thead th {\n",
       "        text-align: right;\n",
       "    }\n",
       "</style>\n",
       "<table border=\"1\" class=\"dataframe\">\n",
       "  <thead>\n",
       "    <tr style=\"text-align: right;\">\n",
       "      <th></th>\n",
       "      <th>clnt_id</th>\n",
       "      <th>trans_id</th>\n",
       "      <th>trans_seq</th>\n",
       "      <th>biz_unit</th>\n",
       "      <th>pd_c</th>\n",
       "      <th>de_dt</th>\n",
       "      <th>de_tm</th>\n",
       "      <th>buy_am</th>\n",
       "      <th>buy_ct</th>\n",
       "    </tr>\n",
       "  </thead>\n",
       "  <tbody>\n",
       "    <tr>\n",
       "      <th>0</th>\n",
       "      <td>21922</td>\n",
       "      <td>104999</td>\n",
       "      <td>1</td>\n",
       "      <td>A03</td>\n",
       "      <td>unknown</td>\n",
       "      <td>20190920</td>\n",
       "      <td>12:41</td>\n",
       "      <td>5990</td>\n",
       "      <td>1</td>\n",
       "    </tr>\n",
       "    <tr>\n",
       "      <th>1</th>\n",
       "      <td>21279</td>\n",
       "      <td>104907</td>\n",
       "      <td>4</td>\n",
       "      <td>A03</td>\n",
       "      <td>unknown</td>\n",
       "      <td>20190920</td>\n",
       "      <td>10:27</td>\n",
       "      <td>10900</td>\n",
       "      <td>1</td>\n",
       "    </tr>\n",
       "    <tr>\n",
       "      <th>2</th>\n",
       "      <td>39423</td>\n",
       "      <td>105124</td>\n",
       "      <td>11</td>\n",
       "      <td>A03</td>\n",
       "      <td>unknown</td>\n",
       "      <td>20190920</td>\n",
       "      <td>17:26</td>\n",
       "      <td>12900</td>\n",
       "      <td>1</td>\n",
       "    </tr>\n",
       "    <tr>\n",
       "      <th>3</th>\n",
       "      <td>18362</td>\n",
       "      <td>104010</td>\n",
       "      <td>1</td>\n",
       "      <td>A03</td>\n",
       "      <td>unknown</td>\n",
       "      <td>20190920</td>\n",
       "      <td>09:57</td>\n",
       "      <td>9900</td>\n",
       "      <td>1</td>\n",
       "    </tr>\n",
       "    <tr>\n",
       "      <th>4</th>\n",
       "      <td>39423</td>\n",
       "      <td>105124</td>\n",
       "      <td>13</td>\n",
       "      <td>A03</td>\n",
       "      <td>0565</td>\n",
       "      <td>20190920</td>\n",
       "      <td>17:26</td>\n",
       "      <td>2990</td>\n",
       "      <td>1</td>\n",
       "    </tr>\n",
       "  </tbody>\n",
       "</table>\n",
       "</div>"
      ],
      "text/plain": [
       "   clnt_id  trans_id  trans_seq biz_unit     pd_c     de_dt  de_tm  buy_am  \\\n",
       "0    21922    104999          1      A03  unknown  20190920  12:41    5990   \n",
       "1    21279    104907          4      A03  unknown  20190920  10:27   10900   \n",
       "2    39423    105124         11      A03  unknown  20190920  17:26   12900   \n",
       "3    18362    104010          1      A03  unknown  20190920  09:57    9900   \n",
       "4    39423    105124         13      A03     0565  20190920  17:26    2990   \n",
       "\n",
       "   buy_ct  \n",
       "0       1  \n",
       "1       1  \n",
       "2       1  \n",
       "3       1  \n",
       "4       1  "
      ]
     },
     "execution_count": 3,
     "metadata": {},
     "output_type": "execute_result"
    }
   ],
   "source": [
    "print(df_transaction.shape)\n",
    "df_transaction.head()"
   ]
  },
  {
   "cell_type": "code",
   "execution_count": 4,
   "metadata": {},
   "outputs": [
    {
     "name": "stdout",
     "output_type": "stream",
     "text": [
      "(1667, 4)\n"
     ]
    },
    {
     "data": {
      "text/html": [
       "<div>\n",
       "<style scoped>\n",
       "    .dataframe tbody tr th:only-of-type {\n",
       "        vertical-align: middle;\n",
       "    }\n",
       "\n",
       "    .dataframe tbody tr th {\n",
       "        vertical-align: top;\n",
       "    }\n",
       "\n",
       "    .dataframe thead th {\n",
       "        text-align: right;\n",
       "    }\n",
       "</style>\n",
       "<table border=\"1\" class=\"dataframe\">\n",
       "  <thead>\n",
       "    <tr style=\"text-align: right;\">\n",
       "      <th></th>\n",
       "      <th>pd_c</th>\n",
       "      <th>clac_nm1</th>\n",
       "      <th>clac_nm2</th>\n",
       "      <th>clac_nm3</th>\n",
       "    </tr>\n",
       "  </thead>\n",
       "  <tbody>\n",
       "    <tr>\n",
       "      <th>0</th>\n",
       "      <td>1</td>\n",
       "      <td>Automotive Products</td>\n",
       "      <td>Automotive Replacement Repair / Maintanance Kits</td>\n",
       "      <td>Automobile Oil / Additives</td>\n",
       "    </tr>\n",
       "    <tr>\n",
       "      <th>1</th>\n",
       "      <td>2</td>\n",
       "      <td>Automotive Products</td>\n",
       "      <td>Automotive Replacement Repair / Maintanance Kits</td>\n",
       "      <td>Car Lights</td>\n",
       "    </tr>\n",
       "    <tr>\n",
       "      <th>2</th>\n",
       "      <td>3</td>\n",
       "      <td>Automotive Products</td>\n",
       "      <td>Automotive Replacement Repair / Maintanance Kits</td>\n",
       "      <td>Car Paint</td>\n",
       "    </tr>\n",
       "    <tr>\n",
       "      <th>3</th>\n",
       "      <td>4</td>\n",
       "      <td>Automotive Products</td>\n",
       "      <td>Automotive Replacement Repair / Maintanance Kits</td>\n",
       "      <td>Filters</td>\n",
       "    </tr>\n",
       "    <tr>\n",
       "      <th>4</th>\n",
       "      <td>5</td>\n",
       "      <td>Automotive Products</td>\n",
       "      <td>Automotive Replacement Repair / Maintanance Kits</td>\n",
       "      <td>Wiper Blades</td>\n",
       "    </tr>\n",
       "  </tbody>\n",
       "</table>\n",
       "</div>"
      ],
      "text/plain": [
       "   pd_c             clac_nm1  \\\n",
       "0     1  Automotive Products   \n",
       "1     2  Automotive Products   \n",
       "2     3  Automotive Products   \n",
       "3     4  Automotive Products   \n",
       "4     5  Automotive Products   \n",
       "\n",
       "                                           clac_nm2  \\\n",
       "0  Automotive Replacement Repair / Maintanance Kits   \n",
       "1  Automotive Replacement Repair / Maintanance Kits   \n",
       "2  Automotive Replacement Repair / Maintanance Kits   \n",
       "3  Automotive Replacement Repair / Maintanance Kits   \n",
       "4  Automotive Replacement Repair / Maintanance Kits   \n",
       "\n",
       "                     clac_nm3  \n",
       "0  Automobile Oil / Additives  \n",
       "1                  Car Lights  \n",
       "2                   Car Paint  \n",
       "3                     Filters  \n",
       "4                Wiper Blades  "
      ]
     },
     "execution_count": 4,
     "metadata": {},
     "output_type": "execute_result"
    }
   ],
   "source": [
    "print(df_category.shape)\n",
    "df_category.head()"
   ]
  },
  {
   "cell_type": "code",
   "execution_count": 5,
   "metadata": {},
   "outputs": [
    {
     "name": "stdout",
     "output_type": "stream",
     "text": [
      "(3196362, 14)\n"
     ]
    },
    {
     "data": {
      "text/html": [
       "<div>\n",
       "<style scoped>\n",
       "    .dataframe tbody tr th:only-of-type {\n",
       "        vertical-align: middle;\n",
       "    }\n",
       "\n",
       "    .dataframe tbody tr th {\n",
       "        vertical-align: top;\n",
       "    }\n",
       "\n",
       "    .dataframe thead th {\n",
       "        text-align: right;\n",
       "    }\n",
       "</style>\n",
       "<table border=\"1\" class=\"dataframe\">\n",
       "  <thead>\n",
       "    <tr style=\"text-align: right;\">\n",
       "      <th></th>\n",
       "      <th>clnt_id</th>\n",
       "      <th>sess_id</th>\n",
       "      <th>hit_seq</th>\n",
       "      <th>action_type</th>\n",
       "      <th>biz_unit</th>\n",
       "      <th>sess_dt</th>\n",
       "      <th>hit_tm</th>\n",
       "      <th>hit_pss_tm</th>\n",
       "      <th>trans_id</th>\n",
       "      <th>sech_kwd</th>\n",
       "      <th>tot_pag_view_ct</th>\n",
       "      <th>tot_sess_hr_v</th>\n",
       "      <th>trfc_src</th>\n",
       "      <th>dvc_ctg_nm</th>\n",
       "    </tr>\n",
       "  </thead>\n",
       "  <tbody>\n",
       "    <tr>\n",
       "      <th>0</th>\n",
       "      <td>7809</td>\n",
       "      <td>1</td>\n",
       "      <td>8</td>\n",
       "      <td>5</td>\n",
       "      <td>A03</td>\n",
       "      <td>20190913</td>\n",
       "      <td>01:16</td>\n",
       "      <td>2571103</td>\n",
       "      <td>NaN</td>\n",
       "      <td>NaN</td>\n",
       "      <td>34.0</td>\n",
       "      <td>2663.0</td>\n",
       "      <td>DIRECT</td>\n",
       "      <td>NaN</td>\n",
       "    </tr>\n",
       "    <tr>\n",
       "      <th>1</th>\n",
       "      <td>7809</td>\n",
       "      <td>1</td>\n",
       "      <td>4</td>\n",
       "      <td>2</td>\n",
       "      <td>A03</td>\n",
       "      <td>20190913</td>\n",
       "      <td>01:14</td>\n",
       "      <td>2485909</td>\n",
       "      <td>NaN</td>\n",
       "      <td>NaN</td>\n",
       "      <td>34.0</td>\n",
       "      <td>2663.0</td>\n",
       "      <td>DIRECT</td>\n",
       "      <td>NaN</td>\n",
       "    </tr>\n",
       "    <tr>\n",
       "      <th>2</th>\n",
       "      <td>7809</td>\n",
       "      <td>1</td>\n",
       "      <td>11</td>\n",
       "      <td>5</td>\n",
       "      <td>A03</td>\n",
       "      <td>20190913</td>\n",
       "      <td>01:17</td>\n",
       "      <td>2646597</td>\n",
       "      <td>NaN</td>\n",
       "      <td>NaN</td>\n",
       "      <td>34.0</td>\n",
       "      <td>2663.0</td>\n",
       "      <td>DIRECT</td>\n",
       "      <td>NaN</td>\n",
       "    </tr>\n",
       "    <tr>\n",
       "      <th>3</th>\n",
       "      <td>7809</td>\n",
       "      <td>1</td>\n",
       "      <td>1</td>\n",
       "      <td>2</td>\n",
       "      <td>A03</td>\n",
       "      <td>20190913</td>\n",
       "      <td>00:46</td>\n",
       "      <td>788304</td>\n",
       "      <td>NaN</td>\n",
       "      <td>NaN</td>\n",
       "      <td>34.0</td>\n",
       "      <td>2663.0</td>\n",
       "      <td>DIRECT</td>\n",
       "      <td>NaN</td>\n",
       "    </tr>\n",
       "    <tr>\n",
       "      <th>4</th>\n",
       "      <td>7809</td>\n",
       "      <td>1</td>\n",
       "      <td>9</td>\n",
       "      <td>5</td>\n",
       "      <td>A03</td>\n",
       "      <td>20190913</td>\n",
       "      <td>01:17</td>\n",
       "      <td>2617609</td>\n",
       "      <td>NaN</td>\n",
       "      <td>NaN</td>\n",
       "      <td>34.0</td>\n",
       "      <td>2663.0</td>\n",
       "      <td>DIRECT</td>\n",
       "      <td>NaN</td>\n",
       "    </tr>\n",
       "  </tbody>\n",
       "</table>\n",
       "</div>"
      ],
      "text/plain": [
       "   clnt_id  sess_id  hit_seq  action_type biz_unit   sess_dt hit_tm  \\\n",
       "0     7809        1        8            5      A03  20190913  01:16   \n",
       "1     7809        1        4            2      A03  20190913  01:14   \n",
       "2     7809        1       11            5      A03  20190913  01:17   \n",
       "3     7809        1        1            2      A03  20190913  00:46   \n",
       "4     7809        1        9            5      A03  20190913  01:17   \n",
       "\n",
       "   hit_pss_tm  trans_id sech_kwd  tot_pag_view_ct  tot_sess_hr_v trfc_src  \\\n",
       "0     2571103       NaN      NaN             34.0         2663.0   DIRECT   \n",
       "1     2485909       NaN      NaN             34.0         2663.0   DIRECT   \n",
       "2     2646597       NaN      NaN             34.0         2663.0   DIRECT   \n",
       "3      788304       NaN      NaN             34.0         2663.0   DIRECT   \n",
       "4     2617609       NaN      NaN             34.0         2663.0   DIRECT   \n",
       "\n",
       "  dvc_ctg_nm  \n",
       "0        NaN  \n",
       "1        NaN  \n",
       "2        NaN  \n",
       "3        NaN  \n",
       "4        NaN  "
      ]
     },
     "execution_count": 5,
     "metadata": {},
     "output_type": "execute_result"
    }
   ],
   "source": [
    "print(df_activation.shape)\n",
    "df_activation.head()"
   ]
  },
  {
   "cell_type": "code",
   "execution_count": 6,
   "metadata": {},
   "outputs": [
    {
     "name": "stdout",
     "output_type": "stream",
     "text": [
      "(72399, 3)\n"
     ]
    },
    {
     "data": {
      "text/html": [
       "<div>\n",
       "<style scoped>\n",
       "    .dataframe tbody tr th:only-of-type {\n",
       "        vertical-align: middle;\n",
       "    }\n",
       "\n",
       "    .dataframe tbody tr th {\n",
       "        vertical-align: top;\n",
       "    }\n",
       "\n",
       "    .dataframe thead th {\n",
       "        text-align: right;\n",
       "    }\n",
       "</style>\n",
       "<table border=\"1\" class=\"dataframe\">\n",
       "  <thead>\n",
       "    <tr style=\"text-align: right;\">\n",
       "      <th></th>\n",
       "      <th>clnt_id</th>\n",
       "      <th>clnt_gender</th>\n",
       "      <th>clnt_age</th>\n",
       "    </tr>\n",
       "  </thead>\n",
       "  <tbody>\n",
       "    <tr>\n",
       "      <th>0</th>\n",
       "      <td>1</td>\n",
       "      <td>unknown</td>\n",
       "      <td>unknown</td>\n",
       "    </tr>\n",
       "    <tr>\n",
       "      <th>1</th>\n",
       "      <td>2</td>\n",
       "      <td>F</td>\n",
       "      <td>30</td>\n",
       "    </tr>\n",
       "    <tr>\n",
       "      <th>2</th>\n",
       "      <td>3</td>\n",
       "      <td>unknown</td>\n",
       "      <td>unknown</td>\n",
       "    </tr>\n",
       "    <tr>\n",
       "      <th>3</th>\n",
       "      <td>4</td>\n",
       "      <td>unknown</td>\n",
       "      <td>unknown</td>\n",
       "    </tr>\n",
       "    <tr>\n",
       "      <th>4</th>\n",
       "      <td>5</td>\n",
       "      <td>unknown</td>\n",
       "      <td>unknown</td>\n",
       "    </tr>\n",
       "  </tbody>\n",
       "</table>\n",
       "</div>"
      ],
      "text/plain": [
       "   clnt_id clnt_gender clnt_age\n",
       "0        1     unknown  unknown\n",
       "1        2           F       30\n",
       "2        3     unknown  unknown\n",
       "3        4     unknown  unknown\n",
       "4        5     unknown  unknown"
      ]
     },
     "execution_count": 6,
     "metadata": {},
     "output_type": "execute_result"
    }
   ],
   "source": [
    "print(df_demo.shape)\n",
    "df_demo.head()"
   ]
  },
  {
   "cell_type": "markdown",
   "metadata": {},
   "source": [
    "## EDA\n",
    "\n",
    "EDA를 해봅시다!\n",
    "\n",
    "### 결측치 확인하기"
   ]
  },
  {
   "cell_type": "code",
   "execution_count": 7,
   "metadata": {},
   "outputs": [
    {
     "data": {
      "text/plain": [
       "clnt_id                  0\n",
       "sess_id                  0\n",
       "hit_seq                  0\n",
       "action_type              0\n",
       "biz_unit                 0\n",
       "sess_dt                  0\n",
       "hit_tm                   0\n",
       "hit_pss_tm               0\n",
       "trans_id           3139373\n",
       "sech_kwd           2544724\n",
       "tot_pag_view_ct       1428\n",
       "tot_sess_hr_v        57607\n",
       "trfc_src                 0\n",
       "dvc_ctg_nm         1782577\n",
       "dtype: int64"
      ]
     },
     "execution_count": 7,
     "metadata": {},
     "output_type": "execute_result"
    }
   ],
   "source": [
    "df_activation.isnull().sum()"
   ]
  },
  {
   "cell_type": "markdown",
   "metadata": {},
   "source": [
    "**온라인 행동 정보**\n",
    "\n",
    "|변수명(영문)|변수명(국문)|상세 설명|\n",
    "|:--:|:------:|:-----|\n",
    "|clnt_id|클라이언트 ID|- 고객을 고유하게 식별할 수 있도록 랜덤으로 부여된 ID|\n",
    "|sess_id|세션 ID|- Web/App에 접속 후 세션이 시작될 때 부여된 순번 ID. <br/>- 하나의 클라이언트 ID에 여러개의 세션 ID가 접속될 수 있다.|\n",
    "|hit_seq|조회일련번호|- 조회 순서를 알 수 있도록 부여된 일련번호|\n",
    "|action_type|행동유형|- 총 8가지 행동 유형을 구분한 코드<br/>- 0 : 검색 / 1 : 제품 목록 / 2 : 제품 세부정보 보기 / 3 : 장바구니 제품 추가 / 4 : 장바구니 제품 삭제 / 5 : 결제 시도 / 6 : 구매 완료 / 7 : 구매 환불 / 8 : 결제 옵션|\n",
    "|biz_unit|업종 단위|- 온라인 및 오프라인 이용처를 구분하는 단위 코드|\n",
    "|sess_dt|세션 일자|- 세션 일자 (YYYYMMDD 형식으로 표기)|\n",
    "|hit_tm|조회 시각|- 조회 시각 (HH-MM 형식으로 표기)|\n",
    "|hit_pss_tm|조회경과시간|- 세션이 시작된 이후 해당 조회까지 경과한 시간(단위 : 밀리초)<br/>- 첫번째 조회면 0으로 설정|\n",
    "|trans_id|거래 ID|- 구매 내역을 고유하게 식별할 수 있도록 랜덤으로 부여된 ID|\n",
    "|sech_kwd|검색 키워드|- 고객이 검색한 키워드|\n",
    "|tot_pag_view_ct|총 페이지 조회 건수|- 세션 내의 총 페이지(화면) 뷰 수|\n",
    "|tot_sess_hr_v|총 세션 시간 값|- 세션 내 총 시간(단위 : 초)|\n",
    "|trfc_src|유입 채널|- 고객이 유입된 채널<br/>-  DIRECT / PUSH / WEBSITE / PORTAL_1 / PORTAL_2 / PORTAL_3 / unknown|\n",
    "|dvc_ctg_nm|기기  유형|- 기기 유형<br/>- mobile_web / mobile_app / PC\n",
    "\n",
    "우리가 집중해서 봐야할 데이터 프레임입니다. 많은 정보들이 들어있는데, 다른 데이터 프레임의 정보를 이것과 합쳐서 보도록 합시다."
   ]
  },
  {
   "cell_type": "code",
   "execution_count": 8,
   "metadata": {},
   "outputs": [
    {
     "data": {
      "text/plain": [
       "clnt_id      0\n",
       "trans_id     0\n",
       "trans_seq    0\n",
       "biz_unit     0\n",
       "pd_c         0\n",
       "de_dt        0\n",
       "de_tm        0\n",
       "buy_am       0\n",
       "buy_ct       0\n",
       "dtype: int64"
      ]
     },
     "execution_count": 8,
     "metadata": {},
     "output_type": "execute_result"
    }
   ],
   "source": [
    "df_transaction.isnull().sum()"
   ]
  },
  {
   "cell_type": "markdown",
   "metadata": {},
   "source": [
    "**거래 정보**\n",
    "\n",
    "|변수명(영문)|변수명(국문)|상세 설명|\n",
    "|:--:|:------:|:-----|\n",
    "|clnt_id|클라이언트 ID|- 고객을 고유하게 식별할 수 있도록 랜덤으로 부여된 ID|\n",
    "|trans_id|거래 ID|- 구매 내역을 고유하게 식별할 수 있도록 랜덤으로 부여된 ID|\n",
    "|trans_seq|거래 일련 번호|- 해당 거래 ID의 구매 내역 내 구매 순서를 알 수 있도록 부여된 일련번호|\n",
    "|biz_unit|업종 단위|- 온라인 및 오프라인 이용처를 구분하는 단위 코드|\n",
    "|pd_c|상품소분류코드|- 상품의 소분류 코드|\n",
    "|de_df|구매일자|- 상품을 구매한 일자 (YYYYMMDD 형식)|\n",
    "|de_tm|구매시각|- 상품을 구매한 시각 (HHMM 형식)|\n",
    "|buy_am|구매금액|- 구매한 상품의 금액|\n",
    "|buy_ct|구매수량|- 구매한 상품의 수량|"
   ]
  },
  {
   "cell_type": "markdown",
   "metadata": {},
   "source": [
    "우리가 주로 봐야할 것은 저 위에 있는 온라인 행동 정보를 나타내는 `df_activation` 데이터 프레임이 될 것 같습니다. 이 데이터에 다른 데이터 프레임의 정보를 merge하는 방식을 취해줄 거에요.\n",
    "\n",
    "그런데 거래정보에서 약간의 특이점이 있는 것 같습니다. 온라인 행동 정보에는 `trans_id`에 결측치가 보이는데 거래정보는 그렇지가 않아요. 아마도 온라인 행동 정보에는 구매하지 않고 그냥 검색만 한다던가, 제품을 보기만 해서 그럴 수 있을 것 같습니다. 어쨌든 이 데이터는 더해주도록 합시다!"
   ]
  },
  {
   "cell_type": "code",
   "execution_count": 9,
   "metadata": {},
   "outputs": [
    {
     "data": {
      "text/plain": [
       "clnt_id        0\n",
       "clnt_gender    0\n",
       "clnt_age       0\n",
       "dtype: int64"
      ]
     },
     "execution_count": 9,
     "metadata": {},
     "output_type": "execute_result"
    }
   ],
   "source": [
    "df_demo.isnull().sum()"
   ]
  },
  {
   "cell_type": "markdown",
   "metadata": {},
   "source": [
    "**고객 Demographic 정보**\n",
    "\n",
    "|변수명(영문)|변수명(국문)|상세 설명|\n",
    "|:--:|:------:|:-----|\n",
    "|clnt_id|클라이언트 ID|- 고객을 고유하게 식별할 수 있도록 랜덤으로 부여된 ID|\n",
    "|clnt_gender|성별|- 성별 정보(남자 : M / 여자 : F / 정보 없음 : unknown)|\n",
    "|clnt_age|연령대|- 연령대 정보 <br/>- 10대 이하/ 20대 / 30대 / 40대 / 50대 / 60대 이상 / 정보 없음 :unknown|\n",
    "\n",
    "여기서는 unknown이라는 값이 계속 보이네요. 얘만 따로 한번 이따가 확인해줍시다."
   ]
  },
  {
   "cell_type": "code",
   "execution_count": 10,
   "metadata": {},
   "outputs": [
    {
     "data": {
      "text/plain": [
       "pd_c        0\n",
       "clac_nm1    0\n",
       "clac_nm2    0\n",
       "clac_nm3    2\n",
       "dtype: int64"
      ]
     },
     "execution_count": 10,
     "metadata": {},
     "output_type": "execute_result"
    }
   ],
   "source": [
    "df_category.isnull().sum()"
   ]
  },
  {
   "cell_type": "markdown",
   "metadata": {},
   "source": [
    "**상품 분류 정보**\n",
    "\n",
    "|변수명(영문)|변수명(국문)|상세 설명|\n",
    "|:--:|:------:|:-----|\n",
    "|pd_c|상품 소분류코드|- 상품의 소분류코드(최소단위)|\n",
    "|clac_nm1|상품 대분류명|- 상품 대분류명|\n",
    "|clac_nm2|상품 중분류명|- 상품 중분류명|\n",
    "|clac_nm3|상품 소분류명|- 상품 소분류명|\n",
    "\n",
    "여기까지 잘 확인할 수 있었습니다! 이제 데이터의 분포를 한번 살펴봅시다.\n",
    "\n",
    "### 데이터 분포 확인하기"
   ]
  },
  {
   "cell_type": "code",
   "execution_count": 11,
   "metadata": {},
   "outputs": [
    {
     "data": {
      "image/png": "[encoded data removed]",
      "text/plain": [
       "<Figure size 432x288 with 1 Axes>"
      ]
     },
     "metadata": {
      "needs_background": "light"
     },
     "output_type": "display_data"
    }
   ],
   "source": [
    "import seaborn as sns\n",
    "\n",
    "sns.countplot(df_demo['clnt_gender'])\n",
    "plt.show()"
   ]
  },
  {
   "cell_type": "markdown",
   "metadata": {},
   "source": [
    "먼저 고객들의 성별 정보부터 한번 확인해보았습니다. 일단 unknown이 압도적으로 많고, 여자와 남자를 비교했을 때 여자가 훨씬 많네요.\n",
    "\n",
    "주 고객층은 여성이 될 것 같습니다."
   ]
  },
  {
   "cell_type": "code",
   "execution_count": 12,
   "metadata": {},
   "outputs": [
    {
     "data": {
      "image/png": "[encoded data removed]",
      "text/plain": [
       "<Figure size 432x288 with 1 Axes>"
      ]
     },
     "metadata": {
      "needs_background": "light"
     },
     "output_type": "display_data"
    }
   ],
   "source": [
    "sns.countplot(df_demo['clnt_age'])\n",
    "plt.show()"
   ]
  },
  {
   "cell_type": "markdown",
   "metadata": {},
   "source": [
    "이번에는 연령대별 정보를 한번 확인해보았습니다. 여기서도 마찬가지로 unknown이 가장 많고 40대, 30대, 50대 순으로 많네요. 10대는 많이 없어 보입니다."
   ]
  },
  {
   "cell_type": "code",
   "execution_count": 13,
   "metadata": {},
   "outputs": [
    {
     "data": {
      "text/plain": [
       "60"
      ]
     },
     "execution_count": 13,
     "metadata": {},
     "output_type": "execute_result"
    }
   ],
   "source": [
    "df_category['clac_nm1'].nunique()"
   ]
  },
  {
   "cell_type": "code",
   "execution_count": 14,
   "metadata": {},
   "outputs": [
    {
     "data": {
      "image/png": "[encoded data removed]",
      "text/plain": [
       "<Figure size 1440x720 with 1 Axes>"
      ]
     },
     "metadata": {
      "needs_background": "light"
     },
     "output_type": "display_data"
    }
   ],
   "source": [
    "plt.figure(figsize=(20, 10))\n",
    "sns.countplot(df_category['clac_nm1'])\n",
    "plt.show()"
   ]
  },
  {
   "cell_type": "markdown",
   "metadata": {},
   "source": [
    "상품 카테고리의 분류도 어떤건 많고, 어떤건 적네요. "
   ]
  },
  {
   "cell_type": "code",
   "execution_count": 15,
   "metadata": {},
   "outputs": [
    {
     "name": "stdout",
     "output_type": "stream",
     "text": [
      "['Automotive Products' 'Baby Foods' 'Ball Game / Field Sports'\n",
      " 'Bedding / Handicraft' 'Beverages' 'Birth Supplies / Baby Products'\n",
      " 'Books / Records / Instruments' 'Canned / Jarred Foods'\n",
      " 'Cell Phones / Accessories' 'Chilled Foods'\n",
      " 'Cleaning / Laundry / Bathroom Accessories' 'Coffee / Tea' 'Computers'\n",
      " 'Cooked Foods' 'Cosmetics / Beauty Care' 'Dairy Products'\n",
      " 'Detergents / Hygiene Goods' 'Dried Sea Foods' 'Fashion Accessories'\n",
      " 'Finance / Insurance Service' 'Frozen Foods' 'Fruits' 'Furniture'\n",
      " 'Gardening / Pets' 'Gift Certificates / Cards' 'Grains'\n",
      " 'Health / Fitness Training' 'Health Care' 'Health Foods'\n",
      " 'Heating / Cooling Electronics' 'Home / Kitchen Appliances'\n",
      " 'Home Decor / Lighting' \"Kids' Clothing\" 'Kitchenware'\n",
      " 'Liquors / Alcoholic Beverages' 'Living / Rental Services' 'Meats'\n",
      " \"Men's Clothing\" 'Other Products' 'Others (Non-Products)'\n",
      " 'Outdoor / Leisure Activities' 'Personal Care'\n",
      " 'Refrigerators and Washing Machines' 'Sea Foods' 'Seasonal Sports'\n",
      " 'Snack Foods' 'Spices / Seasonings' 'Sport Fashion'\n",
      " 'Stationary / Office Supplies' 'Substitute Foods'\n",
      " 'Tableware / Cooking Utensils' 'Tenants / Restaurants' 'Tobacco'\n",
      " 'Tools / Safety Supplies' 'Toy' 'Travel / Leisure Services'\n",
      " 'Underwear / Socks and Hosiery / Homewear' 'Vegetables'\n",
      " 'Video / Audio System Electronics' \"Women's Clothing\"]\n"
     ]
    }
   ],
   "source": [
    "print(df_category['clac_nm1'].unique())"
   ]
  },
  {
   "cell_type": "markdown",
   "metadata": {},
   "source": [
    "이런 데이터들이 있는데.. 지금은 일단 대분류만 확인해도 나쁘지 않을 것 같다는 생각이 듭니다. "
   ]
  },
  {
   "cell_type": "code",
   "execution_count": 16,
   "metadata": {},
   "outputs": [
    {
     "data": {
      "text/html": [
       "<div>\n",
       "<style scoped>\n",
       "    .dataframe tbody tr th:only-of-type {\n",
       "        vertical-align: middle;\n",
       "    }\n",
       "\n",
       "    .dataframe tbody tr th {\n",
       "        vertical-align: top;\n",
       "    }\n",
       "\n",
       "    .dataframe thead th {\n",
       "        text-align: right;\n",
       "    }\n",
       "</style>\n",
       "<table border=\"1\" class=\"dataframe\">\n",
       "  <thead>\n",
       "    <tr style=\"text-align: right;\">\n",
       "      <th></th>\n",
       "      <th>clnt_id</th>\n",
       "      <th>trans_id</th>\n",
       "      <th>trans_seq</th>\n",
       "      <th>biz_unit</th>\n",
       "      <th>pd_c</th>\n",
       "      <th>de_dt</th>\n",
       "      <th>de_tm</th>\n",
       "      <th>buy_am</th>\n",
       "      <th>buy_ct</th>\n",
       "    </tr>\n",
       "  </thead>\n",
       "  <tbody>\n",
       "    <tr>\n",
       "      <th>0</th>\n",
       "      <td>21922</td>\n",
       "      <td>104999</td>\n",
       "      <td>1</td>\n",
       "      <td>A03</td>\n",
       "      <td>unknown</td>\n",
       "      <td>20190920</td>\n",
       "      <td>12:41</td>\n",
       "      <td>5990</td>\n",
       "      <td>1</td>\n",
       "    </tr>\n",
       "    <tr>\n",
       "      <th>1</th>\n",
       "      <td>21279</td>\n",
       "      <td>104907</td>\n",
       "      <td>4</td>\n",
       "      <td>A03</td>\n",
       "      <td>unknown</td>\n",
       "      <td>20190920</td>\n",
       "      <td>10:27</td>\n",
       "      <td>10900</td>\n",
       "      <td>1</td>\n",
       "    </tr>\n",
       "    <tr>\n",
       "      <th>2</th>\n",
       "      <td>39423</td>\n",
       "      <td>105124</td>\n",
       "      <td>11</td>\n",
       "      <td>A03</td>\n",
       "      <td>unknown</td>\n",
       "      <td>20190920</td>\n",
       "      <td>17:26</td>\n",
       "      <td>12900</td>\n",
       "      <td>1</td>\n",
       "    </tr>\n",
       "    <tr>\n",
       "      <th>3</th>\n",
       "      <td>18362</td>\n",
       "      <td>104010</td>\n",
       "      <td>1</td>\n",
       "      <td>A03</td>\n",
       "      <td>unknown</td>\n",
       "      <td>20190920</td>\n",
       "      <td>09:57</td>\n",
       "      <td>9900</td>\n",
       "      <td>1</td>\n",
       "    </tr>\n",
       "    <tr>\n",
       "      <th>4</th>\n",
       "      <td>39423</td>\n",
       "      <td>105124</td>\n",
       "      <td>13</td>\n",
       "      <td>A03</td>\n",
       "      <td>0565</td>\n",
       "      <td>20190920</td>\n",
       "      <td>17:26</td>\n",
       "      <td>2990</td>\n",
       "      <td>1</td>\n",
       "    </tr>\n",
       "  </tbody>\n",
       "</table>\n",
       "</div>"
      ],
      "text/plain": [
       "   clnt_id  trans_id  trans_seq biz_unit     pd_c     de_dt  de_tm  buy_am  \\\n",
       "0    21922    104999          1      A03  unknown  20190920  12:41    5990   \n",
       "1    21279    104907          4      A03  unknown  20190920  10:27   10900   \n",
       "2    39423    105124         11      A03  unknown  20190920  17:26   12900   \n",
       "3    18362    104010          1      A03  unknown  20190920  09:57    9900   \n",
       "4    39423    105124         13      A03     0565  20190920  17:26    2990   \n",
       "\n",
       "   buy_ct  \n",
       "0       1  \n",
       "1       1  \n",
       "2       1  \n",
       "3       1  \n",
       "4       1  "
      ]
     },
     "execution_count": 16,
     "metadata": {},
     "output_type": "execute_result"
    }
   ],
   "source": [
    "df_transaction.head()"
   ]
  },
  {
   "cell_type": "code",
   "execution_count": 17,
   "metadata": {},
   "outputs": [
    {
     "name": "stdout",
     "output_type": "stream",
     "text": [
      "['A03' 'B01' 'B02' 'A02' 'A01' 'B03']\n"
     ]
    }
   ],
   "source": [
    "print(df_transaction['biz_unit'].unique())"
   ]
  },
  {
   "cell_type": "code",
   "execution_count": 18,
   "metadata": {},
   "outputs": [
    {
     "data": {
      "image/png": "[encoded data removed]",
      "text/plain": [
       "<Figure size 432x288 with 1 Axes>"
      ]
     },
     "metadata": {
      "needs_background": "light"
     },
     "output_type": "display_data"
    }
   ],
   "source": [
    "sns.countplot(df_transaction['biz_unit'])\n",
    "plt.show()"
   ]
  },
  {
   "cell_type": "markdown",
   "metadata": {},
   "source": [
    "`biz_unit`은 업종 분류 번호를 뜻하는 칼럼입니다. 정확히 무엇을 의미하는지는 모르겠지만 6개의 종류가 있고 `A03`, `B01`이 가장 많네요."
   ]
  },
  {
   "cell_type": "code",
   "execution_count": 19,
   "metadata": {},
   "outputs": [
    {
     "data": {
      "text/plain": [
       "1668"
      ]
     },
     "execution_count": 19,
     "metadata": {},
     "output_type": "execute_result"
    }
   ],
   "source": [
    "df_transaction['pd_c'].nunique()"
   ]
  },
  {
   "cell_type": "code",
   "execution_count": 20,
   "metadata": {},
   "outputs": [
    {
     "data": {
      "text/plain": [
       "unknown    17652\n",
       "1213       15518\n",
       "0347       12914\n",
       "0964       11115\n",
       "1395       11083\n",
       "           ...  \n",
       "0655           1\n",
       "1349           1\n",
       "1353           1\n",
       "1631           1\n",
       "1323           1\n",
       "Name: pd_c, Length: 1668, dtype: int64"
      ]
     },
     "execution_count": 20,
     "metadata": {},
     "output_type": "execute_result"
    }
   ],
   "source": [
    "df_transaction['pd_c'].value_counts()"
   ]
  },
  {
   "cell_type": "markdown",
   "metadata": {},
   "source": [
    "상품 소분류를 뜻하는 `pd_c`에는 대부분이 unknown이라는 것을 확인할 수 있습니다. \n",
    "\n",
    "이 unknown 데이터는 어떻게 처리해주는 것이 좋을까요? 일단 다른 데이터들을 보고 생각해볼까요?"
   ]
  },
  {
   "cell_type": "code",
   "execution_count": 21,
   "metadata": {},
   "outputs": [
    {
     "data": {
      "text/html": [
       "<div>\n",
       "<style scoped>\n",
       "    .dataframe tbody tr th:only-of-type {\n",
       "        vertical-align: middle;\n",
       "    }\n",
       "\n",
       "    .dataframe tbody tr th {\n",
       "        vertical-align: top;\n",
       "    }\n",
       "\n",
       "    .dataframe thead th {\n",
       "        text-align: right;\n",
       "    }\n",
       "</style>\n",
       "<table border=\"1\" class=\"dataframe\">\n",
       "  <thead>\n",
       "    <tr style=\"text-align: right;\">\n",
       "      <th></th>\n",
       "      <th>clnt_id</th>\n",
       "      <th>trans_id</th>\n",
       "      <th>trans_seq</th>\n",
       "      <th>biz_unit</th>\n",
       "      <th>pd_c</th>\n",
       "      <th>de_dt</th>\n",
       "      <th>de_tm</th>\n",
       "      <th>buy_am</th>\n",
       "      <th>buy_ct</th>\n",
       "      <th>date</th>\n",
       "    </tr>\n",
       "  </thead>\n",
       "  <tbody>\n",
       "    <tr>\n",
       "      <th>0</th>\n",
       "      <td>21922</td>\n",
       "      <td>104999</td>\n",
       "      <td>1</td>\n",
       "      <td>A03</td>\n",
       "      <td>unknown</td>\n",
       "      <td>20190920</td>\n",
       "      <td>12:41</td>\n",
       "      <td>5990</td>\n",
       "      <td>1</td>\n",
       "      <td>20190920 12:41</td>\n",
       "    </tr>\n",
       "    <tr>\n",
       "      <th>1</th>\n",
       "      <td>21279</td>\n",
       "      <td>104907</td>\n",
       "      <td>4</td>\n",
       "      <td>A03</td>\n",
       "      <td>unknown</td>\n",
       "      <td>20190920</td>\n",
       "      <td>10:27</td>\n",
       "      <td>10900</td>\n",
       "      <td>1</td>\n",
       "      <td>20190920 10:27</td>\n",
       "    </tr>\n",
       "    <tr>\n",
       "      <th>2</th>\n",
       "      <td>39423</td>\n",
       "      <td>105124</td>\n",
       "      <td>11</td>\n",
       "      <td>A03</td>\n",
       "      <td>unknown</td>\n",
       "      <td>20190920</td>\n",
       "      <td>17:26</td>\n",
       "      <td>12900</td>\n",
       "      <td>1</td>\n",
       "      <td>20190920 17:26</td>\n",
       "    </tr>\n",
       "    <tr>\n",
       "      <th>3</th>\n",
       "      <td>18362</td>\n",
       "      <td>104010</td>\n",
       "      <td>1</td>\n",
       "      <td>A03</td>\n",
       "      <td>unknown</td>\n",
       "      <td>20190920</td>\n",
       "      <td>09:57</td>\n",
       "      <td>9900</td>\n",
       "      <td>1</td>\n",
       "      <td>20190920 09:57</td>\n",
       "    </tr>\n",
       "    <tr>\n",
       "      <th>4</th>\n",
       "      <td>39423</td>\n",
       "      <td>105124</td>\n",
       "      <td>13</td>\n",
       "      <td>A03</td>\n",
       "      <td>0565</td>\n",
       "      <td>20190920</td>\n",
       "      <td>17:26</td>\n",
       "      <td>2990</td>\n",
       "      <td>1</td>\n",
       "      <td>20190920 17:26</td>\n",
       "    </tr>\n",
       "  </tbody>\n",
       "</table>\n",
       "</div>"
      ],
      "text/plain": [
       "   clnt_id  trans_id  trans_seq biz_unit     pd_c     de_dt  de_tm  buy_am  \\\n",
       "0    21922    104999          1      A03  unknown  20190920  12:41    5990   \n",
       "1    21279    104907          4      A03  unknown  20190920  10:27   10900   \n",
       "2    39423    105124         11      A03  unknown  20190920  17:26   12900   \n",
       "3    18362    104010          1      A03  unknown  20190920  09:57    9900   \n",
       "4    39423    105124         13      A03     0565  20190920  17:26    2990   \n",
       "\n",
       "   buy_ct            date  \n",
       "0       1  20190920 12:41  \n",
       "1       1  20190920 10:27  \n",
       "2       1  20190920 17:26  \n",
       "3       1  20190920 09:57  \n",
       "4       1  20190920 17:26  "
      ]
     },
     "execution_count": 21,
     "metadata": {},
     "output_type": "execute_result"
    }
   ],
   "source": [
    "df_transaction['date'] = df_transaction['de_dt'].astype(str) + \" \" + df_transaction['de_tm']\n",
    "df_transaction.head()"
   ]
  },
  {
   "cell_type": "code",
   "execution_count": 22,
   "metadata": {},
   "outputs": [],
   "source": [
    "df_transaction['date'] = pd.to_datetime(df_transaction['date'], format=\"%Y%m%d %H:%M\")"
   ]
  },
  {
   "cell_type": "code",
   "execution_count": 23,
   "metadata": {},
   "outputs": [
    {
     "data": {
      "text/plain": [
       "array([20190920, 20190921, 20190922, 20190923, 20190924, 20190925,\n",
       "       20190913, 20190914, 20190916, 20190915, 20190917, 20190926,\n",
       "       20190918, 20190919, 20190802, 20190805, 20190803, 20190801,\n",
       "       20190806, 20190807, 20190804, 20190808, 20190810, 20190809,\n",
       "       20190811, 20190812, 20190901, 20190902, 20190905, 20190906,\n",
       "       20190904, 20190907, 20190908, 20190903, 20190909, 20190911,\n",
       "       20190910, 20190912, 20190813, 20190816, 20190814, 20190817,\n",
       "       20190819, 20190815, 20190818, 20190820, 20190822, 20190821,\n",
       "       20190823, 20190730, 20190729, 20190723, 20190731, 20190725,\n",
       "       20190726, 20190724, 20190727, 20190728, 20190701, 20190706,\n",
       "       20190702, 20190708, 20190704, 20190709, 20190703, 20190710,\n",
       "       20190705, 20190707, 20190711, 20190824, 20190827, 20190828,\n",
       "       20190826, 20190825, 20190829, 20190830, 20190831, 20190927,\n",
       "       20190928, 20190929, 20190930, 20190712, 20190713, 20190716,\n",
       "       20190719, 20190717, 20190718, 20190714, 20190715, 20190720,\n",
       "       20190721, 20190722])"
      ]
     },
     "execution_count": 23,
     "metadata": {},
     "output_type": "execute_result"
    }
   ],
   "source": [
    "df_transaction['de_dt'].unique()"
   ]
  },
  {
   "cell_type": "markdown",
   "metadata": {},
   "source": [
    "데이터를 보아하니 2019년 7월, 8월, 9월 데이터인 것 같습니다."
   ]
  },
  {
   "cell_type": "code",
   "execution_count": 24,
   "metadata": {},
   "outputs": [
    {
     "data": {
      "text/plain": [
       "<matplotlib.axes._subplots.AxesSubplot at 0x7f5e22951e50>"
      ]
     },
     "execution_count": 24,
     "metadata": {},
     "output_type": "execute_result"
    },
    {
     "data": {
      "image/png": "[encoded data removed]",
      "text/plain": [
       "<Figure size 720x360 with 1 Axes>"
      ]
     },
     "metadata": {
      "needs_background": "light"
     },
     "output_type": "display_data"
    }
   ],
   "source": [
    "plt.figure(figsize=(10, 5))\n",
    "sns.countplot(df_transaction['date'].dt.strftime('%m'))"
   ]
  },
  {
   "cell_type": "markdown",
   "metadata": {},
   "source": [
    "월별 데이터는 골고루 있는 것 같습니다. 날짜별로도 한번 확인해봅시다."
   ]
  },
  {
   "cell_type": "code",
   "execution_count": 25,
   "metadata": {},
   "outputs": [
    {
     "data": {
      "text/plain": [
       "<matplotlib.axes._subplots.AxesSubplot at 0x7f5da698b710>"
      ]
     },
     "execution_count": 25,
     "metadata": {},
     "output_type": "execute_result"
    },
    {
     "data": {
      "image/png": "[encoded data removed]",
      "text/plain": [
       "<Figure size 432x288 with 1 Axes>"
      ]
     },
     "metadata": {
      "needs_background": "light"
     },
     "output_type": "display_data"
    }
   ],
   "source": [
    "sns.countplot(df_transaction['date'].dt.strftime('%m %d'))"
   ]
  },
  {
   "cell_type": "markdown",
   "metadata": {},
   "source": [
    "날짜별 transaction 분포를 보면 언제는 되게 낮게 나오고, 언제는 되게 높게 나옵니다. 이것도 자세히 나중에 확인할 필요가 있을 것 같습니다."
   ]
  },
  {
   "cell_type": "code",
   "execution_count": 26,
   "metadata": {},
   "outputs": [
    {
     "data": {
      "text/plain": [
       "<matplotlib.axes._subplots.AxesSubplot at 0x7f5da2031550>"
      ]
     },
     "execution_count": 26,
     "metadata": {},
     "output_type": "execute_result"
    },
    {
     "data": {
      "image/png": "[encoded data removed]",
      "text/plain": [
       "<Figure size 432x288 with 1 Axes>"
      ]
     },
     "metadata": {
      "needs_background": "light"
     },
     "output_type": "display_data"
    }
   ],
   "source": [
    "sns.countplot(df_transaction['date'].dt.strftime(\"%H\"))"
   ]
  },
  {
   "cell_type": "markdown",
   "metadata": {},
   "source": [
    "시간대별 transaction의 결과는 명확합니다. 오전 10시부터 21시까지의 결과가 높은 것을 확인할 수 있습니다."
   ]
  },
  {
   "cell_type": "code",
   "execution_count": 27,
   "metadata": {},
   "outputs": [
    {
     "data": {
      "text/plain": [
       "<matplotlib.axes._subplots.AxesSubplot at 0x7f5da42ce9d0>"
      ]
     },
     "execution_count": 27,
     "metadata": {},
     "output_type": "execute_result"
    },
    {
     "data": {
      "image/png": "[encoded data removed]",
      "text/plain": [
       "<Figure size 432x288 with 1 Axes>"
      ]
     },
     "metadata": {
      "needs_background": "light"
     },
     "output_type": "display_data"
    }
   ],
   "source": [
    "df_transaction['buy_am'].plot()"
   ]
  },
  {
   "cell_type": "markdown",
   "metadata": {},
   "source": [
    "`buy_am`은 상품의 가격이 얼마인지를 나타내는 것입니다. 특이한 그래프가 그려졌으니 한번 값을 확인해볼까요?"
   ]
  },
  {
   "cell_type": "code",
   "execution_count": 28,
   "metadata": {},
   "outputs": [
    {
     "data": {
      "text/plain": [
       "2990      18064\n",
       "1000      16200\n",
       "1990      15745\n",
       "3990      14652\n",
       "990       14087\n",
       "          ...  \n",
       "969000        1\n",
       "150200        1\n",
       "113350        1\n",
       "39650         1\n",
       "4094          1\n",
       "Name: buy_am, Length: 14810, dtype: int64"
      ]
     },
     "execution_count": 28,
     "metadata": {},
     "output_type": "execute_result"
    }
   ],
   "source": [
    "df_transaction['buy_am'].value_counts()"
   ]
  },
  {
   "cell_type": "code",
   "execution_count": 29,
   "metadata": {},
   "outputs": [
    {
     "data": {
      "text/plain": [
       "1      497831\n",
       "2       62837\n",
       "3       12371\n",
       "0        6775\n",
       "4        6377\n",
       "        ...  \n",
       "210         1\n",
       "207         1\n",
       "717         1\n",
       "204         1\n",
       "155         1\n",
       "Name: buy_ct, Length: 338, dtype: int64"
      ]
     },
     "execution_count": 29,
     "metadata": {},
     "output_type": "execute_result"
    }
   ],
   "source": [
    "df_transaction['buy_ct'].value_counts()"
   ]
  },
  {
   "cell_type": "markdown",
   "metadata": {},
   "source": [
    "물건은 당연히 한개만 산 것이 많겠죠? ㅎㅎ\n",
    "\n",
    "이제 온라인 행동 정보를 한번 살펴봅시다."
   ]
  },
  {
   "cell_type": "code",
   "execution_count": 30,
   "metadata": {},
   "outputs": [
    {
     "data": {
      "text/html": [
       "<div>\n",
       "<style scoped>\n",
       "    .dataframe tbody tr th:only-of-type {\n",
       "        vertical-align: middle;\n",
       "    }\n",
       "\n",
       "    .dataframe tbody tr th {\n",
       "        vertical-align: top;\n",
       "    }\n",
       "\n",
       "    .dataframe thead th {\n",
       "        text-align: right;\n",
       "    }\n",
       "</style>\n",
       "<table border=\"1\" class=\"dataframe\">\n",
       "  <thead>\n",
       "    <tr style=\"text-align: right;\">\n",
       "      <th></th>\n",
       "      <th>clnt_id</th>\n",
       "      <th>sess_id</th>\n",
       "      <th>hit_seq</th>\n",
       "      <th>action_type</th>\n",
       "      <th>biz_unit</th>\n",
       "      <th>sess_dt</th>\n",
       "      <th>hit_tm</th>\n",
       "      <th>hit_pss_tm</th>\n",
       "      <th>trans_id</th>\n",
       "      <th>sech_kwd</th>\n",
       "      <th>tot_pag_view_ct</th>\n",
       "      <th>tot_sess_hr_v</th>\n",
       "      <th>trfc_src</th>\n",
       "      <th>dvc_ctg_nm</th>\n",
       "    </tr>\n",
       "  </thead>\n",
       "  <tbody>\n",
       "    <tr>\n",
       "      <th>0</th>\n",
       "      <td>7809</td>\n",
       "      <td>1</td>\n",
       "      <td>8</td>\n",
       "      <td>5</td>\n",
       "      <td>A03</td>\n",
       "      <td>20190913</td>\n",
       "      <td>01:16</td>\n",
       "      <td>2571103</td>\n",
       "      <td>NaN</td>\n",
       "      <td>NaN</td>\n",
       "      <td>34.0</td>\n",
       "      <td>2663.0</td>\n",
       "      <td>DIRECT</td>\n",
       "      <td>NaN</td>\n",
       "    </tr>\n",
       "    <tr>\n",
       "      <th>1</th>\n",
       "      <td>7809</td>\n",
       "      <td>1</td>\n",
       "      <td>4</td>\n",
       "      <td>2</td>\n",
       "      <td>A03</td>\n",
       "      <td>20190913</td>\n",
       "      <td>01:14</td>\n",
       "      <td>2485909</td>\n",
       "      <td>NaN</td>\n",
       "      <td>NaN</td>\n",
       "      <td>34.0</td>\n",
       "      <td>2663.0</td>\n",
       "      <td>DIRECT</td>\n",
       "      <td>NaN</td>\n",
       "    </tr>\n",
       "    <tr>\n",
       "      <th>2</th>\n",
       "      <td>7809</td>\n",
       "      <td>1</td>\n",
       "      <td>11</td>\n",
       "      <td>5</td>\n",
       "      <td>A03</td>\n",
       "      <td>20190913</td>\n",
       "      <td>01:17</td>\n",
       "      <td>2646597</td>\n",
       "      <td>NaN</td>\n",
       "      <td>NaN</td>\n",
       "      <td>34.0</td>\n",
       "      <td>2663.0</td>\n",
       "      <td>DIRECT</td>\n",
       "      <td>NaN</td>\n",
       "    </tr>\n",
       "    <tr>\n",
       "      <th>3</th>\n",
       "      <td>7809</td>\n",
       "      <td>1</td>\n",
       "      <td>1</td>\n",
       "      <td>2</td>\n",
       "      <td>A03</td>\n",
       "      <td>20190913</td>\n",
       "      <td>00:46</td>\n",
       "      <td>788304</td>\n",
       "      <td>NaN</td>\n",
       "      <td>NaN</td>\n",
       "      <td>34.0</td>\n",
       "      <td>2663.0</td>\n",
       "      <td>DIRECT</td>\n",
       "      <td>NaN</td>\n",
       "    </tr>\n",
       "    <tr>\n",
       "      <th>4</th>\n",
       "      <td>7809</td>\n",
       "      <td>1</td>\n",
       "      <td>9</td>\n",
       "      <td>5</td>\n",
       "      <td>A03</td>\n",
       "      <td>20190913</td>\n",
       "      <td>01:17</td>\n",
       "      <td>2617609</td>\n",
       "      <td>NaN</td>\n",
       "      <td>NaN</td>\n",
       "      <td>34.0</td>\n",
       "      <td>2663.0</td>\n",
       "      <td>DIRECT</td>\n",
       "      <td>NaN</td>\n",
       "    </tr>\n",
       "  </tbody>\n",
       "</table>\n",
       "</div>"
      ],
      "text/plain": [
       "   clnt_id  sess_id  hit_seq  action_type biz_unit   sess_dt hit_tm  \\\n",
       "0     7809        1        8            5      A03  20190913  01:16   \n",
       "1     7809        1        4            2      A03  20190913  01:14   \n",
       "2     7809        1       11            5      A03  20190913  01:17   \n",
       "3     7809        1        1            2      A03  20190913  00:46   \n",
       "4     7809        1        9            5      A03  20190913  01:17   \n",
       "\n",
       "   hit_pss_tm  trans_id sech_kwd  tot_pag_view_ct  tot_sess_hr_v trfc_src  \\\n",
       "0     2571103       NaN      NaN             34.0         2663.0   DIRECT   \n",
       "1     2485909       NaN      NaN             34.0         2663.0   DIRECT   \n",
       "2     2646597       NaN      NaN             34.0         2663.0   DIRECT   \n",
       "3      788304       NaN      NaN             34.0         2663.0   DIRECT   \n",
       "4     2617609       NaN      NaN             34.0         2663.0   DIRECT   \n",
       "\n",
       "  dvc_ctg_nm  \n",
       "0        NaN  \n",
       "1        NaN  \n",
       "2        NaN  \n",
       "3        NaN  \n",
       "4        NaN  "
      ]
     },
     "execution_count": 30,
     "metadata": {},
     "output_type": "execute_result"
    }
   ],
   "source": [
    "df_activation.head()"
   ]
  },
  {
   "cell_type": "markdown",
   "metadata": {},
   "source": [
    "#### `action_type`"
   ]
  },
  {
   "cell_type": "code",
   "execution_count": 31,
   "metadata": {},
   "outputs": [
    {
     "data": {
      "text/plain": [
       "<matplotlib.axes._subplots.AxesSubplot at 0x7f5da3a11790>"
      ]
     },
     "execution_count": 31,
     "metadata": {},
     "output_type": "execute_result"
    },
    {
     "data": {
      "image/png": "[encoded data removed]",
      "text/plain": [
       "<Figure size 432x288 with 1 Axes>"
      ]
     },
     "metadata": {
      "needs_background": "light"
     },
     "output_type": "display_data"
    }
   ],
   "source": [
    "sns.countplot(df_activation['action_type'])"
   ]
  },
  {
   "cell_type": "markdown",
   "metadata": {},
   "source": [
    "먼저 `action_type`부터 확인해봅시다. 이것은 8가지 행동 유형을 구분한 코드를 나타냅니다.\n",
    "\n",
    "- 0 : 검색\n",
    "- 1 : 제품 목록\n",
    "- 2 : 제품 세부 정보 보기\n",
    "- 3 : 장바구니 제품 추가\n",
    "- 4 : 장바구니 제품 삭제\n",
    "- 5 : 결제 시도\n",
    "- 6 : 구매 완료\n",
    "- 7 : 구매 환불\n",
    "- 8 : 결제 옵션\n",
    "\n",
    "보면 결제 옵션을 선택한 것은 하나도 없나보네요. 결제를 시도한 것은 많은데, 구매 완료까지 간 것은 또 많지 않습니다. 그 외에는 제품을 검색하고 세부 정보를 보고 장바구니에 제품 추가까지 한 것이 많습니다. \n",
    "\n",
    "다른 칼럼들도 한번 살펴봅시다.\n",
    "\n",
    "#### `biz_unit`"
   ]
  },
  {
   "cell_type": "code",
   "execution_count": 32,
   "metadata": {},
   "outputs": [
    {
     "data": {
      "text/plain": [
       "<matplotlib.axes._subplots.AxesSubplot at 0x7f5da4063ed0>"
      ]
     },
     "execution_count": 32,
     "metadata": {},
     "output_type": "execute_result"
    },
    {
     "data": {
      "image/png": "[encoded data removed]",
      "text/plain": [
       "<Figure size 432x288 with 1 Axes>"
      ]
     },
     "metadata": {
      "needs_background": "light"
     },
     "output_type": "display_data"
    }
   ],
   "source": [
    "sns.countplot(df_activation['biz_unit'])"
   ]
  },
  {
   "cell_type": "markdown",
   "metadata": {},
   "source": [
    "온라인 행동정보에서는 세가지 업종 단위만 있네요. A01, A02, A03입니다.\n",
    "\n",
    "온라인 및 오프라인 이용처를 구분하는 단위 코드인데, 무엇이 온라인이고 오프라인인지는 한눈에 확인할 수는 없네요. 지레짐작이지만 가장 많은 수가 나온 A03이 온라인이 될 것 같습니다."
   ]
  },
  {
   "cell_type": "markdown",
   "metadata": {},
   "source": [
    "#### `sech_kwd`\n"
   ]
  },
  {
   "cell_type": "code",
   "execution_count": 33,
   "metadata": {},
   "outputs": [
    {
     "data": {
      "text/plain": [
       "우유            8985\n",
       "두부            5210\n",
       "계란            5039\n",
       "생수            4283\n",
       "수박            2694\n",
       "              ... \n",
       "시카릴리프크림          1\n",
       "헤지스크로스백 여성       1\n",
       "워터픽 구            1\n",
       "속초만석닭강정          1\n",
       "로얄알버트 머그         1\n",
       "Name: sech_kwd, Length: 101952, dtype: int64"
      ]
     },
     "execution_count": 33,
     "metadata": {},
     "output_type": "execute_result"
    }
   ],
   "source": [
    "df_activation['sech_kwd'].value_counts()"
   ]
  },
  {
   "cell_type": "markdown",
   "metadata": {},
   "source": [
    "오 우유를 가장 많이 검색했네요!!!! 이건 좀 재미있는 결과입니다. 우유 두부 계란.. 먹는 것을 가장 많이 검색했군요. 여름 데이터여서 그런지 수박도 순위 안에 있습니다."
   ]
  },
  {
   "cell_type": "markdown",
   "metadata": {},
   "source": [
    "#### `tot_pag_view_ct`"
   ]
  },
  {
   "cell_type": "code",
   "execution_count": 34,
   "metadata": {},
   "outputs": [
    {
     "data": {
      "text/plain": [
       "1.0      62147\n",
       "7.0      60072\n",
       "5.0      59178\n",
       "9.0      58943\n",
       "11.0     57978\n",
       "         ...  \n",
       "431.0       21\n",
       "464.0       21\n",
       "433.0        9\n",
       "423.0        6\n",
       "389.0        2\n",
       "Name: tot_pag_view_ct, Length: 425, dtype: int64"
      ]
     },
     "execution_count": 34,
     "metadata": {},
     "output_type": "execute_result"
    }
   ],
   "source": [
    "df_activation['tot_pag_view_ct'].value_counts()"
   ]
  },
  {
   "cell_type": "markdown",
   "metadata": {},
   "source": [
    "한 세션에 몇개의 페이지를 봤는지를 나타내는 칼럼입니다. 보통 한번 볼때 한페이지만 보거나 7번정도 보는 것이 많은가 봅니다."
   ]
  },
  {
   "cell_type": "markdown",
   "metadata": {},
   "source": [
    "#### `tot_sess_hr_v`\n",
    "\n",
    "총 세션 시간"
   ]
  },
  {
   "cell_type": "code",
   "execution_count": 35,
   "metadata": {},
   "outputs": [
    {
     "data": {
      "text/plain": [
       "127.0     2236\n",
       "61.0      2147\n",
       "96.0      2119\n",
       "69.0      2079\n",
       "63.0      2076\n",
       "          ... \n",
       "6800.0       1\n",
       "5945.0       1\n",
       "5412.0       1\n",
       "6794.0       1\n",
       "6416.0       1\n",
       "Name: tot_sess_hr_v, Length: 6646, dtype: int64"
      ]
     },
     "execution_count": 35,
     "metadata": {},
     "output_type": "execute_result"
    }
   ],
   "source": [
    "df_activation['tot_sess_hr_v'].value_counts()"
   ]
  },
  {
   "cell_type": "markdown",
   "metadata": {},
   "source": [
    "단위시간은 초입니다. 127초면 약 2분정도네요. 1분과 2분 사이 정도 유지되는 것이 일반적인가봅니다."
   ]
  },
  {
   "cell_type": "markdown",
   "metadata": {},
   "source": [
    "#### `trfc_src`"
   ]
  },
  {
   "cell_type": "code",
   "execution_count": 36,
   "metadata": {},
   "outputs": [
    {
     "data": {
      "text/plain": [
       "<matplotlib.axes._subplots.AxesSubplot at 0x7f5da3cd75d0>"
      ]
     },
     "execution_count": 36,
     "metadata": {},
     "output_type": "execute_result"
    },
    {
     "data": {
      "image/png": "[encoded data removed]",
      "text/plain": [
       "<Figure size 432x288 with 1 Axes>"
      ]
     },
     "metadata": {
      "needs_background": "light"
     },
     "output_type": "display_data"
    }
   ],
   "source": [
    "sns.countplot(df_activation['trfc_src'])"
   ]
  },
  {
   "cell_type": "markdown",
   "metadata": {},
   "source": [
    "유입 채널입니다.\n",
    "\n",
    "직접 유입이 가장 많고, 그 다음에 알 수 없고 드고, push가 그 다음이네요. website나 portal.. 은 별로 없는 것 같습니다.\n",
    "\n",
    "직접 유입에 힘쓰는 것이 좋겠군요!!"
   ]
  },
  {
   "cell_type": "markdown",
   "metadata": {},
   "source": [
    "#### `dvc_ctg_nm`\n",
    "\n"
   ]
  },
  {
   "cell_type": "code",
   "execution_count": 37,
   "metadata": {},
   "outputs": [
    {
     "data": {
      "text/plain": [
       "<matplotlib.axes._subplots.AxesSubplot at 0x7f5da39a1c90>"
      ]
     },
     "execution_count": 37,
     "metadata": {},
     "output_type": "execute_result"
    },
    {
     "data": {
      "image/png": "[encoded data removed]",
      "text/plain": [
       "<Figure size 432x288 with 1 Axes>"
      ]
     },
     "metadata": {
      "needs_background": "light"
     },
     "output_type": "display_data"
    }
   ],
   "source": [
    "sns.countplot(df_activation['dvc_ctg_nm'])"
   ]
  },
  {
   "cell_type": "markdown",
   "metadata": {},
   "source": [
    "역시 모바일로 보는 것이 가장 많은 수를 차지합니다.\n",
    "\n",
    "모바일에서도 web을 통해 접근하는 것이 많네요. 웹을 좀 더 보강해야할 필요가 있겠습니다."
   ]
  },
  {
   "cell_type": "markdown",
   "metadata": {},
   "source": [
    "---\n",
    "\n",
    "이제 무엇을 더 할 수 있을지 한번 살펴봅시다.\n",
    "\n",
    "1. 세션 일자를 일단 `datetime`으로 바꿔주는 것도 좋을 것 같습니다.\n",
    "2. `trans_id`는 거래정보 데이터 프레임과 합쳐주는 것이 좋을 것 같습니다.\n",
    "3. `clnt_id`로 고객 정보 데이터 프레임도 합쳐주는 것이 좋을 것 같습니다.\n",
    "4. 거래정보에 있는 상품 소분류코드로 상품 분류 정보도 더해줍시다."
   ]
  },
  {
   "cell_type": "markdown",
   "metadata": {},
   "source": [
    "#### 세션일자 datetime으로 바꾸기"
   ]
  },
  {
   "cell_type": "code",
   "execution_count": 38,
   "metadata": {},
   "outputs": [
    {
     "data": {
      "text/plain": [
       "clnt_id                     int64\n",
       "sess_id                     int64\n",
       "hit_seq                     int64\n",
       "action_type                 int64\n",
       "biz_unit                   object\n",
       "sess_dt                     int64\n",
       "hit_tm                     object\n",
       "hit_pss_tm                  int64\n",
       "trans_id                  float64\n",
       "sech_kwd                   object\n",
       "tot_pag_view_ct           float64\n",
       "tot_sess_hr_v             float64\n",
       "trfc_src                   object\n",
       "dvc_ctg_nm                 object\n",
       "sess_date          datetime64[ns]\n",
       "dtype: object"
      ]
     },
     "execution_count": 38,
     "metadata": {},
     "output_type": "execute_result"
    }
   ],
   "source": [
    "df_activation['sess_date'] = pd.to_datetime(df_activation['sess_dt'], format='%Y%m%d')\n",
    "df_activation.dtypes"
   ]
  },
  {
   "cell_type": "markdown",
   "metadata": {},
   "source": [
    "바꿔주었습니다!! 이제 다른 데이터프레임의 정보를 더해줍시다."
   ]
  },
  {
   "cell_type": "code",
   "execution_count": 39,
   "metadata": {},
   "outputs": [
    {
     "data": {
      "text/html": [
       "<div>\n",
       "<style scoped>\n",
       "    .dataframe tbody tr th:only-of-type {\n",
       "        vertical-align: middle;\n",
       "    }\n",
       "\n",
       "    .dataframe tbody tr th {\n",
       "        vertical-align: top;\n",
       "    }\n",
       "\n",
       "    .dataframe thead th {\n",
       "        text-align: right;\n",
       "    }\n",
       "</style>\n",
       "<table border=\"1\" class=\"dataframe\">\n",
       "  <thead>\n",
       "    <tr style=\"text-align: right;\">\n",
       "      <th></th>\n",
       "      <th>clnt_id</th>\n",
       "      <th>sess_id</th>\n",
       "      <th>hit_seq</th>\n",
       "      <th>action_type</th>\n",
       "      <th>biz_unit</th>\n",
       "      <th>sess_dt</th>\n",
       "      <th>hit_tm</th>\n",
       "      <th>hit_pss_tm</th>\n",
       "      <th>trans_id</th>\n",
       "      <th>sech_kwd</th>\n",
       "      <th>tot_pag_view_ct</th>\n",
       "      <th>tot_sess_hr_v</th>\n",
       "      <th>trfc_src</th>\n",
       "      <th>dvc_ctg_nm</th>\n",
       "      <th>sess_date</th>\n",
       "      <th>clnt_gender</th>\n",
       "      <th>clnt_age</th>\n",
       "    </tr>\n",
       "  </thead>\n",
       "  <tbody>\n",
       "    <tr>\n",
       "      <th>0</th>\n",
       "      <td>7809</td>\n",
       "      <td>1</td>\n",
       "      <td>8</td>\n",
       "      <td>5</td>\n",
       "      <td>A03</td>\n",
       "      <td>20190913</td>\n",
       "      <td>01:16</td>\n",
       "      <td>2571103</td>\n",
       "      <td>NaN</td>\n",
       "      <td>NaN</td>\n",
       "      <td>34.0</td>\n",
       "      <td>2663.0</td>\n",
       "      <td>DIRECT</td>\n",
       "      <td>NaN</td>\n",
       "      <td>2019-09-13</td>\n",
       "      <td>unknown</td>\n",
       "      <td>unknown</td>\n",
       "    </tr>\n",
       "    <tr>\n",
       "      <th>1</th>\n",
       "      <td>7809</td>\n",
       "      <td>1</td>\n",
       "      <td>4</td>\n",
       "      <td>2</td>\n",
       "      <td>A03</td>\n",
       "      <td>20190913</td>\n",
       "      <td>01:14</td>\n",
       "      <td>2485909</td>\n",
       "      <td>NaN</td>\n",
       "      <td>NaN</td>\n",
       "      <td>34.0</td>\n",
       "      <td>2663.0</td>\n",
       "      <td>DIRECT</td>\n",
       "      <td>NaN</td>\n",
       "      <td>2019-09-13</td>\n",
       "      <td>unknown</td>\n",
       "      <td>unknown</td>\n",
       "    </tr>\n",
       "    <tr>\n",
       "      <th>2</th>\n",
       "      <td>7809</td>\n",
       "      <td>1</td>\n",
       "      <td>11</td>\n",
       "      <td>5</td>\n",
       "      <td>A03</td>\n",
       "      <td>20190913</td>\n",
       "      <td>01:17</td>\n",
       "      <td>2646597</td>\n",
       "      <td>NaN</td>\n",
       "      <td>NaN</td>\n",
       "      <td>34.0</td>\n",
       "      <td>2663.0</td>\n",
       "      <td>DIRECT</td>\n",
       "      <td>NaN</td>\n",
       "      <td>2019-09-13</td>\n",
       "      <td>unknown</td>\n",
       "      <td>unknown</td>\n",
       "    </tr>\n",
       "    <tr>\n",
       "      <th>3</th>\n",
       "      <td>7809</td>\n",
       "      <td>1</td>\n",
       "      <td>1</td>\n",
       "      <td>2</td>\n",
       "      <td>A03</td>\n",
       "      <td>20190913</td>\n",
       "      <td>00:46</td>\n",
       "      <td>788304</td>\n",
       "      <td>NaN</td>\n",
       "      <td>NaN</td>\n",
       "      <td>34.0</td>\n",
       "      <td>2663.0</td>\n",
       "      <td>DIRECT</td>\n",
       "      <td>NaN</td>\n",
       "      <td>2019-09-13</td>\n",
       "      <td>unknown</td>\n",
       "      <td>unknown</td>\n",
       "    </tr>\n",
       "    <tr>\n",
       "      <th>4</th>\n",
       "      <td>7809</td>\n",
       "      <td>1</td>\n",
       "      <td>9</td>\n",
       "      <td>5</td>\n",
       "      <td>A03</td>\n",
       "      <td>20190913</td>\n",
       "      <td>01:17</td>\n",
       "      <td>2617609</td>\n",
       "      <td>NaN</td>\n",
       "      <td>NaN</td>\n",
       "      <td>34.0</td>\n",
       "      <td>2663.0</td>\n",
       "      <td>DIRECT</td>\n",
       "      <td>NaN</td>\n",
       "      <td>2019-09-13</td>\n",
       "      <td>unknown</td>\n",
       "      <td>unknown</td>\n",
       "    </tr>\n",
       "  </tbody>\n",
       "</table>\n",
       "</div>"
      ],
      "text/plain": [
       "   clnt_id  sess_id  hit_seq  action_type biz_unit   sess_dt hit_tm  \\\n",
       "0     7809        1        8            5      A03  20190913  01:16   \n",
       "1     7809        1        4            2      A03  20190913  01:14   \n",
       "2     7809        1       11            5      A03  20190913  01:17   \n",
       "3     7809        1        1            2      A03  20190913  00:46   \n",
       "4     7809        1        9            5      A03  20190913  01:17   \n",
       "\n",
       "   hit_pss_tm  trans_id sech_kwd  tot_pag_view_ct  tot_sess_hr_v trfc_src  \\\n",
       "0     2571103       NaN      NaN             34.0         2663.0   DIRECT   \n",
       "1     2485909       NaN      NaN             34.0         2663.0   DIRECT   \n",
       "2     2646597       NaN      NaN             34.0         2663.0   DIRECT   \n",
       "3      788304       NaN      NaN             34.0         2663.0   DIRECT   \n",
       "4     2617609       NaN      NaN             34.0         2663.0   DIRECT   \n",
       "\n",
       "  dvc_ctg_nm  sess_date clnt_gender clnt_age  \n",
       "0        NaN 2019-09-13     unknown  unknown  \n",
       "1        NaN 2019-09-13     unknown  unknown  \n",
       "2        NaN 2019-09-13     unknown  unknown  \n",
       "3        NaN 2019-09-13     unknown  unknown  \n",
       "4        NaN 2019-09-13     unknown  unknown  "
      ]
     },
     "execution_count": 39,
     "metadata": {},
     "output_type": "execute_result"
    }
   ],
   "source": [
    "df = pd.merge(df_activation, df_demo, on='clnt_id', how='left')\n",
    "df.head()"
   ]
  },
  {
   "cell_type": "code",
   "execution_count": 40,
   "metadata": {},
   "outputs": [
    {
     "data": {
      "text/html": [
       "<div>\n",
       "<style scoped>\n",
       "    .dataframe tbody tr th:only-of-type {\n",
       "        vertical-align: middle;\n",
       "    }\n",
       "\n",
       "    .dataframe tbody tr th {\n",
       "        vertical-align: top;\n",
       "    }\n",
       "\n",
       "    .dataframe thead th {\n",
       "        text-align: right;\n",
       "    }\n",
       "</style>\n",
       "<table border=\"1\" class=\"dataframe\">\n",
       "  <thead>\n",
       "    <tr style=\"text-align: right;\">\n",
       "      <th></th>\n",
       "      <th>clnt_id_x</th>\n",
       "      <th>sess_id</th>\n",
       "      <th>hit_seq</th>\n",
       "      <th>action_type</th>\n",
       "      <th>biz_unit_x</th>\n",
       "      <th>sess_dt</th>\n",
       "      <th>hit_tm</th>\n",
       "      <th>hit_pss_tm</th>\n",
       "      <th>trans_id</th>\n",
       "      <th>sech_kwd</th>\n",
       "      <th>...</th>\n",
       "      <th>clnt_age</th>\n",
       "      <th>clnt_id_y</th>\n",
       "      <th>trans_seq</th>\n",
       "      <th>biz_unit_y</th>\n",
       "      <th>pd_c</th>\n",
       "      <th>de_dt</th>\n",
       "      <th>de_tm</th>\n",
       "      <th>buy_am</th>\n",
       "      <th>buy_ct</th>\n",
       "      <th>date</th>\n",
       "    </tr>\n",
       "  </thead>\n",
       "  <tbody>\n",
       "    <tr>\n",
       "      <th>0</th>\n",
       "      <td>7809</td>\n",
       "      <td>1</td>\n",
       "      <td>8</td>\n",
       "      <td>5</td>\n",
       "      <td>A03</td>\n",
       "      <td>20190913</td>\n",
       "      <td>01:16</td>\n",
       "      <td>2571103</td>\n",
       "      <td>NaN</td>\n",
       "      <td>NaN</td>\n",
       "      <td>...</td>\n",
       "      <td>unknown</td>\n",
       "      <td>NaN</td>\n",
       "      <td>NaN</td>\n",
       "      <td>NaN</td>\n",
       "      <td>NaN</td>\n",
       "      <td>NaN</td>\n",
       "      <td>NaN</td>\n",
       "      <td>NaN</td>\n",
       "      <td>NaN</td>\n",
       "      <td>NaT</td>\n",
       "    </tr>\n",
       "    <tr>\n",
       "      <th>1</th>\n",
       "      <td>7809</td>\n",
       "      <td>1</td>\n",
       "      <td>4</td>\n",
       "      <td>2</td>\n",
       "      <td>A03</td>\n",
       "      <td>20190913</td>\n",
       "      <td>01:14</td>\n",
       "      <td>2485909</td>\n",
       "      <td>NaN</td>\n",
       "      <td>NaN</td>\n",
       "      <td>...</td>\n",
       "      <td>unknown</td>\n",
       "      <td>NaN</td>\n",
       "      <td>NaN</td>\n",
       "      <td>NaN</td>\n",
       "      <td>NaN</td>\n",
       "      <td>NaN</td>\n",
       "      <td>NaN</td>\n",
       "      <td>NaN</td>\n",
       "      <td>NaN</td>\n",
       "      <td>NaT</td>\n",
       "    </tr>\n",
       "    <tr>\n",
       "      <th>2</th>\n",
       "      <td>7809</td>\n",
       "      <td>1</td>\n",
       "      <td>11</td>\n",
       "      <td>5</td>\n",
       "      <td>A03</td>\n",
       "      <td>20190913</td>\n",
       "      <td>01:17</td>\n",
       "      <td>2646597</td>\n",
       "      <td>NaN</td>\n",
       "      <td>NaN</td>\n",
       "      <td>...</td>\n",
       "      <td>unknown</td>\n",
       "      <td>NaN</td>\n",
       "      <td>NaN</td>\n",
       "      <td>NaN</td>\n",
       "      <td>NaN</td>\n",
       "      <td>NaN</td>\n",
       "      <td>NaN</td>\n",
       "      <td>NaN</td>\n",
       "      <td>NaN</td>\n",
       "      <td>NaT</td>\n",
       "    </tr>\n",
       "    <tr>\n",
       "      <th>3</th>\n",
       "      <td>7809</td>\n",
       "      <td>1</td>\n",
       "      <td>1</td>\n",
       "      <td>2</td>\n",
       "      <td>A03</td>\n",
       "      <td>20190913</td>\n",
       "      <td>00:46</td>\n",
       "      <td>788304</td>\n",
       "      <td>NaN</td>\n",
       "      <td>NaN</td>\n",
       "      <td>...</td>\n",
       "      <td>unknown</td>\n",
       "      <td>NaN</td>\n",
       "      <td>NaN</td>\n",
       "      <td>NaN</td>\n",
       "      <td>NaN</td>\n",
       "      <td>NaN</td>\n",
       "      <td>NaN</td>\n",
       "      <td>NaN</td>\n",
       "      <td>NaN</td>\n",
       "      <td>NaT</td>\n",
       "    </tr>\n",
       "    <tr>\n",
       "      <th>4</th>\n",
       "      <td>7809</td>\n",
       "      <td>1</td>\n",
       "      <td>9</td>\n",
       "      <td>5</td>\n",
       "      <td>A03</td>\n",
       "      <td>20190913</td>\n",
       "      <td>01:17</td>\n",
       "      <td>2617609</td>\n",
       "      <td>NaN</td>\n",
       "      <td>NaN</td>\n",
       "      <td>...</td>\n",
       "      <td>unknown</td>\n",
       "      <td>NaN</td>\n",
       "      <td>NaN</td>\n",
       "      <td>NaN</td>\n",
       "      <td>NaN</td>\n",
       "      <td>NaN</td>\n",
       "      <td>NaN</td>\n",
       "      <td>NaN</td>\n",
       "      <td>NaN</td>\n",
       "      <td>NaT</td>\n",
       "    </tr>\n",
       "  </tbody>\n",
       "</table>\n",
       "<p>5 rows × 26 columns</p>\n",
       "</div>"
      ],
      "text/plain": [
       "   clnt_id_x  sess_id  hit_seq  action_type biz_unit_x   sess_dt hit_tm  \\\n",
       "0       7809        1        8            5        A03  20190913  01:16   \n",
       "1       7809        1        4            2        A03  20190913  01:14   \n",
       "2       7809        1       11            5        A03  20190913  01:17   \n",
       "3       7809        1        1            2        A03  20190913  00:46   \n",
       "4       7809        1        9            5        A03  20190913  01:17   \n",
       "\n",
       "   hit_pss_tm  trans_id sech_kwd  ...  clnt_age  clnt_id_y trans_seq  \\\n",
       "0     2571103       NaN      NaN  ...   unknown        NaN       NaN   \n",
       "1     2485909       NaN      NaN  ...   unknown        NaN       NaN   \n",
       "2     2646597       NaN      NaN  ...   unknown        NaN       NaN   \n",
       "3      788304       NaN      NaN  ...   unknown        NaN       NaN   \n",
       "4     2617609       NaN      NaN  ...   unknown        NaN       NaN   \n",
       "\n",
       "  biz_unit_y pd_c de_dt de_tm  buy_am  buy_ct date  \n",
       "0        NaN  NaN   NaN   NaN     NaN     NaN  NaT  \n",
       "1        NaN  NaN   NaN   NaN     NaN     NaN  NaT  \n",
       "2        NaN  NaN   NaN   NaN     NaN     NaN  NaT  \n",
       "3        NaN  NaN   NaN   NaN     NaN     NaN  NaT  \n",
       "4        NaN  NaN   NaN   NaN     NaN     NaN  NaT  \n",
       "\n",
       "[5 rows x 26 columns]"
      ]
     },
     "execution_count": 40,
     "metadata": {},
     "output_type": "execute_result"
    }
   ],
   "source": [
    "df = pd.merge(df, df_transaction, on='trans_id', how='left')\n",
    "df.head()"
   ]
  },
  {
   "cell_type": "code",
   "execution_count": 41,
   "metadata": {},
   "outputs": [
    {
     "data": {
      "text/html": [
       "<div>\n",
       "<style scoped>\n",
       "    .dataframe tbody tr th:only-of-type {\n",
       "        vertical-align: middle;\n",
       "    }\n",
       "\n",
       "    .dataframe tbody tr th {\n",
       "        vertical-align: top;\n",
       "    }\n",
       "\n",
       "    .dataframe thead th {\n",
       "        text-align: right;\n",
       "    }\n",
       "</style>\n",
       "<table border=\"1\" class=\"dataframe\">\n",
       "  <thead>\n",
       "    <tr style=\"text-align: right;\">\n",
       "      <th></th>\n",
       "      <th>clnt_id_x</th>\n",
       "      <th>sess_id</th>\n",
       "      <th>hit_seq</th>\n",
       "      <th>action_type</th>\n",
       "      <th>biz_unit_x</th>\n",
       "      <th>sess_dt</th>\n",
       "      <th>hit_tm</th>\n",
       "      <th>hit_pss_tm</th>\n",
       "      <th>trans_id</th>\n",
       "      <th>sech_kwd</th>\n",
       "      <th>...</th>\n",
       "      <th>biz_unit_y</th>\n",
       "      <th>pd_c</th>\n",
       "      <th>de_dt</th>\n",
       "      <th>de_tm</th>\n",
       "      <th>buy_am</th>\n",
       "      <th>buy_ct</th>\n",
       "      <th>date</th>\n",
       "      <th>clac_nm1</th>\n",
       "      <th>clac_nm2</th>\n",
       "      <th>clac_nm3</th>\n",
       "    </tr>\n",
       "  </thead>\n",
       "  <tbody>\n",
       "    <tr>\n",
       "      <th>0</th>\n",
       "      <td>7809</td>\n",
       "      <td>1</td>\n",
       "      <td>8</td>\n",
       "      <td>5</td>\n",
       "      <td>A03</td>\n",
       "      <td>20190913</td>\n",
       "      <td>01:16</td>\n",
       "      <td>2571103</td>\n",
       "      <td>NaN</td>\n",
       "      <td>NaN</td>\n",
       "      <td>...</td>\n",
       "      <td>NaN</td>\n",
       "      <td>NaN</td>\n",
       "      <td>NaN</td>\n",
       "      <td>NaN</td>\n",
       "      <td>NaN</td>\n",
       "      <td>NaN</td>\n",
       "      <td>NaT</td>\n",
       "      <td>NaN</td>\n",
       "      <td>NaN</td>\n",
       "      <td>NaN</td>\n",
       "    </tr>\n",
       "    <tr>\n",
       "      <th>1</th>\n",
       "      <td>7809</td>\n",
       "      <td>1</td>\n",
       "      <td>4</td>\n",
       "      <td>2</td>\n",
       "      <td>A03</td>\n",
       "      <td>20190913</td>\n",
       "      <td>01:14</td>\n",
       "      <td>2485909</td>\n",
       "      <td>NaN</td>\n",
       "      <td>NaN</td>\n",
       "      <td>...</td>\n",
       "      <td>NaN</td>\n",
       "      <td>NaN</td>\n",
       "      <td>NaN</td>\n",
       "      <td>NaN</td>\n",
       "      <td>NaN</td>\n",
       "      <td>NaN</td>\n",
       "      <td>NaT</td>\n",
       "      <td>NaN</td>\n",
       "      <td>NaN</td>\n",
       "      <td>NaN</td>\n",
       "    </tr>\n",
       "    <tr>\n",
       "      <th>2</th>\n",
       "      <td>7809</td>\n",
       "      <td>1</td>\n",
       "      <td>11</td>\n",
       "      <td>5</td>\n",
       "      <td>A03</td>\n",
       "      <td>20190913</td>\n",
       "      <td>01:17</td>\n",
       "      <td>2646597</td>\n",
       "      <td>NaN</td>\n",
       "      <td>NaN</td>\n",
       "      <td>...</td>\n",
       "      <td>NaN</td>\n",
       "      <td>NaN</td>\n",
       "      <td>NaN</td>\n",
       "      <td>NaN</td>\n",
       "      <td>NaN</td>\n",
       "      <td>NaN</td>\n",
       "      <td>NaT</td>\n",
       "      <td>NaN</td>\n",
       "      <td>NaN</td>\n",
       "      <td>NaN</td>\n",
       "    </tr>\n",
       "    <tr>\n",
       "      <th>3</th>\n",
       "      <td>7809</td>\n",
       "      <td>1</td>\n",
       "      <td>1</td>\n",
       "      <td>2</td>\n",
       "      <td>A03</td>\n",
       "      <td>20190913</td>\n",
       "      <td>00:46</td>\n",
       "      <td>788304</td>\n",
       "      <td>NaN</td>\n",
       "      <td>NaN</td>\n",
       "      <td>...</td>\n",
       "      <td>NaN</td>\n",
       "      <td>NaN</td>\n",
       "      <td>NaN</td>\n",
       "      <td>NaN</td>\n",
       "      <td>NaN</td>\n",
       "      <td>NaN</td>\n",
       "      <td>NaT</td>\n",
       "      <td>NaN</td>\n",
       "      <td>NaN</td>\n",
       "      <td>NaN</td>\n",
       "    </tr>\n",
       "    <tr>\n",
       "      <th>4</th>\n",
       "      <td>7809</td>\n",
       "      <td>1</td>\n",
       "      <td>9</td>\n",
       "      <td>5</td>\n",
       "      <td>A03</td>\n",
       "      <td>20190913</td>\n",
       "      <td>01:17</td>\n",
       "      <td>2617609</td>\n",
       "      <td>NaN</td>\n",
       "      <td>NaN</td>\n",
       "      <td>...</td>\n",
       "      <td>NaN</td>\n",
       "      <td>NaN</td>\n",
       "      <td>NaN</td>\n",
       "      <td>NaN</td>\n",
       "      <td>NaN</td>\n",
       "      <td>NaN</td>\n",
       "      <td>NaT</td>\n",
       "      <td>NaN</td>\n",
       "      <td>NaN</td>\n",
       "      <td>NaN</td>\n",
       "    </tr>\n",
       "  </tbody>\n",
       "</table>\n",
       "<p>5 rows × 29 columns</p>\n",
       "</div>"
      ],
      "text/plain": [
       "   clnt_id_x  sess_id  hit_seq  action_type biz_unit_x   sess_dt hit_tm  \\\n",
       "0       7809        1        8            5        A03  20190913  01:16   \n",
       "1       7809        1        4            2        A03  20190913  01:14   \n",
       "2       7809        1       11            5        A03  20190913  01:17   \n",
       "3       7809        1        1            2        A03  20190913  00:46   \n",
       "4       7809        1        9            5        A03  20190913  01:17   \n",
       "\n",
       "   hit_pss_tm  trans_id sech_kwd  ...  biz_unit_y  pd_c de_dt de_tm buy_am  \\\n",
       "0     2571103       NaN      NaN  ...         NaN   NaN   NaN   NaN    NaN   \n",
       "1     2485909       NaN      NaN  ...         NaN   NaN   NaN   NaN    NaN   \n",
       "2     2646597       NaN      NaN  ...         NaN   NaN   NaN   NaN    NaN   \n",
       "3      788304       NaN      NaN  ...         NaN   NaN   NaN   NaN    NaN   \n",
       "4     2617609       NaN      NaN  ...         NaN   NaN   NaN   NaN    NaN   \n",
       "\n",
       "  buy_ct date  clac_nm1  clac_nm2 clac_nm3  \n",
       "0    NaN  NaT       NaN       NaN      NaN  \n",
       "1    NaN  NaT       NaN       NaN      NaN  \n",
       "2    NaN  NaT       NaN       NaN      NaN  \n",
       "3    NaN  NaT       NaN       NaN      NaN  \n",
       "4    NaN  NaT       NaN       NaN      NaN  \n",
       "\n",
       "[5 rows x 29 columns]"
      ]
     },
     "execution_count": 41,
     "metadata": {},
     "output_type": "execute_result"
    }
   ],
   "source": [
    "df_category['pd_c'] = df_category['pd_c'].astype(str)\n",
    "df = pd.merge(df, df_category, on='pd_c', how='left')\n",
    "df.head()"
   ]
  },
  {
   "cell_type": "markdown",
   "metadata": {},
   "source": [
    "열심히 합쳐보았습니다. "
   ]
  },
  {
   "cell_type": "code",
   "execution_count": 42,
   "metadata": {},
   "outputs": [
    {
     "name": "stdout",
     "output_type": "stream",
     "text": [
      "<class 'pandas.core.frame.DataFrame'>\n",
      "Int64Index: 3299190 entries, 0 to 3299189\n",
      "Data columns (total 29 columns):\n",
      " #   Column           Dtype         \n",
      "---  ------           -----         \n",
      " 0   clnt_id_x        int64         \n",
      " 1   sess_id          int64         \n",
      " 2   hit_seq          int64         \n",
      " 3   action_type      int64         \n",
      " 4   biz_unit_x       object        \n",
      " 5   sess_dt          int64         \n",
      " 6   hit_tm           object        \n",
      " 7   hit_pss_tm       int64         \n",
      " 8   trans_id         float64       \n",
      " 9   sech_kwd         object        \n",
      " 10  tot_pag_view_ct  float64       \n",
      " 11  tot_sess_hr_v    float64       \n",
      " 12  trfc_src         object        \n",
      " 13  dvc_ctg_nm       object        \n",
      " 14  sess_date        datetime64[ns]\n",
      " 15  clnt_gender      object        \n",
      " 16  clnt_age         object        \n",
      " 17  clnt_id_y        float64       \n",
      " 18  trans_seq        float64       \n",
      " 19  biz_unit_y       object        \n",
      " 20  pd_c             object        \n",
      " 21  de_dt            float64       \n",
      " 22  de_tm            object        \n",
      " 23  buy_am           float64       \n",
      " 24  buy_ct           float64       \n",
      " 25  date             datetime64[ns]\n",
      " 26  clac_nm1         object        \n",
      " 27  clac_nm2         object        \n",
      " 28  clac_nm3         object        \n",
      "dtypes: datetime64[ns](2), float64(8), int64(6), object(13)\n",
      "memory usage: 755.1+ MB\n"
     ]
    }
   ],
   "source": [
    "df.info()"
   ]
  },
  {
   "cell_type": "code",
   "execution_count": 43,
   "metadata": {},
   "outputs": [
    {
     "data": {
      "text/plain": [
       "clnt_id_x                0\n",
       "sess_id                  0\n",
       "hit_seq                  0\n",
       "action_type              0\n",
       "biz_unit_x               0\n",
       "sess_dt                  0\n",
       "hit_tm                   0\n",
       "hit_pss_tm               0\n",
       "trans_id           3139373\n",
       "sech_kwd           2647552\n",
       "tot_pag_view_ct       1428\n",
       "tot_sess_hr_v        57769\n",
       "trfc_src                 0\n",
       "dvc_ctg_nm         1862207\n",
       "sess_date                0\n",
       "clnt_gender              0\n",
       "clnt_age                 0\n",
       "clnt_id_y          3171832\n",
       "trans_seq          3171832\n",
       "biz_unit_y         3171832\n",
       "pd_c               3171832\n",
       "de_dt              3171832\n",
       "de_tm              3171832\n",
       "buy_am             3171832\n",
       "buy_ct             3171832\n",
       "date               3171832\n",
       "clac_nm1           3248217\n",
       "clac_nm2           3248217\n",
       "clac_nm3           3248217\n",
       "dtype: int64"
      ]
     },
     "execution_count": 43,
     "metadata": {},
     "output_type": "execute_result"
    }
   ],
   "source": [
    "df.isnull().sum()"
   ]
  },
  {
   "cell_type": "code",
   "execution_count": 44,
   "metadata": {},
   "outputs": [
    {
     "name": "stdout",
     "output_type": "stream",
     "text": [
      "<class 'pandas.core.frame.DataFrame'>\n",
      "Int64Index: 3299190 entries, 0 to 3299189\n",
      "Data columns (total 27 columns):\n",
      " #   Column           Dtype         \n",
      "---  ------           -----         \n",
      " 0   clnt_id_x        int64         \n",
      " 1   sess_id          int64         \n",
      " 2   hit_seq          int64         \n",
      " 3   action_type      int64         \n",
      " 4   biz_unit_x       object        \n",
      " 5   sess_dt          int64         \n",
      " 6   hit_tm           object        \n",
      " 7   hit_pss_tm       int64         \n",
      " 8   trans_id         float64       \n",
      " 9   sech_kwd         object        \n",
      " 10  tot_pag_view_ct  float64       \n",
      " 11  tot_sess_hr_v    float64       \n",
      " 12  trfc_src         object        \n",
      " 13  dvc_ctg_nm       object        \n",
      " 14  sess_date        datetime64[ns]\n",
      " 15  clnt_gender      object        \n",
      " 16  clnt_age         object        \n",
      " 17  trans_seq        float64       \n",
      " 18  pd_c             object        \n",
      " 19  de_dt            float64       \n",
      " 20  de_tm            object        \n",
      " 21  buy_am           float64       \n",
      " 22  buy_ct           float64       \n",
      " 23  date             datetime64[ns]\n",
      " 24  clac_nm1         object        \n",
      " 25  clac_nm2         object        \n",
      " 26  clac_nm3         object        \n",
      "dtypes: datetime64[ns](2), float64(7), int64(6), object(12)\n",
      "memory usage: 704.8+ MB\n"
     ]
    }
   ],
   "source": [
    "df.drop(['clnt_id_y', 'biz_unit_y'], axis=1, inplace=True)\n",
    "df.info()"
   ]
  },
  {
   "cell_type": "code",
   "execution_count": 45,
   "metadata": {},
   "outputs": [
    {
     "data": {
      "text/plain": [
       "clnt_id_x                0\n",
       "sess_id                  0\n",
       "hit_seq                  0\n",
       "action_type              0\n",
       "biz_unit_x               0\n",
       "sess_dt                  0\n",
       "hit_tm                   0\n",
       "hit_pss_tm               0\n",
       "trans_id           3139373\n",
       "sech_kwd           2647552\n",
       "tot_pag_view_ct       1428\n",
       "tot_sess_hr_v        57769\n",
       "trfc_src                 0\n",
       "dvc_ctg_nm         1862207\n",
       "sess_date                0\n",
       "clnt_gender              0\n",
       "clnt_age                 0\n",
       "trans_seq          3171832\n",
       "pd_c               3171832\n",
       "de_dt              3171832\n",
       "de_tm              3171832\n",
       "buy_am             3171832\n",
       "buy_ct             3171832\n",
       "date               3171832\n",
       "clac_nm1           3248217\n",
       "clac_nm2           3248217\n",
       "clac_nm3           3248217\n",
       "dtype: int64"
      ]
     },
     "execution_count": 45,
     "metadata": {},
     "output_type": "execute_result"
    }
   ],
   "source": [
    "df.isnull().sum()"
   ]
  },
  {
   "cell_type": "markdown",
   "metadata": {},
   "source": [
    "일단 합치기는 했는데, 결측치가 엄청나죠?\n",
    "\n",
    "아마도 구매를 하지 않은 것들에 대한 데이터들이 들어가서 그런 것 같습니다. 위에서 확인했다싶이 실제 구매까지(transaction까지) 이루어진 경우가 많지 않기 때문이죠. \n",
    "\n",
    "결측치를 어떻게 해줄까요? 따로 분리를 해줄까요?!"
   ]
  },
  {
   "cell_type": "code",
   "execution_count": 46,
   "metadata": {},
   "outputs": [
    {
     "data": {
      "text/plain": [
       "array([nan, 'Vegetables', 'Substitute Foods', 'Snack Foods',\n",
       "       'Spices / Seasonings', 'Tableware / Cooking Utensils', 'Sea Foods',\n",
       "       'Personal Care', 'Outdoor / Leisure Activities',\n",
       "       'Tools / Safety Supplies',\n",
       "       'Underwear / Socks and Hosiery / Homewear', 'Toy',\n",
       "       'Others (Non-Products)', \"Women's Clothing\", 'Sport Fashion',\n",
       "       'Refrigerators and Washing Machines',\n",
       "       'Stationary / Office Supplies', 'Seasonal Sports',\n",
       "       'Travel / Leisure Services', \"Men's Clothing\", 'Other Products',\n",
       "       'Video / Audio System Electronics'], dtype=object)"
      ]
     },
     "execution_count": 46,
     "metadata": {},
     "output_type": "execute_result"
    }
   ],
   "source": [
    "CLASSES = df['clac_nm1'].unique()\n",
    "CLASSES"
   ]
  },
  {
   "cell_type": "code",
   "execution_count": 47,
   "metadata": {},
   "outputs": [],
   "source": [
    "import numpy as np\n",
    "\n",
    "cl_agg = np.asarray([[label, (df == index).sum()] for index, label in enumerate(CLASSES)])"
   ]
  },
  {
   "cell_type": "markdown",
   "metadata": {},
   "source": [
    "이렇게 무작정 합쳐버리니 너무 무식하네여. 거래가 있는것과 없는것을 구분해서 합쳐주는 방식을 취해봅시다!"
   ]
  },
  {
   "cell_type": "code",
   "execution_count": 48,
   "metadata": {},
   "outputs": [
    {
     "data": {
      "text/html": [
       "<div>\n",
       "<style scoped>\n",
       "    .dataframe tbody tr th:only-of-type {\n",
       "        vertical-align: middle;\n",
       "    }\n",
       "\n",
       "    .dataframe tbody tr th {\n",
       "        vertical-align: top;\n",
       "    }\n",
       "\n",
       "    .dataframe thead th {\n",
       "        text-align: right;\n",
       "    }\n",
       "</style>\n",
       "<table border=\"1\" class=\"dataframe\">\n",
       "  <thead>\n",
       "    <tr style=\"text-align: right;\">\n",
       "      <th></th>\n",
       "      <th>clnt_id_x</th>\n",
       "      <th>sess_id</th>\n",
       "      <th>hit_seq</th>\n",
       "      <th>action_type</th>\n",
       "      <th>biz_unit_x</th>\n",
       "      <th>sess_dt</th>\n",
       "      <th>hit_tm</th>\n",
       "      <th>hit_pss_tm</th>\n",
       "      <th>trans_id</th>\n",
       "      <th>sech_kwd</th>\n",
       "      <th>...</th>\n",
       "      <th>trans_seq</th>\n",
       "      <th>pd_c</th>\n",
       "      <th>de_dt</th>\n",
       "      <th>de_tm</th>\n",
       "      <th>buy_am</th>\n",
       "      <th>buy_ct</th>\n",
       "      <th>date</th>\n",
       "      <th>clac_nm1</th>\n",
       "      <th>clac_nm2</th>\n",
       "      <th>clac_nm3</th>\n",
       "    </tr>\n",
       "  </thead>\n",
       "  <tbody>\n",
       "    <tr>\n",
       "      <th>0</th>\n",
       "      <td>7809</td>\n",
       "      <td>1</td>\n",
       "      <td>8</td>\n",
       "      <td>5</td>\n",
       "      <td>A03</td>\n",
       "      <td>20190913</td>\n",
       "      <td>01:16</td>\n",
       "      <td>2571103</td>\n",
       "      <td>NaN</td>\n",
       "      <td>NaN</td>\n",
       "      <td>...</td>\n",
       "      <td>NaN</td>\n",
       "      <td>NaN</td>\n",
       "      <td>NaN</td>\n",
       "      <td>NaN</td>\n",
       "      <td>NaN</td>\n",
       "      <td>NaN</td>\n",
       "      <td>NaT</td>\n",
       "      <td>NaN</td>\n",
       "      <td>NaN</td>\n",
       "      <td>NaN</td>\n",
       "    </tr>\n",
       "    <tr>\n",
       "      <th>1</th>\n",
       "      <td>7809</td>\n",
       "      <td>1</td>\n",
       "      <td>4</td>\n",
       "      <td>2</td>\n",
       "      <td>A03</td>\n",
       "      <td>20190913</td>\n",
       "      <td>01:14</td>\n",
       "      <td>2485909</td>\n",
       "      <td>NaN</td>\n",
       "      <td>NaN</td>\n",
       "      <td>...</td>\n",
       "      <td>NaN</td>\n",
       "      <td>NaN</td>\n",
       "      <td>NaN</td>\n",
       "      <td>NaN</td>\n",
       "      <td>NaN</td>\n",
       "      <td>NaN</td>\n",
       "      <td>NaT</td>\n",
       "      <td>NaN</td>\n",
       "      <td>NaN</td>\n",
       "      <td>NaN</td>\n",
       "    </tr>\n",
       "    <tr>\n",
       "      <th>2</th>\n",
       "      <td>7809</td>\n",
       "      <td>1</td>\n",
       "      <td>11</td>\n",
       "      <td>5</td>\n",
       "      <td>A03</td>\n",
       "      <td>20190913</td>\n",
       "      <td>01:17</td>\n",
       "      <td>2646597</td>\n",
       "      <td>NaN</td>\n",
       "      <td>NaN</td>\n",
       "      <td>...</td>\n",
       "      <td>NaN</td>\n",
       "      <td>NaN</td>\n",
       "      <td>NaN</td>\n",
       "      <td>NaN</td>\n",
       "      <td>NaN</td>\n",
       "      <td>NaN</td>\n",
       "      <td>NaT</td>\n",
       "      <td>NaN</td>\n",
       "      <td>NaN</td>\n",
       "      <td>NaN</td>\n",
       "    </tr>\n",
       "    <tr>\n",
       "      <th>3</th>\n",
       "      <td>7809</td>\n",
       "      <td>1</td>\n",
       "      <td>1</td>\n",
       "      <td>2</td>\n",
       "      <td>A03</td>\n",
       "      <td>20190913</td>\n",
       "      <td>00:46</td>\n",
       "      <td>788304</td>\n",
       "      <td>NaN</td>\n",
       "      <td>NaN</td>\n",
       "      <td>...</td>\n",
       "      <td>NaN</td>\n",
       "      <td>NaN</td>\n",
       "      <td>NaN</td>\n",
       "      <td>NaN</td>\n",
       "      <td>NaN</td>\n",
       "      <td>NaN</td>\n",
       "      <td>NaT</td>\n",
       "      <td>NaN</td>\n",
       "      <td>NaN</td>\n",
       "      <td>NaN</td>\n",
       "    </tr>\n",
       "    <tr>\n",
       "      <th>4</th>\n",
       "      <td>7809</td>\n",
       "      <td>1</td>\n",
       "      <td>9</td>\n",
       "      <td>5</td>\n",
       "      <td>A03</td>\n",
       "      <td>20190913</td>\n",
       "      <td>01:17</td>\n",
       "      <td>2617609</td>\n",
       "      <td>NaN</td>\n",
       "      <td>NaN</td>\n",
       "      <td>...</td>\n",
       "      <td>NaN</td>\n",
       "      <td>NaN</td>\n",
       "      <td>NaN</td>\n",
       "      <td>NaN</td>\n",
       "      <td>NaN</td>\n",
       "      <td>NaN</td>\n",
       "      <td>NaT</td>\n",
       "      <td>NaN</td>\n",
       "      <td>NaN</td>\n",
       "      <td>NaN</td>\n",
       "    </tr>\n",
       "  </tbody>\n",
       "</table>\n",
       "<p>5 rows × 27 columns</p>\n",
       "</div>"
      ],
      "text/plain": [
       "   clnt_id_x  sess_id  hit_seq  action_type biz_unit_x   sess_dt hit_tm  \\\n",
       "0       7809        1        8            5        A03  20190913  01:16   \n",
       "1       7809        1        4            2        A03  20190913  01:14   \n",
       "2       7809        1       11            5        A03  20190913  01:17   \n",
       "3       7809        1        1            2        A03  20190913  00:46   \n",
       "4       7809        1        9            5        A03  20190913  01:17   \n",
       "\n",
       "   hit_pss_tm  trans_id sech_kwd  ...  trans_seq  pd_c de_dt de_tm buy_am  \\\n",
       "0     2571103       NaN      NaN  ...        NaN   NaN   NaN   NaN    NaN   \n",
       "1     2485909       NaN      NaN  ...        NaN   NaN   NaN   NaN    NaN   \n",
       "2     2646597       NaN      NaN  ...        NaN   NaN   NaN   NaN    NaN   \n",
       "3      788304       NaN      NaN  ...        NaN   NaN   NaN   NaN    NaN   \n",
       "4     2617609       NaN      NaN  ...        NaN   NaN   NaN   NaN    NaN   \n",
       "\n",
       "  buy_ct date  clac_nm1 clac_nm2  clac_nm3  \n",
       "0    NaN  NaT       NaN      NaN       NaN  \n",
       "1    NaN  NaT       NaN      NaN       NaN  \n",
       "2    NaN  NaT       NaN      NaN       NaN  \n",
       "3    NaN  NaT       NaN      NaN       NaN  \n",
       "4    NaN  NaT       NaN      NaN       NaN  \n",
       "\n",
       "[5 rows x 27 columns]"
      ]
     },
     "execution_count": 48,
     "metadata": {},
     "output_type": "execute_result"
    }
   ],
   "source": [
    "df.head()"
   ]
  },
  {
   "cell_type": "code",
   "execution_count": 49,
   "metadata": {},
   "outputs": [
    {
     "data": {
      "text/html": [
       "<div>\n",
       "<style scoped>\n",
       "    .dataframe tbody tr th:only-of-type {\n",
       "        vertical-align: middle;\n",
       "    }\n",
       "\n",
       "    .dataframe tbody tr th {\n",
       "        vertical-align: top;\n",
       "    }\n",
       "\n",
       "    .dataframe thead th {\n",
       "        text-align: right;\n",
       "    }\n",
       "</style>\n",
       "<table border=\"1\" class=\"dataframe\">\n",
       "  <thead>\n",
       "    <tr style=\"text-align: right;\">\n",
       "      <th></th>\n",
       "      <th>clnt_id_x</th>\n",
       "      <th>sess_id</th>\n",
       "      <th>hit_seq</th>\n",
       "      <th>action_type</th>\n",
       "      <th>biz_unit_x</th>\n",
       "      <th>sess_dt</th>\n",
       "      <th>hit_tm</th>\n",
       "      <th>hit_pss_tm</th>\n",
       "      <th>trans_id</th>\n",
       "      <th>sech_kwd</th>\n",
       "      <th>...</th>\n",
       "      <th>trans_seq</th>\n",
       "      <th>pd_c</th>\n",
       "      <th>de_dt</th>\n",
       "      <th>de_tm</th>\n",
       "      <th>buy_am</th>\n",
       "      <th>buy_ct</th>\n",
       "      <th>date</th>\n",
       "      <th>clac_nm1</th>\n",
       "      <th>clac_nm2</th>\n",
       "      <th>clac_nm3</th>\n",
       "    </tr>\n",
       "  </thead>\n",
       "  <tbody>\n",
       "    <tr>\n",
       "      <th>0</th>\n",
       "      <td>7809</td>\n",
       "      <td>1</td>\n",
       "      <td>8</td>\n",
       "      <td>5</td>\n",
       "      <td>A03</td>\n",
       "      <td>20190913</td>\n",
       "      <td>01:16</td>\n",
       "      <td>2571103</td>\n",
       "      <td>NaN</td>\n",
       "      <td>NaN</td>\n",
       "      <td>...</td>\n",
       "      <td>NaN</td>\n",
       "      <td>NaN</td>\n",
       "      <td>NaN</td>\n",
       "      <td>NaN</td>\n",
       "      <td>NaN</td>\n",
       "      <td>NaN</td>\n",
       "      <td>NaT</td>\n",
       "      <td>NaN</td>\n",
       "      <td>NaN</td>\n",
       "      <td>NaN</td>\n",
       "    </tr>\n",
       "    <tr>\n",
       "      <th>1</th>\n",
       "      <td>7809</td>\n",
       "      <td>1</td>\n",
       "      <td>4</td>\n",
       "      <td>2</td>\n",
       "      <td>A03</td>\n",
       "      <td>20190913</td>\n",
       "      <td>01:14</td>\n",
       "      <td>2485909</td>\n",
       "      <td>NaN</td>\n",
       "      <td>NaN</td>\n",
       "      <td>...</td>\n",
       "      <td>NaN</td>\n",
       "      <td>NaN</td>\n",
       "      <td>NaN</td>\n",
       "      <td>NaN</td>\n",
       "      <td>NaN</td>\n",
       "      <td>NaN</td>\n",
       "      <td>NaT</td>\n",
       "      <td>NaN</td>\n",
       "      <td>NaN</td>\n",
       "      <td>NaN</td>\n",
       "    </tr>\n",
       "    <tr>\n",
       "      <th>2</th>\n",
       "      <td>7809</td>\n",
       "      <td>1</td>\n",
       "      <td>11</td>\n",
       "      <td>5</td>\n",
       "      <td>A03</td>\n",
       "      <td>20190913</td>\n",
       "      <td>01:17</td>\n",
       "      <td>2646597</td>\n",
       "      <td>NaN</td>\n",
       "      <td>NaN</td>\n",
       "      <td>...</td>\n",
       "      <td>NaN</td>\n",
       "      <td>NaN</td>\n",
       "      <td>NaN</td>\n",
       "      <td>NaN</td>\n",
       "      <td>NaN</td>\n",
       "      <td>NaN</td>\n",
       "      <td>NaT</td>\n",
       "      <td>NaN</td>\n",
       "      <td>NaN</td>\n",
       "      <td>NaN</td>\n",
       "    </tr>\n",
       "    <tr>\n",
       "      <th>3</th>\n",
       "      <td>7809</td>\n",
       "      <td>1</td>\n",
       "      <td>1</td>\n",
       "      <td>2</td>\n",
       "      <td>A03</td>\n",
       "      <td>20190913</td>\n",
       "      <td>00:46</td>\n",
       "      <td>788304</td>\n",
       "      <td>NaN</td>\n",
       "      <td>NaN</td>\n",
       "      <td>...</td>\n",
       "      <td>NaN</td>\n",
       "      <td>NaN</td>\n",
       "      <td>NaN</td>\n",
       "      <td>NaN</td>\n",
       "      <td>NaN</td>\n",
       "      <td>NaN</td>\n",
       "      <td>NaT</td>\n",
       "      <td>NaN</td>\n",
       "      <td>NaN</td>\n",
       "      <td>NaN</td>\n",
       "    </tr>\n",
       "    <tr>\n",
       "      <th>4</th>\n",
       "      <td>7809</td>\n",
       "      <td>1</td>\n",
       "      <td>9</td>\n",
       "      <td>5</td>\n",
       "      <td>A03</td>\n",
       "      <td>20190913</td>\n",
       "      <td>01:17</td>\n",
       "      <td>2617609</td>\n",
       "      <td>NaN</td>\n",
       "      <td>NaN</td>\n",
       "      <td>...</td>\n",
       "      <td>NaN</td>\n",
       "      <td>NaN</td>\n",
       "      <td>NaN</td>\n",
       "      <td>NaN</td>\n",
       "      <td>NaN</td>\n",
       "      <td>NaN</td>\n",
       "      <td>NaT</td>\n",
       "      <td>NaN</td>\n",
       "      <td>NaN</td>\n",
       "      <td>NaN</td>\n",
       "    </tr>\n",
       "  </tbody>\n",
       "</table>\n",
       "<p>5 rows × 27 columns</p>\n",
       "</div>"
      ],
      "text/plain": [
       "   clnt_id_x  sess_id  hit_seq  action_type biz_unit_x   sess_dt hit_tm  \\\n",
       "0       7809        1        8            5        A03  20190913  01:16   \n",
       "1       7809        1        4            2        A03  20190913  01:14   \n",
       "2       7809        1       11            5        A03  20190913  01:17   \n",
       "3       7809        1        1            2        A03  20190913  00:46   \n",
       "4       7809        1        9            5        A03  20190913  01:17   \n",
       "\n",
       "   hit_pss_tm  trans_id sech_kwd  ...  trans_seq  pd_c de_dt de_tm buy_am  \\\n",
       "0     2571103       NaN      NaN  ...        NaN   NaN   NaN   NaN    NaN   \n",
       "1     2485909       NaN      NaN  ...        NaN   NaN   NaN   NaN    NaN   \n",
       "2     2646597       NaN      NaN  ...        NaN   NaN   NaN   NaN    NaN   \n",
       "3      788304       NaN      NaN  ...        NaN   NaN   NaN   NaN    NaN   \n",
       "4     2617609       NaN      NaN  ...        NaN   NaN   NaN   NaN    NaN   \n",
       "\n",
       "  buy_ct date  clac_nm1 clac_nm2  clac_nm3  \n",
       "0    NaN  NaT       NaN      NaN       NaN  \n",
       "1    NaN  NaT       NaN      NaN       NaN  \n",
       "2    NaN  NaT       NaN      NaN       NaN  \n",
       "3    NaN  NaT       NaN      NaN       NaN  \n",
       "4    NaN  NaT       NaN      NaN       NaN  \n",
       "\n",
       "[5 rows x 27 columns]"
      ]
     },
     "execution_count": 49,
     "metadata": {},
     "output_type": "execute_result"
    }
   ],
   "source": [
    "noTransaction = df[df['trans_id'].isnull() == True]\n",
    "noTransaction.head()"
   ]
  },
  {
   "cell_type": "code",
   "execution_count": 51,
   "metadata": {},
   "outputs": [
    {
     "data": {
      "text/html": [
       "<div>\n",
       "<style scoped>\n",
       "    .dataframe tbody tr th:only-of-type {\n",
       "        vertical-align: middle;\n",
       "    }\n",
       "\n",
       "    .dataframe tbody tr th {\n",
       "        vertical-align: top;\n",
       "    }\n",
       "\n",
       "    .dataframe thead th {\n",
       "        text-align: right;\n",
       "    }\n",
       "</style>\n",
       "<table border=\"1\" class=\"dataframe\">\n",
       "  <thead>\n",
       "    <tr style=\"text-align: right;\">\n",
       "      <th></th>\n",
       "      <th>clnt_id_x</th>\n",
       "      <th>sess_id</th>\n",
       "      <th>hit_seq</th>\n",
       "      <th>action_type</th>\n",
       "      <th>biz_unit_x</th>\n",
       "      <th>sess_dt</th>\n",
       "      <th>hit_tm</th>\n",
       "      <th>hit_pss_tm</th>\n",
       "      <th>trans_id</th>\n",
       "      <th>sech_kwd</th>\n",
       "      <th>...</th>\n",
       "      <th>trans_seq</th>\n",
       "      <th>pd_c</th>\n",
       "      <th>de_dt</th>\n",
       "      <th>de_tm</th>\n",
       "      <th>buy_am</th>\n",
       "      <th>buy_ct</th>\n",
       "      <th>date</th>\n",
       "      <th>clac_nm1</th>\n",
       "      <th>clac_nm2</th>\n",
       "      <th>clac_nm3</th>\n",
       "    </tr>\n",
       "  </thead>\n",
       "  <tbody>\n",
       "    <tr>\n",
       "      <th>105</th>\n",
       "      <td>28304</td>\n",
       "      <td>1</td>\n",
       "      <td>22</td>\n",
       "      <td>6</td>\n",
       "      <td>A03</td>\n",
       "      <td>20190716</td>\n",
       "      <td>11:41</td>\n",
       "      <td>1212297</td>\n",
       "      <td>51903.0</td>\n",
       "      <td>NaN</td>\n",
       "      <td>...</td>\n",
       "      <td>6.0</td>\n",
       "      <td>1568</td>\n",
       "      <td>20190716.0</td>\n",
       "      <td>11:41</td>\n",
       "      <td>1000.0</td>\n",
       "      <td>1.0</td>\n",
       "      <td>2019-07-16 11:41:00</td>\n",
       "      <td>Vegetables</td>\n",
       "      <td>Fruit Vegetables</td>\n",
       "      <td>Eggplants</td>\n",
       "    </tr>\n",
       "    <tr>\n",
       "      <th>106</th>\n",
       "      <td>28304</td>\n",
       "      <td>1</td>\n",
       "      <td>22</td>\n",
       "      <td>6</td>\n",
       "      <td>A03</td>\n",
       "      <td>20190716</td>\n",
       "      <td>11:41</td>\n",
       "      <td>1212297</td>\n",
       "      <td>51903.0</td>\n",
       "      <td>NaN</td>\n",
       "      <td>...</td>\n",
       "      <td>7.0</td>\n",
       "      <td>1583</td>\n",
       "      <td>20190716.0</td>\n",
       "      <td>11:41</td>\n",
       "      <td>1000.0</td>\n",
       "      <td>1.0</td>\n",
       "      <td>2019-07-16 11:41:00</td>\n",
       "      <td>Vegetables</td>\n",
       "      <td>Leaf Vegetables</td>\n",
       "      <td>Korean Lettuces</td>\n",
       "    </tr>\n",
       "    <tr>\n",
       "      <th>107</th>\n",
       "      <td>28304</td>\n",
       "      <td>1</td>\n",
       "      <td>22</td>\n",
       "      <td>6</td>\n",
       "      <td>A03</td>\n",
       "      <td>20190716</td>\n",
       "      <td>11:41</td>\n",
       "      <td>1212297</td>\n",
       "      <td>51903.0</td>\n",
       "      <td>NaN</td>\n",
       "      <td>...</td>\n",
       "      <td>5.0</td>\n",
       "      <td>1625</td>\n",
       "      <td>20190716.0</td>\n",
       "      <td>11:41</td>\n",
       "      <td>1290.0</td>\n",
       "      <td>1.0</td>\n",
       "      <td>2019-07-16 11:41:00</td>\n",
       "      <td>Vegetables</td>\n",
       "      <td>Western Vegetables</td>\n",
       "      <td>Lettuces</td>\n",
       "    </tr>\n",
       "    <tr>\n",
       "      <th>108</th>\n",
       "      <td>28304</td>\n",
       "      <td>1</td>\n",
       "      <td>22</td>\n",
       "      <td>6</td>\n",
       "      <td>A03</td>\n",
       "      <td>20190716</td>\n",
       "      <td>11:41</td>\n",
       "      <td>1212297</td>\n",
       "      <td>51903.0</td>\n",
       "      <td>NaN</td>\n",
       "      <td>...</td>\n",
       "      <td>8.0</td>\n",
       "      <td>1394</td>\n",
       "      <td>20190716.0</td>\n",
       "      <td>11:41</td>\n",
       "      <td>100.0</td>\n",
       "      <td>1.0</td>\n",
       "      <td>2019-07-16 11:41:00</td>\n",
       "      <td>Substitute Foods</td>\n",
       "      <td>Instant Noodles</td>\n",
       "      <td>Bibim Ramens</td>\n",
       "    </tr>\n",
       "    <tr>\n",
       "      <th>109</th>\n",
       "      <td>28304</td>\n",
       "      <td>1</td>\n",
       "      <td>22</td>\n",
       "      <td>6</td>\n",
       "      <td>A03</td>\n",
       "      <td>20190716</td>\n",
       "      <td>11:41</td>\n",
       "      <td>1212297</td>\n",
       "      <td>51903.0</td>\n",
       "      <td>NaN</td>\n",
       "      <td>...</td>\n",
       "      <td>1.0</td>\n",
       "      <td>0515</td>\n",
       "      <td>20190716.0</td>\n",
       "      <td>11:41</td>\n",
       "      <td>7980.0</td>\n",
       "      <td>1.0</td>\n",
       "      <td>2019-07-16 11:41:00</td>\n",
       "      <td>NaN</td>\n",
       "      <td>NaN</td>\n",
       "      <td>NaN</td>\n",
       "    </tr>\n",
       "  </tbody>\n",
       "</table>\n",
       "<p>5 rows × 27 columns</p>\n",
       "</div>"
      ],
      "text/plain": [
       "     clnt_id_x  sess_id  hit_seq  action_type biz_unit_x   sess_dt hit_tm  \\\n",
       "105      28304        1       22            6        A03  20190716  11:41   \n",
       "106      28304        1       22            6        A03  20190716  11:41   \n",
       "107      28304        1       22            6        A03  20190716  11:41   \n",
       "108      28304        1       22            6        A03  20190716  11:41   \n",
       "109      28304        1       22            6        A03  20190716  11:41   \n",
       "\n",
       "     hit_pss_tm  trans_id sech_kwd  ...  trans_seq  pd_c       de_dt  de_tm  \\\n",
       "105     1212297   51903.0      NaN  ...        6.0  1568  20190716.0  11:41   \n",
       "106     1212297   51903.0      NaN  ...        7.0  1583  20190716.0  11:41   \n",
       "107     1212297   51903.0      NaN  ...        5.0  1625  20190716.0  11:41   \n",
       "108     1212297   51903.0      NaN  ...        8.0  1394  20190716.0  11:41   \n",
       "109     1212297   51903.0      NaN  ...        1.0  0515  20190716.0  11:41   \n",
       "\n",
       "     buy_am buy_ct                date          clac_nm1            clac_nm2  \\\n",
       "105  1000.0    1.0 2019-07-16 11:41:00        Vegetables    Fruit Vegetables   \n",
       "106  1000.0    1.0 2019-07-16 11:41:00        Vegetables     Leaf Vegetables   \n",
       "107  1290.0    1.0 2019-07-16 11:41:00        Vegetables  Western Vegetables   \n",
       "108   100.0    1.0 2019-07-16 11:41:00  Substitute Foods     Instant Noodles   \n",
       "109  7980.0    1.0 2019-07-16 11:41:00               NaN                 NaN   \n",
       "\n",
       "            clac_nm3  \n",
       "105        Eggplants  \n",
       "106  Korean Lettuces  \n",
       "107         Lettuces  \n",
       "108     Bibim Ramens  \n",
       "109              NaN  \n",
       "\n",
       "[5 rows x 27 columns]"
      ]
     },
     "execution_count": 51,
     "metadata": {},
     "output_type": "execute_result"
    }
   ],
   "source": [
    "withTransaction = df[df['trans_id'].isnull() == False]\n",
    "withTransaction.head()"
   ]
  },
  {
   "cell_type": "code",
   "execution_count": 52,
   "metadata": {},
   "outputs": [
    {
     "name": "stdout",
     "output_type": "stream",
     "text": [
      "(3139373, 27)\n",
      "(159817, 27)\n"
     ]
    }
   ],
   "source": [
    "print(noTransaction.shape)\n",
    "print(withTransaction.shape)"
   ]
  },
  {
   "cell_type": "markdown",
   "metadata": {},
   "source": [
    "키워드 검색한거에서 같은 키워드를 검색했으면 그것들에 대한 정보를 넣어주고싶네요. 흠.. 한번 해봅시다!"
   ]
  },
  {
   "cell_type": "code",
   "execution_count": 60,
   "metadata": {},
   "outputs": [
    {
     "data": {
      "text/plain": [
       "159817"
      ]
     },
     "execution_count": 60,
     "metadata": {},
     "output_type": "execute_result"
    }
   ],
   "source": [
    "withTransaction['sech_kwd'].isnull().sum()"
   ]
  },
  {
   "cell_type": "markdown",
   "metadata": {},
   "source": [
    "충격적.. trans 내용에는 모두 null값이 들어가네요. 다시 한번 봐볼까요!!"
   ]
  },
  {
   "cell_type": "code",
   "execution_count": 61,
   "metadata": {},
   "outputs": [
    {
     "data": {
      "text/plain": [
       "clnt_id_x                0\n",
       "sess_id                  0\n",
       "hit_seq                  0\n",
       "action_type              0\n",
       "biz_unit_x               0\n",
       "sess_dt                  0\n",
       "hit_tm                   0\n",
       "hit_pss_tm               0\n",
       "trans_id           3139373\n",
       "sech_kwd           2487735\n",
       "tot_pag_view_ct       1420\n",
       "tot_sess_hr_v        57186\n",
       "trfc_src                 0\n",
       "dvc_ctg_nm         1761351\n",
       "sess_date                0\n",
       "clnt_gender              0\n",
       "clnt_age                 0\n",
       "trans_seq          3139373\n",
       "pd_c               3139373\n",
       "de_dt              3139373\n",
       "de_tm              3139373\n",
       "buy_am             3139373\n",
       "buy_ct             3139373\n",
       "date               3139373\n",
       "clac_nm1           3139373\n",
       "clac_nm2           3139373\n",
       "clac_nm3           3139373\n",
       "dtype: int64"
      ]
     },
     "execution_count": 61,
     "metadata": {},
     "output_type": "execute_result"
    }
   ],
   "source": [
    "noTransaction.isnull().sum()"
   ]
  },
  {
   "cell_type": "markdown",
   "metadata": {},
   "source": [
    "여기서 trans_id는 다 지워줘도 될 것 같습니다.\n",
    "밑에 `trans_seq`부터 `clac_nm3`도 마찬가지네요. 하하\n",
    "\n",
    "transaction이 없는 경우에도 search term이 있는 경우는 많이 없긴 매한가지군요."
   ]
  },
  {
   "cell_type": "code",
   "execution_count": 62,
   "metadata": {},
   "outputs": [
    {
     "data": {
      "text/plain": [
       "clnt_id_x               0\n",
       "sess_id                 0\n",
       "hit_seq                 0\n",
       "action_type             0\n",
       "biz_unit_x              0\n",
       "sess_dt                 0\n",
       "hit_tm                  0\n",
       "hit_pss_tm              0\n",
       "trans_id                0\n",
       "sech_kwd           159817\n",
       "tot_pag_view_ct         8\n",
       "tot_sess_hr_v         583\n",
       "trfc_src                0\n",
       "dvc_ctg_nm         100856\n",
       "sess_date               0\n",
       "clnt_gender             0\n",
       "clnt_age                0\n",
       "trans_seq           32459\n",
       "pd_c                32459\n",
       "de_dt               32459\n",
       "de_tm               32459\n",
       "buy_am              32459\n",
       "buy_ct              32459\n",
       "date                32459\n",
       "clac_nm1           108844\n",
       "clac_nm2           108844\n",
       "clac_nm3           108844\n",
       "dtype: int64"
      ]
     },
     "execution_count": 62,
     "metadata": {},
     "output_type": "execute_result"
    }
   ],
   "source": [
    "withTransaction.isnull().sum()"
   ]
  },
  {
   "cell_type": "markdown",
   "metadata": {},
   "source": [
    "검색 키워드는 하나도 없네요. 지워줍시다.. 구매했으면서 분류 코드가 없는 경우는 뭘까요? "
   ]
  },
  {
   "cell_type": "code",
   "execution_count": 63,
   "metadata": {},
   "outputs": [
    {
     "data": {
      "text/html": [
       "<div>\n",
       "<style scoped>\n",
       "    .dataframe tbody tr th:only-of-type {\n",
       "        vertical-align: middle;\n",
       "    }\n",
       "\n",
       "    .dataframe tbody tr th {\n",
       "        vertical-align: top;\n",
       "    }\n",
       "\n",
       "    .dataframe thead th {\n",
       "        text-align: right;\n",
       "    }\n",
       "</style>\n",
       "<table border=\"1\" class=\"dataframe\">\n",
       "  <thead>\n",
       "    <tr style=\"text-align: right;\">\n",
       "      <th></th>\n",
       "      <th>clnt_id</th>\n",
       "      <th>trans_id</th>\n",
       "      <th>trans_seq</th>\n",
       "      <th>biz_unit</th>\n",
       "      <th>pd_c</th>\n",
       "      <th>de_dt</th>\n",
       "      <th>de_tm</th>\n",
       "      <th>buy_am</th>\n",
       "      <th>buy_ct</th>\n",
       "      <th>date</th>\n",
       "    </tr>\n",
       "  </thead>\n",
       "  <tbody>\n",
       "    <tr>\n",
       "      <th>0</th>\n",
       "      <td>21922</td>\n",
       "      <td>104999</td>\n",
       "      <td>1</td>\n",
       "      <td>A03</td>\n",
       "      <td>unknown</td>\n",
       "      <td>20190920</td>\n",
       "      <td>12:41</td>\n",
       "      <td>5990</td>\n",
       "      <td>1</td>\n",
       "      <td>2019-09-20 12:41:00</td>\n",
       "    </tr>\n",
       "    <tr>\n",
       "      <th>1</th>\n",
       "      <td>21279</td>\n",
       "      <td>104907</td>\n",
       "      <td>4</td>\n",
       "      <td>A03</td>\n",
       "      <td>unknown</td>\n",
       "      <td>20190920</td>\n",
       "      <td>10:27</td>\n",
       "      <td>10900</td>\n",
       "      <td>1</td>\n",
       "      <td>2019-09-20 10:27:00</td>\n",
       "    </tr>\n",
       "    <tr>\n",
       "      <th>2</th>\n",
       "      <td>39423</td>\n",
       "      <td>105124</td>\n",
       "      <td>11</td>\n",
       "      <td>A03</td>\n",
       "      <td>unknown</td>\n",
       "      <td>20190920</td>\n",
       "      <td>17:26</td>\n",
       "      <td>12900</td>\n",
       "      <td>1</td>\n",
       "      <td>2019-09-20 17:26:00</td>\n",
       "    </tr>\n",
       "    <tr>\n",
       "      <th>3</th>\n",
       "      <td>18362</td>\n",
       "      <td>104010</td>\n",
       "      <td>1</td>\n",
       "      <td>A03</td>\n",
       "      <td>unknown</td>\n",
       "      <td>20190920</td>\n",
       "      <td>09:57</td>\n",
       "      <td>9900</td>\n",
       "      <td>1</td>\n",
       "      <td>2019-09-20 09:57:00</td>\n",
       "    </tr>\n",
       "    <tr>\n",
       "      <th>4</th>\n",
       "      <td>39423</td>\n",
       "      <td>105124</td>\n",
       "      <td>13</td>\n",
       "      <td>A03</td>\n",
       "      <td>0565</td>\n",
       "      <td>20190920</td>\n",
       "      <td>17:26</td>\n",
       "      <td>2990</td>\n",
       "      <td>1</td>\n",
       "      <td>2019-09-20 17:26:00</td>\n",
       "    </tr>\n",
       "  </tbody>\n",
       "</table>\n",
       "</div>"
      ],
      "text/plain": [
       "   clnt_id  trans_id  trans_seq biz_unit     pd_c     de_dt  de_tm  buy_am  \\\n",
       "0    21922    104999          1      A03  unknown  20190920  12:41    5990   \n",
       "1    21279    104907          4      A03  unknown  20190920  10:27   10900   \n",
       "2    39423    105124         11      A03  unknown  20190920  17:26   12900   \n",
       "3    18362    104010          1      A03  unknown  20190920  09:57    9900   \n",
       "4    39423    105124         13      A03     0565  20190920  17:26    2990   \n",
       "\n",
       "   buy_ct                date  \n",
       "0       1 2019-09-20 12:41:00  \n",
       "1       1 2019-09-20 10:27:00  \n",
       "2       1 2019-09-20 17:26:00  \n",
       "3       1 2019-09-20 09:57:00  \n",
       "4       1 2019-09-20 17:26:00  "
      ]
     },
     "execution_count": 63,
     "metadata": {},
     "output_type": "execute_result"
    }
   ],
   "source": [
    "df_transaction.head()"
   ]
  },
  {
   "cell_type": "code",
   "execution_count": 65,
   "metadata": {},
   "outputs": [
    {
     "name": "stdout",
     "output_type": "stream",
     "text": [
      "(599961, 10)\n"
     ]
    },
    {
     "data": {
      "text/plain": [
       "clnt_id      0\n",
       "trans_id     0\n",
       "trans_seq    0\n",
       "biz_unit     0\n",
       "pd_c         0\n",
       "de_dt        0\n",
       "de_tm        0\n",
       "buy_am       0\n",
       "buy_ct       0\n",
       "date         0\n",
       "dtype: int64"
      ]
     },
     "execution_count": 65,
     "metadata": {},
     "output_type": "execute_result"
    }
   ],
   "source": [
    "print(df_transaction.shape)\n",
    "df_transaction.isnull().sum()"
   ]
  },
  {
   "cell_type": "markdown",
   "metadata": {},
   "source": [
    "문제가 있습니다. 온라인 행동정보에서 모든 trans_id를 가지고있지 않은가 봅니다.\n",
    "\n",
    "어쨌든, 우리는 두개의 모델을 만들어서 앙상블하는 방법을 취해봅시다."
   ]
  },
  {
   "cell_type": "code",
   "execution_count": 66,
   "metadata": {},
   "outputs": [
    {
     "name": "stdout",
     "output_type": "stream",
     "text": [
      "<class 'pandas.core.frame.DataFrame'>\n",
      "Int64Index: 599961 entries, 0 to 599960\n",
      "Data columns (total 12 columns):\n",
      " #   Column       Non-Null Count   Dtype         \n",
      "---  ------       --------------   -----         \n",
      " 0   clnt_id      599961 non-null  int64         \n",
      " 1   trans_id     599961 non-null  int64         \n",
      " 2   trans_seq    599961 non-null  int64         \n",
      " 3   biz_unit     599961 non-null  object        \n",
      " 4   pd_c         599961 non-null  object        \n",
      " 5   de_dt        599961 non-null  int64         \n",
      " 6   de_tm        599961 non-null  object        \n",
      " 7   buy_am       599961 non-null  int64         \n",
      " 8   buy_ct       599961 non-null  int64         \n",
      " 9   date         599961 non-null  datetime64[ns]\n",
      " 10  clnt_gender  599961 non-null  object        \n",
      " 11  clnt_age     599961 non-null  object        \n",
      "dtypes: datetime64[ns](1), int64(6), object(5)\n",
      "memory usage: 59.5+ MB\n"
     ]
    }
   ],
   "source": [
    "Transaction = pd.merge(df_transaction, df_demo, on='clnt_id', how='left')\n",
    "Transaction.info()"
   ]
  },
  {
   "cell_type": "code",
   "execution_count": 68,
   "metadata": {},
   "outputs": [
    {
     "data": {
      "text/plain": [
       "clnt_id             0\n",
       "trans_id            0\n",
       "trans_seq           0\n",
       "biz_unit            0\n",
       "pd_c                0\n",
       "de_dt               0\n",
       "de_tm               0\n",
       "buy_am              0\n",
       "buy_ct              0\n",
       "date                0\n",
       "clnt_gender         0\n",
       "clnt_age            0\n",
       "clac_nm1       361105\n",
       "clac_nm2       361105\n",
       "clac_nm3       361105\n",
       "dtype: int64"
      ]
     },
     "execution_count": 68,
     "metadata": {},
     "output_type": "execute_result"
    }
   ],
   "source": [
    "Transaction = pd.merge(Transaction, df_category, on='pd_c', how='left')\n",
    "Transaction.isnull().sum()"
   ]
  },
  {
   "cell_type": "code",
   "execution_count": 70,
   "metadata": {},
   "outputs": [
    {
     "data": {
      "text/plain": [
       "pd_c        0\n",
       "clac_nm1    0\n",
       "clac_nm2    0\n",
       "clac_nm3    2\n",
       "dtype: int64"
      ]
     },
     "execution_count": 70,
     "metadata": {},
     "output_type": "execute_result"
    }
   ],
   "source": [
    "df_category.isnull().sum()"
   ]
  },
  {
   "cell_type": "markdown",
   "metadata": {},
   "source": [
    "어디서 값이 없는 것이 생기는걸가요????? "
   ]
  },
  {
   "cell_type": "code",
   "execution_count": 76,
   "metadata": {},
   "outputs": [
    {
     "data": {
      "text/html": [
       "<div>\n",
       "<style scoped>\n",
       "    .dataframe tbody tr th:only-of-type {\n",
       "        vertical-align: middle;\n",
       "    }\n",
       "\n",
       "    .dataframe tbody tr th {\n",
       "        vertical-align: top;\n",
       "    }\n",
       "\n",
       "    .dataframe thead th {\n",
       "        text-align: right;\n",
       "    }\n",
       "</style>\n",
       "<table border=\"1\" class=\"dataframe\">\n",
       "  <thead>\n",
       "    <tr style=\"text-align: right;\">\n",
       "      <th></th>\n",
       "      <th>clnt_id</th>\n",
       "      <th>trans_id</th>\n",
       "      <th>trans_seq</th>\n",
       "      <th>biz_unit</th>\n",
       "      <th>pd_c</th>\n",
       "      <th>de_dt</th>\n",
       "      <th>de_tm</th>\n",
       "      <th>buy_am</th>\n",
       "      <th>buy_ct</th>\n",
       "      <th>date</th>\n",
       "      <th>clnt_gender</th>\n",
       "      <th>clnt_age</th>\n",
       "      <th>clac_nm1</th>\n",
       "      <th>clac_nm2</th>\n",
       "      <th>clac_nm3</th>\n",
       "    </tr>\n",
       "  </thead>\n",
       "  <tbody>\n",
       "    <tr>\n",
       "      <th>30</th>\n",
       "      <td>58265</td>\n",
       "      <td>105113</td>\n",
       "      <td>5</td>\n",
       "      <td>A03</td>\n",
       "      <td>1566</td>\n",
       "      <td>20190920</td>\n",
       "      <td>16:53</td>\n",
       "      <td>2990</td>\n",
       "      <td>1</td>\n",
       "      <td>2019-09-20 16:53:00</td>\n",
       "      <td>M</td>\n",
       "      <td>40</td>\n",
       "      <td>Vegetables</td>\n",
       "      <td>Fruit Vegetables</td>\n",
       "      <td>Cucumbers</td>\n",
       "    </tr>\n",
       "    <tr>\n",
       "      <th>31</th>\n",
       "      <td>32198</td>\n",
       "      <td>105110</td>\n",
       "      <td>2</td>\n",
       "      <td>A03</td>\n",
       "      <td>1566</td>\n",
       "      <td>20190920</td>\n",
       "      <td>16:52</td>\n",
       "      <td>2990</td>\n",
       "      <td>1</td>\n",
       "      <td>2019-09-20 16:52:00</td>\n",
       "      <td>F</td>\n",
       "      <td>40</td>\n",
       "      <td>Vegetables</td>\n",
       "      <td>Fruit Vegetables</td>\n",
       "      <td>Cucumbers</td>\n",
       "    </tr>\n",
       "    <tr>\n",
       "      <th>32</th>\n",
       "      <td>33248</td>\n",
       "      <td>104809</td>\n",
       "      <td>2</td>\n",
       "      <td>A03</td>\n",
       "      <td>1573</td>\n",
       "      <td>20190920</td>\n",
       "      <td>00:34</td>\n",
       "      <td>1990</td>\n",
       "      <td>1</td>\n",
       "      <td>2019-09-20 00:34:00</td>\n",
       "      <td>F</td>\n",
       "      <td>30</td>\n",
       "      <td>Vegetables</td>\n",
       "      <td>Fruit Vegetables</td>\n",
       "      <td>Young Pumpkins</td>\n",
       "    </tr>\n",
       "    <tr>\n",
       "      <th>33</th>\n",
       "      <td>48969</td>\n",
       "      <td>104882</td>\n",
       "      <td>11</td>\n",
       "      <td>A03</td>\n",
       "      <td>1572</td>\n",
       "      <td>20190920</td>\n",
       "      <td>10:05</td>\n",
       "      <td>2980</td>\n",
       "      <td>2</td>\n",
       "      <td>2019-09-20 10:05:00</td>\n",
       "      <td>F</td>\n",
       "      <td>40</td>\n",
       "      <td>Vegetables</td>\n",
       "      <td>Fruit Vegetables</td>\n",
       "      <td>Sweet Pumpkins</td>\n",
       "    </tr>\n",
       "    <tr>\n",
       "      <th>34</th>\n",
       "      <td>44662</td>\n",
       "      <td>105112</td>\n",
       "      <td>11</td>\n",
       "      <td>A03</td>\n",
       "      <td>1571</td>\n",
       "      <td>20190920</td>\n",
       "      <td>16:55</td>\n",
       "      <td>990</td>\n",
       "      <td>1</td>\n",
       "      <td>2019-09-20 16:55:00</td>\n",
       "      <td>F</td>\n",
       "      <td>40</td>\n",
       "      <td>Vegetables</td>\n",
       "      <td>Fruit Vegetables</td>\n",
       "      <td>Peppers</td>\n",
       "    </tr>\n",
       "    <tr>\n",
       "      <th>...</th>\n",
       "      <td>...</td>\n",
       "      <td>...</td>\n",
       "      <td>...</td>\n",
       "      <td>...</td>\n",
       "      <td>...</td>\n",
       "      <td>...</td>\n",
       "      <td>...</td>\n",
       "      <td>...</td>\n",
       "      <td>...</td>\n",
       "      <td>...</td>\n",
       "      <td>...</td>\n",
       "      <td>...</td>\n",
       "      <td>...</td>\n",
       "      <td>...</td>\n",
       "      <td>...</td>\n",
       "    </tr>\n",
       "    <tr>\n",
       "      <th>599940</th>\n",
       "      <td>35777</td>\n",
       "      <td>4971</td>\n",
       "      <td>1</td>\n",
       "      <td>B03</td>\n",
       "      <td>1348</td>\n",
       "      <td>20190927</td>\n",
       "      <td>20:07</td>\n",
       "      <td>10000</td>\n",
       "      <td>1</td>\n",
       "      <td>2019-09-27 20:07:00</td>\n",
       "      <td>F</td>\n",
       "      <td>40</td>\n",
       "      <td>Stationary / Office Supplies</td>\n",
       "      <td>General Stationary / Office Supplies</td>\n",
       "      <td>Other General Stationary / Office Supplies</td>\n",
       "    </tr>\n",
       "    <tr>\n",
       "      <th>599945</th>\n",
       "      <td>33296</td>\n",
       "      <td>2372</td>\n",
       "      <td>1</td>\n",
       "      <td>B03</td>\n",
       "      <td>1057</td>\n",
       "      <td>20190927</td>\n",
       "      <td>18:19</td>\n",
       "      <td>6100</td>\n",
       "      <td>1</td>\n",
       "      <td>2019-09-27 18:19:00</td>\n",
       "      <td>F</td>\n",
       "      <td>20</td>\n",
       "      <td>Personal Care</td>\n",
       "      <td>Feminine Hygiene Goods</td>\n",
       "      <td>Tampons</td>\n",
       "    </tr>\n",
       "    <tr>\n",
       "      <th>599946</th>\n",
       "      <td>16091</td>\n",
       "      <td>5636</td>\n",
       "      <td>1</td>\n",
       "      <td>B03</td>\n",
       "      <td>1066</td>\n",
       "      <td>20190927</td>\n",
       "      <td>21:08</td>\n",
       "      <td>10500</td>\n",
       "      <td>1</td>\n",
       "      <td>2019-09-27 21:08:00</td>\n",
       "      <td>F</td>\n",
       "      <td>30</td>\n",
       "      <td>Personal Care</td>\n",
       "      <td>Hair Care</td>\n",
       "      <td>Hair Treatment / Packs</td>\n",
       "    </tr>\n",
       "    <tr>\n",
       "      <th>599952</th>\n",
       "      <td>28484</td>\n",
       "      <td>13342</td>\n",
       "      <td>1</td>\n",
       "      <td>B03</td>\n",
       "      <td>1060</td>\n",
       "      <td>20190927</td>\n",
       "      <td>15:47</td>\n",
       "      <td>5000</td>\n",
       "      <td>1</td>\n",
       "      <td>2019-09-27 15:47:00</td>\n",
       "      <td>F</td>\n",
       "      <td>50</td>\n",
       "      <td>Personal Care</td>\n",
       "      <td>Hair Care</td>\n",
       "      <td>Hair Essences</td>\n",
       "    </tr>\n",
       "    <tr>\n",
       "      <th>599954</th>\n",
       "      <td>54080</td>\n",
       "      <td>2842</td>\n",
       "      <td>1</td>\n",
       "      <td>B03</td>\n",
       "      <td>1066</td>\n",
       "      <td>20190927</td>\n",
       "      <td>16:16</td>\n",
       "      <td>12600</td>\n",
       "      <td>1</td>\n",
       "      <td>2019-09-27 16:16:00</td>\n",
       "      <td>F</td>\n",
       "      <td>40</td>\n",
       "      <td>Personal Care</td>\n",
       "      <td>Hair Care</td>\n",
       "      <td>Hair Treatment / Packs</td>\n",
       "    </tr>\n",
       "  </tbody>\n",
       "</table>\n",
       "<p>238856 rows × 15 columns</p>\n",
       "</div>"
      ],
      "text/plain": [
       "        clnt_id  trans_id  trans_seq biz_unit  pd_c     de_dt  de_tm  buy_am  \\\n",
       "30        58265    105113          5      A03  1566  20190920  16:53    2990   \n",
       "31        32198    105110          2      A03  1566  20190920  16:52    2990   \n",
       "32        33248    104809          2      A03  1573  20190920  00:34    1990   \n",
       "33        48969    104882         11      A03  1572  20190920  10:05    2980   \n",
       "34        44662    105112         11      A03  1571  20190920  16:55     990   \n",
       "...         ...       ...        ...      ...   ...       ...    ...     ...   \n",
       "599940    35777      4971          1      B03  1348  20190927  20:07   10000   \n",
       "599945    33296      2372          1      B03  1057  20190927  18:19    6100   \n",
       "599946    16091      5636          1      B03  1066  20190927  21:08   10500   \n",
       "599952    28484     13342          1      B03  1060  20190927  15:47    5000   \n",
       "599954    54080      2842          1      B03  1066  20190927  16:16   12600   \n",
       "\n",
       "        buy_ct                date clnt_gender clnt_age  \\\n",
       "30           1 2019-09-20 16:53:00           M       40   \n",
       "31           1 2019-09-20 16:52:00           F       40   \n",
       "32           1 2019-09-20 00:34:00           F       30   \n",
       "33           2 2019-09-20 10:05:00           F       40   \n",
       "34           1 2019-09-20 16:55:00           F       40   \n",
       "...        ...                 ...         ...      ...   \n",
       "599940       1 2019-09-27 20:07:00           F       40   \n",
       "599945       1 2019-09-27 18:19:00           F       20   \n",
       "599946       1 2019-09-27 21:08:00           F       30   \n",
       "599952       1 2019-09-27 15:47:00           F       50   \n",
       "599954       1 2019-09-27 16:16:00           F       40   \n",
       "\n",
       "                            clac_nm1                              clac_nm2  \\\n",
       "30                        Vegetables                      Fruit Vegetables   \n",
       "31                        Vegetables                      Fruit Vegetables   \n",
       "32                        Vegetables                      Fruit Vegetables   \n",
       "33                        Vegetables                      Fruit Vegetables   \n",
       "34                        Vegetables                      Fruit Vegetables   \n",
       "...                              ...                                   ...   \n",
       "599940  Stationary / Office Supplies  General Stationary / Office Supplies   \n",
       "599945                 Personal Care                Feminine Hygiene Goods   \n",
       "599946                 Personal Care                             Hair Care   \n",
       "599952                 Personal Care                             Hair Care   \n",
       "599954                 Personal Care                             Hair Care   \n",
       "\n",
       "                                          clac_nm3  \n",
       "30                                       Cucumbers  \n",
       "31                                       Cucumbers  \n",
       "32                                  Young Pumpkins  \n",
       "33                                  Sweet Pumpkins  \n",
       "34                                         Peppers  \n",
       "...                                            ...  \n",
       "599940  Other General Stationary / Office Supplies  \n",
       "599945                                     Tampons  \n",
       "599946                      Hair Treatment / Packs  \n",
       "599952                               Hair Essences  \n",
       "599954                      Hair Treatment / Packs  \n",
       "\n",
       "[238856 rows x 15 columns]"
      ]
     },
     "execution_count": 76,
     "metadata": {},
     "output_type": "execute_result"
    }
   ],
   "source": [
    "Transaction[Transaction['clac_nm1'].isnull() == False]"
   ]
  },
  {
   "cell_type": "code",
   "execution_count": 78,
   "metadata": {},
   "outputs": [
    {
     "data": {
      "text/html": [
       "<div>\n",
       "<style scoped>\n",
       "    .dataframe tbody tr th:only-of-type {\n",
       "        vertical-align: middle;\n",
       "    }\n",
       "\n",
       "    .dataframe tbody tr th {\n",
       "        vertical-align: top;\n",
       "    }\n",
       "\n",
       "    .dataframe thead th {\n",
       "        text-align: right;\n",
       "    }\n",
       "</style>\n",
       "<table border=\"1\" class=\"dataframe\">\n",
       "  <thead>\n",
       "    <tr style=\"text-align: right;\">\n",
       "      <th></th>\n",
       "      <th>clnt_id</th>\n",
       "      <th>trans_id</th>\n",
       "      <th>trans_seq</th>\n",
       "      <th>biz_unit</th>\n",
       "      <th>pd_c</th>\n",
       "      <th>de_dt</th>\n",
       "      <th>de_tm</th>\n",
       "      <th>buy_am</th>\n",
       "      <th>buy_ct</th>\n",
       "      <th>date</th>\n",
       "      <th>clnt_gender</th>\n",
       "      <th>clnt_age</th>\n",
       "      <th>clac_nm1</th>\n",
       "      <th>clac_nm2</th>\n",
       "      <th>clac_nm3</th>\n",
       "    </tr>\n",
       "  </thead>\n",
       "  <tbody>\n",
       "    <tr>\n",
       "      <th>0</th>\n",
       "      <td>21922</td>\n",
       "      <td>104999</td>\n",
       "      <td>1</td>\n",
       "      <td>A03</td>\n",
       "      <td>unknown</td>\n",
       "      <td>20190920</td>\n",
       "      <td>12:41</td>\n",
       "      <td>5990</td>\n",
       "      <td>1</td>\n",
       "      <td>2019-09-20 12:41:00</td>\n",
       "      <td>F</td>\n",
       "      <td>50</td>\n",
       "      <td>NaN</td>\n",
       "      <td>NaN</td>\n",
       "      <td>NaN</td>\n",
       "    </tr>\n",
       "    <tr>\n",
       "      <th>1</th>\n",
       "      <td>21279</td>\n",
       "      <td>104907</td>\n",
       "      <td>4</td>\n",
       "      <td>A03</td>\n",
       "      <td>unknown</td>\n",
       "      <td>20190920</td>\n",
       "      <td>10:27</td>\n",
       "      <td>10900</td>\n",
       "      <td>1</td>\n",
       "      <td>2019-09-20 10:27:00</td>\n",
       "      <td>F</td>\n",
       "      <td>40</td>\n",
       "      <td>NaN</td>\n",
       "      <td>NaN</td>\n",
       "      <td>NaN</td>\n",
       "    </tr>\n",
       "    <tr>\n",
       "      <th>2</th>\n",
       "      <td>39423</td>\n",
       "      <td>105124</td>\n",
       "      <td>11</td>\n",
       "      <td>A03</td>\n",
       "      <td>unknown</td>\n",
       "      <td>20190920</td>\n",
       "      <td>17:26</td>\n",
       "      <td>12900</td>\n",
       "      <td>1</td>\n",
       "      <td>2019-09-20 17:26:00</td>\n",
       "      <td>F</td>\n",
       "      <td>50</td>\n",
       "      <td>NaN</td>\n",
       "      <td>NaN</td>\n",
       "      <td>NaN</td>\n",
       "    </tr>\n",
       "    <tr>\n",
       "      <th>3</th>\n",
       "      <td>18362</td>\n",
       "      <td>104010</td>\n",
       "      <td>1</td>\n",
       "      <td>A03</td>\n",
       "      <td>unknown</td>\n",
       "      <td>20190920</td>\n",
       "      <td>09:57</td>\n",
       "      <td>9900</td>\n",
       "      <td>1</td>\n",
       "      <td>2019-09-20 09:57:00</td>\n",
       "      <td>F</td>\n",
       "      <td>40</td>\n",
       "      <td>NaN</td>\n",
       "      <td>NaN</td>\n",
       "      <td>NaN</td>\n",
       "    </tr>\n",
       "    <tr>\n",
       "      <th>4</th>\n",
       "      <td>39423</td>\n",
       "      <td>105124</td>\n",
       "      <td>13</td>\n",
       "      <td>A03</td>\n",
       "      <td>0565</td>\n",
       "      <td>20190920</td>\n",
       "      <td>17:26</td>\n",
       "      <td>2990</td>\n",
       "      <td>1</td>\n",
       "      <td>2019-09-20 17:26:00</td>\n",
       "      <td>F</td>\n",
       "      <td>50</td>\n",
       "      <td>NaN</td>\n",
       "      <td>NaN</td>\n",
       "      <td>NaN</td>\n",
       "    </tr>\n",
       "  </tbody>\n",
       "</table>\n",
       "</div>"
      ],
      "text/plain": [
       "   clnt_id  trans_id  trans_seq biz_unit     pd_c     de_dt  de_tm  buy_am  \\\n",
       "0    21922    104999          1      A03  unknown  20190920  12:41    5990   \n",
       "1    21279    104907          4      A03  unknown  20190920  10:27   10900   \n",
       "2    39423    105124         11      A03  unknown  20190920  17:26   12900   \n",
       "3    18362    104010          1      A03  unknown  20190920  09:57    9900   \n",
       "4    39423    105124         13      A03     0565  20190920  17:26    2990   \n",
       "\n",
       "   buy_ct                date clnt_gender clnt_age clac_nm1 clac_nm2 clac_nm3  \n",
       "0       1 2019-09-20 12:41:00           F       50      NaN      NaN      NaN  \n",
       "1       1 2019-09-20 10:27:00           F       40      NaN      NaN      NaN  \n",
       "2       1 2019-09-20 17:26:00           F       50      NaN      NaN      NaN  \n",
       "3       1 2019-09-20 09:57:00           F       40      NaN      NaN      NaN  \n",
       "4       1 2019-09-20 17:26:00           F       50      NaN      NaN      NaN  "
      ]
     },
     "execution_count": 78,
     "metadata": {},
     "output_type": "execute_result"
    }
   ],
   "source": [
    "Transaction.head()"
   ]
  },
  {
   "cell_type": "code",
   "execution_count": 80,
   "metadata": {},
   "outputs": [
    {
     "data": {
      "text/plain": [
       "clnt_id_x                0\n",
       "sess_id                  0\n",
       "hit_seq                  0\n",
       "action_type              0\n",
       "biz_unit_x               0\n",
       "sess_dt                  0\n",
       "hit_tm                   0\n",
       "hit_pss_tm               0\n",
       "trans_id           3139373\n",
       "sech_kwd           2487735\n",
       "tot_pag_view_ct       1420\n",
       "tot_sess_hr_v        57186\n",
       "trfc_src                 0\n",
       "dvc_ctg_nm         1761351\n",
       "sess_date                0\n",
       "clnt_gender              0\n",
       "clnt_age                 0\n",
       "trans_seq          3139373\n",
       "pd_c               3139373\n",
       "de_dt              3139373\n",
       "de_tm              3139373\n",
       "buy_am             3139373\n",
       "buy_ct             3139373\n",
       "date               3139373\n",
       "clac_nm1           3139373\n",
       "clac_nm2           3139373\n",
       "clac_nm3           3139373\n",
       "dtype: int64"
      ]
     },
     "execution_count": 80,
     "metadata": {},
     "output_type": "execute_result"
    }
   ],
   "source": [
    "noTransaction.isnull().sum()"
   ]
  },
  {
   "cell_type": "code",
   "execution_count": 94,
   "metadata": {},
   "outputs": [
    {
     "name": "stderr",
     "output_type": "stream",
     "text": [
      "/home/aiffel0039/anaconda3/envs/aiffel/lib/python3.7/site-packages/pandas/core/series.py:4523: SettingWithCopyWarning: \n",
      "A value is trying to be set on a copy of a slice from a DataFrame\n",
      "\n",
      "See the caveats in the documentation: https://pandas.pydata.org/pandas-docs/stable/user_guide/indexing.html#returning-a-view-versus-a-copy\n",
      "  downcast=downcast,\n"
     ]
    }
   ],
   "source": [
    "mean = noTransaction['tot_pag_view_ct'].mean()\n",
    "noTransaction['tot_pag_view_ct'].fillna(mean, inplace=True)"
   ]
  },
  {
   "cell_type": "code",
   "execution_count": 97,
   "metadata": {},
   "outputs": [
    {
     "data": {
      "text/plain": [
       "1.0      61575\n",
       "7.0      58963\n",
       "5.0      58170\n",
       "9.0      57717\n",
       "11.0     56896\n",
       "         ...  \n",
       "429.0       21\n",
       "431.0       21\n",
       "433.0        9\n",
       "423.0        6\n",
       "389.0        2\n",
       "Name: tot_pag_view_ct, Length: 426, dtype: int64"
      ]
     },
     "execution_count": 97,
     "metadata": {},
     "output_type": "execute_result"
    }
   ],
   "source": [
    "noTransaction['tot_pag_view_ct'].value_counts()"
   ]
  },
  {
   "cell_type": "code",
   "execution_count": 107,
   "metadata": {},
   "outputs": [
    {
     "data": {
      "text/plain": [
       "127.0     2194\n",
       "61.0      2112\n",
       "96.0      2085\n",
       "63.0      2052\n",
       "69.0      2049\n",
       "          ... \n",
       "6812.0       1\n",
       "5996.0       1\n",
       "6800.0       1\n",
       "6794.0       1\n",
       "6612.0       1\n",
       "Name: tot_sess_hr_v, Length: 6627, dtype: int64"
      ]
     },
     "execution_count": 107,
     "metadata": {},
     "output_type": "execute_result"
    }
   ],
   "source": [
    "noTransaction['tot_sess_hr_v'].value_counts()"
   ]
  },
  {
   "cell_type": "code",
   "execution_count": 110,
   "metadata": {},
   "outputs": [
    {
     "data": {
      "text/plain": [
       "1201.0"
      ]
     },
     "execution_count": 110,
     "metadata": {},
     "output_type": "execute_result"
    }
   ],
   "source": [
    "noTransaction['tot_sess_hr_v'].median()"
   ]
  },
  {
   "cell_type": "code",
   "execution_count": null,
   "metadata": {},
   "outputs": [],
   "source": []
  }
 ],
 "metadata": {
  "kernelspec": {
   "display_name": "aiffel",
   "language": "python",
   "name": "aiffel"
  },
  "language_info": {
   "codemirror_mode": {
    "name": "ipython",
    "version": 3
   },
   "file_extension": ".py",
   "mimetype": "text/x-python",
   "name": "python",
   "nbconvert_exporter": "python",
   "pygments_lexer": "ipython3",
   "version": "3.7.7"
  }
 },
 "nbformat": 4,
 "nbformat_minor": 4
}
