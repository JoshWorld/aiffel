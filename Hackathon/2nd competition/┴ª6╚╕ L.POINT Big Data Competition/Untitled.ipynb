{
 "cells": [
  {
   "cell_type": "code",
   "execution_count": 1,
   "metadata": {},
   "outputs": [
    {
     "name": "stdout",
     "output_type": "stream",
     "text": [
      "'┴ª6╚╕ L.POINT Big Data Competition-╡Ñ└╠┼═ ╝│╕φ╝¡.pdf'\r\n",
      "'┴ª6╚╕ L.POINT Big Data Competition-╝│╕φ╚╕ └┌╖ß.pdf'\r\n",
      " 거래정보.csv\r\n",
      " 상품분류정보.csv\r\n",
      " 온라인행동정보.csv\r\n",
      " 고객demographic정보.csv\r\n",
      " Untitled.ipynb\r\n"
     ]
    }
   ],
   "source": [
    "!ls"
   ]
  },
  {
   "cell_type": "code",
   "execution_count": 3,
   "metadata": {},
   "outputs": [
    {
     "name": "stderr",
     "output_type": "stream",
     "text": [
      "/home/aiffel0039/anaconda3/envs/aiffel/lib/python3.7/site-packages/IPython/core/interactiveshell.py:3072: DtypeWarning: Columns (9) have mixed types.Specify dtype option on import or set low_memory=False.\n",
      "  interactivity=interactivity, compiler=compiler, result=result)\n"
     ]
    }
   ],
   "source": [
    "import pandas as pd\n",
    "import matplotlib.pyplot as plt\n",
    "\n",
    "df_transaction = pd.read_csv(\"거래정보.csv\")\n",
    "df_category = pd.read_csv(\"상품분류정보.csv\")\n",
    "df_activation = pd.read_csv(\"온라인행동정보.csv\")\n",
    "df_demo = pd.read_csv(\"고객demographic정보.csv\")"
   ]
  },
  {
   "cell_type": "code",
   "execution_count": 9,
   "metadata": {},
   "outputs": [
    {
     "name": "stdout",
     "output_type": "stream",
     "text": [
      "(599961, 9)\n"
     ]
    },
    {
     "data": {
      "text/html": [
       "<div>\n",
       "<style scoped>\n",
       "    .dataframe tbody tr th:only-of-type {\n",
       "        vertical-align: middle;\n",
       "    }\n",
       "\n",
       "    .dataframe tbody tr th {\n",
       "        vertical-align: top;\n",
       "    }\n",
       "\n",
       "    .dataframe thead th {\n",
       "        text-align: right;\n",
       "    }\n",
       "</style>\n",
       "<table border=\"1\" class=\"dataframe\">\n",
       "  <thead>\n",
       "    <tr style=\"text-align: right;\">\n",
       "      <th></th>\n",
       "      <th>clnt_id</th>\n",
       "      <th>trans_id</th>\n",
       "      <th>trans_seq</th>\n",
       "      <th>biz_unit</th>\n",
       "      <th>pd_c</th>\n",
       "      <th>de_dt</th>\n",
       "      <th>de_tm</th>\n",
       "      <th>buy_am</th>\n",
       "      <th>buy_ct</th>\n",
       "    </tr>\n",
       "  </thead>\n",
       "  <tbody>\n",
       "    <tr>\n",
       "      <th>0</th>\n",
       "      <td>21922</td>\n",
       "      <td>104999</td>\n",
       "      <td>1</td>\n",
       "      <td>A03</td>\n",
       "      <td>unknown</td>\n",
       "      <td>20190920</td>\n",
       "      <td>12:41</td>\n",
       "      <td>5990</td>\n",
       "      <td>1</td>\n",
       "    </tr>\n",
       "    <tr>\n",
       "      <th>1</th>\n",
       "      <td>21279</td>\n",
       "      <td>104907</td>\n",
       "      <td>4</td>\n",
       "      <td>A03</td>\n",
       "      <td>unknown</td>\n",
       "      <td>20190920</td>\n",
       "      <td>10:27</td>\n",
       "      <td>10900</td>\n",
       "      <td>1</td>\n",
       "    </tr>\n",
       "    <tr>\n",
       "      <th>2</th>\n",
       "      <td>39423</td>\n",
       "      <td>105124</td>\n",
       "      <td>11</td>\n",
       "      <td>A03</td>\n",
       "      <td>unknown</td>\n",
       "      <td>20190920</td>\n",
       "      <td>17:26</td>\n",
       "      <td>12900</td>\n",
       "      <td>1</td>\n",
       "    </tr>\n",
       "    <tr>\n",
       "      <th>3</th>\n",
       "      <td>18362</td>\n",
       "      <td>104010</td>\n",
       "      <td>1</td>\n",
       "      <td>A03</td>\n",
       "      <td>unknown</td>\n",
       "      <td>20190920</td>\n",
       "      <td>09:57</td>\n",
       "      <td>9900</td>\n",
       "      <td>1</td>\n",
       "    </tr>\n",
       "    <tr>\n",
       "      <th>4</th>\n",
       "      <td>39423</td>\n",
       "      <td>105124</td>\n",
       "      <td>13</td>\n",
       "      <td>A03</td>\n",
       "      <td>0565</td>\n",
       "      <td>20190920</td>\n",
       "      <td>17:26</td>\n",
       "      <td>2990</td>\n",
       "      <td>1</td>\n",
       "    </tr>\n",
       "  </tbody>\n",
       "</table>\n",
       "</div>"
      ],
      "text/plain": [
       "   clnt_id  trans_id  trans_seq biz_unit     pd_c     de_dt  de_tm  buy_am  \\\n",
       "0    21922    104999          1      A03  unknown  20190920  12:41    5990   \n",
       "1    21279    104907          4      A03  unknown  20190920  10:27   10900   \n",
       "2    39423    105124         11      A03  unknown  20190920  17:26   12900   \n",
       "3    18362    104010          1      A03  unknown  20190920  09:57    9900   \n",
       "4    39423    105124         13      A03     0565  20190920  17:26    2990   \n",
       "\n",
       "   buy_ct  \n",
       "0       1  \n",
       "1       1  \n",
       "2       1  \n",
       "3       1  \n",
       "4       1  "
      ]
     },
     "execution_count": 9,
     "metadata": {},
     "output_type": "execute_result"
    }
   ],
   "source": [
    "print(df_transaction.shape)\n",
    "df_transaction.head()"
   ]
  },
  {
   "cell_type": "code",
   "execution_count": 5,
   "metadata": {},
   "outputs": [
    {
     "name": "stdout",
     "output_type": "stream",
     "text": [
      "(1667, 4)\n"
     ]
    },
    {
     "data": {
      "text/html": [
       "<div>\n",
       "<style scoped>\n",
       "    .dataframe tbody tr th:only-of-type {\n",
       "        vertical-align: middle;\n",
       "    }\n",
       "\n",
       "    .dataframe tbody tr th {\n",
       "        vertical-align: top;\n",
       "    }\n",
       "\n",
       "    .dataframe thead th {\n",
       "        text-align: right;\n",
       "    }\n",
       "</style>\n",
       "<table border=\"1\" class=\"dataframe\">\n",
       "  <thead>\n",
       "    <tr style=\"text-align: right;\">\n",
       "      <th></th>\n",
       "      <th>pd_c</th>\n",
       "      <th>clac_nm1</th>\n",
       "      <th>clac_nm2</th>\n",
       "      <th>clac_nm3</th>\n",
       "    </tr>\n",
       "  </thead>\n",
       "  <tbody>\n",
       "    <tr>\n",
       "      <th>0</th>\n",
       "      <td>1</td>\n",
       "      <td>Automotive Products</td>\n",
       "      <td>Automotive Replacement Repair / Maintanance Kits</td>\n",
       "      <td>Automobile Oil / Additives</td>\n",
       "    </tr>\n",
       "    <tr>\n",
       "      <th>1</th>\n",
       "      <td>2</td>\n",
       "      <td>Automotive Products</td>\n",
       "      <td>Automotive Replacement Repair / Maintanance Kits</td>\n",
       "      <td>Car Lights</td>\n",
       "    </tr>\n",
       "    <tr>\n",
       "      <th>2</th>\n",
       "      <td>3</td>\n",
       "      <td>Automotive Products</td>\n",
       "      <td>Automotive Replacement Repair / Maintanance Kits</td>\n",
       "      <td>Car Paint</td>\n",
       "    </tr>\n",
       "    <tr>\n",
       "      <th>3</th>\n",
       "      <td>4</td>\n",
       "      <td>Automotive Products</td>\n",
       "      <td>Automotive Replacement Repair / Maintanance Kits</td>\n",
       "      <td>Filters</td>\n",
       "    </tr>\n",
       "    <tr>\n",
       "      <th>4</th>\n",
       "      <td>5</td>\n",
       "      <td>Automotive Products</td>\n",
       "      <td>Automotive Replacement Repair / Maintanance Kits</td>\n",
       "      <td>Wiper Blades</td>\n",
       "    </tr>\n",
       "  </tbody>\n",
       "</table>\n",
       "</div>"
      ],
      "text/plain": [
       "   pd_c             clac_nm1  \\\n",
       "0     1  Automotive Products   \n",
       "1     2  Automotive Products   \n",
       "2     3  Automotive Products   \n",
       "3     4  Automotive Products   \n",
       "4     5  Automotive Products   \n",
       "\n",
       "                                           clac_nm2  \\\n",
       "0  Automotive Replacement Repair / Maintanance Kits   \n",
       "1  Automotive Replacement Repair / Maintanance Kits   \n",
       "2  Automotive Replacement Repair / Maintanance Kits   \n",
       "3  Automotive Replacement Repair / Maintanance Kits   \n",
       "4  Automotive Replacement Repair / Maintanance Kits   \n",
       "\n",
       "                     clac_nm3  \n",
       "0  Automobile Oil / Additives  \n",
       "1                  Car Lights  \n",
       "2                   Car Paint  \n",
       "3                     Filters  \n",
       "4                Wiper Blades  "
      ]
     },
     "execution_count": 5,
     "metadata": {},
     "output_type": "execute_result"
    }
   ],
   "source": [
    "print(df_category.shape)\n",
    "df_category.head()"
   ]
  },
  {
   "cell_type": "code",
   "execution_count": 6,
   "metadata": {},
   "outputs": [
    {
     "name": "stdout",
     "output_type": "stream",
     "text": [
      "(3196362, 14)\n"
     ]
    },
    {
     "data": {
      "text/html": [
       "<div>\n",
       "<style scoped>\n",
       "    .dataframe tbody tr th:only-of-type {\n",
       "        vertical-align: middle;\n",
       "    }\n",
       "\n",
       "    .dataframe tbody tr th {\n",
       "        vertical-align: top;\n",
       "    }\n",
       "\n",
       "    .dataframe thead th {\n",
       "        text-align: right;\n",
       "    }\n",
       "</style>\n",
       "<table border=\"1\" class=\"dataframe\">\n",
       "  <thead>\n",
       "    <tr style=\"text-align: right;\">\n",
       "      <th></th>\n",
       "      <th>clnt_id</th>\n",
       "      <th>sess_id</th>\n",
       "      <th>hit_seq</th>\n",
       "      <th>action_type</th>\n",
       "      <th>biz_unit</th>\n",
       "      <th>sess_dt</th>\n",
       "      <th>hit_tm</th>\n",
       "      <th>hit_pss_tm</th>\n",
       "      <th>trans_id</th>\n",
       "      <th>sech_kwd</th>\n",
       "      <th>tot_pag_view_ct</th>\n",
       "      <th>tot_sess_hr_v</th>\n",
       "      <th>trfc_src</th>\n",
       "      <th>dvc_ctg_nm</th>\n",
       "    </tr>\n",
       "  </thead>\n",
       "  <tbody>\n",
       "    <tr>\n",
       "      <th>0</th>\n",
       "      <td>7809</td>\n",
       "      <td>1</td>\n",
       "      <td>8</td>\n",
       "      <td>5</td>\n",
       "      <td>A03</td>\n",
       "      <td>20190913</td>\n",
       "      <td>01:16</td>\n",
       "      <td>2571103</td>\n",
       "      <td>NaN</td>\n",
       "      <td>NaN</td>\n",
       "      <td>34.0</td>\n",
       "      <td>2663.0</td>\n",
       "      <td>DIRECT</td>\n",
       "      <td>NaN</td>\n",
       "    </tr>\n",
       "    <tr>\n",
       "      <th>1</th>\n",
       "      <td>7809</td>\n",
       "      <td>1</td>\n",
       "      <td>4</td>\n",
       "      <td>2</td>\n",
       "      <td>A03</td>\n",
       "      <td>20190913</td>\n",
       "      <td>01:14</td>\n",
       "      <td>2485909</td>\n",
       "      <td>NaN</td>\n",
       "      <td>NaN</td>\n",
       "      <td>34.0</td>\n",
       "      <td>2663.0</td>\n",
       "      <td>DIRECT</td>\n",
       "      <td>NaN</td>\n",
       "    </tr>\n",
       "    <tr>\n",
       "      <th>2</th>\n",
       "      <td>7809</td>\n",
       "      <td>1</td>\n",
       "      <td>11</td>\n",
       "      <td>5</td>\n",
       "      <td>A03</td>\n",
       "      <td>20190913</td>\n",
       "      <td>01:17</td>\n",
       "      <td>2646597</td>\n",
       "      <td>NaN</td>\n",
       "      <td>NaN</td>\n",
       "      <td>34.0</td>\n",
       "      <td>2663.0</td>\n",
       "      <td>DIRECT</td>\n",
       "      <td>NaN</td>\n",
       "    </tr>\n",
       "    <tr>\n",
       "      <th>3</th>\n",
       "      <td>7809</td>\n",
       "      <td>1</td>\n",
       "      <td>1</td>\n",
       "      <td>2</td>\n",
       "      <td>A03</td>\n",
       "      <td>20190913</td>\n",
       "      <td>00:46</td>\n",
       "      <td>788304</td>\n",
       "      <td>NaN</td>\n",
       "      <td>NaN</td>\n",
       "      <td>34.0</td>\n",
       "      <td>2663.0</td>\n",
       "      <td>DIRECT</td>\n",
       "      <td>NaN</td>\n",
       "    </tr>\n",
       "    <tr>\n",
       "      <th>4</th>\n",
       "      <td>7809</td>\n",
       "      <td>1</td>\n",
       "      <td>9</td>\n",
       "      <td>5</td>\n",
       "      <td>A03</td>\n",
       "      <td>20190913</td>\n",
       "      <td>01:17</td>\n",
       "      <td>2617609</td>\n",
       "      <td>NaN</td>\n",
       "      <td>NaN</td>\n",
       "      <td>34.0</td>\n",
       "      <td>2663.0</td>\n",
       "      <td>DIRECT</td>\n",
       "      <td>NaN</td>\n",
       "    </tr>\n",
       "  </tbody>\n",
       "</table>\n",
       "</div>"
      ],
      "text/plain": [
       "   clnt_id  sess_id  hit_seq  action_type biz_unit   sess_dt hit_tm  \\\n",
       "0     7809        1        8            5      A03  20190913  01:16   \n",
       "1     7809        1        4            2      A03  20190913  01:14   \n",
       "2     7809        1       11            5      A03  20190913  01:17   \n",
       "3     7809        1        1            2      A03  20190913  00:46   \n",
       "4     7809        1        9            5      A03  20190913  01:17   \n",
       "\n",
       "   hit_pss_tm  trans_id sech_kwd  tot_pag_view_ct  tot_sess_hr_v trfc_src  \\\n",
       "0     2571103       NaN      NaN             34.0         2663.0   DIRECT   \n",
       "1     2485909       NaN      NaN             34.0         2663.0   DIRECT   \n",
       "2     2646597       NaN      NaN             34.0         2663.0   DIRECT   \n",
       "3      788304       NaN      NaN             34.0         2663.0   DIRECT   \n",
       "4     2617609       NaN      NaN             34.0         2663.0   DIRECT   \n",
       "\n",
       "  dvc_ctg_nm  \n",
       "0        NaN  \n",
       "1        NaN  \n",
       "2        NaN  \n",
       "3        NaN  \n",
       "4        NaN  "
      ]
     },
     "execution_count": 6,
     "metadata": {},
     "output_type": "execute_result"
    }
   ],
   "source": [
    "print(df_activation.shape)\n",
    "df_activation.head()"
   ]
  },
  {
   "cell_type": "code",
   "execution_count": 7,
   "metadata": {},
   "outputs": [
    {
     "name": "stdout",
     "output_type": "stream",
     "text": [
      "(72399, 3)\n"
     ]
    },
    {
     "data": {
      "text/html": [
       "<div>\n",
       "<style scoped>\n",
       "    .dataframe tbody tr th:only-of-type {\n",
       "        vertical-align: middle;\n",
       "    }\n",
       "\n",
       "    .dataframe tbody tr th {\n",
       "        vertical-align: top;\n",
       "    }\n",
       "\n",
       "    .dataframe thead th {\n",
       "        text-align: right;\n",
       "    }\n",
       "</style>\n",
       "<table border=\"1\" class=\"dataframe\">\n",
       "  <thead>\n",
       "    <tr style=\"text-align: right;\">\n",
       "      <th></th>\n",
       "      <th>clnt_id</th>\n",
       "      <th>clnt_gender</th>\n",
       "      <th>clnt_age</th>\n",
       "    </tr>\n",
       "  </thead>\n",
       "  <tbody>\n",
       "    <tr>\n",
       "      <th>0</th>\n",
       "      <td>1</td>\n",
       "      <td>unknown</td>\n",
       "      <td>unknown</td>\n",
       "    </tr>\n",
       "    <tr>\n",
       "      <th>1</th>\n",
       "      <td>2</td>\n",
       "      <td>F</td>\n",
       "      <td>30</td>\n",
       "    </tr>\n",
       "    <tr>\n",
       "      <th>2</th>\n",
       "      <td>3</td>\n",
       "      <td>unknown</td>\n",
       "      <td>unknown</td>\n",
       "    </tr>\n",
       "    <tr>\n",
       "      <th>3</th>\n",
       "      <td>4</td>\n",
       "      <td>unknown</td>\n",
       "      <td>unknown</td>\n",
       "    </tr>\n",
       "    <tr>\n",
       "      <th>4</th>\n",
       "      <td>5</td>\n",
       "      <td>unknown</td>\n",
       "      <td>unknown</td>\n",
       "    </tr>\n",
       "  </tbody>\n",
       "</table>\n",
       "</div>"
      ],
      "text/plain": [
       "   clnt_id clnt_gender clnt_age\n",
       "0        1     unknown  unknown\n",
       "1        2           F       30\n",
       "2        3     unknown  unknown\n",
       "3        4     unknown  unknown\n",
       "4        5     unknown  unknown"
      ]
     },
     "execution_count": 7,
     "metadata": {},
     "output_type": "execute_result"
    }
   ],
   "source": [
    "print(df_demo.shape)\n",
    "df_demo.head()"
   ]
  },
  {
   "cell_type": "markdown",
   "metadata": {},
   "source": [
    "## EDA\n",
    "\n",
    "EDA를 해봅시다!\n",
    "\n",
    "### 결측치 확인하기"
   ]
  },
  {
   "cell_type": "code",
   "execution_count": 8,
   "metadata": {},
   "outputs": [
    {
     "data": {
      "text/plain": [
       "clnt_id                  0\n",
       "sess_id                  0\n",
       "hit_seq                  0\n",
       "action_type              0\n",
       "biz_unit                 0\n",
       "sess_dt                  0\n",
       "hit_tm                   0\n",
       "hit_pss_tm               0\n",
       "trans_id           3139373\n",
       "sech_kwd           2544724\n",
       "tot_pag_view_ct       1428\n",
       "tot_sess_hr_v        57607\n",
       "trfc_src                 0\n",
       "dvc_ctg_nm         1782577\n",
       "dtype: int64"
      ]
     },
     "execution_count": 8,
     "metadata": {},
     "output_type": "execute_result"
    }
   ],
   "source": [
    "df_activation.isnull().sum()"
   ]
  },
  {
   "cell_type": "markdown",
   "metadata": {},
   "source": [
    "**온라인 행동 정보**\n",
    "\n",
    "|변수명(영문)|변수명(국문)|상세 설명|\n",
    "|:--:|:------:|:-----|\n",
    "|clnt_id|클라이언트 ID|- 고객을 고유하게 식별할 수 있도록 랜덤으로 부여된 ID|\n",
    "|sess_id|세션 ID|- Web/App에 접속 후 세션이 시작될 때 부여된 순번 ID. <br/>- 하나의 클라이언트 ID에 여러개의 세션 ID가 접속될 수 있다.|\n",
    "|hit_seq|조회일련번호|- 조회 순서를 알 수 있도록 부여된 일련번호|\n",
    "|action_type|행동유형|- 총 8가지 행동 유형을 구분한 코드<br/>- 0 : 검색 / 1 : 제품 목록 / 2 : 제품 세부정보 보기 / 3 : 장바구니 제품 추가 / 4 : 장바구니 제품 삭제 / 5 : 결제 시도 / 6 : 구매 완료 / 7 : 구매 환불 / 8 : 결제 옵션|\n",
    "|biz_unit|업종 단위|- 온라인 및 오프라인 이용처를 구분하는 단위 코드|\n",
    "|sess_dt|세션 일자|- 세션 일자 (YYYYMMDD 형식으로 표기)|\n",
    "|hit_tm|조회 시각|- 조회 시각 (HH-MM 형식으로 표기)|\n",
    "|hit_pss_tm|조회경과시간|- 세션이 시작된 이후 해당 조회까지 경과한 시간(단위 : 밀리초)<br/>- 첫번째 조회면 0으로 설정|\n",
    "|trans_id|거래 ID|- 구매 내역을 고유하게 식별할 수 있도록 랜덤으로 부여된 ID|\n",
    "|sech_kwd|검색 키워드|- 고객이 검색한 키워드|\n",
    "|tot_pag_view_ct|총 페이지 조회 건수|- 세션 내의 총 페이지(화면) 뷰 수|\n",
    "|tot_sess_hr_v|총 세션 시간 값|- 세션 내 총 시간(단위 : 초)|\n",
    "|trfc_src|유입 채널|- 고객이 유입된 채널<br/>-  DIRECT / PUSH / WEBSITE / PORTAL_1 / PORTAL_2 / PORTAL_3 / unknown|\n",
    "|dvc_ctg_nm|기기  유형|- 기기 유형<br/>- mobile_web / mobile_app / PC\n",
    "\n",
    "우리가 집중해서 봐야할 데이터 프레임입니다. 많은 정보들이 들어있는데, 다른 데이터 프레임의 정보를 이것과 합쳐서 보도록 합시다."
   ]
  },
  {
   "cell_type": "code",
   "execution_count": 10,
   "metadata": {},
   "outputs": [
    {
     "data": {
      "text/plain": [
       "clnt_id      0\n",
       "trans_id     0\n",
       "trans_seq    0\n",
       "biz_unit     0\n",
       "pd_c         0\n",
       "de_dt        0\n",
       "de_tm        0\n",
       "buy_am       0\n",
       "buy_ct       0\n",
       "dtype: int64"
      ]
     },
     "execution_count": 10,
     "metadata": {},
     "output_type": "execute_result"
    }
   ],
   "source": [
    "df_transaction.isnull().sum()"
   ]
  },
  {
   "cell_type": "markdown",
   "metadata": {},
   "source": [
    "**거래 정보**\n",
    "\n",
    "|변수명(영문)|변수명(국문)|상세 설명|\n",
    "|:--:|:------:|:-----|\n",
    "|clnt_id|클라이언트 ID|- 고객을 고유하게 식별할 수 있도록 랜덤으로 부여된 ID|\n",
    "|trans_id|거래 ID|- 구매 내역을 고유하게 식별할 수 있도록 랜덤으로 부여된 ID|\n",
    "|trans_seq|거래 일련 번호|- 해당 거래 ID의 구매 내역 내 구매 순서를 알 수 있도록 부여된 일련번호|\n",
    "|biz_unit|업종 단위|- 온라인 및 오프라인 이용처를 구분하는 단위 코드|\n",
    "|pd_c|상품소분류코드|- 상품의 소분류 코드|\n",
    "|de_df|구매일자|- 상품을 구매한 일자 (YYYYMMDD 형식)|\n",
    "|de_tm|구매시각|- 상품을 구매한 시각 (HHMM 형식)|\n",
    "|buy_am|구매금액|- 구매한 상품의 금액|\n",
    "|buy_ct|구매수량|- 구매한 상품의 수량|"
   ]
  },
  {
   "cell_type": "markdown",
   "metadata": {},
   "source": [
    "우리가 주로 봐야할 것은 저 위에 있는 온라인 행동 정보를 나타내는 `df_activation` 데이터 프레임이 될 것 같습니다. 이 데이터에 다른 데이터 프레임의 정보를 merge하는 방식을 취해줄 거에요.\n",
    "\n",
    "그런데 거래정보에서 약간의 특이점이 있는 것 같습니다. 온라인 행동 정보에는 `trans_id`에 결측치가 보이는데 거래정보는 그렇지가 않아요. 아마도 온라인 행동 정보에는 구매하지 않고 그냥 검색만 한다던가, 제품을 보기만 해서 그럴 수 있을 것 같습니다. 어쨌든 이 데이터는 더해주도록 합시다!"
   ]
  },
  {
   "cell_type": "code",
   "execution_count": 11,
   "metadata": {},
   "outputs": [
    {
     "data": {
      "text/plain": [
       "clnt_id        0\n",
       "clnt_gender    0\n",
       "clnt_age       0\n",
       "dtype: int64"
      ]
     },
     "execution_count": 11,
     "metadata": {},
     "output_type": "execute_result"
    }
   ],
   "source": [
    "df_demo.isnull().sum()"
   ]
  },
  {
   "cell_type": "markdown",
   "metadata": {},
   "source": [
    "**고객 Demographic 정보**\n",
    "\n",
    "|변수명(영문)|변수명(국문)|상세 설명|\n",
    "|:--:|:------:|:-----|\n",
    "|clnt_id|클라이언트 ID|- 고객을 고유하게 식별할 수 있도록 랜덤으로 부여된 ID|\n",
    "|clnt_gender|성별|- 성별 정보(남자 : M / 여자 : F / 정보 없음 : unknown)|\n",
    "|clnt_age|연령대|- 연령대 정보 <br/>- 10대 이하/ 20대 / 30대 / 40대 / 50대 / 60대 이상 / 정보 없음 :unknown|\n",
    "\n",
    "여기서는 unknown이라는 값이 계속 보이네요. 얘만 따로 한번 이따가 확인해줍시다."
   ]
  },
  {
   "cell_type": "code",
   "execution_count": 12,
   "metadata": {},
   "outputs": [
    {
     "data": {
      "text/plain": [
       "pd_c        0\n",
       "clac_nm1    0\n",
       "clac_nm2    0\n",
       "clac_nm3    2\n",
       "dtype: int64"
      ]
     },
     "execution_count": 12,
     "metadata": {},
     "output_type": "execute_result"
    }
   ],
   "source": [
    "df_category.isnull().sum()"
   ]
  },
  {
   "cell_type": "markdown",
   "metadata": {},
   "source": [
    "**상품 분류 정보**\n",
    "\n",
    "|변수명(영문)|변수명(국문)|상세 설명|\n",
    "|:--:|:------:|:-----|\n",
    "|pd_c|상품 소분류코드|- 상품의 소분류코드(최소단위)|\n",
    "|clac_nm1|상품 대분류명|- 상품 대분류명|\n",
    "|clac_nm2|상품 중분류명|- 상품 중분류명|\n",
    "|clac_nm3|상품 소분류명|- 상품 소분류명|\n",
    "\n",
    "여기까지 잘 확인할 수 있었습니다! 이제 데이터의 분포를 한번 살펴봅시다.\n",
    "\n",
    "### 데이터 분포 확인하기"
   ]
  },
  {
   "cell_type": "code",
   "execution_count": 21,
   "metadata": {},
   "outputs": [
    {
     "data": {
      "image/png": "[encoded data removed]",
      "text/plain": [
       "<Figure size 432x288 with 1 Axes>"
      ]
     },
     "metadata": {
      "needs_background": "light"
     },
     "output_type": "display_data"
    }
   ],
   "source": [
    "import seaborn as sns\n",
    "\n",
    "sns.countplot(df_demo['clnt_gender'])\n",
    "plt.show()"
   ]
  },
  {
   "cell_type": "markdown",
   "metadata": {},
   "source": [
    "먼저 고객들의 성별 정보부터 한번 확인해보았습니다. 일단 unknown이 압도적으로 많고, 여자와 남자를 비교했을 때 여자가 훨씬 많네요.\n",
    "\n",
    "주 고객층은 여성이 될 것 같습니다."
   ]
  },
  {
   "cell_type": "code",
   "execution_count": 25,
   "metadata": {},
   "outputs": [
    {
     "data": {
      "image/png": "[encoded data removed]",
      "text/plain": [
       "<Figure size 432x288 with 1 Axes>"
      ]
     },
     "metadata": {
      "needs_background": "light"
     },
     "output_type": "display_data"
    }
   ],
   "source": [
    "sns.countplot(df_demo['clnt_age'])\n",
    "plt.show()"
   ]
  },
  {
   "cell_type": "markdown",
   "metadata": {},
   "source": [
    "이번에는 연령대별 정보를 한번 확인해보았습니다. 여기서도 마찬가지로 unknown이 가장 많고 40대, 30대, 50대 순으로 많네요. 10대는 많이 없어 보입니다."
   ]
  },
  {
   "cell_type": "code",
   "execution_count": 33,
   "metadata": {},
   "outputs": [
    {
     "data": {
      "text/plain": [
       "60"
      ]
     },
     "execution_count": 33,
     "metadata": {},
     "output_type": "execute_result"
    }
   ],
   "source": [
    "df_category['clac_nm1'].nunique()"
   ]
  },
  {
   "cell_type": "code",
   "execution_count": 37,
   "metadata": {},
   "outputs": [
    {
     "data": {
      "image/png": "[encoded data removed]",
      "text/plain": [
       "<Figure size 1440x720 with 1 Axes>"
      ]
     },
     "metadata": {
      "needs_background": "light"
     },
     "output_type": "display_data"
    }
   ],
   "source": [
    "plt.figure(figsize=(20, 10))\n",
    "sns.countplot(df_category['clac_nm1'])\n",
    "plt.show()"
   ]
  },
  {
   "cell_type": "markdown",
   "metadata": {},
   "source": [
    "상품 카테고리의 분류도 어떤건 많고, 어떤건 적네요. "
   ]
  },
  {
   "cell_type": "code",
   "execution_count": 41,
   "metadata": {},
   "outputs": [
    {
     "name": "stdout",
     "output_type": "stream",
     "text": [
      "['Automotive Products' 'Baby Foods' 'Ball Game / Field Sports'\n",
      " 'Bedding / Handicraft' 'Beverages' 'Birth Supplies / Baby Products'\n",
      " 'Books / Records / Instruments' 'Canned / Jarred Foods'\n",
      " 'Cell Phones / Accessories' 'Chilled Foods'\n",
      " 'Cleaning / Laundry / Bathroom Accessories' 'Coffee / Tea' 'Computers'\n",
      " 'Cooked Foods' 'Cosmetics / Beauty Care' 'Dairy Products'\n",
      " 'Detergents / Hygiene Goods' 'Dried Sea Foods' 'Fashion Accessories'\n",
      " 'Finance / Insurance Service' 'Frozen Foods' 'Fruits' 'Furniture'\n",
      " 'Gardening / Pets' 'Gift Certificates / Cards' 'Grains'\n",
      " 'Health / Fitness Training' 'Health Care' 'Health Foods'\n",
      " 'Heating / Cooling Electronics' 'Home / Kitchen Appliances'\n",
      " 'Home Decor / Lighting' \"Kids' Clothing\" 'Kitchenware'\n",
      " 'Liquors / Alcoholic Beverages' 'Living / Rental Services' 'Meats'\n",
      " \"Men's Clothing\" 'Other Products' 'Others (Non-Products)'\n",
      " 'Outdoor / Leisure Activities' 'Personal Care'\n",
      " 'Refrigerators and Washing Machines' 'Sea Foods' 'Seasonal Sports'\n",
      " 'Snack Foods' 'Spices / Seasonings' 'Sport Fashion'\n",
      " 'Stationary / Office Supplies' 'Substitute Foods'\n",
      " 'Tableware / Cooking Utensils' 'Tenants / Restaurants' 'Tobacco'\n",
      " 'Tools / Safety Supplies' 'Toy' 'Travel / Leisure Services'\n",
      " 'Underwear / Socks and Hosiery / Homewear' 'Vegetables'\n",
      " 'Video / Audio System Electronics' \"Women's Clothing\"]\n"
     ]
    }
   ],
   "source": [
    "print(df_category['clac_nm1'].unique())"
   ]
  },
  {
   "cell_type": "markdown",
   "metadata": {},
   "source": [
    "이런 데이터들이 있는데.. 지금은 일단 대분류만 확인해도 나쁘지 않을 것 같다는 생각이 듭니다. "
   ]
  },
  {
   "cell_type": "code",
   "execution_count": 43,
   "metadata": {},
   "outputs": [
    {
     "data": {
      "text/html": [
       "<div>\n",
       "<style scoped>\n",
       "    .dataframe tbody tr th:only-of-type {\n",
       "        vertical-align: middle;\n",
       "    }\n",
       "\n",
       "    .dataframe tbody tr th {\n",
       "        vertical-align: top;\n",
       "    }\n",
       "\n",
       "    .dataframe thead th {\n",
       "        text-align: right;\n",
       "    }\n",
       "</style>\n",
       "<table border=\"1\" class=\"dataframe\">\n",
       "  <thead>\n",
       "    <tr style=\"text-align: right;\">\n",
       "      <th></th>\n",
       "      <th>clnt_id</th>\n",
       "      <th>trans_id</th>\n",
       "      <th>trans_seq</th>\n",
       "      <th>biz_unit</th>\n",
       "      <th>pd_c</th>\n",
       "      <th>de_dt</th>\n",
       "      <th>de_tm</th>\n",
       "      <th>buy_am</th>\n",
       "      <th>buy_ct</th>\n",
       "    </tr>\n",
       "  </thead>\n",
       "  <tbody>\n",
       "    <tr>\n",
       "      <th>0</th>\n",
       "      <td>21922</td>\n",
       "      <td>104999</td>\n",
       "      <td>1</td>\n",
       "      <td>A03</td>\n",
       "      <td>unknown</td>\n",
       "      <td>20190920</td>\n",
       "      <td>12:41</td>\n",
       "      <td>5990</td>\n",
       "      <td>1</td>\n",
       "    </tr>\n",
       "    <tr>\n",
       "      <th>1</th>\n",
       "      <td>21279</td>\n",
       "      <td>104907</td>\n",
       "      <td>4</td>\n",
       "      <td>A03</td>\n",
       "      <td>unknown</td>\n",
       "      <td>20190920</td>\n",
       "      <td>10:27</td>\n",
       "      <td>10900</td>\n",
       "      <td>1</td>\n",
       "    </tr>\n",
       "    <tr>\n",
       "      <th>2</th>\n",
       "      <td>39423</td>\n",
       "      <td>105124</td>\n",
       "      <td>11</td>\n",
       "      <td>A03</td>\n",
       "      <td>unknown</td>\n",
       "      <td>20190920</td>\n",
       "      <td>17:26</td>\n",
       "      <td>12900</td>\n",
       "      <td>1</td>\n",
       "    </tr>\n",
       "    <tr>\n",
       "      <th>3</th>\n",
       "      <td>18362</td>\n",
       "      <td>104010</td>\n",
       "      <td>1</td>\n",
       "      <td>A03</td>\n",
       "      <td>unknown</td>\n",
       "      <td>20190920</td>\n",
       "      <td>09:57</td>\n",
       "      <td>9900</td>\n",
       "      <td>1</td>\n",
       "    </tr>\n",
       "    <tr>\n",
       "      <th>4</th>\n",
       "      <td>39423</td>\n",
       "      <td>105124</td>\n",
       "      <td>13</td>\n",
       "      <td>A03</td>\n",
       "      <td>0565</td>\n",
       "      <td>20190920</td>\n",
       "      <td>17:26</td>\n",
       "      <td>2990</td>\n",
       "      <td>1</td>\n",
       "    </tr>\n",
       "  </tbody>\n",
       "</table>\n",
       "</div>"
      ],
      "text/plain": [
       "   clnt_id  trans_id  trans_seq biz_unit     pd_c     de_dt  de_tm  buy_am  \\\n",
       "0    21922    104999          1      A03  unknown  20190920  12:41    5990   \n",
       "1    21279    104907          4      A03  unknown  20190920  10:27   10900   \n",
       "2    39423    105124         11      A03  unknown  20190920  17:26   12900   \n",
       "3    18362    104010          1      A03  unknown  20190920  09:57    9900   \n",
       "4    39423    105124         13      A03     0565  20190920  17:26    2990   \n",
       "\n",
       "   buy_ct  \n",
       "0       1  \n",
       "1       1  \n",
       "2       1  \n",
       "3       1  \n",
       "4       1  "
      ]
     },
     "execution_count": 43,
     "metadata": {},
     "output_type": "execute_result"
    }
   ],
   "source": [
    "df_transaction.head()"
   ]
  },
  {
   "cell_type": "code",
   "execution_count": 45,
   "metadata": {},
   "outputs": [
    {
     "name": "stdout",
     "output_type": "stream",
     "text": [
      "['A03' 'B01' 'B02' 'A02' 'A01' 'B03']\n"
     ]
    }
   ],
   "source": [
    "print(df_transaction['biz_unit'].unique())"
   ]
  },
  {
   "cell_type": "code",
   "execution_count": 46,
   "metadata": {},
   "outputs": [
    {
     "data": {
      "image/png": "[encoded data removed]",
      "text/plain": [
       "<Figure size 432x288 with 1 Axes>"
      ]
     },
     "metadata": {
      "needs_background": "light"
     },
     "output_type": "display_data"
    }
   ],
   "source": [
    "sns.countplot(df_transaction['biz_unit'])\n",
    "plt.show()"
   ]
  },
  {
   "cell_type": "markdown",
   "metadata": {},
   "source": [
    "`biz_unit`은 업종 분류 번호를 뜻하는 칼럼입니다. 정확히 무엇을 의미하는지는 모르겠지만 6개의 종류가 있고 `A03`, `B01`이 가장 많네요."
   ]
  },
  {
   "cell_type": "code",
   "execution_count": 56,
   "metadata": {},
   "outputs": [
    {
     "data": {
      "text/plain": [
       "1668"
      ]
     },
     "execution_count": 56,
     "metadata": {},
     "output_type": "execute_result"
    }
   ],
   "source": [
    "df_transaction['pd_c'].nunique()"
   ]
  },
  {
   "cell_type": "code",
   "execution_count": null,
   "metadata": {},
   "outputs": [],
   "source": [
    "df_transaction[df_]"
   ]
  }
 ],
 "metadata": {
  "kernelspec": {
   "display_name": "aiffel",
   "language": "python",
   "name": "aiffel"
  },
  "language_info": {
   "codemirror_mode": {
    "name": "ipython",
    "version": 3
   },
   "file_extension": ".py",
   "mimetype": "text/x-python",
   "name": "python",
   "nbconvert_exporter": "python",
   "pygments_lexer": "ipython3",
   "version": "3.7.7"
  }
 },
 "nbformat": 4,
 "nbformat_minor": 4
}
