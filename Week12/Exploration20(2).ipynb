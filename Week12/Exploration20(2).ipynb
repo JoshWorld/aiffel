{
 "cells": [
  {
   "cell_type": "markdown",
   "metadata": {},
   "source": [
    "# 미니 프로젝트 : 시계열 데이터에서 이상치를 찾아보자"
   ]
  },
  {
   "cell_type": "markdown",
   "metadata": {},
   "source": [
    "## Step 1. 데이터 구하기"
   ]
  },
  {
   "cell_type": "code",
   "execution_count": 1,
   "metadata": {},
   "outputs": [],
   "source": [
    "import requests\n",
    "import os\n",
    "\n",
    "url = \"https://query1.finance.yahoo.com/v7/finance/download/NQ=F?period1=969235200&period2=1603152000&interval=1d&events=history&includeAdjustedClose=true\"\n",
    "\n",
    "response = requests.get(url)\n",
    "\n",
    "csv_file = os.path.dirname(os.path.abspath('__file__')) + r'/data/nasdaq.csv'\n",
    "\n",
    "# response의 컨텐츠를 csv로 저장합니다\n",
    "with open(csv_file, 'w') as fp:\n",
    "    fp.write(response.text)"
   ]
  },
  {
   "cell_type": "code",
   "execution_count": 2,
   "metadata": {},
   "outputs": [
    {
     "data": {
      "text/html": [
       "<div>\n",
       "<style scoped>\n",
       "    .dataframe tbody tr th:only-of-type {\n",
       "        vertical-align: middle;\n",
       "    }\n",
       "\n",
       "    .dataframe tbody tr th {\n",
       "        vertical-align: top;\n",
       "    }\n",
       "\n",
       "    .dataframe thead th {\n",
       "        text-align: right;\n",
       "    }\n",
       "</style>\n",
       "<table border=\"1\" class=\"dataframe\">\n",
       "  <thead>\n",
       "    <tr style=\"text-align: right;\">\n",
       "      <th></th>\n",
       "      <th>Date</th>\n",
       "      <th>Open</th>\n",
       "      <th>High</th>\n",
       "      <th>Low</th>\n",
       "      <th>Close</th>\n",
       "      <th>Adj Close</th>\n",
       "      <th>Volume</th>\n",
       "    </tr>\n",
       "  </thead>\n",
       "  <tbody>\n",
       "    <tr>\n",
       "      <th>0</th>\n",
       "      <td>2000-09-18</td>\n",
       "      <td>3721.0</td>\n",
       "      <td>3785.5</td>\n",
       "      <td>3602.0</td>\n",
       "      <td>3653.5</td>\n",
       "      <td>3653.5</td>\n",
       "      <td>72994.0</td>\n",
       "    </tr>\n",
       "    <tr>\n",
       "      <th>1</th>\n",
       "      <td>2000-09-19</td>\n",
       "      <td>3658.5</td>\n",
       "      <td>3817.0</td>\n",
       "      <td>3656.0</td>\n",
       "      <td>3804.0</td>\n",
       "      <td>3804.0</td>\n",
       "      <td>70029.0</td>\n",
       "    </tr>\n",
       "    <tr>\n",
       "      <th>2</th>\n",
       "      <td>2000-09-20</td>\n",
       "      <td>3801.5</td>\n",
       "      <td>3874.0</td>\n",
       "      <td>3715.5</td>\n",
       "      <td>3853.0</td>\n",
       "      <td>3853.0</td>\n",
       "      <td>78832.0</td>\n",
       "    </tr>\n",
       "    <tr>\n",
       "      <th>3</th>\n",
       "      <td>2000-09-21</td>\n",
       "      <td>3852.0</td>\n",
       "      <td>3874.0</td>\n",
       "      <td>3744.0</td>\n",
       "      <td>3765.0</td>\n",
       "      <td>3765.0</td>\n",
       "      <td>70719.0</td>\n",
       "    </tr>\n",
       "    <tr>\n",
       "      <th>4</th>\n",
       "      <td>2000-09-22</td>\n",
       "      <td>3673.0</td>\n",
       "      <td>3780.0</td>\n",
       "      <td>3615.0</td>\n",
       "      <td>3776.0</td>\n",
       "      <td>3776.0</td>\n",
       "      <td>55926.0</td>\n",
       "    </tr>\n",
       "  </tbody>\n",
       "</table>\n",
       "</div>"
      ],
      "text/plain": [
       "         Date    Open    High     Low   Close  Adj Close   Volume\n",
       "0  2000-09-18  3721.0  3785.5  3602.0  3653.5     3653.5  72994.0\n",
       "1  2000-09-19  3658.5  3817.0  3656.0  3804.0     3804.0  70029.0\n",
       "2  2000-09-20  3801.5  3874.0  3715.5  3853.0     3853.0  78832.0\n",
       "3  2000-09-21  3852.0  3874.0  3744.0  3765.0     3765.0  70719.0\n",
       "4  2000-09-22  3673.0  3780.0  3615.0  3776.0     3776.0  55926.0"
      ]
     },
     "execution_count": 2,
     "metadata": {},
     "output_type": "execute_result"
    }
   ],
   "source": [
    "import pandas as pd\n",
    "\n",
    "df = pd.read_csv(csv_file)\n",
    "df.head()"
   ]
  },
  {
   "cell_type": "code",
   "execution_count": 3,
   "metadata": {},
   "outputs": [
    {
     "data": {
      "text/plain": [
       "Date            0\n",
       "Open         1072\n",
       "High         1072\n",
       "Low          1072\n",
       "Close        1072\n",
       "Adj Close    1072\n",
       "Volume       1072\n",
       "dtype: int64"
      ]
     },
     "execution_count": 3,
     "metadata": {},
     "output_type": "execute_result"
    }
   ],
   "source": [
    "# 날짜 데이터를 Datetime 형식으로 바꿔줍니다\n",
    "df.loc[:, 'Date'] = pd.to_datetime(df.Date)\n",
    "\n",
    "# 데이터의 정합성을 확인합니다\n",
    "df.isna().sum()"
   ]
  },
  {
   "cell_type": "code",
   "execution_count": 4,
   "metadata": {},
   "outputs": [
    {
     "name": "stdout",
     "output_type": "stream",
     "text": [
      "삭제 전 데이터의 길이 6166\n"
     ]
    },
    {
     "data": {
      "text/plain": [
       "Date         0\n",
       "Open         0\n",
       "High         0\n",
       "Low          0\n",
       "Close        0\n",
       "Adj Close    0\n",
       "Volume       0\n",
       "dtype: int64"
      ]
     },
     "execution_count": 4,
     "metadata": {},
     "output_type": "execute_result"
    }
   ],
   "source": [
    "# 결측치를 제거해줍니다.\n",
    "print(\"삭제 전 데이터의 길이\", len(df))\n",
    "\n",
    "df = df.dropna(axis=0).reset_index(drop=True)\n",
    "df.isna().sum()"
   ]
  },
  {
   "cell_type": "code",
   "execution_count": 5,
   "metadata": {},
   "outputs": [
    {
     "name": "stdout",
     "output_type": "stream",
     "text": [
      "삭제 후 데이터의 길이 5094\n"
     ]
    }
   ],
   "source": [
    "print(\"삭제 후 데이터의 길이\", len(df))"
   ]
  },
  {
   "cell_type": "markdown",
   "metadata": {},
   "source": [
    "## Step 2. 기본 통계분석으로 이상치 찾기\n",
    "\n",
    "- 데이터의 분포 그려보기\n",
    "- z-test로 정규분포를 만족하는지 확인하기\n",
    "- (정규분포를 만족하지 않으면) Time Series Decompose를 수행한 후 residual로 분석하기\n",
    "\n",
    "**한단계 더 나아가기**\n",
    "\n",
    "- 왜 이상치로 분류되었는지 해석해보기\n",
    "- 탐색해낸 이상치는 극단치인디, 특이치인지 생각해보기\n",
    "- 이상치들을 제거/교정해야할지 내버려둘지 고민하기"
   ]
  },
  {
   "cell_type": "code",
   "execution_count": 6,
   "metadata": {},
   "outputs": [
    {
     "data": {
      "image/png": "[encoded data removed]",
      "text/plain": [
       "<Figure size 864x360 with 1 Axes>"
      ]
     },
     "metadata": {
      "needs_background": "light"
     },
     "output_type": "display_data"
    }
   ],
   "source": [
    "# 데이터 분포 그리기\n",
    "import matplotlib.pyplot as plt\n",
    "from matplotlib.pylab import rcParams\n",
    "\n",
    "plt.rcParams['figure.figsize'] = (12, 5)\n",
    "\n",
    "plt.plot(df.Date, df.Close, marker = 's', color = 'r')\n",
    "plt.plot(df.Date, df.High, marker = 'o', color = 'g')\n",
    "plt.plot(df.Date, df.Low, marker = '*', color = 'b')\n",
    "plt.plot(df.Date, df.Open, marker = '+', color = 'y')\n",
    "\n",
    "plt.title(\"Nasdaq\")\n",
    "plt.ylabel(\"Stock\")\n",
    "plt.xlabel(\"Date\")\n",
    "plt.legend(['Close', 'High', 'Low', 'Open'], loc = 'best')\n",
    "\n",
    "plt.show()"
   ]
  },
  {
   "cell_type": "code",
   "execution_count": 7,
   "metadata": {},
   "outputs": [
    {
     "data": {
      "text/html": [
       "<div>\n",
       "<style scoped>\n",
       "    .dataframe tbody tr th:only-of-type {\n",
       "        vertical-align: middle;\n",
       "    }\n",
       "\n",
       "    .dataframe tbody tr th {\n",
       "        vertical-align: top;\n",
       "    }\n",
       "\n",
       "    .dataframe thead th {\n",
       "        text-align: right;\n",
       "    }\n",
       "</style>\n",
       "<table border=\"1\" class=\"dataframe\">\n",
       "  <thead>\n",
       "    <tr style=\"text-align: right;\">\n",
       "      <th></th>\n",
       "      <th>Date</th>\n",
       "      <th>Open</th>\n",
       "      <th>High</th>\n",
       "      <th>Low</th>\n",
       "      <th>Close</th>\n",
       "      <th>Adj Close</th>\n",
       "      <th>Volume</th>\n",
       "    </tr>\n",
       "  </thead>\n",
       "  <tbody>\n",
       "  </tbody>\n",
       "</table>\n",
       "</div>"
      ],
      "text/plain": [
       "Empty DataFrame\n",
       "Columns: [Date, Open, High, Low, Close, Adj Close, Volume]\n",
       "Index: []"
      ]
     },
     "execution_count": 7,
     "metadata": {},
     "output_type": "execute_result"
    }
   ],
   "source": [
    "df.loc[df.Low>df.High]"
   ]
  },
  {
   "cell_type": "markdown",
   "metadata": {},
   "source": [
    "2020년 3월 말에 갑자기 데이터가 급락한 것을 볼 수 있습니다. 다행히 Low > High인 값은 없어서 이상한 데이터는 없나봅니다.\n",
    "\n",
    "#### z-test로 정규분포를 만족하는지 확인하기"
   ]
  },
  {
   "cell_type": "code",
   "execution_count": 8,
   "metadata": {},
   "outputs": [
    {
     "data": {
      "image/png": "[encoded data removed]",
      "text/plain": [
       "<Figure size 648x432 with 2 Axes>"
      ]
     },
     "metadata": {
      "needs_background": "light"
     },
     "output_type": "display_data"
    }
   ],
   "source": [
    "# 먼저 데이터의 분포 확인하기\n",
    "from scipy.stats import norm\n",
    "import numpy as np\n",
    "import matplotlib.pyplot as plt\n",
    "\n",
    "x = np.arange(-5, 5, 0.001)\n",
    "y = norm.pdf(x, 0, 1)\n",
    "# 평균이 0이고 표준편차가 1인 정규분포를 그립니다\n",
    "\n",
    "# build the plot\n",
    "plt.figure(figsize = (9, 6))\n",
    "plt.subplot(1, 2, 1)\n",
    "plt.fill_between(x,y,0, alpha=0.3, color='b')\n",
    "plt.title('normal distribution')\n",
    "\n",
    "plt.subplot(1, 2, 2)\n",
    "plt.hist(df.Close, 100, density = True, alpha = 0.75)\n",
    "plt.title(\"df.Close distribution\")\n",
    "plt.show()"
   ]
  },
  {
   "cell_type": "code",
   "execution_count": 9,
   "metadata": {},
   "outputs": [
    {
     "name": "stdout",
     "output_type": "stream",
     "text": [
      "0.0\n"
     ]
    }
   ],
   "source": [
    "# z-test로 분포 확인하기\n",
    "from statsmodels.stats.weightstats import ztest\n",
    "_, p = ztest(df.Close)\n",
    "print(p)"
   ]
  },
  {
   "cell_type": "markdown",
   "metadata": {},
   "source": [
    "p가 0.0이 나왔습니다. 즉, 정규분포와 거리가 멀다고 할 수 있습니다. 이 데이터에 대해서 정규분포를 가정한 신뢰구간 분석을 적용해봅시다.\n",
    "\n",
    "#### time series decomposition 수행 후 residual로 분석하기"
   ]
  },
  {
   "cell_type": "code",
   "execution_count": 10,
   "metadata": {},
   "outputs": [
    {
     "data": {
      "image/png": "[encoded data removed]",
      "text/plain": [
       "<Figure size 864x360 with 4 Axes>"
      ]
     },
     "metadata": {
      "needs_background": "light"
     },
     "output_type": "display_data"
    }
   ],
   "source": [
    "from statsmodels.tsa.seasonal import seasonal_decompose\n",
    "\n",
    "result = seasonal_decompose(df.Close, model='additive', two_sided=True,\n",
    "                           period = 10, extrapolate_trend = 'freq')\n",
    "result.plot()\n",
    "plt.show()"
   ]
  },
  {
   "cell_type": "code",
   "execution_count": 11,
   "metadata": {},
   "outputs": [
    {
     "data": {
      "text/plain": [
       "<matplotlib.axes._subplots.AxesSubplot at 0x7f63d1552d50>"
      ]
     },
     "execution_count": 11,
     "metadata": {},
     "output_type": "execute_result"
    },
    {
     "data": {
      "image/png": "[encoded data removed]",
      "text/plain": [
       "<Figure size 864x360 with 1 Axes>"
      ]
     },
     "metadata": {
      "needs_background": "light"
     },
     "output_type": "display_data"
    }
   ],
   "source": [
    "# seasonal 성분 다시 확인하기\n",
    "result.seasonal[:100].plot()"
   ]
  },
  {
   "cell_type": "code",
   "execution_count": 12,
   "metadata": {},
   "outputs": [
    {
     "data": {
      "image/png": "[encoded data removed]",
      "text/plain": [
       "<Figure size 648x432 with 1 Axes>"
      ]
     },
     "metadata": {
      "needs_background": "light"
     },
     "output_type": "display_data"
    }
   ],
   "source": [
    "# residual의 분포를 그려봅시다\n",
    "fig, ax = plt.subplots(figsize = (9, 6))\n",
    "_ = plt.hist(result.resid, 100, density = True, alpha = 0.75)"
   ]
  },
  {
   "cell_type": "markdown",
   "metadata": {},
   "source": [
    "정규분포에 가까워진 것 같습니다. z-test로 한번 확인해봅시다."
   ]
  },
  {
   "cell_type": "code",
   "execution_count": 13,
   "metadata": {},
   "outputs": [
    {
     "name": "stdout",
     "output_type": "stream",
     "text": [
      "-0.3016324194008281 0.7629322912826371\n"
     ]
    }
   ],
   "source": [
    "r = result.resid.values\n",
    "st, p = ztest(r)\n",
    "print(st, p)"
   ]
  },
  {
   "cell_type": "markdown",
   "metadata": {},
   "source": [
    "p가 0.05이상으로 아주 강하게 나타납니다. 정규분포로 가정하고 분석해봅시다."
   ]
  },
  {
   "cell_type": "markdown",
   "metadata": {},
   "source": [
    "## Step 3. Unsupervised Clustering 으로 이상치 찾기\n",
    "\n",
    "- k-means로 분석하기\n",
    "- DBSCAN으로 분석하기\n",
    "\n",
    "**한 단계 더 나아가기**\n",
    "\n",
    "- 왜 이상치로 분류됐는지 해석해보기\n",
    "- 탐지해낸 이상치(Anomalies)는 극단치(Outlier) 인지, 특이치(Novelties)인지 생각해보기\n",
    "- 이 이상치를 제거/교정해야할지 내버려둘지 고민하기"
   ]
  },
  {
   "cell_type": "code",
   "execution_count": 14,
   "metadata": {},
   "outputs": [
    {
     "data": {
      "text/html": [
       "<div>\n",
       "<style scoped>\n",
       "    .dataframe tbody tr th:only-of-type {\n",
       "        vertical-align: middle;\n",
       "    }\n",
       "\n",
       "    .dataframe tbody tr th {\n",
       "        vertical-align: top;\n",
       "    }\n",
       "\n",
       "    .dataframe thead th {\n",
       "        text-align: right;\n",
       "    }\n",
       "</style>\n",
       "<table border=\"1\" class=\"dataframe\">\n",
       "  <thead>\n",
       "    <tr style=\"text-align: right;\">\n",
       "      <th></th>\n",
       "      <th>Open</th>\n",
       "      <th>High</th>\n",
       "      <th>Low</th>\n",
       "      <th>Close</th>\n",
       "      <th>Volume</th>\n",
       "    </tr>\n",
       "  </thead>\n",
       "  <tbody>\n",
       "    <tr>\n",
       "      <th>count</th>\n",
       "      <td>5094.000000</td>\n",
       "      <td>5094.000000</td>\n",
       "      <td>5094.000000</td>\n",
       "      <td>5094.000000</td>\n",
       "      <td>5094.000000</td>\n",
       "    </tr>\n",
       "    <tr>\n",
       "      <th>mean</th>\n",
       "      <td>3324.303285</td>\n",
       "      <td>3355.663089</td>\n",
       "      <td>3292.204015</td>\n",
       "      <td>3326.157530</td>\n",
       "      <td>287799.789978</td>\n",
       "    </tr>\n",
       "    <tr>\n",
       "      <th>std</th>\n",
       "      <td>2390.871506</td>\n",
       "      <td>2412.479986</td>\n",
       "      <td>2369.858940</td>\n",
       "      <td>2394.718369</td>\n",
       "      <td>109505.235488</td>\n",
       "    </tr>\n",
       "    <tr>\n",
       "      <th>min</th>\n",
       "      <td>914.415000</td>\n",
       "      <td>934.695000</td>\n",
       "      <td>895.770000</td>\n",
       "      <td>915.335000</td>\n",
       "      <td>64880.520000</td>\n",
       "    </tr>\n",
       "    <tr>\n",
       "      <th>25%</th>\n",
       "      <td>1584.251875</td>\n",
       "      <td>1597.572500</td>\n",
       "      <td>1571.058750</td>\n",
       "      <td>1584.191100</td>\n",
       "      <td>220550.460000</td>\n",
       "    </tr>\n",
       "    <tr>\n",
       "      <th>50%</th>\n",
       "      <td>2263.775000</td>\n",
       "      <td>2291.211250</td>\n",
       "      <td>2231.463750</td>\n",
       "      <td>2264.287900</td>\n",
       "      <td>268829.760000</td>\n",
       "    </tr>\n",
       "    <tr>\n",
       "      <th>75%</th>\n",
       "      <td>4433.603750</td>\n",
       "      <td>4464.010625</td>\n",
       "      <td>4399.788125</td>\n",
       "      <td>4434.981250</td>\n",
       "      <td>319616.697500</td>\n",
       "    </tr>\n",
       "    <tr>\n",
       "      <th>max</th>\n",
       "      <td>12064.786259</td>\n",
       "      <td>12214.296509</td>\n",
       "      <td>11897.172140</td>\n",
       "      <td>12066.724264</td>\n",
       "      <td>776809.340000</td>\n",
       "    </tr>\n",
       "  </tbody>\n",
       "</table>\n",
       "</div>"
      ],
      "text/plain": [
       "               Open          High           Low         Close         Volume\n",
       "count   5094.000000   5094.000000   5094.000000   5094.000000    5094.000000\n",
       "mean    3324.303285   3355.663089   3292.204015   3326.157530  287799.789978\n",
       "std     2390.871506   2412.479986   2369.858940   2394.718369  109505.235488\n",
       "min      914.415000    934.695000    895.770000    915.335000   64880.520000\n",
       "25%     1584.251875   1597.572500   1571.058750   1584.191100  220550.460000\n",
       "50%     2263.775000   2291.211250   2231.463750   2264.287900  268829.760000\n",
       "75%     4433.603750   4464.010625   4399.788125   4434.981250  319616.697500\n",
       "max    12064.786259  12214.296509  11897.172140  12066.724264  776809.340000"
      ]
     },
     "execution_count": 14,
     "metadata": {},
     "output_type": "execute_result"
    }
   ],
   "source": [
    "# 데이터 전처리\n",
    "def my_decompose(df, features, freq=50):\n",
    "    trend = pd.DataFrame()\n",
    "    seasonal = pd.DataFrame()\n",
    "    resid = pd.DataFrame()\n",
    "    \n",
    "    # 사용할 feature마다 decompose를 수행\n",
    "    for f in features:\n",
    "        result = seasonal_decompose(df[f], model = 'additive', period=freq, extrapolate_trend = freq)\n",
    "        trend[f] = result.trend.values\n",
    "        seasonal[f] = result.seasonal.values\n",
    "        resid[f] = result.resid.values\n",
    "        \n",
    "    return trend, seasonal, resid\n",
    "\n",
    "tdf, sdf, rdf = my_decompose(df, features = ['Open', 'High', 'Low', 'Close', 'Volume'])\n",
    "tdf.describe()"
   ]
  },
  {
   "cell_type": "code",
   "execution_count": 15,
   "metadata": {},
   "outputs": [
    {
     "data": {
      "text/html": [
       "<div>\n",
       "<style scoped>\n",
       "    .dataframe tbody tr th:only-of-type {\n",
       "        vertical-align: middle;\n",
       "    }\n",
       "\n",
       "    .dataframe tbody tr th {\n",
       "        vertical-align: top;\n",
       "    }\n",
       "\n",
       "    .dataframe thead th {\n",
       "        text-align: right;\n",
       "    }\n",
       "</style>\n",
       "<table border=\"1\" class=\"dataframe\">\n",
       "  <thead>\n",
       "    <tr style=\"text-align: right;\">\n",
       "      <th></th>\n",
       "      <th>Open</th>\n",
       "      <th>High</th>\n",
       "      <th>Low</th>\n",
       "      <th>Close</th>\n",
       "      <th>Volume</th>\n",
       "    </tr>\n",
       "  </thead>\n",
       "  <tbody>\n",
       "    <tr>\n",
       "      <th>count</th>\n",
       "      <td>5094.000000</td>\n",
       "      <td>5094.000000</td>\n",
       "      <td>5094.000000</td>\n",
       "      <td>5094.000000</td>\n",
       "      <td>5094.000000</td>\n",
       "    </tr>\n",
       "    <tr>\n",
       "      <th>mean</th>\n",
       "      <td>-1.494218</td>\n",
       "      <td>-1.447168</td>\n",
       "      <td>-1.394948</td>\n",
       "      <td>-1.402187</td>\n",
       "      <td>132.899742</td>\n",
       "    </tr>\n",
       "    <tr>\n",
       "      <th>std</th>\n",
       "      <td>113.106458</td>\n",
       "      <td>102.570229</td>\n",
       "      <td>117.278403</td>\n",
       "      <td>110.763008</td>\n",
       "      <td>110724.899203</td>\n",
       "    </tr>\n",
       "    <tr>\n",
       "      <th>min</th>\n",
       "      <td>-1280.163546</td>\n",
       "      <td>-1494.231533</td>\n",
       "      <td>-1226.595518</td>\n",
       "      <td>-1389.770659</td>\n",
       "      <td>-603014.586328</td>\n",
       "    </tr>\n",
       "    <tr>\n",
       "      <th>25%</th>\n",
       "      <td>-37.912202</td>\n",
       "      <td>-35.100432</td>\n",
       "      <td>-38.323649</td>\n",
       "      <td>-37.371552</td>\n",
       "      <td>-53397.033973</td>\n",
       "    </tr>\n",
       "    <tr>\n",
       "      <th>50%</th>\n",
       "      <td>3.575670</td>\n",
       "      <td>3.350366</td>\n",
       "      <td>4.153527</td>\n",
       "      <td>2.958782</td>\n",
       "      <td>-584.124075</td>\n",
       "    </tr>\n",
       "    <tr>\n",
       "      <th>75%</th>\n",
       "      <td>40.353926</td>\n",
       "      <td>37.613888</td>\n",
       "      <td>42.048756</td>\n",
       "      <td>40.813609</td>\n",
       "      <td>51481.304420</td>\n",
       "    </tr>\n",
       "    <tr>\n",
       "      <th>max</th>\n",
       "      <td>996.821566</td>\n",
       "      <td>933.584382</td>\n",
       "      <td>941.409836</td>\n",
       "      <td>996.232816</td>\n",
       "      <td>810690.898648</td>\n",
       "    </tr>\n",
       "  </tbody>\n",
       "</table>\n",
       "</div>"
      ],
      "text/plain": [
       "              Open         High          Low        Close         Volume\n",
       "count  5094.000000  5094.000000  5094.000000  5094.000000    5094.000000\n",
       "mean     -1.494218    -1.447168    -1.394948    -1.402187     132.899742\n",
       "std     113.106458   102.570229   117.278403   110.763008  110724.899203\n",
       "min   -1280.163546 -1494.231533 -1226.595518 -1389.770659 -603014.586328\n",
       "25%     -37.912202   -35.100432   -38.323649   -37.371552  -53397.033973\n",
       "50%       3.575670     3.350366     4.153527     2.958782    -584.124075\n",
       "75%      40.353926    37.613888    42.048756    40.813609   51481.304420\n",
       "max     996.821566   933.584382   941.409836   996.232816  810690.898648"
      ]
     },
     "execution_count": 15,
     "metadata": {},
     "output_type": "execute_result"
    }
   ],
   "source": [
    "rdf.describe()"
   ]
  },
  {
   "cell_type": "code",
   "execution_count": 16,
   "metadata": {},
   "outputs": [
    {
     "name": "stdout",
     "output_type": "stream",
     "text": [
      "[ -1.49421837  -1.44716848  -1.39494753  -1.40218679 132.89974227]\n"
     ]
    },
    {
     "data": {
      "text/plain": [
       "array([[ 0.94173218,  0.84218124,  0.81160865,  0.59799575,  0.083212  ],\n",
       "       [ 0.48655464,  1.27770882,  1.3787828 ,  2.08212326,  0.10453018],\n",
       "       [ 1.89305329,  2.00817542,  2.03390849,  2.72037058, -0.08887086],\n",
       "       ...,\n",
       "       [-0.65531897, -1.82608069, -0.96473553, -1.32833825,  0.28433475],\n",
       "       [-1.31334711, -1.62375976, -0.70348768, -2.17905108, -0.36419423],\n",
       "       [-2.12456827, -2.48917183, -2.57191425, -3.70655626, -0.28328824]])"
      ]
     },
     "execution_count": 16,
     "metadata": {},
     "output_type": "execute_result"
    }
   ],
   "source": [
    "# 각 변수들 정규화\n",
    "from sklearn.preprocessing import StandardScaler\n",
    "\n",
    "scaler = StandardScaler()\n",
    "scaler.fit(rdf)\n",
    "\n",
    "print(scaler.mean_)\n",
    "norm_rdf = scaler.transform(rdf)\n",
    "norm_rdf"
   ]
  },
  {
   "cell_type": "markdown",
   "metadata": {},
   "source": [
    "#### k-means로 이상치 탐색하기"
   ]
  },
  {
   "cell_type": "code",
   "execution_count": 17,
   "metadata": {},
   "outputs": [
    {
     "name": "stdout",
     "output_type": "stream",
     "text": [
      "[ 1  1  3 ...  9  9 11]\n"
     ]
    }
   ],
   "source": [
    "from sklearn.cluster import KMeans\n",
    "\n",
    "kmeans = KMeans(n_clusters=15, random_state=0).fit(norm_rdf)\n",
    "print(kmeans.labels_)"
   ]
  },
  {
   "cell_type": "code",
   "execution_count": 18,
   "metadata": {},
   "outputs": [
    {
     "data": {
      "text/plain": [
       "['group:0-count:1038',\n",
       " 'group:1-count:454',\n",
       " 'group:2-count:32',\n",
       " 'group:3-count:106',\n",
       " 'group:4-count:13',\n",
       " 'group:5-count:20',\n",
       " 'group:6-count:74',\n",
       " 'group:7-count:204',\n",
       " 'group:8-count:826',\n",
       " 'group:9-count:442',\n",
       " 'group:10-count:34',\n",
       " 'group:11-count:105',\n",
       " 'group:12-count:337',\n",
       " 'group:13-count:414',\n",
       " 'group:14-count:995']"
      ]
     },
     "execution_count": 18,
     "metadata": {},
     "output_type": "execute_result"
    }
   ],
   "source": [
    "lbl, cnt = np.unique(kmeans.labels_, return_counts = True)\n",
    "['group:{}-count:{}'.format(group, count) for group, count in zip(lbl, cnt)]"
   ]
  },
  {
   "cell_type": "markdown",
   "metadata": {},
   "source": [
    "4, 5번 그룹이 너무 작은 숫자가 나왔습니다. 한번 확인해보도록 합시다."
   ]
  },
  {
   "cell_type": "code",
   "execution_count": 19,
   "metadata": {},
   "outputs": [
    {
     "data": {
      "text/html": [
       "<div>\n",
       "<style scoped>\n",
       "    .dataframe tbody tr th:only-of-type {\n",
       "        vertical-align: middle;\n",
       "    }\n",
       "\n",
       "    .dataframe tbody tr th {\n",
       "        vertical-align: top;\n",
       "    }\n",
       "\n",
       "    .dataframe thead th {\n",
       "        text-align: right;\n",
       "    }\n",
       "</style>\n",
       "<table border=\"1\" class=\"dataframe\">\n",
       "  <thead>\n",
       "    <tr style=\"text-align: right;\">\n",
       "      <th></th>\n",
       "      <th>Date</th>\n",
       "      <th>Open</th>\n",
       "      <th>High</th>\n",
       "      <th>Low</th>\n",
       "      <th>Close</th>\n",
       "      <th>Adj Close</th>\n",
       "      <th>Volume</th>\n",
       "    </tr>\n",
       "  </thead>\n",
       "  <tbody>\n",
       "    <tr>\n",
       "      <th>4891</th>\n",
       "      <td>2020-02-11</td>\n",
       "      <td>9525.000000</td>\n",
       "      <td>9609.500000</td>\n",
       "      <td>9501.250000</td>\n",
       "      <td>9527.250000</td>\n",
       "      <td>9527.250000</td>\n",
       "      <td>589570.0</td>\n",
       "    </tr>\n",
       "    <tr>\n",
       "      <th>4892</th>\n",
       "      <td>2020-02-12</td>\n",
       "      <td>9536.250000</td>\n",
       "      <td>9628.250000</td>\n",
       "      <td>9523.750000</td>\n",
       "      <td>9625.750000</td>\n",
       "      <td>9625.750000</td>\n",
       "      <td>454472.0</td>\n",
       "    </tr>\n",
       "    <tr>\n",
       "      <th>4893</th>\n",
       "      <td>2020-02-13</td>\n",
       "      <td>9621.500000</td>\n",
       "      <td>9644.750000</td>\n",
       "      <td>9511.250000</td>\n",
       "      <td>9613.000000</td>\n",
       "      <td>9613.000000</td>\n",
       "      <td>613580.0</td>\n",
       "    </tr>\n",
       "    <tr>\n",
       "      <th>4894</th>\n",
       "      <td>2020-02-14</td>\n",
       "      <td>9626.250000</td>\n",
       "      <td>9659.250000</td>\n",
       "      <td>9588.000000</td>\n",
       "      <td>9632.250000</td>\n",
       "      <td>9632.250000</td>\n",
       "      <td>489387.0</td>\n",
       "    </tr>\n",
       "    <tr>\n",
       "      <th>4895</th>\n",
       "      <td>2020-02-16</td>\n",
       "      <td>9635.000000</td>\n",
       "      <td>9668.750000</td>\n",
       "      <td>9634.250000</td>\n",
       "      <td>9663.750000</td>\n",
       "      <td>9663.750000</td>\n",
       "      <td>297278.0</td>\n",
       "    </tr>\n",
       "    <tr>\n",
       "      <th>4896</th>\n",
       "      <td>2020-02-18</td>\n",
       "      <td>9635.000000</td>\n",
       "      <td>9687.500000</td>\n",
       "      <td>9534.250000</td>\n",
       "      <td>9636.000000</td>\n",
       "      <td>9636.000000</td>\n",
       "      <td>668505.0</td>\n",
       "    </tr>\n",
       "    <tr>\n",
       "      <th>4897</th>\n",
       "      <td>2020-02-19</td>\n",
       "      <td>9643.250000</td>\n",
       "      <td>9748.750000</td>\n",
       "      <td>9641.250000</td>\n",
       "      <td>9733.500000</td>\n",
       "      <td>9733.500000</td>\n",
       "      <td>419130.0</td>\n",
       "    </tr>\n",
       "    <tr>\n",
       "      <th>4898</th>\n",
       "      <td>2020-02-20</td>\n",
       "      <td>9744.750000</td>\n",
       "      <td>9763.000000</td>\n",
       "      <td>9517.000000</td>\n",
       "      <td>9624.250000</td>\n",
       "      <td>9624.250000</td>\n",
       "      <td>802424.0</td>\n",
       "    </tr>\n",
       "    <tr>\n",
       "      <th>4899</th>\n",
       "      <td>2020-02-21</td>\n",
       "      <td>9617.250000</td>\n",
       "      <td>9623.750000</td>\n",
       "      <td>9411.500000</td>\n",
       "      <td>9458.000000</td>\n",
       "      <td>9458.000000</td>\n",
       "      <td>911839.0</td>\n",
       "    </tr>\n",
       "    <tr>\n",
       "      <th>4900</th>\n",
       "      <td>2020-02-23</td>\n",
       "      <td>9355.250000</td>\n",
       "      <td>9365.000000</td>\n",
       "      <td>9289.000000</td>\n",
       "      <td>9315.000000</td>\n",
       "      <td>9315.000000</td>\n",
       "      <td>995989.0</td>\n",
       "    </tr>\n",
       "    <tr>\n",
       "      <th>4901</th>\n",
       "      <td>2020-02-24</td>\n",
       "      <td>9355.250000</td>\n",
       "      <td>9365.000000</td>\n",
       "      <td>9041.250000</td>\n",
       "      <td>9091.000000</td>\n",
       "      <td>9091.000000</td>\n",
       "      <td>1171879.0</td>\n",
       "    </tr>\n",
       "    <tr>\n",
       "      <th>4917</th>\n",
       "      <td>2020-03-13</td>\n",
       "      <td>7100.000000</td>\n",
       "      <td>7978.000000</td>\n",
       "      <td>6942.500000</td>\n",
       "      <td>7915.750000</td>\n",
       "      <td>7915.750000</td>\n",
       "      <td>584274.0</td>\n",
       "    </tr>\n",
       "    <tr>\n",
       "      <th>4918</th>\n",
       "      <td>2020-03-15</td>\n",
       "      <td>7100.000000</td>\n",
       "      <td>7978.000000</td>\n",
       "      <td>6942.500000</td>\n",
       "      <td>7215.250000</td>\n",
       "      <td>7215.250000</td>\n",
       "      <td>578813.0</td>\n",
       "    </tr>\n",
       "    <tr>\n",
       "      <th>4919</th>\n",
       "      <td>2020-03-16</td>\n",
       "      <td>7903.000000</td>\n",
       "      <td>7905.250000</td>\n",
       "      <td>6927.000000</td>\n",
       "      <td>7057.500000</td>\n",
       "      <td>7057.500000</td>\n",
       "      <td>307368.0</td>\n",
       "    </tr>\n",
       "    <tr>\n",
       "      <th>4920</th>\n",
       "      <td>2020-03-17</td>\n",
       "      <td>7053.000000</td>\n",
       "      <td>7552.250000</td>\n",
       "      <td>6948.750000</td>\n",
       "      <td>7405.250000</td>\n",
       "      <td>7405.250000</td>\n",
       "      <td>317501.0</td>\n",
       "    </tr>\n",
       "    <tr>\n",
       "      <th>4921</th>\n",
       "      <td>2020-03-18</td>\n",
       "      <td>7386.000000</td>\n",
       "      <td>7392.250000</td>\n",
       "      <td>6830.000000</td>\n",
       "      <td>7225.250000</td>\n",
       "      <td>7225.250000</td>\n",
       "      <td>156283.0</td>\n",
       "    </tr>\n",
       "    <tr>\n",
       "      <th>4922</th>\n",
       "      <td>2020-03-19</td>\n",
       "      <td>7251.750000</td>\n",
       "      <td>7521.500000</td>\n",
       "      <td>6894.250000</td>\n",
       "      <td>7293.500000</td>\n",
       "      <td>7293.500000</td>\n",
       "      <td>115519.0</td>\n",
       "    </tr>\n",
       "    <tr>\n",
       "      <th>4923</th>\n",
       "      <td>2020-03-20</td>\n",
       "      <td>7195.000000</td>\n",
       "      <td>7649.000000</td>\n",
       "      <td>7153.500000</td>\n",
       "      <td>7417.979980</td>\n",
       "      <td>7417.979980</td>\n",
       "      <td>562616.0</td>\n",
       "    </tr>\n",
       "    <tr>\n",
       "      <th>4924</th>\n",
       "      <td>2020-03-22</td>\n",
       "      <td>6798.000000</td>\n",
       "      <td>6798.000000</td>\n",
       "      <td>6628.750000</td>\n",
       "      <td>6688.750000</td>\n",
       "      <td>6688.750000</td>\n",
       "      <td>321230.0</td>\n",
       "    </tr>\n",
       "    <tr>\n",
       "      <th>4925</th>\n",
       "      <td>2020-03-23</td>\n",
       "      <td>6798.000000</td>\n",
       "      <td>7316.250000</td>\n",
       "      <td>6628.750000</td>\n",
       "      <td>6984.500000</td>\n",
       "      <td>6984.500000</td>\n",
       "      <td>633237.0</td>\n",
       "    </tr>\n",
       "    <tr>\n",
       "      <th>4926</th>\n",
       "      <td>2020-03-24</td>\n",
       "      <td>7005.750000</td>\n",
       "      <td>7572.250000</td>\n",
       "      <td>7005.750000</td>\n",
       "      <td>7554.750000</td>\n",
       "      <td>7554.750000</td>\n",
       "      <td>556553.0</td>\n",
       "    </tr>\n",
       "    <tr>\n",
       "      <th>4945</th>\n",
       "      <td>2020-04-17</td>\n",
       "      <td>8909.750000</td>\n",
       "      <td>8966.750000</td>\n",
       "      <td>8689.500000</td>\n",
       "      <td>8809.000000</td>\n",
       "      <td>8809.000000</td>\n",
       "      <td>509555.0</td>\n",
       "    </tr>\n",
       "    <tr>\n",
       "      <th>5055</th>\n",
       "      <td>2020-08-26</td>\n",
       "      <td>11739.500000</td>\n",
       "      <td>12001.500000</td>\n",
       "      <td>11726.799805</td>\n",
       "      <td>11991.200195</td>\n",
       "      <td>11991.200195</td>\n",
       "      <td>578801.0</td>\n",
       "    </tr>\n",
       "    <tr>\n",
       "      <th>5056</th>\n",
       "      <td>2020-08-27</td>\n",
       "      <td>11984.500000</td>\n",
       "      <td>12046.000000</td>\n",
       "      <td>11834.799805</td>\n",
       "      <td>11952.799805</td>\n",
       "      <td>11952.799805</td>\n",
       "      <td>709346.0</td>\n",
       "    </tr>\n",
       "    <tr>\n",
       "      <th>5057</th>\n",
       "      <td>2020-08-28</td>\n",
       "      <td>11953.200195</td>\n",
       "      <td>12018.200195</td>\n",
       "      <td>11920.500000</td>\n",
       "      <td>11991.799805</td>\n",
       "      <td>11991.799805</td>\n",
       "      <td>489066.0</td>\n",
       "    </tr>\n",
       "    <tr>\n",
       "      <th>5058</th>\n",
       "      <td>2020-08-30</td>\n",
       "      <td>12002.750000</td>\n",
       "      <td>12040.000000</td>\n",
       "      <td>11998.000000</td>\n",
       "      <td>12037.000000</td>\n",
       "      <td>12037.000000</td>\n",
       "      <td>354186.0</td>\n",
       "    </tr>\n",
       "    <tr>\n",
       "      <th>5059</th>\n",
       "      <td>2020-08-31</td>\n",
       "      <td>12002.799805</td>\n",
       "      <td>12165.000000</td>\n",
       "      <td>11988.200195</td>\n",
       "      <td>12114.000000</td>\n",
       "      <td>12114.000000</td>\n",
       "      <td>480979.0</td>\n",
       "    </tr>\n",
       "    <tr>\n",
       "      <th>5060</th>\n",
       "      <td>2020-09-01</td>\n",
       "      <td>12109.799805</td>\n",
       "      <td>12328.799805</td>\n",
       "      <td>12093.000000</td>\n",
       "      <td>12312.500000</td>\n",
       "      <td>12312.500000</td>\n",
       "      <td>518997.0</td>\n",
       "    </tr>\n",
       "    <tr>\n",
       "      <th>5061</th>\n",
       "      <td>2020-09-02</td>\n",
       "      <td>12325.500000</td>\n",
       "      <td>12465.200195</td>\n",
       "      <td>12172.200195</td>\n",
       "      <td>12411.500000</td>\n",
       "      <td>12411.500000</td>\n",
       "      <td>725395.0</td>\n",
       "    </tr>\n",
       "    <tr>\n",
       "      <th>5062</th>\n",
       "      <td>2020-09-03</td>\n",
       "      <td>12408.500000</td>\n",
       "      <td>12438.799805</td>\n",
       "      <td>11658.500000</td>\n",
       "      <td>11800.500000</td>\n",
       "      <td>11800.500000</td>\n",
       "      <td>931583.0</td>\n",
       "    </tr>\n",
       "    <tr>\n",
       "      <th>5073</th>\n",
       "      <td>2020-09-21</td>\n",
       "      <td>10920.000000</td>\n",
       "      <td>11009.799805</td>\n",
       "      <td>10656.500000</td>\n",
       "      <td>10989.000000</td>\n",
       "      <td>10989.000000</td>\n",
       "      <td>727984.0</td>\n",
       "    </tr>\n",
       "    <tr>\n",
       "      <th>5076</th>\n",
       "      <td>2020-09-24</td>\n",
       "      <td>10803.500000</td>\n",
       "      <td>11011.799805</td>\n",
       "      <td>10660.200195</td>\n",
       "      <td>10891.799805</td>\n",
       "      <td>10891.799805</td>\n",
       "      <td>791934.0</td>\n",
       "    </tr>\n",
       "    <tr>\n",
       "      <th>5077</th>\n",
       "      <td>2020-09-25</td>\n",
       "      <td>10914.200195</td>\n",
       "      <td>11166.200195</td>\n",
       "      <td>10813.799805</td>\n",
       "      <td>11136.500000</td>\n",
       "      <td>11136.500000</td>\n",
       "      <td>600725.0</td>\n",
       "    </tr>\n",
       "  </tbody>\n",
       "</table>\n",
       "</div>"
      ],
      "text/plain": [
       "           Date          Open          High           Low         Close  \\\n",
       "4891 2020-02-11   9525.000000   9609.500000   9501.250000   9527.250000   \n",
       "4892 2020-02-12   9536.250000   9628.250000   9523.750000   9625.750000   \n",
       "4893 2020-02-13   9621.500000   9644.750000   9511.250000   9613.000000   \n",
       "4894 2020-02-14   9626.250000   9659.250000   9588.000000   9632.250000   \n",
       "4895 2020-02-16   9635.000000   9668.750000   9634.250000   9663.750000   \n",
       "4896 2020-02-18   9635.000000   9687.500000   9534.250000   9636.000000   \n",
       "4897 2020-02-19   9643.250000   9748.750000   9641.250000   9733.500000   \n",
       "4898 2020-02-20   9744.750000   9763.000000   9517.000000   9624.250000   \n",
       "4899 2020-02-21   9617.250000   9623.750000   9411.500000   9458.000000   \n",
       "4900 2020-02-23   9355.250000   9365.000000   9289.000000   9315.000000   \n",
       "4901 2020-02-24   9355.250000   9365.000000   9041.250000   9091.000000   \n",
       "4917 2020-03-13   7100.000000   7978.000000   6942.500000   7915.750000   \n",
       "4918 2020-03-15   7100.000000   7978.000000   6942.500000   7215.250000   \n",
       "4919 2020-03-16   7903.000000   7905.250000   6927.000000   7057.500000   \n",
       "4920 2020-03-17   7053.000000   7552.250000   6948.750000   7405.250000   \n",
       "4921 2020-03-18   7386.000000   7392.250000   6830.000000   7225.250000   \n",
       "4922 2020-03-19   7251.750000   7521.500000   6894.250000   7293.500000   \n",
       "4923 2020-03-20   7195.000000   7649.000000   7153.500000   7417.979980   \n",
       "4924 2020-03-22   6798.000000   6798.000000   6628.750000   6688.750000   \n",
       "4925 2020-03-23   6798.000000   7316.250000   6628.750000   6984.500000   \n",
       "4926 2020-03-24   7005.750000   7572.250000   7005.750000   7554.750000   \n",
       "4945 2020-04-17   8909.750000   8966.750000   8689.500000   8809.000000   \n",
       "5055 2020-08-26  11739.500000  12001.500000  11726.799805  11991.200195   \n",
       "5056 2020-08-27  11984.500000  12046.000000  11834.799805  11952.799805   \n",
       "5057 2020-08-28  11953.200195  12018.200195  11920.500000  11991.799805   \n",
       "5058 2020-08-30  12002.750000  12040.000000  11998.000000  12037.000000   \n",
       "5059 2020-08-31  12002.799805  12165.000000  11988.200195  12114.000000   \n",
       "5060 2020-09-01  12109.799805  12328.799805  12093.000000  12312.500000   \n",
       "5061 2020-09-02  12325.500000  12465.200195  12172.200195  12411.500000   \n",
       "5062 2020-09-03  12408.500000  12438.799805  11658.500000  11800.500000   \n",
       "5073 2020-09-21  10920.000000  11009.799805  10656.500000  10989.000000   \n",
       "5076 2020-09-24  10803.500000  11011.799805  10660.200195  10891.799805   \n",
       "5077 2020-09-25  10914.200195  11166.200195  10813.799805  11136.500000   \n",
       "\n",
       "         Adj Close     Volume  \n",
       "4891   9527.250000   589570.0  \n",
       "4892   9625.750000   454472.0  \n",
       "4893   9613.000000   613580.0  \n",
       "4894   9632.250000   489387.0  \n",
       "4895   9663.750000   297278.0  \n",
       "4896   9636.000000   668505.0  \n",
       "4897   9733.500000   419130.0  \n",
       "4898   9624.250000   802424.0  \n",
       "4899   9458.000000   911839.0  \n",
       "4900   9315.000000   995989.0  \n",
       "4901   9091.000000  1171879.0  \n",
       "4917   7915.750000   584274.0  \n",
       "4918   7215.250000   578813.0  \n",
       "4919   7057.500000   307368.0  \n",
       "4920   7405.250000   317501.0  \n",
       "4921   7225.250000   156283.0  \n",
       "4922   7293.500000   115519.0  \n",
       "4923   7417.979980   562616.0  \n",
       "4924   6688.750000   321230.0  \n",
       "4925   6984.500000   633237.0  \n",
       "4926   7554.750000   556553.0  \n",
       "4945   8809.000000   509555.0  \n",
       "5055  11991.200195   578801.0  \n",
       "5056  11952.799805   709346.0  \n",
       "5057  11991.799805   489066.0  \n",
       "5058  12037.000000   354186.0  \n",
       "5059  12114.000000   480979.0  \n",
       "5060  12312.500000   518997.0  \n",
       "5061  12411.500000   725395.0  \n",
       "5062  11800.500000   931583.0  \n",
       "5073  10989.000000   727984.0  \n",
       "5076  10891.799805   791934.0  \n",
       "5077  11136.500000   600725.0  "
      ]
     },
     "execution_count": 19,
     "metadata": {},
     "output_type": "execute_result"
    }
   ],
   "source": [
    "# 꼭 여러분들의 분류 결과에서 특이 그룹으로 분류된 그룹 번호로 바꿔 주세요. \n",
    "df[(kmeans.labels_==4)|(kmeans.labels_==5)]"
   ]
  },
  {
   "cell_type": "markdown",
   "metadata": {},
   "source": [
    "코로롱 때문인가봐요. 2020년, 바로 올해네요"
   ]
  },
  {
   "cell_type": "markdown",
   "metadata": {},
   "source": [
    "#### DBSCAN으로 이상치 찾기"
   ]
  },
  {
   "cell_type": "code",
   "execution_count": 20,
   "metadata": {},
   "outputs": [
    {
     "data": {
      "text/plain": [
       "DBSCAN(eps=0.7, min_samples=2)"
      ]
     },
     "execution_count": 20,
     "metadata": {},
     "output_type": "execute_result"
    }
   ],
   "source": [
    "from sklearn.cluster import DBSCAN\n",
    "\n",
    "clustering = DBSCAN(eps = 0.7, min_samples = 2).fit(norm_rdf)\n",
    "clustering"
   ]
  },
  {
   "cell_type": "code",
   "execution_count": 21,
   "metadata": {},
   "outputs": [
    {
     "name": "stdout",
     "output_type": "stream",
     "text": [
      "[ 0  0  0 ...  0 -1 -1]\n"
     ]
    }
   ],
   "source": [
    "print(clustering.labels_)"
   ]
  },
  {
   "cell_type": "code",
   "execution_count": 22,
   "metadata": {},
   "outputs": [
    {
     "data": {
      "text/plain": [
       "['group:-1-count:196',\n",
       " 'group:0-count:4839',\n",
       " 'group:1-count:3',\n",
       " 'group:2-count:12',\n",
       " 'group:3-count:2',\n",
       " 'group:4-count:2',\n",
       " 'group:5-count:2',\n",
       " 'group:6-count:2',\n",
       " 'group:7-count:3',\n",
       " 'group:8-count:2',\n",
       " 'group:9-count:2',\n",
       " 'group:10-count:2',\n",
       " 'group:11-count:2',\n",
       " 'group:12-count:2',\n",
       " 'group:13-count:2',\n",
       " 'group:14-count:2',\n",
       " 'group:15-count:2',\n",
       " 'group:16-count:2',\n",
       " 'group:17-count:2',\n",
       " 'group:18-count:2',\n",
       " 'group:19-count:2',\n",
       " 'group:20-count:2',\n",
       " 'group:21-count:3',\n",
       " 'group:22-count:2',\n",
       " 'group:23-count:2']"
      ]
     },
     "execution_count": 22,
     "metadata": {},
     "output_type": "execute_result"
    }
   ],
   "source": [
    "lbl, cnt = np.unique(clustering.labels_, return_counts = True)\n",
    "['group:{}-count:{}'.format(group, count) for group, count in zip(lbl, cnt)]"
   ]
  },
  {
   "cell_type": "markdown",
   "metadata": {},
   "source": [
    "DBSCAN은 -부터 23까지 분류했네요!"
   ]
  },
  {
   "cell_type": "markdown",
   "metadata": {},
   "source": [
    "## Step 4. LSTM 오토인코더로 이상치 찾기\n",
    "\n",
    "- 딥러닝을 위한 데이터셋 만들기\n",
    "- 오토인코더 모델 생성하기\n",
    "- 학습이 정상적으로 수행됐는지 확인하기\n",
    "\n",
    "**한 단계 더 나아가기**\n",
    "\n",
    "- 앞선 두가지 방법과 비교하기\n",
    "- 다른 이유가 뭔지 확인해보기\n",
    "- 더 나은 형태의 오토인코더 모델을 만들어보기"
   ]
  },
  {
   "cell_type": "markdown",
   "metadata": {},
   "source": [
    "#### 딥러닝을 위한 데이터셋 찾기"
   ]
  },
  {
   "cell_type": "code",
   "execution_count": 23,
   "metadata": {},
   "outputs": [],
   "source": [
    "import tensorflow as tf\n",
    "from tensorflow.keras.preprocessing.sequence import TimeseriesGenerator\n",
    "from tensorflow.keras.models import Sequential\n",
    "from tensorflow.keras.layers import Dense, Dropout, LSTM, RepeatVector, TimeDistributed\n",
    "from tensorflow.keras.losses import Huber\n",
    "from tensorflow.keras.callbacks import ModelCheckpoint, EarlyStopping"
   ]
  },
  {
   "cell_type": "code",
   "execution_count": 24,
   "metadata": {},
   "outputs": [],
   "source": [
    "# 모델 재현성을 위해 난수 시드 설정을 해줍니다.\n",
    "tf.random.set_seed(777)\n",
    "np.random.seed(777)"
   ]
  },
  {
   "cell_type": "markdown",
   "metadata": {},
   "source": [
    "#### LSTM을 이요해 오토인코더 모델 생성하기\n",
    "\n",
    "데이터 전처리\n",
    "- 입력 변수를 정규화\n",
    "- 가장 일반적인 표준 정규분포로 전처리!"
   ]
  },
  {
   "cell_type": "code",
   "execution_count": 25,
   "metadata": {},
   "outputs": [],
   "source": [
    "from sklearn.preprocessing import StandardScaler\n",
    "\n",
    "window_size = 10\n",
    "batch_size = 32\n",
    "features = ['Open', 'High', 'Low', 'Close', 'Volume']\n",
    "n_features = len(features)\n",
    "TRAIN_SIZE = int(len(df)*0.7)\n",
    "\n",
    "scaler = StandardScaler()\n",
    "scaler = scaler.fit(df.loc[:TRAIN_SIZE, features].values)\n",
    "scaled = scaler.transform(df[features].values)"
   ]
  },
  {
   "cell_type": "markdown",
   "metadata": {},
   "source": [
    "keras의 `TimeseriesGenerator`를 이용해 데이터셋 만들기"
   ]
  },
  {
   "cell_type": "code",
   "execution_count": 26,
   "metadata": {},
   "outputs": [
    {
     "name": "stdout",
     "output_type": "stream",
     "text": [
      "(32, 10, 5)\n",
      "(32, 5)\n"
     ]
    }
   ],
   "source": [
    "train_gen = TimeseriesGenerator(\n",
    "    data = scaled,\n",
    "    targets = scaled,\n",
    "    length = window_size,\n",
    "    stride = 1,\n",
    "    sampling_rate =1,\n",
    "    batch_size = batch_size,\n",
    "    shuffle = False,\n",
    "    start_index = 0,\n",
    "    end_index = None\n",
    ")\n",
    "\n",
    "valid_gen = TimeseriesGenerator(\n",
    "    data = scaled,\n",
    "    targets = scaled,\n",
    "    length = window_size,\n",
    "    stride = 1,\n",
    "    sampling_rate = 1,\n",
    "    batch_size = batch_size,\n",
    "    shuffle = False,\n",
    "    start_index = TRAIN_SIZE,\n",
    "    end_index = None\n",
    ")\n",
    "\n",
    "print(train_gen[0][0].shape)\n",
    "print(train_gen[0][1].shape)"
   ]
  },
  {
   "cell_type": "markdown",
   "metadata": {},
   "source": [
    "**모델 만들기**\n",
    "\n",
    "- 2개 층의 LSTM\n",
    "- ReapeatVector는 Input을 window size만큼 복사시킴"
   ]
  },
  {
   "cell_type": "code",
   "execution_count": 27,
   "metadata": {},
   "outputs": [
    {
     "name": "stdout",
     "output_type": "stream",
     "text": [
      "Model: \"sequential\"\n",
      "_________________________________________________________________\n",
      "Layer (type)                 Output Shape              Param #   \n",
      "=================================================================\n",
      "lstm (LSTM)                  (None, 10, 64)            17920     \n",
      "_________________________________________________________________\n",
      "lstm_1 (LSTM)                (None, 16)                5184      \n",
      "_________________________________________________________________\n",
      "repeat_vector (RepeatVector) (None, 10, 16)            0         \n",
      "_________________________________________________________________\n",
      "lstm_2 (LSTM)                (None, 10, 16)            2112      \n",
      "_________________________________________________________________\n",
      "lstm_3 (LSTM)                (None, 64)                20736     \n",
      "_________________________________________________________________\n",
      "dense (Dense)                (None, 5)                 325       \n",
      "=================================================================\n",
      "Total params: 46,277\n",
      "Trainable params: 46,277\n",
      "Non-trainable params: 0\n",
      "_________________________________________________________________\n"
     ]
    }
   ],
   "source": [
    "model = Sequential([\n",
    "    # 인코더 시작\n",
    "    LSTM(64, activation = 'relu', return_sequences=True,\n",
    "        input_shape = (window_size, n_features)),\n",
    "    LSTM(16, activation = 'relu', return_sequences=False),\n",
    "    # 인코더 끝\n",
    "    # BottleNeck 시작\n",
    "    RepeatVector(window_size),\n",
    "    # BottleNeck 끝\n",
    "    # 디코더 시작\n",
    "    LSTM(16, activation = 'relu', return_sequences = True),\n",
    "    LSTM(64, activation = 'relu', return_sequences = False),\n",
    "    Dense(n_features)\n",
    "    # 디코더 끝\n",
    "])\n",
    "\n",
    "model.summary()"
   ]
  },
  {
   "cell_type": "code",
   "execution_count": 28,
   "metadata": {},
   "outputs": [],
   "source": [
    "## 체크포인트. 학습을 진행하며 validation 결과가 가장 좋은 모델을 저장해둠.\n",
    "import os\n",
    "\n",
    "checkpoint_path = os.path.dirname(os.path.abspath('__file__')) + r'/data/checkpoint/mymodel.ckpt'\n",
    "checkpoint = ModelCheckpoint(\n",
    "    checkpoint_path,\n",
    "    save_weights_only = True,\n",
    "    save_best_only = True,\n",
    "    monitor = 'val_loss',\n",
    "    verbose = 1\n",
    ")"
   ]
  },
  {
   "cell_type": "code",
   "execution_count": 36,
   "metadata": {},
   "outputs": [],
   "source": [
    "early_stop = EarlyStopping(monitor='val_loss', patience = 10)"
   ]
  },
  {
   "cell_type": "code",
   "execution_count": 37,
   "metadata": {},
   "outputs": [],
   "source": [
    "model.compile(loss = 'mae', optimizer = 'adam', metrics = ['mae'])"
   ]
  },
  {
   "cell_type": "code",
   "execution_count": 38,
   "metadata": {},
   "outputs": [
    {
     "name": "stdout",
     "output_type": "stream",
     "text": [
      "Epoch 1/50\n",
      "157/159 [============================>.] - ETA: 0s - loss: 0.3632 - mae: 0.3632\n",
      "Epoch 00001: val_loss did not improve from 0.44459\n",
      "159/159 [==============================] - 1s 9ms/step - loss: 0.3713 - mae: 0.3713 - val_loss: 1.5400 - val_mae: 1.5400\n",
      "Epoch 2/50\n",
      "155/159 [============================>.] - ETA: 0s - loss: 0.3620 - mae: 0.3620\n",
      "Epoch 00002: val_loss did not improve from 0.44459\n",
      "159/159 [==============================] - 1s 7ms/step - loss: 0.3645 - mae: 0.3645 - val_loss: 0.5297 - val_mae: 0.5297\n",
      "Epoch 3/50\n",
      "155/159 [============================>.] - ETA: 0s - loss: 0.3655 - mae: 0.3655\n",
      "Epoch 00003: val_loss did not improve from 0.44459\n",
      "159/159 [==============================] - 1s 7ms/step - loss: 0.3646 - mae: 0.3646 - val_loss: 0.9119 - val_mae: 0.9119\n",
      "Epoch 4/50\n",
      "158/159 [============================>.] - ETA: 0s - loss: 0.3228 - mae: 0.3228\n",
      "Epoch 00004: val_loss did not improve from 0.44459\n",
      "159/159 [==============================] - 1s 7ms/step - loss: 0.3217 - mae: 0.3217 - val_loss: 1.0130 - val_mae: 1.0130\n",
      "Epoch 5/50\n",
      "157/159 [============================>.] - ETA: 0s - loss: 0.3211 - mae: 0.3211\n",
      "Epoch 00005: val_loss improved from 0.44459 to 0.31295, saving model to /home/aiffel0039/Documents/GitHub/aiffel/Week12/data/checkpoint/mymodel.ckpt\n",
      "159/159 [==============================] - 1s 7ms/step - loss: 0.3207 - mae: 0.3207 - val_loss: 0.3129 - val_mae: 0.3129\n",
      "Epoch 6/50\n",
      "159/159 [==============================] - ETA: 0s - loss: 0.2740 - mae: 0.2740\n",
      "Epoch 00006: val_loss did not improve from 0.31295\n",
      "159/159 [==============================] - 1s 7ms/step - loss: 0.2740 - mae: 0.2740 - val_loss: 0.5515 - val_mae: 0.5515\n",
      "Epoch 7/50\n",
      "158/159 [============================>.] - ETA: 0s - loss: 0.2989 - mae: 0.2989\n",
      "Epoch 00007: val_loss did not improve from 0.31295\n",
      "159/159 [==============================] - 1s 7ms/step - loss: 0.2979 - mae: 0.2979 - val_loss: 0.5370 - val_mae: 0.5370\n",
      "Epoch 8/50\n",
      "153/159 [===========================>..] - ETA: 0s - loss: 0.3287 - mae: 0.3287\n",
      "Epoch 00008: val_loss did not improve from 0.31295\n",
      "159/159 [==============================] - 1s 7ms/step - loss: 0.3383 - mae: 0.3383 - val_loss: 1.2984 - val_mae: 1.2984\n",
      "Epoch 9/50\n",
      "157/159 [============================>.] - ETA: 0s - loss: 0.3094 - mae: 0.3094\n",
      "Epoch 00009: val_loss did not improve from 0.31295\n",
      "159/159 [==============================] - 1s 7ms/step - loss: 0.3078 - mae: 0.3078 - val_loss: 0.3257 - val_mae: 0.3257\n",
      "Epoch 10/50\n",
      "155/159 [============================>.] - ETA: 0s - loss: 0.3285 - mae: 0.3285\n",
      "Epoch 00010: val_loss did not improve from 0.31295\n",
      "159/159 [==============================] - 1s 7ms/step - loss: 0.3252 - mae: 0.3252 - val_loss: 0.3815 - val_mae: 0.3815\n",
      "Epoch 11/50\n",
      "157/159 [============================>.] - ETA: 0s - loss: 0.2544 - mae: 0.2544\n",
      "Epoch 00011: val_loss did not improve from 0.31295\n",
      "159/159 [==============================] - 1s 7ms/step - loss: 0.2536 - mae: 0.2536 - val_loss: 0.4382 - val_mae: 0.4382\n",
      "Epoch 12/50\n",
      "159/159 [==============================] - ETA: 0s - loss: 0.2653 - mae: 0.2653\n",
      "Epoch 00012: val_loss did not improve from 0.31295\n",
      "159/159 [==============================] - 1s 7ms/step - loss: 0.2653 - mae: 0.2653 - val_loss: 0.4503 - val_mae: 0.4503\n",
      "Epoch 13/50\n",
      "156/159 [============================>.] - ETA: 0s - loss: 0.2778 - mae: 0.2778\n",
      "Epoch 00013: val_loss did not improve from 0.31295\n",
      "159/159 [==============================] - 1s 7ms/step - loss: 0.2859 - mae: 0.2859 - val_loss: 0.4110 - val_mae: 0.4110\n",
      "Epoch 14/50\n",
      "156/159 [============================>.] - ETA: 0s - loss: 0.2155 - mae: 0.2155\n",
      "Epoch 00014: val_loss did not improve from 0.31295\n",
      "159/159 [==============================] - 1s 7ms/step - loss: 0.2151 - mae: 0.2151 - val_loss: 0.4098 - val_mae: 0.4098\n",
      "Epoch 15/50\n",
      "155/159 [============================>.] - ETA: 0s - loss: 0.2121 - mae: 0.2121\n",
      "Epoch 00015: val_loss improved from 0.31295 to 0.31125, saving model to /home/aiffel0039/Documents/GitHub/aiffel/Week12/data/checkpoint/mymodel.ckpt\n",
      "159/159 [==============================] - 1s 7ms/step - loss: 0.2105 - mae: 0.2105 - val_loss: 0.3112 - val_mae: 0.3112\n",
      "Epoch 16/50\n",
      "154/159 [============================>.] - ETA: 0s - loss: 0.2602 - mae: 0.2602\n",
      "Epoch 00016: val_loss did not improve from 0.31125\n",
      "159/159 [==============================] - 1s 7ms/step - loss: 0.2584 - mae: 0.2584 - val_loss: 0.8414 - val_mae: 0.8414\n",
      "Epoch 17/50\n",
      "152/159 [===========================>..] - ETA: 0s - loss: 0.3423 - mae: 0.3423\n",
      "Epoch 00017: val_loss did not improve from 0.31125\n",
      "159/159 [==============================] - 1s 7ms/step - loss: 0.3372 - mae: 0.3372 - val_loss: 0.4843 - val_mae: 0.4843\n",
      "Epoch 18/50\n",
      "158/159 [============================>.] - ETA: 0s - loss: 0.2140 - mae: 0.2140\n",
      "Epoch 00018: val_loss did not improve from 0.31125\n",
      "159/159 [==============================] - 1s 7ms/step - loss: 0.2136 - mae: 0.2136 - val_loss: 0.4850 - val_mae: 0.4850\n",
      "Epoch 19/50\n",
      "157/159 [============================>.] - ETA: 0s - loss: 0.2245 - mae: 0.2245\n",
      "Epoch 00019: val_loss did not improve from 0.31125\n",
      "159/159 [==============================] - 1s 7ms/step - loss: 0.2284 - mae: 0.2284 - val_loss: 0.4781 - val_mae: 0.4781\n",
      "Epoch 20/50\n",
      "157/159 [============================>.] - ETA: 0s - loss: 0.2638 - mae: 0.2638\n",
      "Epoch 00020: val_loss did not improve from 0.31125\n",
      "159/159 [==============================] - 1s 7ms/step - loss: 0.2623 - mae: 0.2623 - val_loss: 0.3396 - val_mae: 0.3396\n",
      "Epoch 21/50\n",
      "155/159 [============================>.] - ETA: 0s - loss: 0.2847 - mae: 0.2847\n",
      "Epoch 00021: val_loss did not improve from 0.31125\n",
      "159/159 [==============================] - 1s 7ms/step - loss: 0.2831 - mae: 0.2831 - val_loss: 0.4023 - val_mae: 0.4023\n",
      "Epoch 22/50\n",
      "153/159 [===========================>..] - ETA: 0s - loss: 0.2993 - mae: 0.2993\n",
      "Epoch 00022: val_loss did not improve from 0.31125\n",
      "159/159 [==============================] - 1s 7ms/step - loss: 0.3049 - mae: 0.3049 - val_loss: 0.4376 - val_mae: 0.4376\n",
      "Epoch 23/50\n",
      "152/159 [===========================>..] - ETA: 0s - loss: 0.2455 - mae: 0.2455\n",
      "Epoch 00023: val_loss did not improve from 0.31125\n",
      "159/159 [==============================] - 1s 7ms/step - loss: 0.2454 - mae: 0.2454 - val_loss: 0.9879 - val_mae: 0.9879\n",
      "Epoch 24/50\n",
      "153/159 [===========================>..] - ETA: 0s - loss: 0.2749 - mae: 0.2749\n",
      "Epoch 00024: val_loss did not improve from 0.31125\n",
      "159/159 [==============================] - 1s 7ms/step - loss: 0.2736 - mae: 0.2736 - val_loss: 0.6245 - val_mae: 0.6245\n",
      "Epoch 25/50\n",
      "157/159 [============================>.] - ETA: 0s - loss: 0.2352 - mae: 0.2352\n",
      "Epoch 00025: val_loss did not improve from 0.31125\n",
      "159/159 [==============================] - 1s 7ms/step - loss: 0.2346 - mae: 0.2346 - val_loss: 0.4522 - val_mae: 0.4522\n"
     ]
    }
   ],
   "source": [
    "hist = model.fit(\n",
    "    train_gen,\n",
    "    validation_data = valid_gen,\n",
    "    steps_per_epoch = len(train_gen),\n",
    "    validation_steps = len(valid_gen),\n",
    "    epochs = 50,\n",
    "    callbacks = [checkpoint, early_stop]\n",
    ")"
   ]
  },
  {
   "cell_type": "code",
   "execution_count": 39,
   "metadata": {},
   "outputs": [
    {
     "data": {
      "text/plain": [
       "<tensorflow.python.training.tracking.util.CheckpointLoadStatus at 0x7f63d0830110>"
      ]
     },
     "execution_count": 39,
     "metadata": {},
     "output_type": "execute_result"
    }
   ],
   "source": [
    "model.load_weights(checkpoint_path)"
   ]
  },
  {
   "cell_type": "code",
   "execution_count": 40,
   "metadata": {},
   "outputs": [
    {
     "data": {
      "text/plain": [
       "<matplotlib.legend.Legend at 0x7f6300169dd0>"
      ]
     },
     "execution_count": 40,
     "metadata": {},
     "output_type": "execute_result"
    },
    {
     "data": {
      "image/png": "[encoded data removed]",
      "text/plain": [
       "<Figure size 864x576 with 1 Axes>"
      ]
     },
     "metadata": {
      "needs_background": "light"
     },
     "output_type": "display_data"
    }
   ],
   "source": [
    "fig = plt.figure(figsize=(12, 8))\n",
    "plt.plot(hist.history['loss'], label='Training')\n",
    "plt.plot(hist.history['val_loss'], label='Validation')\n",
    "plt.legend()"
   ]
  },
  {
   "cell_type": "markdown",
   "metadata": {},
   "source": [
    "별로 잘 학습하지 못하는 것 같습니다. (ㅠㅠ)\n"
   ]
  },
  {
   "cell_type": "code",
   "execution_count": 41,
   "metadata": {},
   "outputs": [
    {
     "data": {
      "image/png": "[encoded data removed]",
      "text/plain": [
       "<Figure size 648x432 with 1 Axes>"
      ]
     },
     "metadata": {
      "needs_background": "light"
     },
     "output_type": "display_data"
    }
   ],
   "source": [
    "# 예측 결과를 pred 로, 실적 데이터를 real로 받습니다\n",
    "pred = model.predict(train_gen)\n",
    "real = scaled[window_size:]\n",
    "\n",
    "mae_loss = np.mean(np.abs(pred-real), axis=1)\n",
    "\n",
    "# 샘플 개수가 많기 때문에 y축을 로그 스케일로 그립니다\n",
    "fig, ax = plt.subplots(figsize=(9,6))\n",
    "_ = plt.hist(mae_loss, 100, density=True, alpha=0.75, log=True)"
   ]
  },
  {
   "cell_type": "markdown",
   "metadata": {},
   "source": [
    "mae 값이 2.0과 2.5인 것이 아무래도 이상치인 것 같습니다. 자세히 확인해봅시다."
   ]
  },
  {
   "cell_type": "code",
   "execution_count": 45,
   "metadata": {},
   "outputs": [
    {
     "data": {
      "text/html": [
       "<div>\n",
       "<style scoped>\n",
       "    .dataframe tbody tr th:only-of-type {\n",
       "        vertical-align: middle;\n",
       "    }\n",
       "\n",
       "    .dataframe tbody tr th {\n",
       "        vertical-align: top;\n",
       "    }\n",
       "\n",
       "    .dataframe thead th {\n",
       "        text-align: right;\n",
       "    }\n",
       "</style>\n",
       "<table border=\"1\" class=\"dataframe\">\n",
       "  <thead>\n",
       "    <tr style=\"text-align: right;\">\n",
       "      <th></th>\n",
       "      <th>Date</th>\n",
       "      <th>Open</th>\n",
       "      <th>High</th>\n",
       "      <th>Low</th>\n",
       "      <th>Close</th>\n",
       "      <th>Adj Close</th>\n",
       "      <th>Volume</th>\n",
       "      <th>Loss</th>\n",
       "    </tr>\n",
       "  </thead>\n",
       "  <tbody>\n",
       "    <tr>\n",
       "      <th>4894</th>\n",
       "      <td>2020-02-27</td>\n",
       "      <td>8811.5</td>\n",
       "      <td>8878.5</td>\n",
       "      <td>8334.25</td>\n",
       "      <td>8382.750000</td>\n",
       "      <td>8382.750000</td>\n",
       "      <td>1580041.0</td>\n",
       "      <td>2.021359</td>\n",
       "    </tr>\n",
       "    <tr>\n",
       "      <th>5053</th>\n",
       "      <td>2020-09-04</td>\n",
       "      <td>11745.0</td>\n",
       "      <td>11843.0</td>\n",
       "      <td>11142.00</td>\n",
       "      <td>11548.799805</td>\n",
       "      <td>11548.799805</td>\n",
       "      <td>1202274.0</td>\n",
       "      <td>2.504088</td>\n",
       "    </tr>\n",
       "  </tbody>\n",
       "</table>\n",
       "</div>"
      ],
      "text/plain": [
       "           Date     Open     High       Low         Close     Adj Close  \\\n",
       "4894 2020-02-27   8811.5   8878.5   8334.25   8382.750000   8382.750000   \n",
       "5053 2020-09-04  11745.0  11843.0  11142.00  11548.799805  11548.799805   \n",
       "\n",
       "         Volume      Loss  \n",
       "4894  1580041.0  2.021359  \n",
       "5053  1202274.0  2.504088  "
      ]
     },
     "execution_count": 45,
     "metadata": {},
     "output_type": "execute_result"
    }
   ],
   "source": [
    "import copy\n",
    "\n",
    "test_df = copy.deepcopy(df.loc[window_size:]).reset_index(drop=True)\n",
    "test_df['Loss'] = mae_loss\n",
    "\n",
    "threshold = 2.0\n",
    "test_df.loc[test_df.Loss > threshold]"
   ]
  },
  {
   "cell_type": "markdown",
   "metadata": {},
   "source": [
    "이 값들은 완전한 이상치겠죠? 기준치를 더 낮춰봅시다."
   ]
  },
  {
   "cell_type": "code",
   "execution_count": 46,
   "metadata": {},
   "outputs": [
    {
     "data": {
      "text/html": [
       "<div>\n",
       "<style scoped>\n",
       "    .dataframe tbody tr th:only-of-type {\n",
       "        vertical-align: middle;\n",
       "    }\n",
       "\n",
       "    .dataframe tbody tr th {\n",
       "        vertical-align: top;\n",
       "    }\n",
       "\n",
       "    .dataframe thead th {\n",
       "        text-align: right;\n",
       "    }\n",
       "</style>\n",
       "<table border=\"1\" class=\"dataframe\">\n",
       "  <thead>\n",
       "    <tr style=\"text-align: right;\">\n",
       "      <th></th>\n",
       "      <th>Date</th>\n",
       "      <th>Open</th>\n",
       "      <th>High</th>\n",
       "      <th>Low</th>\n",
       "      <th>Close</th>\n",
       "      <th>Adj Close</th>\n",
       "      <th>Volume</th>\n",
       "      <th>Loss</th>\n",
       "    </tr>\n",
       "  </thead>\n",
       "  <tbody>\n",
       "    <tr>\n",
       "      <th>4580</th>\n",
       "      <td>2018-12-21</td>\n",
       "      <td>6307.500000</td>\n",
       "      <td>6317.750000</td>\n",
       "      <td>6242.000000</td>\n",
       "      <td>6257.250000</td>\n",
       "      <td>6257.250000</td>\n",
       "      <td>862689.0</td>\n",
       "      <td>1.536797</td>\n",
       "    </tr>\n",
       "    <tr>\n",
       "      <th>4892</th>\n",
       "      <td>2020-02-25</td>\n",
       "      <td>9091.000000</td>\n",
       "      <td>9224.250000</td>\n",
       "      <td>8810.000000</td>\n",
       "      <td>8854.250000</td>\n",
       "      <td>8854.250000</td>\n",
       "      <td>1344897.0</td>\n",
       "      <td>1.775662</td>\n",
       "    </tr>\n",
       "    <tr>\n",
       "      <th>4894</th>\n",
       "      <td>2020-02-27</td>\n",
       "      <td>8811.500000</td>\n",
       "      <td>8878.500000</td>\n",
       "      <td>8334.250000</td>\n",
       "      <td>8382.750000</td>\n",
       "      <td>8382.750000</td>\n",
       "      <td>1580041.0</td>\n",
       "      <td>2.021359</td>\n",
       "    </tr>\n",
       "    <tr>\n",
       "      <th>4895</th>\n",
       "      <td>2020-02-28</td>\n",
       "      <td>8347.000000</td>\n",
       "      <td>8574.750000</td>\n",
       "      <td>8126.250000</td>\n",
       "      <td>8454.000000</td>\n",
       "      <td>8454.000000</td>\n",
       "      <td>1527204.0</td>\n",
       "      <td>1.572815</td>\n",
       "    </tr>\n",
       "    <tr>\n",
       "      <th>4896</th>\n",
       "      <td>2020-03-01</td>\n",
       "      <td>8347.000000</td>\n",
       "      <td>8574.750000</td>\n",
       "      <td>8126.250000</td>\n",
       "      <td>8382.750000</td>\n",
       "      <td>8382.750000</td>\n",
       "      <td>1513887.0</td>\n",
       "      <td>1.657779</td>\n",
       "    </tr>\n",
       "    <tr>\n",
       "      <th>4897</th>\n",
       "      <td>2020-03-02</td>\n",
       "      <td>8349.250000</td>\n",
       "      <td>8883.250000</td>\n",
       "      <td>8224.250000</td>\n",
       "      <td>8791.250000</td>\n",
       "      <td>8791.250000</td>\n",
       "      <td>1373357.0</td>\n",
       "      <td>1.748520</td>\n",
       "    </tr>\n",
       "    <tr>\n",
       "      <th>4898</th>\n",
       "      <td>2020-03-03</td>\n",
       "      <td>8830.500000</td>\n",
       "      <td>9002.500000</td>\n",
       "      <td>8511.000000</td>\n",
       "      <td>8582.500000</td>\n",
       "      <td>8582.500000</td>\n",
       "      <td>1295648.0</td>\n",
       "      <td>1.729476</td>\n",
       "    </tr>\n",
       "    <tr>\n",
       "      <th>4920</th>\n",
       "      <td>2020-03-29</td>\n",
       "      <td>7395.750000</td>\n",
       "      <td>7507.250000</td>\n",
       "      <td>7367.250000</td>\n",
       "      <td>7489.250000</td>\n",
       "      <td>7489.250000</td>\n",
       "      <td>1256384.0</td>\n",
       "      <td>1.611217</td>\n",
       "    </tr>\n",
       "    <tr>\n",
       "      <th>4930</th>\n",
       "      <td>2020-04-12</td>\n",
       "      <td>8296.000000</td>\n",
       "      <td>8327.500000</td>\n",
       "      <td>8073.250000</td>\n",
       "      <td>8115.750000</td>\n",
       "      <td>8115.750000</td>\n",
       "      <td>1224003.0</td>\n",
       "      <td>1.686556</td>\n",
       "    </tr>\n",
       "    <tr>\n",
       "      <th>5018</th>\n",
       "      <td>2020-07-26</td>\n",
       "      <td>10490.000000</td>\n",
       "      <td>10517.500000</td>\n",
       "      <td>10401.000000</td>\n",
       "      <td>10445.750000</td>\n",
       "      <td>10445.750000</td>\n",
       "      <td>1005679.0</td>\n",
       "      <td>1.578506</td>\n",
       "    </tr>\n",
       "    <tr>\n",
       "      <th>5053</th>\n",
       "      <td>2020-09-04</td>\n",
       "      <td>11745.000000</td>\n",
       "      <td>11843.000000</td>\n",
       "      <td>11142.000000</td>\n",
       "      <td>11548.799805</td>\n",
       "      <td>11548.799805</td>\n",
       "      <td>1202274.0</td>\n",
       "      <td>2.504088</td>\n",
       "    </tr>\n",
       "    <tr>\n",
       "      <th>5054</th>\n",
       "      <td>2020-09-08</td>\n",
       "      <td>11531.000000</td>\n",
       "      <td>11585.000000</td>\n",
       "      <td>11040.500000</td>\n",
       "      <td>11060.500000</td>\n",
       "      <td>11060.500000</td>\n",
       "      <td>1012392.0</td>\n",
       "      <td>1.645003</td>\n",
       "    </tr>\n",
       "    <tr>\n",
       "      <th>5056</th>\n",
       "      <td>2020-09-10</td>\n",
       "      <td>11377.799805</td>\n",
       "      <td>11566.799805</td>\n",
       "      <td>11088.000000</td>\n",
       "      <td>11178.200195</td>\n",
       "      <td>11178.200195</td>\n",
       "      <td>885270.0</td>\n",
       "      <td>1.519705</td>\n",
       "    </tr>\n",
       "    <tr>\n",
       "      <th>5060</th>\n",
       "      <td>2020-09-16</td>\n",
       "      <td>11467.500000</td>\n",
       "      <td>11550.000000</td>\n",
       "      <td>11237.500000</td>\n",
       "      <td>11268.799805</td>\n",
       "      <td>11268.799805</td>\n",
       "      <td>167828.0</td>\n",
       "      <td>1.556735</td>\n",
       "    </tr>\n",
       "    <tr>\n",
       "      <th>5061</th>\n",
       "      <td>2020-09-17</td>\n",
       "      <td>11269.500000</td>\n",
       "      <td>11302.500000</td>\n",
       "      <td>10918.799805</td>\n",
       "      <td>11090.000000</td>\n",
       "      <td>11090.000000</td>\n",
       "      <td>157390.0</td>\n",
       "      <td>1.766304</td>\n",
       "    </tr>\n",
       "    <tr>\n",
       "      <th>5062</th>\n",
       "      <td>2020-09-18</td>\n",
       "      <td>11082.000000</td>\n",
       "      <td>11179.200195</td>\n",
       "      <td>11037.200195</td>\n",
       "      <td>11144.799805</td>\n",
       "      <td>11144.799805</td>\n",
       "      <td>800279.0</td>\n",
       "      <td>1.665654</td>\n",
       "    </tr>\n",
       "  </tbody>\n",
       "</table>\n",
       "</div>"
      ],
      "text/plain": [
       "           Date          Open          High           Low         Close  \\\n",
       "4580 2018-12-21   6307.500000   6317.750000   6242.000000   6257.250000   \n",
       "4892 2020-02-25   9091.000000   9224.250000   8810.000000   8854.250000   \n",
       "4894 2020-02-27   8811.500000   8878.500000   8334.250000   8382.750000   \n",
       "4895 2020-02-28   8347.000000   8574.750000   8126.250000   8454.000000   \n",
       "4896 2020-03-01   8347.000000   8574.750000   8126.250000   8382.750000   \n",
       "4897 2020-03-02   8349.250000   8883.250000   8224.250000   8791.250000   \n",
       "4898 2020-03-03   8830.500000   9002.500000   8511.000000   8582.500000   \n",
       "4920 2020-03-29   7395.750000   7507.250000   7367.250000   7489.250000   \n",
       "4930 2020-04-12   8296.000000   8327.500000   8073.250000   8115.750000   \n",
       "5018 2020-07-26  10490.000000  10517.500000  10401.000000  10445.750000   \n",
       "5053 2020-09-04  11745.000000  11843.000000  11142.000000  11548.799805   \n",
       "5054 2020-09-08  11531.000000  11585.000000  11040.500000  11060.500000   \n",
       "5056 2020-09-10  11377.799805  11566.799805  11088.000000  11178.200195   \n",
       "5060 2020-09-16  11467.500000  11550.000000  11237.500000  11268.799805   \n",
       "5061 2020-09-17  11269.500000  11302.500000  10918.799805  11090.000000   \n",
       "5062 2020-09-18  11082.000000  11179.200195  11037.200195  11144.799805   \n",
       "\n",
       "         Adj Close     Volume      Loss  \n",
       "4580   6257.250000   862689.0  1.536797  \n",
       "4892   8854.250000  1344897.0  1.775662  \n",
       "4894   8382.750000  1580041.0  2.021359  \n",
       "4895   8454.000000  1527204.0  1.572815  \n",
       "4896   8382.750000  1513887.0  1.657779  \n",
       "4897   8791.250000  1373357.0  1.748520  \n",
       "4898   8582.500000  1295648.0  1.729476  \n",
       "4920   7489.250000  1256384.0  1.611217  \n",
       "4930   8115.750000  1224003.0  1.686556  \n",
       "5018  10445.750000  1005679.0  1.578506  \n",
       "5053  11548.799805  1202274.0  2.504088  \n",
       "5054  11060.500000  1012392.0  1.645003  \n",
       "5056  11178.200195   885270.0  1.519705  \n",
       "5060  11268.799805   167828.0  1.556735  \n",
       "5061  11090.000000   157390.0  1.766304  \n",
       "5062  11144.799805   800279.0  1.665654  "
      ]
     },
     "execution_count": 46,
     "metadata": {},
     "output_type": "execute_result"
    }
   ],
   "source": [
    "threshold = 1.5\n",
    "test_df.loc[test_df.Loss > threshold]"
   ]
  },
  {
   "cell_type": "markdown",
   "metadata": {},
   "source": [
    "#### 그래프로 그래서 이상치를 찾아봅시다.\n",
    "\n",
    "- Open, Close, Low, High 같은 데이터는 스케일이 비슷하니 한번에 그립시다.\n",
    "- Volumne과 Loss는 스케일이 다르니 각각 그래프를 그립시다.\n",
    "- 기준치로 나타낸 이상치들은 붉은 점으로 그려봅시다."
   ]
  },
  {
   "cell_type": "code",
   "execution_count": 47,
   "metadata": {},
   "outputs": [
    {
     "data": {
      "text/plain": [
       "[<matplotlib.lines.Line2D at 0x7f62f8598950>]"
      ]
     },
     "execution_count": 47,
     "metadata": {},
     "output_type": "execute_result"
    },
    {
     "name": "stderr",
     "output_type": "stream",
     "text": [
      "/home/aiffel0039/anaconda3/envs/aiffel/lib/python3.7/site-packages/matplotlib/lines.py:191: FutureWarning: Using a non-tuple sequence for multidimensional indexing is deprecated; use `arr[tuple(seq)]` instead of `arr[seq]`. In the future this will be interpreted as an array index, `arr[np.array(seq)]`, which will result either in an error or a different result.\n",
      "  return Path(verts[markevery], _slice_or_none(codes, markevery))\n"
     ]
    },
    {
     "data": {
      "image/png": "[encoded data removed]",
      "text/plain": [
       "<Figure size 864x1080 with 3 Axes>"
      ]
     },
     "metadata": {
      "needs_background": "light"
     },
     "output_type": "display_data"
    }
   ],
   "source": [
    "fig = plt.figure(figsize=(12,15))\n",
    "\n",
    "# 가격들 그래프입니다\n",
    "ax = fig.add_subplot(311)\n",
    "ax.set_title('Open/Close')\n",
    "plt.plot(test_df.Date, test_df.Close, linewidth=0.5, alpha=0.75, label='Close')\n",
    "plt.plot(test_df.Date, test_df.Open, linewidth=0.5, alpha=0.75, label='Open')\n",
    "plt.plot(test_df.Date, test_df.Close, 'or', markevery=[mae_loss>threshold])\n",
    "\n",
    "# 거래량 그래프입니다\n",
    "ax = fig.add_subplot(312)\n",
    "ax.set_title('Volume')\n",
    "plt.plot(test_df.Date, test_df.Volume, linewidth=0.5, alpha=0.75, label='Volume')\n",
    "plt.plot(test_df.Date, test_df.Volume, 'or', markevery=[mae_loss>threshold])\n",
    "\n",
    "# 오차율 그래프입니다\n",
    "ax = fig.add_subplot(313)\n",
    "ax.set_title('Loss')\n",
    "plt.plot(test_df.Date, test_df.Loss, linewidth=0.5, alpha=0.75, label='Loss')\n",
    "plt.plot(test_df.Date, test_df.Loss, 'or', markevery=[mae_loss>threshold])"
   ]
  },
  {
   "cell_type": "markdown",
   "metadata": {},
   "source": []
  }
 ],
 "metadata": {
  "kernelspec": {
   "display_name": "aiffel",
   "language": "python",
   "name": "aiffel"
  },
  "language_info": {
   "codemirror_mode": {
    "name": "ipython",
    "version": 3
   },
   "file_extension": ".py",
   "mimetype": "text/x-python",
   "name": "python",
   "nbconvert_exporter": "python",
   "pygments_lexer": "ipython3",
   "version": "3.7.7"
  }
 },
 "nbformat": 4,
 "nbformat_minor": 4
}
