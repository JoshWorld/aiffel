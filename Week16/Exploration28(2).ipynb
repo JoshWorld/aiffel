{
 "cells": [
  {
   "cell_type": "markdown",
   "metadata": {},
   "source": [
    "# 프로젝트 : 개구리는 안돼요! (CIFAR-10)\n",
    "\n",
    "이번 프로젝트는 지금까지의 실습과 동일한 방법으로 CIFAR-10 데이터셋에 대해 진행해보겠습니다.\n",
    "\n",
    "만들 모델은 CIFAR-10의 10가지 클래스 중 개구리 라벨을 이상 데이터로 처리하는 모델입니다. 혹시 개구리가 출현할 경우 이를 감지하여 이상감지 경과를 발생시키는 개구리 감지 모델이라고 할 수 있겠습니다.\n",
    "\n",
    "아래 순서를 따라 진행해주세요.\n",
    "\n",
    "- 이상 감지용 데이터셋 구축 (개구리 데이터를 학습 데이터셋에서 제외하며 테스트 데이터셋에 포함)\n",
    "- Skip-GANomaly 모델의 구현\n",
    "- 모델의 학습과 검증\n",
    "- 검증 결과의 시각화 (정상 - 이상 데이터의 anomaly score 분포 시각화, 적절한 threshold에 따른 이상감지율 계산, 감지 성공/실패 사례 시각화 포함)"
   ]
  },
  {
   "cell_type": "code",
   "execution_count": 1,
   "metadata": {},
   "outputs": [],
   "source": [
    "#필요한 모듈 import\n",
    "import tensorflow as tf\n",
    "\n",
    "from sklearn.metrics import roc_curve, auc, accuracy_score, confusion_matrix, precision_recall_curve, average_precision_score\n",
    "from scipy.interpolate import interp1d\n",
    "from inspect import signature\n",
    "from scipy.optimize import brentq\n",
    "\n",
    "import glob\n",
    "import imageio\n",
    "import matplotlib.pyplot as plt\n",
    "import numpy as np\n",
    "import os\n",
    "\n",
    "import PIL\n",
    "from tensorflow.keras import layers\n",
    "import time\n",
    "from scipy.stats import norm\n",
    "\n",
    "from IPython import display"
   ]
  },
  {
   "cell_type": "markdown",
   "metadata": {},
   "source": [
    "## Step 1. 이상감지 데이터셋 구축"
   ]
  },
  {
   "cell_type": "code",
   "execution_count": 3,
   "metadata": {},
   "outputs": [],
   "source": [
    "(train_data, train_labels), (test_data, test_labels) = tf.keras.datasets.cifar10.load_data()\n",
    "\n",
    "train_data = (train_data - 127.5) / 127.5\n",
    "test_data = (test_data - 127.5) / 127.5"
   ]
  },
  {
   "cell_type": "code",
   "execution_count": 4,
   "metadata": {},
   "outputs": [
    {
     "data": {
      "text/plain": [
       "(50000, 32, 32, 3)"
      ]
     },
     "execution_count": 4,
     "metadata": {},
     "output_type": "execute_result"
    }
   ],
   "source": [
    "train_data.shape"
   ]
  },
  {
   "cell_type": "code",
   "execution_count": 12,
   "metadata": {},
   "outputs": [
    {
     "name": "stderr",
     "output_type": "stream",
     "text": [
      "Clipping input data to the valid range for imshow with RGB data ([0..1] for floats or [0..255] for integers).\n",
      "Clipping input data to the valid range for imshow with RGB data ([0..1] for floats or [0..255] for integers).\n",
      "Clipping input data to the valid range for imshow with RGB data ([0..1] for floats or [0..255] for integers).\n",
      "Clipping input data to the valid range for imshow with RGB data ([0..1] for floats or [0..255] for integers).\n",
      "Clipping input data to the valid range for imshow with RGB data ([0..1] for floats or [0..255] for integers).\n",
      "Clipping input data to the valid range for imshow with RGB data ([0..1] for floats or [0..255] for integers).\n",
      "Clipping input data to the valid range for imshow with RGB data ([0..1] for floats or [0..255] for integers).\n",
      "Clipping input data to the valid range for imshow with RGB data ([0..1] for floats or [0..255] for integers).\n",
      "Clipping input data to the valid range for imshow with RGB data ([0..1] for floats or [0..255] for integers).\n",
      "Clipping input data to the valid range for imshow with RGB data ([0..1] for floats or [0..255] for integers).\n"
     ]
    },
    {
     "data": {
      "image/png": "[encoded data removed]",
      "text/plain": [
       "<Figure size 720x360 with 10 Axes>"
      ]
     },
     "metadata": {
      "needs_background": "light"
     },
     "output_type": "display_data"
    }
   ],
   "source": [
    "from PIL import Image\n",
    "\n",
    "plt.figure(figsize=(10, 5))\n",
    "\n",
    "for i in range(10):\n",
    "    plt.subplot(2, 5, i+1)\n",
    "    plt.imshow(train_data[i])\n",
    "    plt.title(f'index:{i}')\n",
    "    plt.axis('off')\n",
    "plt.show()"
   ]
  },
  {
   "cell_type": "code",
   "execution_count": 19,
   "metadata": {},
   "outputs": [
    {
     "data": {
      "text/plain": [
       "array([[6],\n",
       "       [9],\n",
       "       [9],\n",
       "       ...,\n",
       "       [9],\n",
       "       [1],\n",
       "       [1]], dtype=uint8)"
      ]
     },
     "execution_count": 19,
     "metadata": {},
     "output_type": "execute_result"
    }
   ],
   "source": [
    "train_labels"
   ]
  },
  {
   "cell_type": "markdown",
   "metadata": {},
   "source": [
    "개구리 라벨은 6번입니다. 이상 데이터로 선정된 6번 라벨 데이터를 제외하도록 합시다."
   ]
  },
  {
   "cell_type": "code",
   "execution_count": 30,
   "metadata": {},
   "outputs": [],
   "source": [
    "def set_labels(labels):\n",
    "    new_t_labels = []\n",
    "    for old_label in labels:\n",
    "        if old_label == 6:\n",
    "            #print(old_label)\n",
    "            new_t_labels.append([0]) # 이상치로 처리\n",
    "        else:\n",
    "            new_t_labels.append([1])\n",
    "    return new_t_labels"
   ]
  },
  {
   "cell_type": "code",
   "execution_count": 31,
   "metadata": {},
   "outputs": [],
   "source": [
    "bol_train_labels = set_labels(train_labels)\n",
    "bol_test_labels = set_labels(test_labels)"
   ]
  },
  {
   "cell_type": "code",
   "execution_count": 36,
   "metadata": {},
   "outputs": [],
   "source": [
    "normal_data = []\n",
    "normal_labels = []\n",
    "anomaly_data = []\n",
    "anomaly_labels = []\n",
    "\n",
    "for data, label in zip(train_data, bol_train_labels):\n",
    "    if label == [0]:\n",
    "        anomaly_data.append(data)\n",
    "        anomaly_labels.append(label)\n",
    "    else:\n",
    "        normal_data.append(data)\n",
    "        normal_labels.append(label)\n",
    "        \n",
    "normal_data = np.array(normal_data)\n",
    "normal_labels = np.array(normal_labels)\n",
    "anomaly_data = np.array(anomaly_data)\n",
    "anomaly_labels = np.array(anomaly_labels)"
   ]
  },
  {
   "cell_type": "code",
   "execution_count": 37,
   "metadata": {},
   "outputs": [
    {
     "name": "stdout",
     "output_type": "stream",
     "text": [
      "(45000, 32, 32, 3) (45000, 1)\n",
      "(5000, 32, 32, 3) (5000, 1)\n"
     ]
    }
   ],
   "source": [
    "print(normal_data.shape, normal_labels.shape)\n",
    "print(anomaly_data.shape, anomaly_labels.shape)"
   ]
  },
  {
   "cell_type": "code",
   "execution_count": 38,
   "metadata": {},
   "outputs": [],
   "source": [
    "train_data = normal_data\n",
    "bol_train_labels = normal_labels\n",
    "test_data = tf.concat([test_data, anomaly_data], 0)\n",
    "bol_test_labels = tf.concat([bol_test_labels, anomaly_labels], 0)"
   ]
  },
  {
   "cell_type": "code",
   "execution_count": 39,
   "metadata": {},
   "outputs": [
    {
     "name": "stdout",
     "output_type": "stream",
     "text": [
      "(45000, 32, 32, 3)\n",
      "(15000, 32, 32, 3)\n"
     ]
    }
   ],
   "source": [
    "print(train_data.shape)\n",
    "print(test_data.shape)"
   ]
  },
  {
   "cell_type": "code",
   "execution_count": 40,
   "metadata": {},
   "outputs": [
    {
     "name": "stdout",
     "output_type": "stream",
     "text": [
      "(45000, 1)\n",
      "(15000, 1)\n"
     ]
    }
   ],
   "source": [
    "print(bol_train_labels.shape)\n",
    "print(bol_test_labels.shape)"
   ]
  },
  {
   "cell_type": "markdown",
   "metadata": {},
   "source": [
    "50000건의 데이터를 잘 나눈 것 같습니다. 개구리만 5000장이나 있네요?"
   ]
  },
  {
   "cell_type": "code",
   "execution_count": 44,
   "metadata": {},
   "outputs": [
    {
     "name": "stdout",
     "output_type": "stream",
     "text": [
      "Done\n"
     ]
    }
   ],
   "source": [
    "for label in bol_train_labels:\n",
    "    if label == 0:\n",
    "        print(label)\n",
    "print(\"Done\")"
   ]
  },
  {
   "cell_type": "markdown",
   "metadata": {},
   "source": [
    "데이터셋을 구성하고 label을 검증해봅시다. \n",
    "\n",
    "훈련 데이터셋에는 라벨이 1인 데이터만 존재하고 테스트 데이터에는 0과 1이 섞여있어야 합니다."
   ]
  },
  {
   "cell_type": "code",
   "execution_count": 45,
   "metadata": {},
   "outputs": [],
   "source": [
    "BUFFER_SIZE = 10000\n",
    "BATCH_SIZE = 8\n",
    "\n",
    "train_dataset = tf.data.Dataset.from_tensor_slices((train_data, bol_train_labels))\n",
    "train_dataset = train_dataset.shuffle(BUFFER_SIZE).batch(BATCH_SIZE)\n",
    "\n",
    "test_dataset = tf.data.Dataset.from_tensor_slices((test_data, bol_test_labels))\n",
    "test_dataset = test_dataset.shuffle(BUFFER_SIZE).batch(BATCH_SIZE)"
   ]
  },
  {
   "cell_type": "code",
   "execution_count": 46,
   "metadata": {},
   "outputs": [
    {
     "name": "stdout",
     "output_type": "stream",
     "text": [
      "tf.Tensor(\n",
      "[[1]\n",
      " [1]\n",
      " [1]\n",
      " [1]\n",
      " [1]\n",
      " [1]\n",
      " [1]\n",
      " [1]], shape=(8, 1), dtype=int64)\n"
     ]
    }
   ],
   "source": [
    "for data, label in train_dataset.take(1):\n",
    "    print(label)"
   ]
  },
  {
   "cell_type": "code",
   "execution_count": 48,
   "metadata": {},
   "outputs": [
    {
     "name": "stdout",
     "output_type": "stream",
     "text": [
      "tf.Tensor(\n",
      "[[0]\n",
      " [1]\n",
      " [1]\n",
      " [1]\n",
      " [1]\n",
      " [1]\n",
      " [0]\n",
      " [1]], shape=(8, 1), dtype=int32)\n"
     ]
    }
   ],
   "source": [
    "for data, label in test_dataset.take(1):\n",
    "    print(label)"
   ]
  },
  {
   "cell_type": "markdown",
   "metadata": {},
   "source": [
    "## Step 2. Skip-GANomaly 모델의 구현\n",
    "\n",
    "\n",
    "### Generator"
   ]
  },
  {
   "cell_type": "code",
   "execution_count": 89,
   "metadata": {},
   "outputs": [],
   "source": [
    "class Conv_block(tf.keras.Model):\n",
    "    def __init__(self, num_filters):\n",
    "        super(Conv_block, self).__init__()\n",
    "        self.conv_layer = tf.keras.Sequential([\n",
    "            layers.Conv2D(num_filters, 3, strides=2, padding='same', use_bias=False,\n",
    "                          kernel_initializer=tf.random_normal_initializer(0., 0.02)),\n",
    "            layers.BatchNormalization(),\n",
    "            layers.LeakyReLU(0.2),\n",
    "        ])\n",
    "        \n",
    "    def call(self, inputs, training=False):\n",
    "        outputs = self.conv_layer(inputs)\n",
    "        \n",
    "        return outputs"
   ]
  },
  {
   "cell_type": "code",
   "execution_count": 90,
   "metadata": {},
   "outputs": [],
   "source": [
    "class Conv_T_block(tf.keras.Model):\n",
    "    def __init__(self, num_filters):\n",
    "        super(Conv_T_block, self).__init__()\n",
    "        self.conv_T_layer = tf.keras.Sequential([\n",
    "            layers.Conv2DTranspose(num_filters, 3, strides=2, padding='same', use_bias=False,\n",
    "                                   kernel_initializer=tf.random_normal_initializer(0., 0.02)),\n",
    "            layers.BatchNormalization(),\n",
    "            layers.ReLU(),\n",
    "        ])\n",
    "        \n",
    "    def call(self, inputs, concat, training=False):\n",
    "        upsample = self.conv_T_layer(inputs)\n",
    "        outputs = tf.concat([upsample, concat], -1)\n",
    "        \n",
    "        return outputs"
   ]
  },
  {
   "cell_type": "code",
   "execution_count": 79,
   "metadata": {},
   "outputs": [],
   "source": [
    "class Generator(tf.keras.Model):\n",
    "    def __init__(self, num_output_channel = 3):\n",
    "        super(Generator, self).__init__()\n",
    "        \n",
    "        self.encoder_1 = Conv_block(64) # 16\n",
    "        self.encoder_2 = Conv_block(128) # 8\n",
    "        self.encoder_3 = Conv_block(256) # 4\n",
    "        self.encoder_4 = Conv_block(512) # 2\n",
    "        \n",
    "        self.center = Conv_block(512) # 1\n",
    "        \n",
    "        self.decoder_4 = Conv_T_block(512) # 2\n",
    "        self.decoder_3 = Conv_T_block(256) # 4\n",
    "        self.decoder_2 = Conv_T_block(128) # 8\n",
    "        self.decoder_1 = Conv_T_block(64) # 16\n",
    "        \n",
    "        self.output_layer = layers.Conv2DTranspose(num_output_channel, 1, strides=2,\n",
    "                                                  padding='same', use_bias=False,\n",
    "                                                  kernel_initializer=tf.random_normal_initializer(0., 0.02))\n",
    "        \n",
    "    def call(self, inputs, training=False):\n",
    "        en_1 = self.encoder_1(inputs) # gen\n",
    "        en_2 = self.encoder_2(en_1)\n",
    "        en_3 = self.encoder_3(en_2)\n",
    "        en_4 = self.encoder_4(en_3)\n",
    "        \n",
    "        center = self.center(en_4)\n",
    "        \n",
    "        de_4 = self.decoder_4(center, en_4)\n",
    "        de_3 = self.decoder_3(de_4, en_3)\n",
    "        de_2 = self.decoder_2(de_3, en_2)\n",
    "        de_1 = self.decoder_1(de_2, en_1)\n",
    "        \n",
    "        outputs = self.output_layer(de_1)\n",
    "        \n",
    "        return outputs"
   ]
  },
  {
   "cell_type": "markdown",
   "metadata": {},
   "source": [
    "### Discriminator\n",
    "\n",
    "Discriminator도 Generator처럼 Conv_block을 활용하며, 최종적으로 sigmoid를 거쳐 0~1 사이의 숫자를 리턴합니다.\n",
    "\n"
   ]
  },
  {
   "cell_type": "code",
   "execution_count": 80,
   "metadata": {},
   "outputs": [],
   "source": [
    "class Discriminator(tf.keras.Model):\n",
    "    def __init__(self):\n",
    "        super(Discriminator, self).__init__()\n",
    "        \n",
    "        self.encoder_1 = Conv_block(64) # 16\n",
    "        self.encoder_2 = Conv_block(128) # 8\n",
    "        self.encoder_3 = Conv_block(256) # 4\n",
    "        self.encoder_4 = Conv_block(512) # 2\n",
    "        \n",
    "        self.center = Conv_block(100) # 1\n",
    "        \n",
    "        self.outputs = layers.Conv2D(1, 3, strides=1, padding='same',\n",
    "                                    use_bias = False, activation='sigmoid')\n",
    "        \n",
    "    def call(self, inputs, training=False):\n",
    "        en_1 = self.encoder_1(inputs) # dis\n",
    "        en_2 = self.encoder_2(en_1)\n",
    "        en_3 = self.encoder_3(en_2)\n",
    "        en_4 = self.encoder_4(en_3)\n",
    "        \n",
    "        center = self.center(en_4)\n",
    "        \n",
    "        outputs = self.outputs(center)\n",
    "        \n",
    "        return outputs, center"
   ]
  },
  {
   "cell_type": "code",
   "execution_count": 91,
   "metadata": {},
   "outputs": [],
   "source": [
    "generator = Generator(num_output_channel=3)\n",
    "discriminator = Discriminator()"
   ]
  },
  {
   "cell_type": "markdown",
   "metadata": {},
   "source": [
    "### Loss 함수\n",
    "\n",
    "GAN 모델의 핵심은 Loss 함수의 구성방법에 달려 있다고 해도 과언이 아닙니다. Skip-GANomaly는 이전 모델들과 달리 일반적인 GAN의 학습 절차와 같은 형태의 Loss 구성이 진행됩니다."
   ]
  },
  {
   "cell_type": "code",
   "execution_count": 82,
   "metadata": {},
   "outputs": [],
   "source": [
    "l2_loss = tf.keras.losses.MeanSquaredError()\n",
    "l1_loss = tf.keras.losses.MeanAbsoluteError()\n",
    "cross_entropy = tf.keras.losses.BinaryCrossentropy(from_logits = False)"
   ]
  },
  {
   "cell_type": "code",
   "execution_count": 83,
   "metadata": {},
   "outputs": [],
   "source": [
    "def discriminator_loss(pred_real, pred_fake):\n",
    "    real_loss = cross_entropy(tf.ones_like(pred_real), pred_real)\n",
    "    fake_loss = cross_entropy(tf.zeros_like(pred_fake), pred_fake)\n",
    "    \n",
    "    total_dis_loss = (real_loss + fake_loss) * 0.5\n",
    "    \n",
    "    return total_dis_loss"
   ]
  },
  {
   "cell_type": "code",
   "execution_count": 84,
   "metadata": {},
   "outputs": [],
   "source": [
    "def generator_loss(real_output, fake_output, \n",
    "                   input_data, gen_data, \n",
    "                   latent_first, latent_sec):\n",
    "    w_adv = 1.\n",
    "    w_context = 40.\n",
    "    w_encoder = 1.\n",
    "    \n",
    "    adv_loss = cross_entropy(real_output, fake_output)\n",
    "    context_loss = l1_loss(input_data, gen_data)\n",
    "    encoder_loss = l2_loss(latent_first, latent_sec)\n",
    "    \n",
    "    total_gen_loss = w_adv * adv_loss + \\\n",
    "        w_context * context_loss + \\\n",
    "        w_encoder * encoder_loss\n",
    "\n",
    "    return total_gen_loss"
   ]
  },
  {
   "cell_type": "code",
   "execution_count": 85,
   "metadata": {},
   "outputs": [],
   "source": [
    "# Optimizer 설정\n",
    "generator_optimizer = tf.keras.optimizers.Adam(2e-3, 0.5)\n",
    "discriminator_optimizer = tf.keras.optimizers.Adam(2e-3, 0.5)"
   ]
  },
  {
   "cell_type": "markdown",
   "metadata": {},
   "source": [
    "## Step 3. 모델 학습과 검증\n",
    "\n",
    "### Model Train\n",
    "\n",
    "본격적으로 모델을 학습시켜봅시다!"
   ]
  },
  {
   "cell_type": "code",
   "execution_count": 86,
   "metadata": {},
   "outputs": [],
   "source": [
    "def train_step(images):\n",
    "    with tf.GradientTape() as gen_tape, tf.GradientTape() as disc_tape:\n",
    "        generated_images = generator(images, training=True)\n",
    "        \n",
    "        pred_real, feat_real = discriminator(images, training=True)\n",
    "        pred_fake, feat_fake = discriminator(generated_images, training=True)\n",
    "\n",
    "        gen_loss = generator_loss(pred_real, pred_fake,\n",
    "                                  images, generated_images,\n",
    "                                  feat_real, feat_fake)\n",
    "\n",
    "        disc_loss = discriminator_loss(pred_real, pred_fake)        \n",
    "\n",
    "    gradients_of_generator = gen_tape.gradient(gen_loss, generator.trainable_variables)\n",
    "    gradients_of_discriminator = disc_tape.gradient(disc_loss, discriminator.trainable_variables)\n",
    "\n",
    "    generator_optimizer.apply_gradients(zip(gradients_of_generator, generator.trainable_variables))\n",
    "    discriminator_optimizer.apply_gradients(zip(gradients_of_discriminator, discriminator.trainable_variables))\n",
    "    \n",
    "    return gen_loss, disc_loss"
   ]
  },
  {
   "cell_type": "code",
   "execution_count": 87,
   "metadata": {},
   "outputs": [],
   "source": [
    "checkpoint_path = os.path.join(os.getenv('HOME'),'aiffel/ganomaly_skip_no_norm/ckpt')\n",
    "\n",
    "if not os.path.isdir(checkpoint_path):\n",
    "    os.makedirs(checkpoint_path)\n",
    "    \n",
    "checkpoint = tf.train.Checkpoint(generator_optimizer=generator_optimizer,\n",
    "                                 discriminator_optimizer=discriminator_optimizer,\n",
    "                                 generator=generator,\n",
    "                                 discriminator=discriminator)"
   ]
  },
  {
   "cell_type": "code",
   "execution_count": null,
   "metadata": {},
   "outputs": [
    {
     "name": "stdout",
     "output_type": "stream",
     "text": [
      "WARNING:tensorflow:Layer generator_4 is casting an input tensor from dtype float64 to the layer's dtype of float32, which is new behavior in TensorFlow 2.  The layer has dtype float32 because its dtype defaults to floatx.\n",
      "\n",
      "If you intended to run this layer in float32, you can safely ignore this warning. If in doubt, this warning is likely only an issue if you are porting a TensorFlow 1.X model to TensorFlow 2.\n",
      "\n",
      "To change all layers to have dtype float64 by default, call `tf.keras.backend.set_floatx('float64')`. To change just this layer, pass dtype='float64' to the layer constructor. If you are the author of this layer, you can disable autocasting by passing autocast=False to the base Layer constructor.\n",
      "\n",
      "WARNING:tensorflow:Layer discriminator_3 is casting an input tensor from dtype float64 to the layer's dtype of float32, which is new behavior in TensorFlow 2.  The layer has dtype float32 because its dtype defaults to floatx.\n",
      "\n",
      "If you intended to run this layer in float32, you can safely ignore this warning. If in doubt, this warning is likely only an issue if you are porting a TensorFlow 1.X model to TensorFlow 2.\n",
      "\n",
      "To change all layers to have dtype float64 by default, call `tf.keras.backend.set_floatx('float64')`. To change just this layer, pass dtype='float64' to the layer constructor. If you are the author of this layer, you can disable autocasting by passing autocast=False to the base Layer constructor.\n",
      "\n",
      "Steps : 100, \t Total Gen Loss : 16.356691360473633, \t Total Dis Loss : 0.6951030492782593\n",
      "Steps : 200, \t Total Gen Loss : 16.629589080810547, \t Total Dis Loss : 0.6449999809265137\n",
      "Steps : 300, \t Total Gen Loss : 15.86461353302002, \t Total Dis Loss : 0.5917054414749146\n",
      "Steps : 400, \t Total Gen Loss : 19.19941520690918, \t Total Dis Loss : 0.29509440064430237\n",
      "Steps : 500, \t Total Gen Loss : 17.099016189575195, \t Total Dis Loss : 0.2623327672481537\n",
      "Steps : 600, \t Total Gen Loss : 16.36342430114746, \t Total Dis Loss : 0.3408002257347107\n",
      "Steps : 700, \t Total Gen Loss : 16.048376083374023, \t Total Dis Loss : 0.37195253372192383\n",
      "Steps : 800, \t Total Gen Loss : 17.309175491333008, \t Total Dis Loss : 0.1719617247581482\n",
      "Steps : 900, \t Total Gen Loss : 16.97923469543457, \t Total Dis Loss : 0.16030538082122803\n",
      "Steps : 1000, \t Total Gen Loss : 20.33144187927246, \t Total Dis Loss : 0.027784397825598717\n",
      "Steps : 1100, \t Total Gen Loss : 18.306947708129883, \t Total Dis Loss : 0.04161907732486725\n",
      "Steps : 1200, \t Total Gen Loss : 20.48210906982422, \t Total Dis Loss : 0.11648516356945038\n",
      "Steps : 1300, \t Total Gen Loss : 15.821781158447266, \t Total Dis Loss : 0.07110145688056946\n",
      "Steps : 1400, \t Total Gen Loss : 17.950197219848633, \t Total Dis Loss : 0.08691800385713577\n",
      "Steps : 1500, \t Total Gen Loss : 21.32716178894043, \t Total Dis Loss : 0.14897993206977844\n",
      "Steps : 1600, \t Total Gen Loss : 20.718860626220703, \t Total Dis Loss : 0.06855916231870651\n",
      "Steps : 1700, \t Total Gen Loss : 19.77260398864746, \t Total Dis Loss : 0.058197248727083206\n",
      "Steps : 1800, \t Total Gen Loss : 16.91268539428711, \t Total Dis Loss : 0.1879613697528839\n",
      "Steps : 1900, \t Total Gen Loss : 19.47414207458496, \t Total Dis Loss : 0.16694897413253784\n",
      "Steps : 2000, \t Total Gen Loss : 20.4783935546875, \t Total Dis Loss : 0.014593455940485\n",
      "Steps : 2100, \t Total Gen Loss : 20.24393081665039, \t Total Dis Loss : 0.11833131313323975\n",
      "Steps : 2200, \t Total Gen Loss : 19.68853187561035, \t Total Dis Loss : 0.03135431185364723\n",
      "Steps : 2300, \t Total Gen Loss : 21.12094497680664, \t Total Dis Loss : 0.011588049121201038\n",
      "Steps : 2400, \t Total Gen Loss : 20.02750587463379, \t Total Dis Loss : 0.011459682136774063\n",
      "Steps : 2500, \t Total Gen Loss : 20.68317985534668, \t Total Dis Loss : 0.00834900327026844\n",
      "Steps : 2600, \t Total Gen Loss : 22.01302719116211, \t Total Dis Loss : 0.19845429062843323\n",
      "Steps : 2700, \t Total Gen Loss : 18.384244918823242, \t Total Dis Loss : 0.0164018627256155\n",
      "Steps : 2800, \t Total Gen Loss : 20.155168533325195, \t Total Dis Loss : 0.09650775790214539\n",
      "Steps : 2900, \t Total Gen Loss : 20.18827247619629, \t Total Dis Loss : 0.009731338359415531\n",
      "Steps : 3000, \t Total Gen Loss : 22.5264949798584, \t Total Dis Loss : 0.006097977980971336\n",
      "Steps : 3100, \t Total Gen Loss : 19.466190338134766, \t Total Dis Loss : 0.09060083329677582\n",
      "Steps : 3200, \t Total Gen Loss : 24.105539321899414, \t Total Dis Loss : 0.03154595568776131\n",
      "Steps : 3300, \t Total Gen Loss : 20.0511531829834, \t Total Dis Loss : 0.2145995944738388\n",
      "Steps : 3400, \t Total Gen Loss : 21.031009674072266, \t Total Dis Loss : 0.006319369655102491\n",
      "Steps : 3500, \t Total Gen Loss : 21.035741806030273, \t Total Dis Loss : 0.03559686616063118\n",
      "Steps : 3600, \t Total Gen Loss : 21.317838668823242, \t Total Dis Loss : 0.005278985947370529\n",
      "Steps : 3700, \t Total Gen Loss : 22.47818946838379, \t Total Dis Loss : 0.004522780887782574\n",
      "Steps : 3800, \t Total Gen Loss : 23.038299560546875, \t Total Dis Loss : 0.01362110860645771\n",
      "Steps : 3900, \t Total Gen Loss : 21.863304138183594, \t Total Dis Loss : 0.005246401764452457\n",
      "Steps : 4000, \t Total Gen Loss : 23.16767692565918, \t Total Dis Loss : 0.006652428302913904\n",
      "Steps : 4100, \t Total Gen Loss : 23.0129451751709, \t Total Dis Loss : 0.008569384925067425\n",
      "Steps : 4200, \t Total Gen Loss : 20.715295791625977, \t Total Dis Loss : 0.008178062736988068\n",
      "Steps : 4300, \t Total Gen Loss : 22.313337326049805, \t Total Dis Loss : 0.07371394336223602\n",
      "Steps : 4400, \t Total Gen Loss : 21.91274070739746, \t Total Dis Loss : 0.005310523323714733\n",
      "Steps : 4500, \t Total Gen Loss : 19.68568229675293, \t Total Dis Loss : 0.010339783504605293\n",
      "Steps : 4600, \t Total Gen Loss : 22.071138381958008, \t Total Dis Loss : 0.00355493719689548\n",
      "Steps : 4700, \t Total Gen Loss : 23.434986114501953, \t Total Dis Loss : 0.00982084684073925\n",
      "Steps : 4800, \t Total Gen Loss : 19.741043090820312, \t Total Dis Loss : 0.004558799788355827\n",
      "Steps : 4900, \t Total Gen Loss : 22.021892547607422, \t Total Dis Loss : 0.005455661565065384\n",
      "Steps : 5000, \t Total Gen Loss : 20.993732452392578, \t Total Dis Loss : 0.002111402340233326\n",
      "Steps : 5100, \t Total Gen Loss : 18.545116424560547, \t Total Dis Loss : 0.015191765502095222\n",
      "Steps : 5200, \t Total Gen Loss : 22.227725982666016, \t Total Dis Loss : 0.004643484950065613\n",
      "Steps : 5300, \t Total Gen Loss : 23.800289154052734, \t Total Dis Loss : 0.0026977756060659885\n",
      "Steps : 5400, \t Total Gen Loss : 24.08199691772461, \t Total Dis Loss : 0.003628496080636978\n",
      "Steps : 5500, \t Total Gen Loss : 21.04743766784668, \t Total Dis Loss : 0.003790607675909996\n",
      "Steps : 5600, \t Total Gen Loss : 24.142019271850586, \t Total Dis Loss : 0.011172262020409107\n",
      "Time for epoch 1 is 290.35519647598267 sec\n",
      "Steps : 5700, \t Total Gen Loss : 21.59862518310547, \t Total Dis Loss : 0.0034605134278535843\n",
      "Steps : 5800, \t Total Gen Loss : 21.634681701660156, \t Total Dis Loss : 0.0014267002698034048\n",
      "Steps : 5900, \t Total Gen Loss : 23.260780334472656, \t Total Dis Loss : 0.007857243530452251\n",
      "Steps : 6000, \t Total Gen Loss : 20.587120056152344, \t Total Dis Loss : 0.028073791414499283\n",
      "Steps : 6100, \t Total Gen Loss : 21.468568801879883, \t Total Dis Loss : 0.009033691138029099\n",
      "Steps : 6200, \t Total Gen Loss : 19.469810485839844, \t Total Dis Loss : 0.4516032338142395\n",
      "Steps : 6300, \t Total Gen Loss : 24.951595306396484, \t Total Dis Loss : 0.010560369119048119\n",
      "Steps : 6400, \t Total Gen Loss : 21.308753967285156, \t Total Dis Loss : 0.006163426674902439\n",
      "Steps : 6500, \t Total Gen Loss : 22.376005172729492, \t Total Dis Loss : 0.004191129002720118\n",
      "Steps : 6600, \t Total Gen Loss : 22.059423446655273, \t Total Dis Loss : 0.0069519877433776855\n",
      "Steps : 6700, \t Total Gen Loss : 22.368770599365234, \t Total Dis Loss : 0.010609113611280918\n",
      "Steps : 6800, \t Total Gen Loss : 21.45404052734375, \t Total Dis Loss : 0.02545516937971115\n",
      "Steps : 6900, \t Total Gen Loss : 21.659076690673828, \t Total Dis Loss : 0.007318055257201195\n",
      "Steps : 7000, \t Total Gen Loss : 19.59079360961914, \t Total Dis Loss : 0.005182735156267881\n",
      "Steps : 7100, \t Total Gen Loss : 23.89142417907715, \t Total Dis Loss : 0.05658078193664551\n",
      "Steps : 7200, \t Total Gen Loss : 19.124677658081055, \t Total Dis Loss : 0.008057261817157269\n",
      "Steps : 7300, \t Total Gen Loss : 20.79673194885254, \t Total Dis Loss : 0.008643396198749542\n",
      "Steps : 7400, \t Total Gen Loss : 23.309463500976562, \t Total Dis Loss : 0.006904815323650837\n"
     ]
    },
    {
     "name": "stdout",
     "output_type": "stream",
     "text": [
      "Steps : 7500, \t Total Gen Loss : 20.62744140625, \t Total Dis Loss : 0.012571100145578384\n",
      "Steps : 7600, \t Total Gen Loss : 21.312015533447266, \t Total Dis Loss : 0.006426719948649406\n",
      "Steps : 7700, \t Total Gen Loss : 23.053009033203125, \t Total Dis Loss : 0.006357967853546143\n",
      "Steps : 7800, \t Total Gen Loss : 20.81296730041504, \t Total Dis Loss : 0.0044759297743439674\n",
      "Steps : 7900, \t Total Gen Loss : 21.43758201599121, \t Total Dis Loss : 0.003276082221418619\n",
      "Steps : 8000, \t Total Gen Loss : 21.98386573791504, \t Total Dis Loss : 0.001989067532122135\n",
      "Steps : 8100, \t Total Gen Loss : 20.911640167236328, \t Total Dis Loss : 0.0013820463791489601\n",
      "Steps : 8200, \t Total Gen Loss : 24.292871475219727, \t Total Dis Loss : 0.004574926104396582\n",
      "Steps : 8300, \t Total Gen Loss : 20.010971069335938, \t Total Dis Loss : 0.10062025487422943\n",
      "Steps : 8400, \t Total Gen Loss : 23.793867111206055, \t Total Dis Loss : 0.0035297181457281113\n",
      "Steps : 8500, \t Total Gen Loss : 27.462818145751953, \t Total Dis Loss : 0.0024660672061145306\n",
      "Steps : 8600, \t Total Gen Loss : 22.913097381591797, \t Total Dis Loss : 0.02796102687716484\n",
      "Steps : 8700, \t Total Gen Loss : 22.0108642578125, \t Total Dis Loss : 0.005705381743609905\n",
      "Steps : 8800, \t Total Gen Loss : 19.248411178588867, \t Total Dis Loss : 0.02477952651679516\n",
      "Steps : 8900, \t Total Gen Loss : 21.55733299255371, \t Total Dis Loss : 0.017177851870656013\n",
      "Steps : 9000, \t Total Gen Loss : 27.00279426574707, \t Total Dis Loss : 0.001020123716443777\n",
      "Steps : 9100, \t Total Gen Loss : 24.123476028442383, \t Total Dis Loss : 0.003839688142761588\n",
      "Steps : 9200, \t Total Gen Loss : 21.111469268798828, \t Total Dis Loss : 0.003368886187672615\n",
      "Steps : 9300, \t Total Gen Loss : 23.197534561157227, \t Total Dis Loss : 0.003152639837935567\n",
      "Steps : 9400, \t Total Gen Loss : 23.048389434814453, \t Total Dis Loss : 0.0007517541525885463\n",
      "Steps : 9500, \t Total Gen Loss : 19.04526138305664, \t Total Dis Loss : 0.03796353563666344\n",
      "Steps : 9600, \t Total Gen Loss : 21.302349090576172, \t Total Dis Loss : 0.008862209506332874\n",
      "Steps : 9700, \t Total Gen Loss : 21.316852569580078, \t Total Dis Loss : 0.0030172739643603563\n",
      "Steps : 9800, \t Total Gen Loss : 22.90851402282715, \t Total Dis Loss : 0.007523417007178068\n",
      "Steps : 9900, \t Total Gen Loss : 24.900426864624023, \t Total Dis Loss : 0.0019573739264160395\n",
      "Steps : 10000, \t Total Gen Loss : 26.06221580505371, \t Total Dis Loss : 0.001172880525700748\n",
      "Steps : 10100, \t Total Gen Loss : 21.494861602783203, \t Total Dis Loss : 0.003760785097256303\n",
      "Steps : 10200, \t Total Gen Loss : 22.54579734802246, \t Total Dis Loss : 0.005676146596670151\n",
      "Steps : 10300, \t Total Gen Loss : 24.14520835876465, \t Total Dis Loss : 0.003912236541509628\n",
      "Steps : 10400, \t Total Gen Loss : 24.91054344177246, \t Total Dis Loss : 0.004042600281536579\n",
      "Steps : 10500, \t Total Gen Loss : 23.734712600708008, \t Total Dis Loss : 0.10541541874408722\n",
      "Steps : 10600, \t Total Gen Loss : 23.929452896118164, \t Total Dis Loss : 0.0023623970337212086\n",
      "Steps : 10700, \t Total Gen Loss : 21.85708999633789, \t Total Dis Loss : 0.02857455424964428\n",
      "Steps : 10800, \t Total Gen Loss : 24.075605392456055, \t Total Dis Loss : 0.0034173396416008472\n",
      "Steps : 10900, \t Total Gen Loss : 26.35256576538086, \t Total Dis Loss : 0.0018405690789222717\n",
      "Steps : 11000, \t Total Gen Loss : 23.581361770629883, \t Total Dis Loss : 0.0008165869512595236\n",
      "Steps : 11100, \t Total Gen Loss : 22.075456619262695, \t Total Dis Loss : 0.010502017103135586\n",
      "Steps : 11200, \t Total Gen Loss : 22.513769149780273, \t Total Dis Loss : 0.06756702810525894\n",
      "Time for epoch 2 is 279.21731758117676 sec\n",
      "Steps : 11300, \t Total Gen Loss : 23.90752410888672, \t Total Dis Loss : 0.0018219512421637774\n",
      "Steps : 11400, \t Total Gen Loss : 19.5653018951416, \t Total Dis Loss : 0.01437858585268259\n",
      "Steps : 11500, \t Total Gen Loss : 21.21630859375, \t Total Dis Loss : 0.006140072830021381\n",
      "Steps : 11600, \t Total Gen Loss : 24.600177764892578, \t Total Dis Loss : 0.0006261342787183821\n",
      "Steps : 11700, \t Total Gen Loss : 24.31113624572754, \t Total Dis Loss : 0.004609173629432917\n",
      "Steps : 11800, \t Total Gen Loss : 27.288942337036133, \t Total Dis Loss : 0.0026560877449810505\n",
      "Steps : 11900, \t Total Gen Loss : 25.211515426635742, \t Total Dis Loss : 0.0013140075607225299\n",
      "Steps : 12000, \t Total Gen Loss : 20.597797393798828, \t Total Dis Loss : 0.00409771129488945\n",
      "Steps : 12100, \t Total Gen Loss : 25.826562881469727, \t Total Dis Loss : 0.0008407812565565109\n",
      "Steps : 12200, \t Total Gen Loss : 25.136323928833008, \t Total Dis Loss : 0.0013880161568522453\n",
      "Steps : 12300, \t Total Gen Loss : 22.77341079711914, \t Total Dis Loss : 0.0006186340469866991\n",
      "Steps : 12400, \t Total Gen Loss : 26.214515686035156, \t Total Dis Loss : 0.001636567641980946\n",
      "Steps : 12500, \t Total Gen Loss : 23.84168243408203, \t Total Dis Loss : 0.0007977460627444088\n",
      "Steps : 12600, \t Total Gen Loss : 26.932315826416016, \t Total Dis Loss : 0.0002686237567104399\n",
      "Steps : 12700, \t Total Gen Loss : 26.16956329345703, \t Total Dis Loss : 0.0007617500377818942\n",
      "Steps : 12800, \t Total Gen Loss : 21.548635482788086, \t Total Dis Loss : 0.0009908517822623253\n",
      "Steps : 12900, \t Total Gen Loss : 26.892070770263672, \t Total Dis Loss : 0.0009128790115937591\n",
      "Steps : 13000, \t Total Gen Loss : 23.70498275756836, \t Total Dis Loss : 0.0006111605907790363\n",
      "Steps : 13100, \t Total Gen Loss : 21.7899169921875, \t Total Dis Loss : 0.02210024558007717\n",
      "Steps : 13200, \t Total Gen Loss : 27.901512145996094, \t Total Dis Loss : 0.001307048718445003\n",
      "Steps : 13300, \t Total Gen Loss : 27.02895736694336, \t Total Dis Loss : 0.0031034769490361214\n",
      "Steps : 13400, \t Total Gen Loss : 27.18951416015625, \t Total Dis Loss : 0.0021510464139282703\n",
      "Steps : 13500, \t Total Gen Loss : 27.05261993408203, \t Total Dis Loss : 0.001375551801174879\n",
      "Steps : 13600, \t Total Gen Loss : 24.09691047668457, \t Total Dis Loss : 0.0011855809716507792\n",
      "Steps : 13700, \t Total Gen Loss : 23.173913955688477, \t Total Dis Loss : 0.0010150368325412273\n",
      "Steps : 13800, \t Total Gen Loss : 23.917564392089844, \t Total Dis Loss : 0.001783074694685638\n",
      "Steps : 13900, \t Total Gen Loss : 23.95807647705078, \t Total Dis Loss : 0.002558143110945821\n",
      "Steps : 14000, \t Total Gen Loss : 22.753141403198242, \t Total Dis Loss : 0.005217518657445908\n",
      "Steps : 14100, \t Total Gen Loss : 23.04425811767578, \t Total Dis Loss : 0.001738790888339281\n",
      "Steps : 14200, \t Total Gen Loss : 22.179290771484375, \t Total Dis Loss : 0.009194262325763702\n",
      "Steps : 14300, \t Total Gen Loss : 27.217315673828125, \t Total Dis Loss : 0.001097754924558103\n",
      "Steps : 14400, \t Total Gen Loss : 26.84137725830078, \t Total Dis Loss : 0.006078805308789015\n",
      "Steps : 14500, \t Total Gen Loss : 24.784889221191406, \t Total Dis Loss : 0.006632352713495493\n",
      "Steps : 14600, \t Total Gen Loss : 26.146522521972656, \t Total Dis Loss : 0.0015132708940654993\n",
      "Steps : 14700, \t Total Gen Loss : 24.060901641845703, \t Total Dis Loss : 0.00784722063690424\n",
      "Steps : 14800, \t Total Gen Loss : 22.872041702270508, \t Total Dis Loss : 0.004314601421356201\n",
      "Steps : 14900, \t Total Gen Loss : 24.479476928710938, \t Total Dis Loss : 0.052642401307821274\n",
      "Steps : 15000, \t Total Gen Loss : 24.004898071289062, \t Total Dis Loss : 0.009845647029578686\n",
      "Steps : 15100, \t Total Gen Loss : 25.084409713745117, \t Total Dis Loss : 0.006033428944647312\n"
     ]
    }
   ],
   "source": [
    "max_epochs = 5\n",
    "steps = 0\n",
    "\n",
    "for epoch in range(max_epochs):\n",
    "    start = time.time()\n",
    "\n",
    "    for images, labels in train_dataset:\n",
    "        steps += 1\n",
    "        gen_loss, disc_loss = train_step(images)\n",
    "        \n",
    "        if steps % 100 == 0:\n",
    "            print ('Steps : {}, \\t Total Gen Loss : {}, \\t Total Dis Loss : {}'.format(steps, gen_loss.numpy(), disc_loss.numpy()))\n",
    "        \n",
    "    if (epoch + 1) % 5 == 0:\n",
    "        checkpoint.save(file_prefix = checkpoint_prefix)\n",
    "        \n",
    "    print ('Time for epoch {} is {} sec'.format(epoch + 1, time.time() - start))"
   ]
  },
  {
   "cell_type": "code",
   "execution_count": null,
   "metadata": {},
   "outputs": [],
   "source": []
  }
 ],
 "metadata": {
  "kernelspec": {
   "display_name": "aiffel",
   "language": "python",
   "name": "aiffel"
  },
  "language_info": {
   "codemirror_mode": {
    "name": "ipython",
    "version": 3
   },
   "file_extension": ".py",
   "mimetype": "text/x-python",
   "name": "python",
   "nbconvert_exporter": "python",
   "pygments_lexer": "ipython3",
   "version": "3.7.7"
  }
 },
 "nbformat": 4,
 "nbformat_minor": 4
}
