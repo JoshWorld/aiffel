{
 "cells": [
  {
   "cell_type": "markdown",
   "metadata": {},
   "source": [
    "# Scikit Learn을 활용한 추천 시스템 입문\n",
    "\n",
    "![img](https://mblogthumb-phinf.pstatic.net/MjAyMDAxMTVfMjI3/MDAxNTc5MDkwNzE3ODQ3.ebgR3CuKR3M_b-JHgFUZcYr4MObO6NSCEOLtbgPaiR0g.64dG3M8jvL3kdzXMZlYKAT4urxPM0grzRML2RDnyeNkg.PNG.dkgoggog21/XCV.png?type=w2)\n",
    "\n",
    "안녕하세요! 오늘은 추천 시스템에 대해서 다뤄봅시다.\n",
    "\n",
    "위 사진과 같이, 여러분들 유튜브의 알수없는 알고리즘이 추천해주는 동영상을 계속 보신 적 있으실 것 같습니다. 저도 그렇게 좋아하는 오마이걸 영상을 엄청 보았습니다. ㅎㅎ\n",
    "\n",
    "유튜브 뿐만 아니라 넷플릭스, 왓챠 이런 사이트들은 꼭 유저의 취향에 맞는 것을 추천해줍니다. 이러한 추천은 어떤 원리로 이루어지는 걸까요? 한번 시작해봅시다."
   ]
  },
  {
   "cell_type": "markdown",
   "metadata": {},
   "source": [
    "## 1. 추천 시스템이란?\n",
    "\n",
    "> 사용자(USER)에게 관련된 아이템(item)을 추천해주는 것\n",
    "\n",
    "예를들어 A와 B가 넷플릭스에 가입했다고 생각합시다. A와 B의 선호도를 아래와 같이 생각해보죠.\n",
    "\n",
    "- A : 한국 드라마/영화, 로맨스물\n",
    "- B : 미국 드라마/영화, 액션물\n",
    "\n",
    "이런 두명의 유저가 있다고 했을 때, A에게는 `사이코지만 괜찮아`를 추천하고 B에게는 `워킹데드`를 추천해주면 괜찮을 것 같습니다. \n",
    "\n",
    "![Img](https://aiffelstaticprd.blob.core.windows.net/media/images/0f-30.movie.max-800x600.png)\n",
    "\n",
    "이렇게 놓고 보았을 때, 거리가 좁을수록 유사도가 높다고 할 수 있을 것 같습니다. 여기서 우리는 두가지 아이디어를 생각해낼 수 있습니다.\n",
    "\n",
    "\n",
    "1. **범주형 데이터**를 다룬다.\n",
    "    - 액션물, 로맨스물, 한드, 미드 등의 컨텐츠는 `item` 데이터, A, B는 `user` 데이터로 취급했습니다. \n",
    "    - 이런 데이터는 연속적이지 않고 **이산적(discrete)**입니다. 이를 범주형(categorical) 데이터라고 합니다.\n",
    "2. (숫자를 벡터로 변환한 뒤) **유사도**를 계산한다.\n",
    "    - 범주형 데이터들을 좌표에 나타내었는데, 좌표에 나타내기 위해서는 숫자로 이루어진 벡터로 변환해야합니다. 그리고 그 거리를 계산하여 유사도를 계산합니다."
   ]
  },
  {
   "cell_type": "markdown",
   "metadata": {},
   "source": [
    "## 2. 코사인 유사도\n",
    "\n",
    "그럼 실제로 범주형 데이터들을 어떻게 벡터로 변환하고 또 어떻게 유사도를 계산할까요?\n",
    "\n",
    "유사도를 계산하는 방법 중 가장 잘 알려진 방법은 **코사인 유사도(Cosine Similarity)**입니다. 코사인 유사도는 두 벡터간의 코사인 값을 이용ㄹ해 두 벡터의 유사도를 계산합니다.\n",
    "\n",
    "코사인 유사도는 *두 벡터의 방향이 이루는 각*에 코사인을 취해 구합니다. 따라서 두 벡터의 방향이 완전히 동일한 경우에는 1, 90°의 각을 이루면 0, 반대 방향, 즉 각이 180°면 -1의 값을 가지게 됩니다.\n",
    "\n",
    "따라서 코사인 유사도는 `-1 ~ 1` 사이의 값이고, 1에 가까울수록 유사도가 높다고 할 수 있습니다.\n",
    "\n",
    "![img](https://aiffelstaticprd.blob.core.windows.net/media/images/0f-30.cosine_similarity.max-800x600.png)\n",
    "\n",
    "두 벡터 A와 B의 코사인 유사도 수식은 다음과 같습니다.\n",
    "\n",
    "$${\\displaystyle {\\text{cosine similarity}}=\\cos(\\theta )={\\mathbf {A} \\cdot \\mathbf {B} \\over \\|\\mathbf {A} \\|\\|\\mathbf {B} \\|}={\\frac {\\sum_{i=1}^n {A_{i}B_{i}}}{{\\sqrt {\\sum_{i=1}^n{A_{i}^{2}}}}{\\sqrt {\\sum_{i=1}^n{B_{i}^{2}}}}}},}$$\n",
    "\n",
    "우선 숫자 벡터가 만들어졌다고 가정한 뒤, 코사인 유사도를 계산하는 방법을 알아봅시다.\n",
    "\n",
    "#### Numpy 활용"
   ]
  },
  {
   "cell_type": "code",
   "execution_count": 1,
   "metadata": {},
   "outputs": [],
   "source": [
    "import numpy as np\n",
    "\n",
    "t1 = np.array([1, 1, 1])\n",
    "t2 = np.array([2, 0, 1])"
   ]
  },
  {
   "cell_type": "markdown",
   "metadata": {},
   "source": [
    "위와 같이 숫자 벡터가 있다고 가정합시다. 위의 식을 참고해 코사인 유사도를 구하는 함수를 만들어봅시다."
   ]
  },
  {
   "cell_type": "code",
   "execution_count": 2,
   "metadata": {},
   "outputs": [],
   "source": [
    "from numpy import dot\n",
    "from numpy.linalg import norm\n",
    "def cos_sim(A, B):\n",
    "    return dot(A, B)/(norm(A)*norm(B))"
   ]
  },
  {
   "cell_type": "code",
   "execution_count": 3,
   "metadata": {},
   "outputs": [
    {
     "data": {
      "text/plain": [
       "0.7745966692414834"
      ]
     },
     "execution_count": 3,
     "metadata": {},
     "output_type": "execute_result"
    }
   ],
   "source": [
    "cos_sim(t1, t2)"
   ]
  },
  {
   "cell_type": "markdown",
   "metadata": {},
   "source": [
    "코사인 유사도를 구하면 약 0.775가 나옵니다.\n",
    "\n",
    "#### 사이킷런 활용\n",
    "\n",
    "위의 방법보다 좀 더 간편하게 구할 수 있습니다. 사이킷럿에서 코사인 다음 모듈을 import 해주면 쉽게 사용할 수 있습니다."
   ]
  },
  {
   "cell_type": "code",
   "execution_count": 4,
   "metadata": {},
   "outputs": [],
   "source": [
    "from sklearn.metrics.pairwise import cosine_similarity"
   ]
  },
  {
   "cell_type": "markdown",
   "metadata": {},
   "source": [
    "`cosine_similarity` 모듈은 입력값으로 2차원 배열을 받기 때문에, 2차원 배열로 정의해줍시다."
   ]
  },
  {
   "cell_type": "code",
   "execution_count": 5,
   "metadata": {},
   "outputs": [
    {
     "data": {
      "text/plain": [
       "array([[0.77459667]])"
      ]
     },
     "execution_count": 5,
     "metadata": {},
     "output_type": "execute_result"
    }
   ],
   "source": [
    "t1 = np.array([[1, 1, 1]])\n",
    "t2 = np.array([[2, 0, 1]])\n",
    "cosine_similarity(t1, t2)"
   ]
  },
  {
   "cell_type": "markdown",
   "metadata": {},
   "source": [
    "배열 형태로 코사인 유사도가 나왔지만 코사인 유사도는 0.775로 동일하게 나옵니다."
   ]
  },
  {
   "cell_type": "markdown",
   "metadata": {},
   "source": [
    "## 3. 추천 시스템의 종류\n",
    "\n",
    "본격적으로 추천 시스템에 대해서 알아봅시다.\n",
    "\n",
    "![img](https://aiffelstaticprd.blob.core.windows.net/media/images/0f-30.content.max-800x600.png)\n",
    "\n",
    "1. 콘텐츠 기반 필터링 (Contents Based Filtering)\n",
    "2. 협업 필터링 (Collaborative Filtering)\n",
    "    - 사용자 기반\n",
    "    - 아이템 기반\n",
    "    - 잠재 요인 협업 필터링 -> 행렬 인수분해\n",
    "3. Deep Learning 적용 or Hybrid 방식\n",
    "\n",
    "가장 기본적으로 알려진 추천의 방식으로는 **협업 필터링 방식**과 **콘텐츠 기반 필터링** 방식이 있습니다. 더 나아가서는 딥러닝 등을 활용한 추천 방법과 여러가지 방법을 결합한 하이브리드 방법도 있지만 이번 시간에는 전자 2가지만 다뤄봅시다.\n"
   ]
  },
  {
   "cell_type": "markdown",
   "metadata": {},
   "source": [
    "## 4. 콘텐츠 기반 필터링\n",
    "\n",
    "> 콘텐츠 기반 필터링 (Content Based Filtering)\n",
    "\n",
    "콘텐츠기반 필터링은 말 그대로 비슷한 영화의 특성을 기반으로 추천해주는 것입니다. 예를들어 토이스토리1을 본 유저가 있다고 합시다. 그럼 그 유저에게는 토이스토리2, 토이스토리3, 겨울왕국 등을 추천하겠죠?\n",
    "\n",
    "장르, 배우, 감독 등의 정보들이 영화의 **특성(Feature)**이 되고 이 특성이 콘텐츠와 비슷하다고 말할 수 있는 요인이 됩니다.\n",
    "\n",
    "그럼 직접 다루며 확인해봅시다! 실습은 아래 링크를 바탕으로 만들었습니다. \n",
    "\n",
    "- [\n",
    "HOME BLOG  LOGIN  REGISTER\n",
    "Building a Movie Recommendation Engine in Python using Scikit-Learn](http://www.codeheroku.com/post.html?name=Building%20a%20Movie%20Recommendation%20Engine%20in%20Python%20using%20Scikit-Learn)\n",
    "\n",
    "#### 1. 필요한 모듈을 Import 합시다."
   ]
  },
  {
   "cell_type": "code",
   "execution_count": 6,
   "metadata": {},
   "outputs": [],
   "source": [
    "import pandas as pd\n",
    "import numpy as np\n",
    "from sklearn.feature_extraction.text import CountVectorizer\n",
    "from sklearn.metrics.pairwise import cosine_similarity"
   ]
  },
  {
   "cell_type": "markdown",
   "metadata": {},
   "source": [
    "#### 2. Load Data\n",
    "\n",
    "필요한 데이터를 불러와봅시다. 데이터를 아래 커맨드로 다운받고 원하는 위치로 옮겨주세요.\n",
    "\n",
    "```bash\n",
    "wget https://aiffelstaticprd.blob.core.windows.net/media/documents/movie_dataset.csv\n",
    "mv movie_dataset.csv  [원하는 위치]\n",
    "```"
   ]
  },
  {
   "cell_type": "code",
   "execution_count": 7,
   "metadata": {},
   "outputs": [
    {
     "data": {
      "text/html": [
       "<div>\n",
       "<style scoped>\n",
       "    .dataframe tbody tr th:only-of-type {\n",
       "        vertical-align: middle;\n",
       "    }\n",
       "\n",
       "    .dataframe tbody tr th {\n",
       "        vertical-align: top;\n",
       "    }\n",
       "\n",
       "    .dataframe thead th {\n",
       "        text-align: right;\n",
       "    }\n",
       "</style>\n",
       "<table border=\"1\" class=\"dataframe\">\n",
       "  <thead>\n",
       "    <tr style=\"text-align: right;\">\n",
       "      <th></th>\n",
       "      <th>index</th>\n",
       "      <th>budget</th>\n",
       "      <th>genres</th>\n",
       "      <th>homepage</th>\n",
       "      <th>id</th>\n",
       "      <th>keywords</th>\n",
       "      <th>original_language</th>\n",
       "      <th>original_title</th>\n",
       "      <th>overview</th>\n",
       "      <th>popularity</th>\n",
       "      <th>...</th>\n",
       "      <th>runtime</th>\n",
       "      <th>spoken_languages</th>\n",
       "      <th>status</th>\n",
       "      <th>tagline</th>\n",
       "      <th>title</th>\n",
       "      <th>vote_average</th>\n",
       "      <th>vote_count</th>\n",
       "      <th>cast</th>\n",
       "      <th>crew</th>\n",
       "      <th>director</th>\n",
       "    </tr>\n",
       "  </thead>\n",
       "  <tbody>\n",
       "    <tr>\n",
       "      <th>0</th>\n",
       "      <td>0</td>\n",
       "      <td>237000000</td>\n",
       "      <td>Action Adventure Fantasy Science Fiction</td>\n",
       "      <td>http://www.avatarmovie.com/</td>\n",
       "      <td>19995</td>\n",
       "      <td>culture clash future space war space colony so...</td>\n",
       "      <td>en</td>\n",
       "      <td>Avatar</td>\n",
       "      <td>In the 22nd century, a paraplegic Marine is di...</td>\n",
       "      <td>150.437577</td>\n",
       "      <td>...</td>\n",
       "      <td>162.0</td>\n",
       "      <td>[{\"iso_639_1\": \"en\", \"name\": \"English\"}, {\"iso...</td>\n",
       "      <td>Released</td>\n",
       "      <td>Enter the World of Pandora.</td>\n",
       "      <td>Avatar</td>\n",
       "      <td>7.2</td>\n",
       "      <td>11800</td>\n",
       "      <td>Sam Worthington Zoe Saldana Sigourney Weaver S...</td>\n",
       "      <td>[{'name': 'Stephen E. Rivkin', 'gender': 0, 'd...</td>\n",
       "      <td>James Cameron</td>\n",
       "    </tr>\n",
       "    <tr>\n",
       "      <th>1</th>\n",
       "      <td>1</td>\n",
       "      <td>300000000</td>\n",
       "      <td>Adventure Fantasy Action</td>\n",
       "      <td>http://disney.go.com/disneypictures/pirates/</td>\n",
       "      <td>285</td>\n",
       "      <td>ocean drug abuse exotic island east india trad...</td>\n",
       "      <td>en</td>\n",
       "      <td>Pirates of the Caribbean: At World's End</td>\n",
       "      <td>Captain Barbossa, long believed to be dead, ha...</td>\n",
       "      <td>139.082615</td>\n",
       "      <td>...</td>\n",
       "      <td>169.0</td>\n",
       "      <td>[{\"iso_639_1\": \"en\", \"name\": \"English\"}]</td>\n",
       "      <td>Released</td>\n",
       "      <td>At the end of the world, the adventure begins.</td>\n",
       "      <td>Pirates of the Caribbean: At World's End</td>\n",
       "      <td>6.9</td>\n",
       "      <td>4500</td>\n",
       "      <td>Johnny Depp Orlando Bloom Keira Knightley Stel...</td>\n",
       "      <td>[{'name': 'Dariusz Wolski', 'gender': 2, 'depa...</td>\n",
       "      <td>Gore Verbinski</td>\n",
       "    </tr>\n",
       "    <tr>\n",
       "      <th>2</th>\n",
       "      <td>2</td>\n",
       "      <td>245000000</td>\n",
       "      <td>Action Adventure Crime</td>\n",
       "      <td>http://www.sonypictures.com/movies/spectre/</td>\n",
       "      <td>206647</td>\n",
       "      <td>spy based on novel secret agent sequel mi6</td>\n",
       "      <td>en</td>\n",
       "      <td>Spectre</td>\n",
       "      <td>A cryptic message from Bond’s past sends him o...</td>\n",
       "      <td>107.376788</td>\n",
       "      <td>...</td>\n",
       "      <td>148.0</td>\n",
       "      <td>[{\"iso_639_1\": \"fr\", \"name\": \"Fran\\u00e7ais\"},...</td>\n",
       "      <td>Released</td>\n",
       "      <td>A Plan No One Escapes</td>\n",
       "      <td>Spectre</td>\n",
       "      <td>6.3</td>\n",
       "      <td>4466</td>\n",
       "      <td>Daniel Craig Christoph Waltz L\\u00e9a Seydoux ...</td>\n",
       "      <td>[{'name': 'Thomas Newman', 'gender': 2, 'depar...</td>\n",
       "      <td>Sam Mendes</td>\n",
       "    </tr>\n",
       "    <tr>\n",
       "      <th>3</th>\n",
       "      <td>3</td>\n",
       "      <td>250000000</td>\n",
       "      <td>Action Crime Drama Thriller</td>\n",
       "      <td>http://www.thedarkknightrises.com/</td>\n",
       "      <td>49026</td>\n",
       "      <td>dc comics crime fighter terrorist secret ident...</td>\n",
       "      <td>en</td>\n",
       "      <td>The Dark Knight Rises</td>\n",
       "      <td>Following the death of District Attorney Harve...</td>\n",
       "      <td>112.312950</td>\n",
       "      <td>...</td>\n",
       "      <td>165.0</td>\n",
       "      <td>[{\"iso_639_1\": \"en\", \"name\": \"English\"}]</td>\n",
       "      <td>Released</td>\n",
       "      <td>The Legend Ends</td>\n",
       "      <td>The Dark Knight Rises</td>\n",
       "      <td>7.6</td>\n",
       "      <td>9106</td>\n",
       "      <td>Christian Bale Michael Caine Gary Oldman Anne ...</td>\n",
       "      <td>[{'name': 'Hans Zimmer', 'gender': 2, 'departm...</td>\n",
       "      <td>Christopher Nolan</td>\n",
       "    </tr>\n",
       "    <tr>\n",
       "      <th>4</th>\n",
       "      <td>4</td>\n",
       "      <td>260000000</td>\n",
       "      <td>Action Adventure Science Fiction</td>\n",
       "      <td>http://movies.disney.com/john-carter</td>\n",
       "      <td>49529</td>\n",
       "      <td>based on novel mars medallion space travel pri...</td>\n",
       "      <td>en</td>\n",
       "      <td>John Carter</td>\n",
       "      <td>John Carter is a war-weary, former military ca...</td>\n",
       "      <td>43.926995</td>\n",
       "      <td>...</td>\n",
       "      <td>132.0</td>\n",
       "      <td>[{\"iso_639_1\": \"en\", \"name\": \"English\"}]</td>\n",
       "      <td>Released</td>\n",
       "      <td>Lost in our world, found in another.</td>\n",
       "      <td>John Carter</td>\n",
       "      <td>6.1</td>\n",
       "      <td>2124</td>\n",
       "      <td>Taylor Kitsch Lynn Collins Samantha Morton Wil...</td>\n",
       "      <td>[{'name': 'Andrew Stanton', 'gender': 2, 'depa...</td>\n",
       "      <td>Andrew Stanton</td>\n",
       "    </tr>\n",
       "  </tbody>\n",
       "</table>\n",
       "<p>5 rows × 24 columns</p>\n",
       "</div>"
      ],
      "text/plain": [
       "   index     budget                                    genres  \\\n",
       "0      0  237000000  Action Adventure Fantasy Science Fiction   \n",
       "1      1  300000000                  Adventure Fantasy Action   \n",
       "2      2  245000000                    Action Adventure Crime   \n",
       "3      3  250000000               Action Crime Drama Thriller   \n",
       "4      4  260000000          Action Adventure Science Fiction   \n",
       "\n",
       "                                       homepage      id  \\\n",
       "0                   http://www.avatarmovie.com/   19995   \n",
       "1  http://disney.go.com/disneypictures/pirates/     285   \n",
       "2   http://www.sonypictures.com/movies/spectre/  206647   \n",
       "3            http://www.thedarkknightrises.com/   49026   \n",
       "4          http://movies.disney.com/john-carter   49529   \n",
       "\n",
       "                                            keywords original_language  \\\n",
       "0  culture clash future space war space colony so...                en   \n",
       "1  ocean drug abuse exotic island east india trad...                en   \n",
       "2         spy based on novel secret agent sequel mi6                en   \n",
       "3  dc comics crime fighter terrorist secret ident...                en   \n",
       "4  based on novel mars medallion space travel pri...                en   \n",
       "\n",
       "                             original_title  \\\n",
       "0                                    Avatar   \n",
       "1  Pirates of the Caribbean: At World's End   \n",
       "2                                   Spectre   \n",
       "3                     The Dark Knight Rises   \n",
       "4                               John Carter   \n",
       "\n",
       "                                            overview  popularity  ... runtime  \\\n",
       "0  In the 22nd century, a paraplegic Marine is di...  150.437577  ...   162.0   \n",
       "1  Captain Barbossa, long believed to be dead, ha...  139.082615  ...   169.0   \n",
       "2  A cryptic message from Bond’s past sends him o...  107.376788  ...   148.0   \n",
       "3  Following the death of District Attorney Harve...  112.312950  ...   165.0   \n",
       "4  John Carter is a war-weary, former military ca...   43.926995  ...   132.0   \n",
       "\n",
       "                                    spoken_languages    status  \\\n",
       "0  [{\"iso_639_1\": \"en\", \"name\": \"English\"}, {\"iso...  Released   \n",
       "1           [{\"iso_639_1\": \"en\", \"name\": \"English\"}]  Released   \n",
       "2  [{\"iso_639_1\": \"fr\", \"name\": \"Fran\\u00e7ais\"},...  Released   \n",
       "3           [{\"iso_639_1\": \"en\", \"name\": \"English\"}]  Released   \n",
       "4           [{\"iso_639_1\": \"en\", \"name\": \"English\"}]  Released   \n",
       "\n",
       "                                          tagline  \\\n",
       "0                     Enter the World of Pandora.   \n",
       "1  At the end of the world, the adventure begins.   \n",
       "2                           A Plan No One Escapes   \n",
       "3                                 The Legend Ends   \n",
       "4            Lost in our world, found in another.   \n",
       "\n",
       "                                      title vote_average vote_count  \\\n",
       "0                                    Avatar          7.2      11800   \n",
       "1  Pirates of the Caribbean: At World's End          6.9       4500   \n",
       "2                                   Spectre          6.3       4466   \n",
       "3                     The Dark Knight Rises          7.6       9106   \n",
       "4                               John Carter          6.1       2124   \n",
       "\n",
       "                                                cast  \\\n",
       "0  Sam Worthington Zoe Saldana Sigourney Weaver S...   \n",
       "1  Johnny Depp Orlando Bloom Keira Knightley Stel...   \n",
       "2  Daniel Craig Christoph Waltz L\\u00e9a Seydoux ...   \n",
       "3  Christian Bale Michael Caine Gary Oldman Anne ...   \n",
       "4  Taylor Kitsch Lynn Collins Samantha Morton Wil...   \n",
       "\n",
       "                                                crew           director  \n",
       "0  [{'name': 'Stephen E. Rivkin', 'gender': 0, 'd...      James Cameron  \n",
       "1  [{'name': 'Dariusz Wolski', 'gender': 2, 'depa...     Gore Verbinski  \n",
       "2  [{'name': 'Thomas Newman', 'gender': 2, 'depar...         Sam Mendes  \n",
       "3  [{'name': 'Hans Zimmer', 'gender': 2, 'departm...  Christopher Nolan  \n",
       "4  [{'name': 'Andrew Stanton', 'gender': 2, 'depa...     Andrew Stanton  \n",
       "\n",
       "[5 rows x 24 columns]"
      ]
     },
     "execution_count": 7,
     "metadata": {},
     "output_type": "execute_result"
    }
   ],
   "source": [
    "import os\n",
    "csv_path = os.path.dirname(os.path.abspath('__file__')) + r'/data/movie_dataset.csv'\n",
    "df = pd.read_csv(csv_path)\n",
    "df.head()"
   ]
  },
  {
   "cell_type": "markdown",
   "metadata": {},
   "source": [
    "#### 3.  칼럼 출력"
   ]
  },
  {
   "cell_type": "code",
   "execution_count": 8,
   "metadata": {},
   "outputs": [
    {
     "data": {
      "text/plain": [
       "Index(['index', 'budget', 'genres', 'homepage', 'id', 'keywords',\n",
       "       'original_language', 'original_title', 'overview', 'popularity',\n",
       "       'production_companies', 'production_countries', 'release_date',\n",
       "       'revenue', 'runtime', 'spoken_languages', 'status', 'tagline', 'title',\n",
       "       'vote_average', 'vote_count', 'cast', 'crew', 'director'],\n",
       "      dtype='object')"
      ]
     },
     "execution_count": 8,
     "metadata": {},
     "output_type": "execute_result"
    }
   ],
   "source": [
    "df.columns"
   ]
  },
  {
   "cell_type": "markdown",
   "metadata": {},
   "source": [
    "칼럼이 24개가 있습니다. 이번 실습에서믄 몇가지 특성만 고려해서 유사도를 계산해봅시다."
   ]
  },
  {
   "cell_type": "code",
   "execution_count": 9,
   "metadata": {},
   "outputs": [
    {
     "data": {
      "text/plain": [
       "['keywords', 'cast', 'genres', 'director']"
      ]
     },
     "execution_count": 9,
     "metadata": {},
     "output_type": "execute_result"
    }
   ],
   "source": [
    "features = ['keywords','cast','genres','director']\n",
    "features"
   ]
  },
  {
   "cell_type": "code",
   "execution_count": 10,
   "metadata": {},
   "outputs": [
    {
     "data": {
      "text/plain": [
       "0    culture clash future space war space colony so...\n",
       "1    ocean drug abuse exotic island east india trad...\n",
       "2    spy based on novel secret agent sequel mi6 Dan...\n",
       "3    dc comics crime fighter terrorist secret ident...\n",
       "4    based on novel mars medallion space travel pri...\n",
       "dtype: object"
      ]
     },
     "execution_count": 10,
     "metadata": {},
     "output_type": "execute_result"
    }
   ],
   "source": [
    "def combine_features(row):\n",
    "    return row['keywords']+\" \"+row['cast']+\" \"+row['genres']+\" \"+row['director']\n",
    "\n",
    "combine_features(df[:5])"
   ]
  },
  {
   "cell_type": "code",
   "execution_count": 11,
   "metadata": {},
   "outputs": [
    {
     "data": {
      "text/plain": [
       "0       culture clash future space war space colony so...\n",
       "1       ocean drug abuse exotic island east india trad...\n",
       "2       spy based on novel secret agent sequel mi6 Dan...\n",
       "3       dc comics crime fighter terrorist secret ident...\n",
       "4       based on novel mars medallion space travel pri...\n",
       "                              ...                        \n",
       "4798    united states\\u2013mexico barrier legs arms pa...\n",
       "4799     Edward Burns Kerry Bish\\u00e9 Marsha Dietlein...\n",
       "4800    date love at first sight narration investigati...\n",
       "4801     Daniel Henney Eliza Coupe Bill Paxton Alan Ru...\n",
       "4802    obsession camcorder crush dream girl Drew Barr...\n",
       "Name: combined_features, Length: 4803, dtype: object"
      ]
     },
     "execution_count": 11,
     "metadata": {},
     "output_type": "execute_result"
    }
   ],
   "source": [
    "for feature in features:\n",
    "    df[feature] = df[feature].fillna('')\n",
    "\n",
    "df[\"combined_features\"] = df.apply(combine_features,axis=1)\n",
    "df[\"combined_features\"]"
   ]
  },
  {
   "cell_type": "markdown",
   "metadata": {},
   "source": [
    "여기서는 간단하게 보기 위해 해당 특성을 텍스트 데이터로 보고, 보고자하는 특성으로 이루어진 텍스트 데이터를 새로운 칼럼으로 생성했습니다.\n",
    "\n",
    "#### 4. 벡터화하고, 코사인 유사도를 계산합니다.\n",
    "\n",
    "이제 이 칼럼을 벡터화하고 코사인 유사도를 계산해보겠습니다. 장르, 배우명, 감독명의 텍스트 데이터를 범주형 데이터로 보기 때문에 단순하게 등장 획수를 세어 숫자 벡터로 만들어봅시다.\n",
    "\n",
    "사이킷런의 `CountVectorizer()`를 사용하면 편하게 할 수 있습니다."
   ]
  },
  {
   "cell_type": "code",
   "execution_count": 12,
   "metadata": {},
   "outputs": [
    {
     "name": "stdout",
     "output_type": "stream",
     "text": [
      "<class 'scipy.sparse.csr.csr_matrix'>\n",
      "(4803, 14845)\n",
      "  (0, 3115)\t1\n",
      "  (0, 2616)\t1\n",
      "  (0, 4886)\t1\n",
      "  (0, 12386)\t2\n",
      "  (0, 14235)\t1\n",
      "  (0, 2755)\t1\n",
      "  (0, 12299)\t1\n",
      "  (0, 11517)\t1\n",
      "  (0, 14561)\t1\n",
      "  (0, 14820)\t1\n",
      "  (0, 11490)\t1\n",
      "  (0, 12134)\t1\n",
      "  (0, 14291)\t1\n",
      "  (0, 12567)\t1\n",
      "  (0, 7496)\t1\n",
      "  (0, 8831)\t1\n",
      "  (0, 11217)\t1\n",
      "  (0, 86)\t1\n",
      "  (0, 144)\t1\n",
      "  (0, 4435)\t1\n",
      "  (0, 11745)\t1\n",
      "  (0, 4566)\t1\n",
      "  (0, 6542)\t1\n",
      "  (0, 2061)\t1\n",
      "  (1, 86)\t1\n",
      "  :\t:\n",
      "  (4801, 10069)\t1\n",
      "  (4801, 5844)\t1\n",
      "  (4801, 252)\t1\n",
      "  (4801, 4098)\t1\n",
      "  (4801, 14796)\t1\n",
      "  (4801, 11361)\t1\n",
      "  (4801, 2978)\t1\n",
      "  (4801, 12036)\t1\n",
      "  (4801, 6138)\t1\n",
      "  (4802, 9659)\t1\n",
      "  (4802, 3812)\t1\n",
      "  (4802, 1788)\t2\n",
      "  (4802, 4210)\t1\n",
      "  (4802, 5181)\t1\n",
      "  (4802, 2912)\t1\n",
      "  (4802, 3821)\t1\n",
      "  (4802, 1069)\t1\n",
      "  (4802, 11185)\t1\n",
      "  (4802, 3681)\t1\n",
      "  (4802, 5399)\t1\n",
      "  (4802, 3894)\t1\n",
      "  (4802, 2056)\t1\n",
      "  (4802, 3093)\t1\n",
      "  (4802, 4502)\t1\n",
      "  (4802, 5900)\t2\n"
     ]
    }
   ],
   "source": [
    "cv = CountVectorizer()\n",
    "count_matrix = cv.fit_transform(df[\"combined_features\"])\n",
    "print(type(count_matrix))\n",
    "print(count_matrix.shape)\n",
    "print(count_matrix)"
   ]
  },
  {
   "cell_type": "markdown",
   "metadata": {},
   "source": [
    "`count_matrix`는 type을 확인해 본 결과, `CSR(Compressed Sparse Row) Matrix`였습니다. **CSR Matrix**는 Sparse한 matrix에서 0이 아닌 유효한 데이터로 채워지는 데이터의 값과 좌표 정보로만으로 구성하여 메모리 사용량을 최소화하면서도 Sparse한 matrix와 동일한 행렬을 표현할 수 있도록 하는 데이터 구조입니다.\n",
    "\n",
    "예를 들어, `(0, 3115) 1`라고 되어 있는 것은 1번째 row는 3116번째 단어가 1번 출현한다는 뜻입니다. 이 데이터셋에는 총 14845개의 단어가 존재하는데, 이 단어들을 범주형으로 보고 그 단어의 출현 빈도만을 표시한 Matrix가 매우 Sparse하기 때문에 공간을 절약할 수 있는 형태로 표현한 것입니다.\n",
    "\n",
    "이제 4803개의 영화들이 모두 Vectorized되었습니다. 이 영화들끼리의 코사인 유사도를 표현하는 4803X4803 의 `cosine_similarity matrix`를 구해 봅시다."
   ]
  },
  {
   "cell_type": "code",
   "execution_count": 13,
   "metadata": {},
   "outputs": [
    {
     "name": "stdout",
     "output_type": "stream",
     "text": [
      "[[1.         0.10540926 0.12038585 ... 0.         0.         0.        ]\n",
      " [0.10540926 1.         0.0761387  ... 0.03651484 0.         0.        ]\n",
      " [0.12038585 0.0761387  1.         ... 0.         0.11145564 0.        ]\n",
      " ...\n",
      " [0.         0.03651484 0.         ... 1.         0.         0.04264014]\n",
      " [0.         0.         0.11145564 ... 0.         1.         0.        ]\n",
      " [0.         0.         0.         ... 0.04264014 0.         1.        ]]\n",
      "(4803, 4803)\n"
     ]
    }
   ],
   "source": [
    "cosine_sim = cosine_similarity(count_matrix)\n",
    "print(cosine_sim)\n",
    "print(cosine_sim.shape)"
   ]
  },
  {
   "cell_type": "markdown",
   "metadata": {},
   "source": [
    "#### 5. 추천\n",
    "\n",
    "코사인 유사도로 계산된 가장 비슷한 영화 3편을 선별하여 추천해봅시다."
   ]
  },
  {
   "cell_type": "code",
   "execution_count": 14,
   "metadata": {},
   "outputs": [
    {
     "name": "stdout",
     "output_type": "stream",
     "text": [
      "Avatar와 비슷한 영화 3편은 \n",
      "\n",
      "Guardians of the Galaxy\n",
      "Aliens\n",
      "Star Wars: Clone Wars: Volume 1\n"
     ]
    }
   ],
   "source": [
    "def get_title_from_index(index):\n",
    "    return df[df.index == index][\"title\"].values[0]\n",
    "def get_index_from_title(title):\n",
    "    return df[df.title == title][\"index\"].values[0]\n",
    "\n",
    "movie_user_likes = \"Avatar\"\n",
    "movie_index = get_index_from_title(movie_user_likes)\n",
    "similar_movies = list(enumerate(cosine_sim[movie_index]))\n",
    "\n",
    "sorted_similar_movies = sorted(similar_movies,key=lambda x:x[1],reverse=True)[1:]\n",
    "\n",
    "i=0\n",
    "print(movie_user_likes+\"와 비슷한 영화 3편은 \"+\"\\n\")\n",
    "for item in sorted_similar_movies:\n",
    "    print(get_title_from_index(item[0]))\n",
    "    i=i+1\n",
    "    if i==3:\n",
    "        break"
   ]
  },
  {
   "cell_type": "markdown",
   "metadata": {},
   "source": [
    "`아바타(Avatar)`와 유사한 영화 3편은 `가디언즈 오브 갤럭시`, `에어리언`, `스타워즈`로 나왔네요!!"
   ]
  },
  {
   "cell_type": "markdown",
   "metadata": {},
   "source": [
    "## 5. 협업 필터링 (1) - 협업 필터링의 종류\n",
    "\n",
    "**협업 필터링(Collaborative Filtering)**은 <u>과거의 사용자 행동 양식(User Behavior) 데이터를 기반으로 추천</u>하는 방식입니다. 여기서 다루는 학습용 데이터 자체에서 사용자 행동양식을 나타내기 어렵지만, 잠재요인 기법을 활용하면 행동양식을 어느 정도 데이터로 나타낼 수 있습니다.\n",
    "\n",
    "우선은 협업 필터링의 기본 원리를 살펴봅시다. 영화 추천을 예시로 들어보겠습니다. 아래 표를 살펴볼까요. 사용자들의 정보는 user_id에 저장되어 있습니다. 그리고 영화 정보는 item_id입니다. 사용자는 영화를 보고 평점 (rating)을 매겼습니다. 그 평점을 매긴 시각이 timestamp 칼럼에 기록되어있습니다.\n",
    "\n",
    "|user_id|item_id|rating|timestamp|\n",
    "|:---:|:---:|:---:|:---:|\n",
    "|196|242|3|881250949|\n",
    "|186|302|3|891717742|\n",
    "|22|377|1|878887116|\n",
    "|244|51|2|880606923|\n",
    "|166|346|1|889387596|\n",
    "\n",
    "위 데이터를 사용자와 아이템 간 `interaction matrix`로 변환합니다. 해당 행렬의 데이터로 평점을 넣으면 아래와 같은 형태가 되겠죠? 우리는 이를 **평점 행렬**이라고 부르기도 합니다. :)\n",
    "\n",
    "![img](./data/img7.png)\n",
    "\n",
    "이러한 행렬을 실제 데이터로 만든다면 굉장히 희소(sparse)한 행렬이 만들어집니다. 유튜브나 넷플릭스에는 몇 억 개의 동영상이 있고, 몇 억 명의 사용자가 모든 동영상을 다 봤을리 만무합니다. 따라서 대부분 평점에 대한 데이터는 0입니다.\n",
    "\n",
    "\n",
    "협업 필터링의 종류에는 크게 1) **사용자 기반**과 2) **아이템 기반** 그리고 3) **잠재요인(latent factor) 방식**이 있다고 했는데요. 사용자 기반과 아이템 기반은 *유사도*를 계산하는 방식이고 잠재요인은 *행렬 인수분해(matrix factorization)* 를 이용해 잠재요인을 분석합니다. 넷플릭스의 추천 시스템에 잠재요인 분석을 사용하여 최근에는 잠재요인을 분석하는 사례가 많아지고 있는 추세입니다. 즉, 위에서 설명한 평점행렬로 변환한 후, 평점행렬의 유사도를 계산하여 추천하는 방식은 사용자 기반과 아이템 기반 방식입니다. 그리고 이 평점행렬을 분해하여 더 많은 정보들을 고려하는 방식이 잠재요인 필터링입니다.\n"
   ]
  },
  {
   "cell_type": "markdown",
   "metadata": {},
   "source": [
    "### 사용자 기반\n",
    "\n",
    "나와 비슷한 유저의 행동을 기반으로 추천하는 형식입니다. \n",
    "\n",
    "여기 사용자와 아이템간의 평점행렬이 있습니다. User4가 item1을 구매하였고, User4와 가장 유사한 User2는 item 1~4까지 다음과 같이 평점을 매겼다고 생각해봅시다.\n",
    "\n",
    "![img](./data/img8.png)\n",
    "\n",
    "그럼 어떤 제품을 추천해주는 것이 좋을까요? 비슷한 성향의 User2가 선호나는 제품인 item3을 추천해줄 것입니다.\n",
    "\n",
    "\n"
   ]
  },
  {
   "cell_type": "markdown",
   "metadata": {},
   "source": [
    "\n",
    "### 아이템 기반\n",
    "\n",
    "아이템 기반은 말 그대로 아이템간의 유사도를 측정하여 해당 아이템을 추천하는 방식입니다. \n",
    "\n",
    "일반적으로 사용자 기반보다 아이템 기반 방식이 *정확도가 더 높다*고 합니다. \n",
    "\n",
    "예를 들어 User2가 선호나는 아이템이 item1, item3이라고 해봅시다.\n",
    "\n",
    "![img](https://aiffelstaticprd.blob.core.windows.net/media/images/0f-30.item1.max-800x600.png)\n",
    "\n",
    "그럼 그 아이템에 대한 다른 User들의 선호도를 조사합니다. \n",
    "\n",
    "![img](https://aiffelstaticprd.blob.core.windows.net/media/images/0f-30.item2.max-800x600.png)\n",
    "\n",
    "item1을 좋아하는 user4에게 user2가 좋아하는 상품인 Item3을 추천해줍니다.\n",
    "\n",
    "![img](https://aiffelstaticprd.blob.core.windows.net/media/images/0f-30.item3.max-800x600.png)\n",
    "\n",
    "즉, 아래의 한 문장으로 표현할 수 있습니다.\n",
    "\n",
    "> **사용자 기반** : 당신과 비슷한 고객들이 다음 상품을 구매했습니다.\n",
    "**아이템 기반** : 이 상품을 선택한 다른 고객들은 다음 상품을 구매했습니다. "
   ]
  },
  {
   "cell_type": "markdown",
   "metadata": {},
   "source": [
    "## 6. 협업 필터링 - (2) 행렬 인수분해\n",
    "\n",
    "잠재요인 협업 필터링은 평점 행렬을 행렬 인수분해(matrix factorization)을 통해 잠재 요인(latent factor)을 분석합니다. \n",
    "\n",
    "행렬 인수분해에는 아래와 같은 기법들이 있습니다.\n",
    "\n",
    "- SVD (Singular Vector Decomposition)\n",
    "- ALS (Alternating Least Squares)\n",
    "- NMF (Non-Negative Factorization)\n",
    "\n",
    "행렬 인수분해도 인수분해와 비슷합니다. 30을 인수분해하면 `30 = 6x5 = 3x10 = 1x30` 이런 식으로 나타낼 수 있습니다. 행렬도 이렇게 곱으로 분해할 수 있으며, 분해 행렬을 사용하면 원하는 답을 더 쉽게 찾을 수 있습니다.\n",
    "\n",
    "### SVD\n",
    "\n",
    "**SVD(Singular Vector Decomposition)**은 우리 말로 하면 **특잇값 분해**입니다.\n",
    "\n",
    "쉽게 말하자면 `M X N` 형태의 행렬 `A`를 다음과 같은 형태로 분해하여 나타내는 것입니다.\n",
    "\n",
    "$$A = UΣV^{T}$$\n",
    "\n",
    "그림으로 표현하면 아래와 같습니다.\n",
    "\n",
    "![img](https://raw.githubusercontent.com/angeloyeo/angeloyeo.github.io/master/pics/2019-08-01_SVD/pic_SVD.png)\n",
    "\n",
    "SVD가 수학적으로, 기하학적으로 어떤 의미를 갖는지는 아래 글을 통해 한번 확인해봅시다.\n",
    "\n",
    "- [특이값 분해(SVD)](https://angeloyeo.github.io/2019/08/01/SVD.html)\n",
    "- [\\[선형대수학 #4\\] 특이값 분해(Singular Value Decomposition, SVD)의 활용](https://darkpgmr.tistory.com/106)"
   ]
  },
  {
   "cell_type": "markdown",
   "metadata": {},
   "source": [
    "#### SVD 실습\n",
    "\n",
    "SVD는 NumPy에 이미 구현되어 있습니다. 직접 이 함수를 사용해봅시다.\n",
    "\n",
    "`numpy.linalg`의 `svg` 모듈을 import한 후, `4x4` 형태의 행렬 A를 SVD 해보도록 하겠습니다."
   ]
  },
  {
   "cell_type": "code",
   "execution_count": 1,
   "metadata": {},
   "outputs": [],
   "source": [
    "import numpy as np\n",
    "from numpy.linalg import svd"
   ]
  },
  {
   "cell_type": "code",
   "execution_count": 2,
   "metadata": {},
   "outputs": [
    {
     "data": {
      "text/plain": [
       "array([[37, 37, 45, 45],\n",
       "       [12, 23,  2, 53],\n",
       "       [17, 46,  3, 41],\n",
       "       [ 7, 65, 49, 45]])"
      ]
     },
     "execution_count": 2,
     "metadata": {},
     "output_type": "execute_result"
    }
   ],
   "source": [
    "np.random.seed(30)\n",
    "A = np.random.randint(0, 100, size=(4, 4))\n",
    "A"
   ]
  },
  {
   "cell_type": "code",
   "execution_count": 3,
   "metadata": {},
   "outputs": [
    {
     "data": {
      "text/plain": [
       "(array([[-0.54937068, -0.2803037 , -0.76767503, -0.1740596 ],\n",
       "        [-0.3581157 ,  0.69569442, -0.13554741,  0.60777407],\n",
       "        [-0.41727183,  0.47142296,  0.28991733, -0.72082768],\n",
       "        [-0.6291496 , -0.46389601,  0.55520257,  0.28411509]]),\n",
       " array([142.88131188,  39.87683209,  28.97701433,  14.97002405]),\n",
       " array([[-0.25280963, -0.62046326, -0.4025583 , -0.6237463 ],\n",
       "        [ 0.06881225, -0.07117038, -0.8159854 ,  0.56953268],\n",
       "        [-0.73215039,  0.61782756, -0.23266002, -0.16767299],\n",
       "        [-0.62873522, -0.47775436,  0.34348792,  0.50838848]]))"
      ]
     },
     "execution_count": 3,
     "metadata": {},
     "output_type": "execute_result"
    }
   ],
   "source": [
    "svd(A)"
   ]
  },
  {
   "cell_type": "markdown",
   "metadata": {},
   "source": [
    "결과값으로 행렬 `U`와 행렬 `Σ`, 행렬 `V`의 전치행렬이 생성됩니다. 우리는 이 값들을 unpacking해서 각각 변수명에 할당해 줍니다. 각 행렬들을 확인해 봅시다."
   ]
  },
  {
   "cell_type": "code",
   "execution_count": 4,
   "metadata": {},
   "outputs": [
    {
     "name": "stdout",
     "output_type": "stream",
     "text": [
      "U matrix: (4, 4)\n",
      " [[-0.54937068 -0.2803037  -0.76767503 -0.1740596 ]\n",
      " [-0.3581157   0.69569442 -0.13554741  0.60777407]\n",
      " [-0.41727183  0.47142296  0.28991733 -0.72082768]\n",
      " [-0.6291496  -0.46389601  0.55520257  0.28411509]]\n",
      "Sigma: (4,)\n",
      " [142.88131188  39.87683209  28.97701433  14.97002405]\n",
      "V Transpose matrix: (4, 4)\n",
      " [[-0.25280963 -0.62046326 -0.4025583  -0.6237463 ]\n",
      " [ 0.06881225 -0.07117038 -0.8159854   0.56953268]\n",
      " [-0.73215039  0.61782756 -0.23266002 -0.16767299]\n",
      " [-0.62873522 -0.47775436  0.34348792  0.50838848]]\n"
     ]
    }
   ],
   "source": [
    "U, Sigma, VT = svd(A)\n",
    "\n",
    "print('U matrix: {}\\n'.format(U.shape),U)\n",
    "print('Sigma: {}\\n'.format(Sigma.shape),Sigma)\n",
    "print('V Transpose matrix: {}\\n'.format(VT.shape),VT)"
   ]
  },
  {
   "cell_type": "markdown",
   "metadata": {},
   "source": [
    "잘 분해가 되었습니다.\n",
    "\n",
    "이제 다시 복원해볼까요? 복원을 위해서는 U, Σ, VT를 내적합니다. 한 가지 유의할 사항은 Σ는 1차원이므로 0을 포함한 대각 행렬로 변환한 뒤 내적을 해주어야 합니다."
   ]
  },
  {
   "cell_type": "code",
   "execution_count": 5,
   "metadata": {},
   "outputs": [
    {
     "data": {
      "text/plain": [
       "array([[37., 37., 45., 45.],\n",
       "       [12., 23.,  2., 53.],\n",
       "       [17., 46.,  3., 41.],\n",
       "       [ 7., 65., 49., 45.]])"
      ]
     },
     "execution_count": 5,
     "metadata": {},
     "output_type": "execute_result"
    }
   ],
   "source": [
    "Sigma_mat = np.diag(Sigma)\n",
    "\n",
    "A_ = np.dot(np.dot(U, Sigma_mat), VT)\n",
    "A_"
   ]
  },
  {
   "cell_type": "markdown",
   "metadata": {},
   "source": [
    "복원된 `A_` 와 `A`는 같다는 것을 확인할 수 있습니다."
   ]
  },
  {
   "cell_type": "markdown",
   "metadata": {},
   "source": [
    "### Truncated SVD\n",
    "\n",
    "추천 시스템에서의 행렬 인수분해는 SVD 중에서도 Truncated SVD를 사용합니다.\n",
    "\n",
    "**Truncated SVD**는 SVD의 일종으로, 우리 말로 번역하면 *잘린 SVD* 입니다. 다른 말로 LSA(Latent semantic analysis), 잠재 의미 분석이라고 번역할 수 있습니다. Truncated SVD를 이용해 분해한 뒤 복원하면 SVD처럼 완벽히 같은 행렬이 나오지 않습니다. 그 이유는 Truncated SVD는 <u>차원을 축소한 다음 행렬을 분해</u>하기 때문입니다.\n",
    "\n",
    "사이킷런에서는 `TruncatedSVD` 기능을 함수로 제공해주고 있습니다.\n",
    "\n",
    "아래 동영상에서 한번 자세히 확인해봅시다.\n",
    "\n",
    "- [SVD: Optimal Truncation [Python]](https://www.youtube.com/watch?v=epoHE2rex0g&feature=emb_title)\n",
    "\n",
    "\n",
    "<iframe width=\"560\" height=\"315\" src=\"https://www.youtube.com/embed/epoHE2rex0g\" frameborder=\"0\" allow=\"accelerometer; autoplay; encrypted-media; gyroscope; picture-in-picture\" allowfullscreen></iframe>\n"
   ]
  },
  {
   "cell_type": "markdown",
   "metadata": {},
   "source": [
    "## 7. 협업 필터링 (3) - 행렬 인수분해와 잠재요인 협업 필터링\n",
    "\n",
    "SVD(특이값 분해)를 평가행렬에 적용하여 잠재요인을 분석하는 것을 도식화하면 아래와 같습니다.\n",
    "\n",
    "![img](https://aiffelstaticprd.blob.core.windows.net/media/images/0f-30.svd2.max-800x600.png)\n",
    "\n",
    "**표기법**\n",
    "\n",
    "- R : 사용자와 아이템 사이의 행렬\n",
    "- P : 사용자와 잠재요인 사이의 행렬\n",
    "- Q : 아이템과 잠재요인 사이의 행렬 -> 전치 행렬로 나타냄\n",
    "\n",
    "![img](https://aiffelstaticprd.blob.core.windows.net/media/images/0f-30.svd3.max-800x600.png)\n",
    "\n",
    "사용자가 아이템에 대한 평점을 매기는 요인으로 많은 항목들이 있을 겁니다. 배우가 마음에 들어서, 감독이 좋아서, 좋아하는 장르 등등 평점을 매기는 것은 매우 주관적입니다.\n",
    "\n",
    "그래서 사용자가 평점을 매기는 요인을 그냥 **잠재요인**이라고 취급한 뒤 그걸 SVD 기법을 이용해 분해하고 다시 합치는 방법을 사용합니다. 영화에 평점을 매긴 이유를 벡터화하여 이를 기반으로 추천합니다. 이 기법은 넷플릭스나 왓챠, 유튜브같은 기업에서 사용하고 있습니다.\n",
    "\n",
    "아래 링크는 행렬 인수분해를 추천 시스템에 적용한 것을 보다 상세하게 설명한 동영상입니다.\n",
    "\n",
    "- [How does Netflix recommend movies? Matrix Factorization](https://www.youtube.com/watch?v=ZspR5PZemcs&feature=emb_title)"
   ]
  },
  {
   "cell_type": "markdown",
   "metadata": {},
   "source": [
    "## 8. 실제 추천 시스템\n",
    "\n",
    "이상으로 추천 시스템의 기본에 대해 살펴 보았는데요. 실제로 YouTube나 Netflix 같은 대형 기업에서는 추천에 더 많은 것들을 고려합니다.\n",
    "\n",
    "사용자의 구매 여부와 평점 데이터 뿐만 아니라 얼마나 오랜 시간 동안 시청(혹은 해당 웹 사이트에 머물렀는지), 어떤 사이트에서 유입이 되었는지, 그리고 시청한 뒤 구매로 이어지기까지의 시간 등 우리의 족적들을 다 분석합니다. 이를 전문 용어로 **Digital Footprint(디지털 발자국), Digital Shadow(디지털 그림자)**라고 해요.\n",
    "\n",
    "그리고 이중에서 가장 중요한 지표가 바로 **클릭률**입니다. 전문 용어로는 **CTR(Click Through Rate)**입니다. CTR은 마케팅에서도 중요한 지표로 작용하는 용어이기도합니다.\n",
    "\n",
    "- [Clickthrough rate(CTR)](https://support.google.com/google-ads/answer/2615875?hl=en)\n",
    "\n",
    "이러한 데이터들을 모아 추천을 한 뒤, 해당 아이템이 적절한 추천인지 여부를 평가하는 것 역시 중요한 일입니다. 추천한 제품이 구매로 이어졌는지를 통해 추천에 성공했는지를 평가하기도 하고 모델 단계에서 평가하기도 합니다.\n",
    "\n",
    "이처럼, 추천 시스템은 굉장히 큰 시스템입니다. 데이터를 기반으로 사용자에게 적절한 제품을 추천한다는 것 그리고 그것이 구매로 이어지는것은 매출과 직결되는 문제이기도 합니다. 좋은 추천 시스템을 만들기 위해서는 어떤 데이터를 쓸지 많은 고민이 필요합니다. 사용자와 연관성이 있고, 구매와 직결되는 각종 데이터를 수집하고 정렬(sorting)하여 다시 순위(ranking)를 매긴 다음 평가하는 작업을 반복해가며 적합한 데이터와 추천 시스템을 만들어냅니다."
   ]
  },
  {
   "cell_type": "code",
   "execution_count": 6,
   "metadata": {},
   "outputs": [
    {
     "data": {
      "text/html": [
       "<style> .container{width:90% !important;}</style>"
      ],
      "text/plain": [
       "<IPython.core.display.HTML object>"
      ]
     },
     "metadata": {},
     "output_type": "display_data"
    }
   ],
   "source": [
    "from IPython.core.display import display, HTML\n",
    "\n",
    "display(HTML(\"<style> .container{width:90% !important;}</style>\"))"
   ]
  }
 ],
 "metadata": {
  "kernelspec": {
   "display_name": "Python 3",
   "language": "python",
   "name": "python3"
  },
  "language_info": {
   "codemirror_mode": {
    "name": "ipython",
    "version": 3
   },
   "file_extension": ".py",
   "mimetype": "text/x-python",
   "name": "python",
   "nbconvert_exporter": "python",
   "pygments_lexer": "ipython3",
   "version": "3.7.6"
  }
 },
 "nbformat": 4,
 "nbformat_minor": 4
}
