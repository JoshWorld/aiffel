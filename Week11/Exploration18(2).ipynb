{
 "cells": [
  {
   "cell_type": "code",
   "execution_count": 3,
   "metadata": {},
   "outputs": [],
   "source": [
    "import numpy as np\n",
    "import pandas as pd\n",
    "import os\n",
    "import re\n",
    "import matplotlib.pyplot as plt\n",
    "\n",
    "from tensorflow.keras.preprocessing.text import Tokenizer\n",
    "from tensorflow.keras.preprocessing.sequence import pad_sequences"
   ]
  },
  {
   "cell_type": "code",
   "execution_count": 4,
   "metadata": {},
   "outputs": [],
   "source": [
    "import urllib.request\n",
    "\n",
    "urllib.request.urlretrieve(\"https://raw.githubusercontent.com/sunnysai12345/News_Summary/master/news_summary_more.csv\", filename=\"news_summary_more.csv\")\n",
    "data = pd.read_csv('news_summary_more.csv', encoding='iso-8859-1')"
   ]
  },
  {
   "cell_type": "code",
   "execution_count": 5,
   "metadata": {},
   "outputs": [
    {
     "data": {
      "text/html": [
       "<div>\n",
       "<style scoped>\n",
       "    .dataframe tbody tr th:only-of-type {\n",
       "        vertical-align: middle;\n",
       "    }\n",
       "\n",
       "    .dataframe tbody tr th {\n",
       "        vertical-align: top;\n",
       "    }\n",
       "\n",
       "    .dataframe thead th {\n",
       "        text-align: right;\n",
       "    }\n",
       "</style>\n",
       "<table border=\"1\" class=\"dataframe\">\n",
       "  <thead>\n",
       "    <tr style=\"text-align: right;\">\n",
       "      <th></th>\n",
       "      <th>headlines</th>\n",
       "      <th>text</th>\n",
       "    </tr>\n",
       "  </thead>\n",
       "  <tbody>\n",
       "    <tr>\n",
       "      <th>45965</th>\n",
       "      <td>Scientists set record for fastest distance mea...</td>\n",
       "      <td>Germany and France-based researchers have reco...</td>\n",
       "    </tr>\n",
       "    <tr>\n",
       "      <th>76844</th>\n",
       "      <td>What benefits are freedom fighters entitled to?</td>\n",
       "      <td>A Central scheme grants pension and other bene...</td>\n",
       "    </tr>\n",
       "    <tr>\n",
       "      <th>66158</th>\n",
       "      <td>NASA running out of plutonium for deep space m...</td>\n",
       "      <td>The US government has acknowledged that the De...</td>\n",
       "    </tr>\n",
       "    <tr>\n",
       "      <th>19613</th>\n",
       "      <td>Nick Jonas' mom dances to Punjabi song at Priy...</td>\n",
       "      <td>Denise Jonas, mother of Priyanka Chopra's fian...</td>\n",
       "    </tr>\n",
       "    <tr>\n",
       "      <th>19070</th>\n",
       "      <td>Man, son drown while cleaning manhole in Mahar...</td>\n",
       "      <td>A 45-year-old man and his 21-year-old son drow...</td>\n",
       "    </tr>\n",
       "    <tr>\n",
       "      <th>80225</th>\n",
       "      <td>Saving one tiger yields capital benefit of Ã¢Â...</td>\n",
       "      <td>An economic valuation of tiger reserves in Ind...</td>\n",
       "    </tr>\n",
       "    <tr>\n",
       "      <th>91409</th>\n",
       "      <td>Subhash Ghai shares video of late actor Vinod ...</td>\n",
       "      <td>Filmmaker Subhash Ghai has shared a 2016 video...</td>\n",
       "    </tr>\n",
       "    <tr>\n",
       "      <th>4349</th>\n",
       "      <td>Agitations are uncalled for: Madhur on 'The Ac...</td>\n",
       "      <td>Madhur Bhandarkar, while talking about the agi...</td>\n",
       "    </tr>\n",
       "    <tr>\n",
       "      <th>40020</th>\n",
       "      <td>Nipah virus no longer a threat in Kerala: Medi...</td>\n",
       "      <td>Indian Medical Association President Ravi Wank...</td>\n",
       "    </tr>\n",
       "    <tr>\n",
       "      <th>90981</th>\n",
       "      <td>Warner, Dhawan 1st to add 2,000 runs for any w...</td>\n",
       "      <td>Sunrisers Hyderabad openers Shikhar Dhawan and...</td>\n",
       "    </tr>\n",
       "  </tbody>\n",
       "</table>\n",
       "</div>"
      ],
      "text/plain": [
       "                                               headlines  \\\n",
       "45965  Scientists set record for fastest distance mea...   \n",
       "76844    What benefits are freedom fighters entitled to?   \n",
       "66158  NASA running out of plutonium for deep space m...   \n",
       "19613  Nick Jonas' mom dances to Punjabi song at Priy...   \n",
       "19070  Man, son drown while cleaning manhole in Mahar...   \n",
       "80225  Saving one tiger yields capital benefit of Ã¢Â...   \n",
       "91409  Subhash Ghai shares video of late actor Vinod ...   \n",
       "4349   Agitations are uncalled for: Madhur on 'The Ac...   \n",
       "40020  Nipah virus no longer a threat in Kerala: Medi...   \n",
       "90981  Warner, Dhawan 1st to add 2,000 runs for any w...   \n",
       "\n",
       "                                                    text  \n",
       "45965  Germany and France-based researchers have reco...  \n",
       "76844  A Central scheme grants pension and other bene...  \n",
       "66158  The US government has acknowledged that the De...  \n",
       "19613  Denise Jonas, mother of Priyanka Chopra's fian...  \n",
       "19070  A 45-year-old man and his 21-year-old son drow...  \n",
       "80225  An economic valuation of tiger reserves in Ind...  \n",
       "91409  Filmmaker Subhash Ghai has shared a 2016 video...  \n",
       "4349   Madhur Bhandarkar, while talking about the agi...  \n",
       "40020  Indian Medical Association President Ravi Wank...  \n",
       "90981  Sunrisers Hyderabad openers Shikhar Dhawan and...  "
      ]
     },
     "execution_count": 5,
     "metadata": {},
     "output_type": "execute_result"
    }
   ],
   "source": [
    "data.sample(10)"
   ]
  },
  {
   "cell_type": "markdown",
   "metadata": {},
   "source": [
    "## Step 2. 데이터 전처리하기\n",
    "\n",
    "### 중복값과 결측치 확인하기"
   ]
  },
  {
   "cell_type": "code",
   "execution_count": 7,
   "metadata": {},
   "outputs": [
    {
     "name": "stdout",
     "output_type": "stream",
     "text": [
      "98401\n"
     ]
    }
   ],
   "source": [
    "print(len(data))"
   ]
  },
  {
   "cell_type": "code",
   "execution_count": 6,
   "metadata": {},
   "outputs": [
    {
     "name": "stdout",
     "output_type": "stream",
     "text": [
      "98280\n",
      "98360\n"
     ]
    }
   ],
   "source": [
    "print(data['headlines'].nunique())\n",
    "print(data['text'].nunique())"
   ]
  },
  {
   "cell_type": "code",
   "execution_count": 9,
   "metadata": {},
   "outputs": [
    {
     "name": "stdout",
     "output_type": "stream",
     "text": [
      "98360\n"
     ]
    }
   ],
   "source": [
    "# 중복을 제거해줍니다.\n",
    "data.drop_duplicates(subset = ['text'], inplace=True)\n",
    "print(len(data))"
   ]
  },
  {
   "cell_type": "code",
   "execution_count": 10,
   "metadata": {},
   "outputs": [
    {
     "data": {
      "text/plain": [
       "headlines    0\n",
       "text         0\n",
       "dtype: int64"
      ]
     },
     "execution_count": 10,
     "metadata": {},
     "output_type": "execute_result"
    }
   ],
   "source": [
    "data.isnull().sum()"
   ]
  },
  {
   "cell_type": "markdown",
   "metadata": {},
   "source": [
    "### 텍스트 정규화와 불용어 제거"
   ]
  },
  {
   "cell_type": "code",
   "execution_count": 11,
   "metadata": {},
   "outputs": [
    {
     "name": "stdout",
     "output_type": "stream",
     "text": [
      "정규화 사전의 수:  120\n"
     ]
    }
   ],
   "source": [
    "contractions = {\"ain't\": \"is not\", \"aren't\": \"are not\",\"can't\": \"cannot\", \"'cause\": \"because\", \"could've\": \"could have\", \"couldn't\": \"could not\",\n",
    "                           \"didn't\": \"did not\",  \"doesn't\": \"does not\", \"don't\": \"do not\", \"hadn't\": \"had not\", \"hasn't\": \"has not\", \"haven't\": \"have not\",\n",
    "                           \"he'd\": \"he would\",\"he'll\": \"he will\", \"he's\": \"he is\", \"how'd\": \"how did\", \"how'd'y\": \"how do you\", \"how'll\": \"how will\", \"how's\": \"how is\",\n",
    "                           \"I'd\": \"I would\", \"I'd've\": \"I would have\", \"I'll\": \"I will\", \"I'll've\": \"I will have\",\"I'm\": \"I am\", \"I've\": \"I have\", \"i'd\": \"i would\",\n",
    "                           \"i'd've\": \"i would have\", \"i'll\": \"i will\",  \"i'll've\": \"i will have\",\"i'm\": \"i am\", \"i've\": \"i have\", \"isn't\": \"is not\", \"it'd\": \"it would\",\n",
    "                           \"it'd've\": \"it would have\", \"it'll\": \"it will\", \"it'll've\": \"it will have\",\"it's\": \"it is\", \"let's\": \"let us\", \"ma'am\": \"madam\",\n",
    "                           \"mayn't\": \"may not\", \"might've\": \"might have\",\"mightn't\": \"might not\",\"mightn't've\": \"might not have\", \"must've\": \"must have\",\n",
    "                           \"mustn't\": \"must not\", \"mustn't've\": \"must not have\", \"needn't\": \"need not\", \"needn't've\": \"need not have\",\"o'clock\": \"of the clock\",\n",
    "                           \"oughtn't\": \"ought not\", \"oughtn't've\": \"ought not have\", \"shan't\": \"shall not\", \"sha'n't\": \"shall not\", \"shan't've\": \"shall not have\",\n",
    "                           \"she'd\": \"she would\", \"she'd've\": \"she would have\", \"she'll\": \"she will\", \"she'll've\": \"she will have\", \"she's\": \"she is\",\n",
    "                           \"should've\": \"should have\", \"shouldn't\": \"should not\", \"shouldn't've\": \"should not have\", \"so've\": \"so have\",\"so's\": \"so as\",\n",
    "                           \"this's\": \"this is\",\"that'd\": \"that would\", \"that'd've\": \"that would have\", \"that's\": \"that is\", \"there'd\": \"there would\",\n",
    "                           \"there'd've\": \"there would have\", \"there's\": \"there is\", \"here's\": \"here is\",\"they'd\": \"they would\", \"they'd've\": \"they would have\",\n",
    "                           \"they'll\": \"they will\", \"they'll've\": \"they will have\", \"they're\": \"they are\", \"they've\": \"they have\", \"to've\": \"to have\",\n",
    "                           \"wasn't\": \"was not\", \"we'd\": \"we would\", \"we'd've\": \"we would have\", \"we'll\": \"we will\", \"we'll've\": \"we will have\", \"we're\": \"we are\",\n",
    "                           \"we've\": \"we have\", \"weren't\": \"were not\", \"what'll\": \"what will\", \"what'll've\": \"what will have\", \"what're\": \"what are\",\n",
    "                           \"what's\": \"what is\", \"what've\": \"what have\", \"when's\": \"when is\", \"when've\": \"when have\", \"where'd\": \"where did\", \"where's\": \"where is\",\n",
    "                           \"where've\": \"where have\", \"who'll\": \"who will\", \"who'll've\": \"who will have\", \"who's\": \"who is\", \"who've\": \"who have\",\n",
    "                           \"why's\": \"why is\", \"why've\": \"why have\", \"will've\": \"will have\", \"won't\": \"will not\", \"won't've\": \"will not have\",\n",
    "                           \"would've\": \"would have\", \"wouldn't\": \"would not\", \"wouldn't've\": \"would not have\", \"y'all\": \"you all\",\n",
    "                           \"y'all'd\": \"you all would\",\"y'all'd've\": \"you all would have\",\"y'all're\": \"you all are\",\"y'all've\": \"you all have\",\n",
    "                           \"you'd\": \"you would\", \"you'd've\": \"you would have\", \"you'll\": \"you will\", \"you'll've\": \"you will have\",\n",
    "                           \"you're\": \"you are\", \"you've\": \"you have\"}\n",
    "\n",
    "print(\"정규화 사전의 수: \",len(contractions))"
   ]
  },
  {
   "cell_type": "code",
   "execution_count": 12,
   "metadata": {},
   "outputs": [
    {
     "name": "stderr",
     "output_type": "stream",
     "text": [
      "[nltk_data] Downloading package stopwords to\n",
      "[nltk_data]     /home/aiffel0039/nltk_data...\n",
      "[nltk_data]   Package stopwords is already up-to-date!\n"
     ]
    },
    {
     "data": {
      "text/plain": [
       "True"
      ]
     },
     "execution_count": 12,
     "metadata": {},
     "output_type": "execute_result"
    }
   ],
   "source": [
    "import nltk\n",
    "nltk.download(\"stopwords\")"
   ]
  },
  {
   "cell_type": "code",
   "execution_count": 16,
   "metadata": {},
   "outputs": [
    {
     "name": "stdout",
     "output_type": "stream",
     "text": [
      "불용어의 개수 :  179\n",
      "['i', 'me', 'my', 'myself', 'we', 'our', 'ours', 'ourselves', 'you', \"you're\", \"you've\", \"you'll\", \"you'd\", 'your', 'yours', 'yourself', 'yourselves', 'he', 'him', 'his', 'himself', 'she', \"she's\", 'her', 'hers', 'herself', 'it', \"it's\", 'its', 'itself', 'they', 'them', 'their', 'theirs', 'themselves', 'what', 'which', 'who', 'whom', 'this', 'that', \"that'll\", 'these', 'those', 'am', 'is', 'are', 'was', 'were', 'be', 'been', 'being', 'have', 'has', 'had', 'having', 'do', 'does', 'did', 'doing', 'a', 'an', 'the', 'and', 'but', 'if', 'or', 'because', 'as', 'until', 'while', 'of', 'at', 'by', 'for', 'with', 'about', 'against', 'between', 'into', 'through', 'during', 'before', 'after', 'above', 'below', 'to', 'from', 'up', 'down', 'in', 'out', 'on', 'off', 'over', 'under', 'again', 'further', 'then', 'once', 'here', 'there', 'when', 'where', 'why', 'how', 'all', 'any', 'both', 'each', 'few', 'more', 'most', 'other', 'some', 'such', 'no', 'nor', 'not', 'only', 'own', 'same', 'so', 'than', 'too', 'very', 's', 't', 'can', 'will', 'just', 'don', \"don't\", 'should', \"should've\", 'now', 'd', 'll', 'm', 'o', 're', 've', 'y', 'ain', 'aren', \"aren't\", 'couldn', \"couldn't\", 'didn', \"didn't\", 'doesn', \"doesn't\", 'hadn', \"hadn't\", 'hasn', \"hasn't\", 'haven', \"haven't\", 'isn', \"isn't\", 'ma', 'mightn', \"mightn't\", 'mustn', \"mustn't\", 'needn', \"needn't\", 'shan', \"shan't\", 'shouldn', \"shouldn't\", 'wasn', \"wasn't\", 'weren', \"weren't\", 'won', \"won't\", 'wouldn', \"wouldn't\"]\n"
     ]
    }
   ],
   "source": [
    "from nltk.corpus import stopwords\n",
    "\n",
    "print(\"불용어의 개수 : \", len(stopwords.words('english')))\n",
    "print(stopwords.words('english'))"
   ]
  },
  {
   "cell_type": "code",
   "execution_count": 19,
   "metadata": {},
   "outputs": [],
   "source": [
    "# 데이터 전처리 함수\n",
    "def preprocess_sentence(sentence, remove_stopwords = True):\n",
    "    sentence = sentence.lower()\n",
    "    sentence = re.sub(r'\\([^)]*\\)', '', sentence) # 괄호로 닫힌 문자열 (...) 제거 Ex) my husband (and myself!) for => my husband for\n",
    "    sentence = re.sub('\"','', sentence) # 쌍따옴표 \" 제거\n",
    "    sentence = ' '.join([contractions[t] if t in contractions else t for t in sentence.split(\" \")]) # 약어 정규화\n",
    "    sentence = re.sub(r\"'s\\b\",\"\",sentence) # 소유격 제거. Ex) roland's -> roland\n",
    "    sentence = re.sub(\"[^a-zA-Z]\", \" \", sentence) # 영어 외 문자(숫자, 특수문자 등) 공백으로 변환\n",
    "    sentence = re.sub('[m]{2,}', 'mm', sentence) # m이 3개 이상이면 2개로 변경. Ex) ummmmmmm yeah -> umm yeah\n",
    "    \n",
    "    # 불용어 제거 \n",
    "    if remove_stopwords:\n",
    "        tokens = ' '.join(word for word in sentence.split() if not word in stopwords.words('english') if len(word) > 1)\n",
    "    else:\n",
    "        tokens = ' '.join(word for word in sentence.split() if len(word) > 1)\n",
    "    \n",
    "    return tokens"
   ]
  },
  {
   "cell_type": "code",
   "execution_count": 20,
   "metadata": {},
   "outputs": [
    {
     "data": {
      "application/vnd.jupyter.widget-view+json": {
       "model_id": "71092af5ed714e19ab792a6330c4b70f",
       "version_major": 2,
       "version_minor": 0
      },
      "text/plain": [
       "HBox(children=(FloatProgress(value=0.0, max=98360.0), HTML(value='')))"
      ]
     },
     "metadata": {},
     "output_type": "display_data"
    },
    {
     "name": "stdout",
     "output_type": "stream",
     "text": [
      "\n",
      "슝=3\n"
     ]
    }
   ],
   "source": [
    "from tqdm.notebook import tqdm\n",
    "\n",
    "clean_text = []\n",
    "for s in tqdm(data['text']):\n",
    "    clean_text.append(preprocess_sentence(s))\n",
    "    \n",
    "print(\"슝=3\")"
   ]
  },
  {
   "cell_type": "code",
   "execution_count": 21,
   "metadata": {},
   "outputs": [
    {
     "data": {
      "text/plain": [
       "['saurav kant alumnus upgrad iiit pg program machine learning artificial intelligence sr systems engineer infosys almost years work experience program upgrad degree career support helped transition data scientist tech mahindra salary hike upgrad online power learning powered lakh careers',\n",
       " 'kunal shah credit card bill payment platform cred gave users chance win free food swiggy one year pranav kaushik delhi techie bagged reward spending cred coins users get one cred coin per rupee bill paid used avail rewards brands like ixigo bookmyshow ubereats cult fit',\n",
       " 'new zealand defeated india wickets fourth odi hamilton thursday win first match five match odi series india lost international match rohit sharma captaincy consecutive victories dating back march match witnessed india getting seventh lowest total odi cricket history',\n",
       " 'aegon life iterm insurance plan customers enjoy tax benefits premiums paid save taxes plan provides life cover age years also customers options insure critical illnesses disability accidental death benefit rider life cover age years',\n",
       " 'speaking sexual harassment allegations rajkumar hirani sonam kapoor said known hirani many years true metoo movement get derailed metoo movement always believe woman case need reserve judgment added hirani accused assistant worked sanju']"
      ]
     },
     "execution_count": 21,
     "metadata": {},
     "output_type": "execute_result"
    }
   ],
   "source": [
    "clean_text[:5]"
   ]
  },
  {
   "cell_type": "code",
   "execution_count": 22,
   "metadata": {},
   "outputs": [
    {
     "data": {
      "application/vnd.jupyter.widget-view+json": {
       "model_id": "a358f462bc11460c812b1a8366194400",
       "version_major": 2,
       "version_minor": 0
      },
      "text/plain": [
       "HBox(children=(FloatProgress(value=0.0, max=98360.0), HTML(value='')))"
      ]
     },
     "metadata": {},
     "output_type": "display_data"
    },
    {
     "name": "stdout",
     "output_type": "stream",
     "text": [
      "\n",
      "슝=3\n"
     ]
    }
   ],
   "source": [
    "clean_summary = []\n",
    "for s in tqdm(data['headlines']):\n",
    "    clean_summary.append(preprocess_sentence(s))\n",
    "\n",
    "print(\"슝=3\")"
   ]
  },
  {
   "cell_type": "code",
   "execution_count": 23,
   "metadata": {},
   "outputs": [
    {
     "data": {
      "text/plain": [
       "['upgrad learner switches career ml al salary hike',\n",
       " 'delhi techie wins free food swiggy one year cred',\n",
       " 'new zealand end rohit sharma led india match winning streak',\n",
       " 'aegon life iterm insurance plan helps customers save tax',\n",
       " 'known hirani yrs metoo claims true sonam']"
      ]
     },
     "execution_count": 23,
     "metadata": {},
     "output_type": "execute_result"
    }
   ],
   "source": [
    "clean_summary[:5]"
   ]
  },
  {
   "cell_type": "code",
   "execution_count": 26,
   "metadata": {},
   "outputs": [],
   "source": [
    "data['headlines'] = clean_summary\n",
    "data['text'] = clean_text"
   ]
  },
  {
   "cell_type": "code",
   "execution_count": 28,
   "metadata": {},
   "outputs": [
    {
     "data": {
      "text/plain": [
       "headlines    0\n",
       "text         0\n",
       "dtype: int64"
      ]
     },
     "execution_count": 28,
     "metadata": {},
     "output_type": "execute_result"
    }
   ],
   "source": [
    "data.isnull().sum()"
   ]
  },
  {
   "cell_type": "code",
   "execution_count": 29,
   "metadata": {},
   "outputs": [
    {
     "name": "stdout",
     "output_type": "stream",
     "text": [
      "전체 샘플 수 : 98360\n"
     ]
    }
   ],
   "source": [
    "print(\"전체 샘플 수 :\", len(data))"
   ]
  },
  {
   "cell_type": "markdown",
   "metadata": {},
   "source": [
    "### 샘플의 최대 길이 정하기"
   ]
  },
  {
   "cell_type": "code",
   "execution_count": 30,
   "metadata": {},
   "outputs": [
    {
     "name": "stdout",
     "output_type": "stream",
     "text": [
      "텍스트의 최소 길이 :  1\n",
      "텍스트의 최대 길이 :  60\n",
      "텍스트의 평균 길이 :  35.09968483123221\n",
      "헤드라인의 최소 길이 :  1\n",
      "헤드라인의 최대 길이 :  13\n",
      "헤드라인의 평균 길이 :  7.136183407889386\n"
     ]
    }
   ],
   "source": [
    "text_len = [len(s.split()) for s in data['text']]\n",
    "summary_len = [len(s.split()) for s in data['headlines']]\n",
    "\n",
    "print(\"텍스트의 최소 길이 : \", np.min(text_len))\n",
    "print(\"텍스트의 최대 길이 : \", np.max(text_len))\n",
    "print(\"텍스트의 평균 길이 : \", np.mean(text_len))\n",
    "\n",
    "print(\"헤드라인의 최소 길이 : \", np.min(summary_len))\n",
    "print(\"헤드라인의 최대 길이 : \", np.max(summary_len))\n",
    "print(\"헤드라인의 평균 길이 : \", np.mean(summary_len))"
   ]
  },
  {
   "cell_type": "code",
   "execution_count": 32,
   "metadata": {},
   "outputs": [
    {
     "data": {
      "image/png": "[encoded data removed]",
      "text/plain": [
       "<Figure size 432x288 with 2 Axes>"
      ]
     },
     "metadata": {
      "needs_background": "light"
     },
     "output_type": "display_data"
    },
    {
     "data": {
      "image/png": "[encoded data removed]",
      "text/plain": [
       "<Figure size 432x288 with 1 Axes>"
      ]
     },
     "metadata": {
      "needs_background": "light"
     },
     "output_type": "display_data"
    },
    {
     "data": {
      "image/png": "[encoded data removed]",
      "text/plain": [
       "<Figure size 432x288 with 1 Axes>"
      ]
     },
     "metadata": {
      "needs_background": "light"
     },
     "output_type": "display_data"
    }
   ],
   "source": [
    "plt.subplot(1, 2, 1)\n",
    "plt.boxplot(summary_len)\n",
    "plt.title(\"Summary\")\n",
    "\n",
    "plt.subplot(1, 2, 2)\n",
    "plt.boxplot(text_len)\n",
    "plt.title(\"Text\")\n",
    "plt.tight_layout()\n",
    "\n",
    "plt.show()\n",
    "\n",
    "plt.title('Summary')\n",
    "plt.hist(summary_len, bins=40)\n",
    "plt.xlabel('length of samples')\n",
    "plt.ylabel('number of samples')\n",
    "plt.show()\n",
    "\n",
    "plt.title('Text')\n",
    "plt.hist(text_len, bins=40)\n",
    "plt.xlabel('length of samples')\n",
    "plt.ylabel('number of sampels')\n",
    "plt.show()"
   ]
  },
  {
   "cell_type": "markdown",
   "metadata": {},
   "source": [
    "임의로 텍스트와 헤드라인의 길이를 정해줍시다. "
   ]
  },
  {
   "cell_type": "code",
   "execution_count": 31,
   "metadata": {},
   "outputs": [],
   "source": [
    "text_max_len = 45\n",
    "summary_max_len = 10"
   ]
  },
  {
   "cell_type": "code",
   "execution_count": 33,
   "metadata": {},
   "outputs": [],
   "source": [
    "def below_threshold_len(max_len, nested_list):\n",
    "    cnt = 0\n",
    "    for s in nested_list:\n",
    "        if len(s.split()) <= max_len:\n",
    "            cnt = cnt + 1\n",
    "    print(\"전체 샘플 중 길이가 {} 이하인 샘플의 비율 : {}\".format(max_len, (cnt/len(nested_list))))"
   ]
  },
  {
   "cell_type": "code",
   "execution_count": 34,
   "metadata": {},
   "outputs": [
    {
     "name": "stdout",
     "output_type": "stream",
     "text": [
      "전체 샘플 중 길이가 50 이하인 샘플의 비율 : 0.9998576657177715\n",
      "전체 샘플 중 길이가 10 이하인 샘플의 비율 : 0.9978344855632371\n"
     ]
    }
   ],
   "source": [
    "below_threshold_len(text_max_len, data['text'])\n",
    "below_threshold_len(summary_max_len, data['headlines'])"
   ]
  },
  {
   "cell_type": "markdown",
   "metadata": {},
   "source": [
    "거의 모든 데이터를 확보할 수 있네요!"
   ]
  },
  {
   "cell_type": "code",
   "execution_count": 35,
   "metadata": {},
   "outputs": [
    {
     "name": "stdout",
     "output_type": "stream",
     "text": [
      "전체 샘플의 수 :  98134\n"
     ]
    }
   ],
   "source": [
    "data = data[data['text'].apply(lambda x : len(x.split()) <= text_max_len)]\n",
    "data = data[data['headlines'].apply(lambda x : len(x.split()) <= summary_max_len)]\n",
    "\n",
    "print(\"전체 샘플의 수 : \", len(data))"
   ]
  },
  {
   "cell_type": "markdown",
   "metadata": {},
   "source": [
    "### 시작 토큰과 종료 토큰 추가하기"
   ]
  },
  {
   "cell_type": "code",
   "execution_count": 36,
   "metadata": {},
   "outputs": [
    {
     "data": {
      "text/html": [
       "<div>\n",
       "<style scoped>\n",
       "    .dataframe tbody tr th:only-of-type {\n",
       "        vertical-align: middle;\n",
       "    }\n",
       "\n",
       "    .dataframe tbody tr th {\n",
       "        vertical-align: top;\n",
       "    }\n",
       "\n",
       "    .dataframe thead th {\n",
       "        text-align: right;\n",
       "    }\n",
       "</style>\n",
       "<table border=\"1\" class=\"dataframe\">\n",
       "  <thead>\n",
       "    <tr style=\"text-align: right;\">\n",
       "      <th></th>\n",
       "      <th>headlines</th>\n",
       "      <th>text</th>\n",
       "      <th>decoder_input</th>\n",
       "      <th>decoder_target</th>\n",
       "    </tr>\n",
       "  </thead>\n",
       "  <tbody>\n",
       "    <tr>\n",
       "      <th>0</th>\n",
       "      <td>upgrad learner switches career ml al salary hike</td>\n",
       "      <td>saurav kant alumnus upgrad iiit pg program mac...</td>\n",
       "      <td>sostoken upgrad learner switches career ml al ...</td>\n",
       "      <td>upgrad learner switches career ml al salary hi...</td>\n",
       "    </tr>\n",
       "    <tr>\n",
       "      <th>1</th>\n",
       "      <td>delhi techie wins free food swiggy one year cred</td>\n",
       "      <td>kunal shah credit card bill payment platform c...</td>\n",
       "      <td>sostoken delhi techie wins free food swiggy on...</td>\n",
       "      <td>delhi techie wins free food swiggy one year cr...</td>\n",
       "    </tr>\n",
       "    <tr>\n",
       "      <th>2</th>\n",
       "      <td>new zealand end rohit sharma led india match w...</td>\n",
       "      <td>new zealand defeated india wickets fourth odi ...</td>\n",
       "      <td>sostoken new zealand end rohit sharma led indi...</td>\n",
       "      <td>new zealand end rohit sharma led india match w...</td>\n",
       "    </tr>\n",
       "    <tr>\n",
       "      <th>3</th>\n",
       "      <td>aegon life iterm insurance plan helps customer...</td>\n",
       "      <td>aegon life iterm insurance plan customers enjo...</td>\n",
       "      <td>sostoken aegon life iterm insurance plan helps...</td>\n",
       "      <td>aegon life iterm insurance plan helps customer...</td>\n",
       "    </tr>\n",
       "    <tr>\n",
       "      <th>4</th>\n",
       "      <td>known hirani yrs metoo claims true sonam</td>\n",
       "      <td>speaking sexual harassment allegations rajkuma...</td>\n",
       "      <td>sostoken known hirani yrs metoo claims true sonam</td>\n",
       "      <td>known hirani yrs metoo claims true sonam eostoken</td>\n",
       "    </tr>\n",
       "  </tbody>\n",
       "</table>\n",
       "</div>"
      ],
      "text/plain": [
       "                                           headlines  \\\n",
       "0   upgrad learner switches career ml al salary hike   \n",
       "1   delhi techie wins free food swiggy one year cred   \n",
       "2  new zealand end rohit sharma led india match w...   \n",
       "3  aegon life iterm insurance plan helps customer...   \n",
       "4           known hirani yrs metoo claims true sonam   \n",
       "\n",
       "                                                text  \\\n",
       "0  saurav kant alumnus upgrad iiit pg program mac...   \n",
       "1  kunal shah credit card bill payment platform c...   \n",
       "2  new zealand defeated india wickets fourth odi ...   \n",
       "3  aegon life iterm insurance plan customers enjo...   \n",
       "4  speaking sexual harassment allegations rajkuma...   \n",
       "\n",
       "                                       decoder_input  \\\n",
       "0  sostoken upgrad learner switches career ml al ...   \n",
       "1  sostoken delhi techie wins free food swiggy on...   \n",
       "2  sostoken new zealand end rohit sharma led indi...   \n",
       "3  sostoken aegon life iterm insurance plan helps...   \n",
       "4  sostoken known hirani yrs metoo claims true sonam   \n",
       "\n",
       "                                      decoder_target  \n",
       "0  upgrad learner switches career ml al salary hi...  \n",
       "1  delhi techie wins free food swiggy one year cr...  \n",
       "2  new zealand end rohit sharma led india match w...  \n",
       "3  aegon life iterm insurance plan helps customer...  \n",
       "4  known hirani yrs metoo claims true sonam eostoken  "
      ]
     },
     "execution_count": 36,
     "metadata": {},
     "output_type": "execute_result"
    }
   ],
   "source": [
    "data['decoder_input'] = data['headlines'].apply(lambda x : 'sostoken ' + x)\n",
    "data['decoder_target'] = data['headlines'].apply(lambda x : x + ' eostoken')\n",
    "data.head()"
   ]
  },
  {
   "cell_type": "code",
   "execution_count": 37,
   "metadata": {},
   "outputs": [],
   "source": [
    "# 인코더의 입력, 디코더의 입력과 레이블을 각각 다시 numpy 타입으로 저장해줍니다.\n",
    "encoder_input = np.array(data['text']) \n",
    "decoder_input = np.array(data['decoder_input'])\n",
    "decoder_target = np.array(data['decoder_target'])"
   ]
  },
  {
   "cell_type": "markdown",
   "metadata": {},
   "source": [
    "훈련 데이터와 테스트 데이터를 분리합시다."
   ]
  },
  {
   "cell_type": "code",
   "execution_count": 39,
   "metadata": {},
   "outputs": [
    {
     "name": "stdout",
     "output_type": "stream",
     "text": [
      "[10910 20856 35688 ... 88741 47245 87020]\n"
     ]
    }
   ],
   "source": [
    "indices = np.arange(encoder_input.shape[0])\n",
    "np.random.shuffle(indices)\n",
    "print(indices)"
   ]
  },
  {
   "cell_type": "code",
   "execution_count": 40,
   "metadata": {},
   "outputs": [],
   "source": [
    "encoder_iput = encoder_input[indices]\n",
    "decoder_input = decoder_input[indices]\n",
    "decoder_target = decoder_target[indices]"
   ]
  },
  {
   "cell_type": "code",
   "execution_count": 41,
   "metadata": {},
   "outputs": [
    {
     "name": "stdout",
     "output_type": "stream",
     "text": [
      "테스트 데이터의 수 :  19626\n"
     ]
    }
   ],
   "source": [
    "n_of_val = int(len(encoder_input) * 0.2)\n",
    "print(\"테스트 데이터의 수 : \", n_of_val)"
   ]
  },
  {
   "cell_type": "code",
   "execution_count": 42,
   "metadata": {},
   "outputs": [
    {
     "name": "stdout",
     "output_type": "stream",
     "text": [
      "훈련 데이터의 갯수 : 78508\n",
      "훈련 레이블의 갯수 : 78508\n",
      "테스트 데이터의 갯수 : 19626\n",
      "테스트 데이터의 갯수 : 19626\n"
     ]
    }
   ],
   "source": [
    "encoder_input_train = encoder_input[:-n_of_val]\n",
    "decoder_input_train = decoder_input[:-n_of_val]\n",
    "decoder_target_train = decoder_target[:-n_of_val]\n",
    "\n",
    "encoder_input_test = encoder_input[-n_of_val:]\n",
    "decoder_input_test = decoder_input[-n_of_val:]\n",
    "decoder_target_test = decoder_target[-n_of_val:]\n",
    "\n",
    "print(\"훈련 데이터의 갯수 :\", len(encoder_input_train))\n",
    "print(\"훈련 레이블의 갯수 :\", len(decoder_input_train))\n",
    "print(\"테스트 데이터의 갯수 :\", len(encoder_input_test))\n",
    "print(\"테스트 데이터의 갯수 :\", len(decoder_input_test))"
   ]
  },
  {
   "cell_type": "markdown",
   "metadata": {},
   "source": [
    "### 정수 인코딩\n",
    "\n",
    "단어집합 만들기 및 정수 인코딩"
   ]
  },
  {
   "cell_type": "code",
   "execution_count": 43,
   "metadata": {},
   "outputs": [],
   "source": [
    "src_tokenizer = Tokenizer()\n",
    "src_tokenizer.fit_on_texts(encoder_input_train)"
   ]
  },
  {
   "cell_type": "code",
   "execution_count": 44,
   "metadata": {},
   "outputs": [
    {
     "name": "stdout",
     "output_type": "stream",
     "text": [
      "단어 집합(vocabulary)의 크기 :  68024\n",
      "등장 빈도가 6번 이하인 희귀 단어의 수 : 46175\n",
      "단어 집합에서 희귀 단어를 제외시킬 경우의 단어 집합의 크기 :  21849\n",
      "단어 집합에서 희귀 단어의 비율 :  67.8804539574268\n",
      "전체 등장 빈도에서 희귀 단어 등장 빈도의 비율 :  3.428187252876184\n"
     ]
    }
   ],
   "source": [
    "threshold = 7\n",
    "total_cnt = len(src_tokenizer.word_index) # 단어의 수\n",
    "rare_cnt = 0 # 등장 빈도수가 threshold보다 작은 단어의 개수를 카운트\n",
    "total_freq = 0 # 훈련 데이터의 전체 단어 빈도수 총 합\n",
    "rare_freq = 0 # 등장 빈도수가 threshold 보다 작은 단어의 등장 빈도수의 총 합\n",
    "\n",
    "# 단어와 빈도수의 쌍(pair)을 key와 value로 받는다\n",
    "for key, value in src_tokenizer.word_counts.items():\n",
    "    total_freq = total_freq + value\n",
    "    \n",
    "    # 단어의 등장 빈도 수가 threshold보다 작으면\n",
    "    if value < threshold:\n",
    "        rare_cnt = rare_cnt + 1\n",
    "        rare_freq = rare_freq + value\n",
    "    \n",
    "\n",
    "print(\"단어 집합(vocabulary)의 크기 : \", total_cnt)\n",
    "print(\"등장 빈도가 {}번 이하인 희귀 단어의 수 : {}\".format(threshold-1, rare_cnt))\n",
    "print(\"단어 집합에서 희귀 단어를 제외시킬 경우의 단어 집합의 크기 : \", total_cnt - rare_cnt)\n",
    "print(\"단어 집합에서 희귀 단어의 비율 : \", (rare_cnt/total_cnt)*100)\n",
    "print(\"전체 등장 빈도에서 희귀 단어 등장 빈도의 비율 : \", (rare_freq/total_freq)*100)"
   ]
  },
  {
   "cell_type": "code",
   "execution_count": 45,
   "metadata": {},
   "outputs": [],
   "source": [
    "src_vocab = 5000\n",
    "src_tokenizer = Tokenizer(num_words = src_vocab) # 단어 집합의 크기를 5000으로 제한\n",
    "src_tokenizer.fit_on_texts(encoder_input_train) # 단어 집합 재생성"
   ]
  },
  {
   "cell_type": "code",
   "execution_count": 46,
   "metadata": {},
   "outputs": [
    {
     "name": "stdout",
     "output_type": "stream",
     "text": [
      "[[1659, 1736, 1994, 1397, 627, 1741, 2323, 1284, 877, 22, 141, 1229, 1659, 2551, 605, 349, 958, 132, 3386, 2313, 1829, 1543, 2170, 211, 326, 1994, 2186, 62], [239, 1274, 1050, 543, 1429, 413, 600, 101, 2361, 223, 376, 345, 17, 2, 26, 3697, 2977, 2638, 4715, 101, 117, 17, 3521, 124, 2639, 543, 533, 100, 4470, 3674, 38, 2552], [25, 716, 831, 3, 698, 601, 272, 4671, 72, 223, 7, 89, 88, 89, 272, 144, 3, 262, 118, 89, 808, 237, 1303, 1304, 164, 409, 89, 1680, 3, 481, 2468, 2671, 321, 272, 115, 475]]\n"
     ]
    }
   ],
   "source": [
    "# 텍스트 시퀀스를 정수 시퀀스로 변환\n",
    "encoder_input_train = src_tokenizer.texts_to_sequences(encoder_input_train)\n",
    "encoder_input_test = src_tokenizer.texts_to_sequences(encoder_input_test)\n",
    "\n",
    "# 잘 진행되었는지 샘플 출력\n",
    "print(encoder_input_train[:3])"
   ]
  },
  {
   "cell_type": "markdown",
   "metadata": {},
   "source": [
    "headline 데이터에 대해서도 한번 토크나이저를 생성합시다."
   ]
  },
  {
   "cell_type": "code",
   "execution_count": 47,
   "metadata": {},
   "outputs": [],
   "source": [
    "tar_tokenizer = Tokenizer()\n",
    "tar_tokenizer.fit_on_texts(decoder_input_train)"
   ]
  },
  {
   "cell_type": "code",
   "execution_count": 48,
   "metadata": {},
   "outputs": [
    {
     "name": "stdout",
     "output_type": "stream",
     "text": [
      "단어 집합(vocabulary)의 크기 : 29874\n",
      "등장 빈도가 5번 이하인 희귀 단어의 수: 19587\n",
      "단어 집합에서 희귀 단어를 제외시킬 경우의 단어 집합의 크기 10287\n",
      "단어 집합에서 희귀 단어의 비율: 65.56537457320746\n",
      "전체 등장 빈도에서 희귀 단어 등장 빈도 비율: 5.885922425242137\n"
     ]
    }
   ],
   "source": [
    "threshold = 6\n",
    "total_cnt = len(tar_tokenizer.word_index) # 단어의 수\n",
    "rare_cnt = 0 # 등장 빈도수가 threshold보다 작은 단어의 개수를 카운트\n",
    "total_freq = 0 # 훈련 데이터의 전체 단어 빈도수 총 합\n",
    "rare_freq = 0 # 등장 빈도수가 threshold보다 작은 단어의 등장 빈도수의 총 합\n",
    "\n",
    "# 단어와 빈도수의 쌍(pair)을 key와 value로 받는다.\n",
    "for key, value in tar_tokenizer.word_counts.items():\n",
    "    total_freq = total_freq + value\n",
    "\n",
    "    # 단어의 등장 빈도수가 threshold보다 작으면\n",
    "    if(value < threshold):\n",
    "        rare_cnt = rare_cnt + 1\n",
    "        rare_freq = rare_freq + value\n",
    "\n",
    "print('단어 집합(vocabulary)의 크기 :',total_cnt)\n",
    "print('등장 빈도가 %s번 이하인 희귀 단어의 수: %s'%(threshold - 1, rare_cnt))\n",
    "print('단어 집합에서 희귀 단어를 제외시킬 경우의 단어 집합의 크기 %s'%(total_cnt - rare_cnt))\n",
    "print(\"단어 집합에서 희귀 단어의 비율:\", (rare_cnt / total_cnt)*100)\n",
    "print(\"전체 등장 빈도에서 희귀 단어 등장 빈도 비율:\", (rare_freq / total_freq)*100)"
   ]
  },
  {
   "cell_type": "code",
   "execution_count": 49,
   "metadata": {},
   "outputs": [
    {
     "name": "stdout",
     "output_type": "stream",
     "text": [
      "input!\n",
      "input :  [[1, 298, 7, 254, 995, 967, 411], [1, 91, 83, 6], [1, 1262, 25, 1981, 38, 264], [1, 134, 279, 537, 292, 221], [1, 765, 597, 666, 78]]\n",
      "output!\n",
      "ouput :  [[298, 7, 254, 995, 967, 411, 2], [91, 83, 6, 2], [1262, 25, 1981, 38, 264, 2], [134, 279, 537, 292, 221, 2], [765, 597, 666, 78, 2]]\n"
     ]
    }
   ],
   "source": [
    "tar_vocab = 2000\n",
    "tar_tokenizer = Tokenizer(num_words = tar_vocab)\n",
    "tar_tokenizer.fit_on_texts(decoder_input_train)\n",
    "tar_tokenizer.fit_on_texts(decoder_target_train)\n",
    "\n",
    "# 텍스트 시퀀스를 정수 시퀀스로 변환\n",
    "decoder_input_train = tar_tokenizer.texts_to_sequences(decoder_input_train)\n",
    "decoder_target_train = tar_tokenizer.texts_to_sequences(decoder_target_train)\n",
    "\n",
    "decoder_input_test = tar_tokenizer.texts_to_sequences(decoder_input_test)\n",
    "decoder_target_test = tar_tokenizer.texts_to_sequences(decoder_target_test)\n",
    "\n",
    "# 잘 변환 되었는지 확인\n",
    "print(\"input!\")\n",
    "print(\"input : \", decoder_input_train[:5])\n",
    "print(\"output!\")\n",
    "print(\"ouput : \", decoder_target_train[:5])"
   ]
  },
  {
   "cell_type": "code",
   "execution_count": 50,
   "metadata": {},
   "outputs": [
    {
     "name": "stdout",
     "output_type": "stream",
     "text": [
      "삭제할 훈련 데이터의 갯수 :  249\n",
      "삭제할 테스트 데이터의 갯수 :  54\n",
      "---\n",
      "훈련 데이터의 갯수 :  78259\n",
      "훈련 레이블의 갯수 :  78259\n",
      "테스트 데이터의 갯수 :  19572\n",
      "테스트 레이블의 갯수 :  19572\n"
     ]
    }
   ],
   "source": [
    "drop_train = [index for index, sentence in enumerate(decoder_input_train) if len(sentence) == 1]\n",
    "drop_test = [index for index, sentence in enumerate(decoder_input_test) if len(sentence) == 1]\n",
    "\n",
    "print(\"삭제할 훈련 데이터의 갯수 : \", len(drop_train))\n",
    "print(\"삭제할 테스트 데이터의 갯수 : \", len(drop_test))\n",
    "\n",
    "encoder_input_train = np.delete(encoder_input_train, drop_train, axis=0)\n",
    "decoder_input_train = np.delete(decoder_input_train, drop_train, axis=0)\n",
    "decoder_target_train = np.delete(decoder_target_train, drop_train, axis=0)\n",
    "\n",
    "encoder_input_test = np.delete(encoder_input_test, drop_test, axis=0)\n",
    "decoder_input_test = np.delete(decoder_input_test, drop_test, axis=0)\n",
    "decoder_target_test = np.delete(decoder_target_test, drop_test, axis=0)\n",
    "\n",
    "print(\"---\")\n",
    "print(\"훈련 데이터의 갯수 : \", len(encoder_input_train))\n",
    "print(\"훈련 레이블의 갯수 : \", len(decoder_input_train))\n",
    "print(\"테스트 데이터의 갯수 : \", len(encoder_input_test))\n",
    "print(\"테스트 레이블의 갯수 : \", len(decoder_input_test))"
   ]
  },
  {
   "cell_type": "markdown",
   "metadata": {},
   "source": [
    "훈련 데이터와 테스트 데이터 모두 일정량의 샘플들이 제거된 것을 확인할 수 있습니다."
   ]
  },
  {
   "cell_type": "markdown",
   "metadata": {},
   "source": [
    "### 패딩하기"
   ]
  },
  {
   "cell_type": "code",
   "execution_count": 51,
   "metadata": {},
   "outputs": [],
   "source": [
    "encoder_input_train = pad_sequences(encoder_input_train, maxlen = text_max_len, padding='post')\n",
    "encoder_input_test = pad_sequences(encoder_input_test, maxlen = text_max_len, padding='post')\n",
    "\n",
    "decoder_input_train = pad_sequences(decoder_input_train, maxlen = summary_max_len, padding='post')\n",
    "decoder_input_test = pad_sequences(decoder_input_test, maxlen=summary_max_len, padding='post')\n",
    "\n",
    "decoder_target_train = pad_sequences(decoder_target_train, maxlen=summary_max_len, padding='post')\n",
    "decoder_target_test = pad_sequences(decoder_target_test, maxlen=summary_max_len, padding='post')"
   ]
  },
  {
   "cell_type": "markdown",
   "metadata": {},
   "source": [
    "## 모델 설계하기\n"
   ]
  },
  {
   "cell_type": "code",
   "execution_count": 52,
   "metadata": {},
   "outputs": [],
   "source": [
    "from tensorflow.keras.layers import Input, LSTM, Embedding, Dense, Concatenate\n",
    "from tensorflow.keras.models import Model\n",
    "from tensorflow.keras.callbacks import EarlyStopping, ModelCheckpoint\n",
    "\n",
    "# 인코더 설계 시작\n",
    "embedding_dim = 128\n",
    "hidden_size = 256\n",
    "\n",
    "# 인코더\n",
    "encoder_inputs = Input(shape = (text_max_len, ))\n",
    "\n",
    "# 인코더 임베딩 층\n",
    "enc_emb = Embedding(src_vocab, embedding_dim)(encoder_inputs)\n",
    "\n",
    "# 인코더의 LSTM 1\n",
    "encoder_lstm1 = LSTM(hidden_size, return_sequences=True, return_state=True, dropout=0.4, recurrent_dropout=0.4)\n",
    "encoder_output1, state_h1, state_c1 = encoder_lstm1(enc_emb)\n",
    "\n",
    "# 인코더의 LSTM 2\n",
    "encoder_lstm2 = LSTM(hidden_size, return_sequences=True, return_state=True, dropout=0.4, recurrent_dropout=0.4)\n",
    "encoder_output2, state_h2, state_c2 = encoder_lstm2(encoder_output1)\n",
    "\n",
    "# 인코더의 LSTM 3\n",
    "encoder_lstm3 = LSTM(hidden_size, return_sequences=True, return_state=True, dropout=0.4, recurrent_dropout=0.4)\n",
    "encoder_outputs, state_h, state_c = encoder_lstm3(encoder_output2)"
   ]
  },
  {
   "cell_type": "code",
   "execution_count": 53,
   "metadata": {},
   "outputs": [],
   "source": [
    "# 디코더 설계\n",
    "decoder_inputs = Input(shape=(None,))\n",
    "\n",
    "# 디코더의 임베딩 층\n",
    "dec_emb_layer = Embedding(tar_vocab, embedding_dim)\n",
    "dec_emb = dec_emb_layer(decoder_inputs)\n",
    "\n",
    "# 디코더의 lstm\n",
    "decoder_lstm = LSTM(hidden_size, return_sequences = True, return_state = True, dropout=0.4, recurrent_dropout = 0.2)\n",
    "decoder_outputs, _, _ = decoder_lstm(dec_emb, initial_state = [state_h, state_c])"
   ]
  },
  {
   "cell_type": "code",
   "execution_count": 54,
   "metadata": {},
   "outputs": [
    {
     "name": "stdout",
     "output_type": "stream",
     "text": [
      "Model: \"functional_1\"\n",
      "__________________________________________________________________________________________________\n",
      "Layer (type)                    Output Shape         Param #     Connected to                     \n",
      "==================================================================================================\n",
      "input_1 (InputLayer)            [(None, 50)]         0                                            \n",
      "__________________________________________________________________________________________________\n",
      "embedding (Embedding)           (None, 50, 128)      640000      input_1[0][0]                    \n",
      "__________________________________________________________________________________________________\n",
      "lstm (LSTM)                     [(None, 50, 256), (N 394240      embedding[0][0]                  \n",
      "__________________________________________________________________________________________________\n",
      "input_2 (InputLayer)            [(None, None)]       0                                            \n",
      "__________________________________________________________________________________________________\n",
      "lstm_1 (LSTM)                   [(None, 50, 256), (N 525312      lstm[0][0]                       \n",
      "__________________________________________________________________________________________________\n",
      "embedding_1 (Embedding)         (None, None, 128)    256000      input_2[0][0]                    \n",
      "__________________________________________________________________________________________________\n",
      "lstm_2 (LSTM)                   [(None, 50, 256), (N 525312      lstm_1[0][0]                     \n",
      "__________________________________________________________________________________________________\n",
      "lstm_3 (LSTM)                   [(None, None, 256),  394240      embedding_1[0][0]                \n",
      "                                                                 lstm_2[0][1]                     \n",
      "                                                                 lstm_2[0][2]                     \n",
      "__________________________________________________________________________________________________\n",
      "dense (Dense)                   (None, None, 2000)   514000      lstm_3[0][0]                     \n",
      "==================================================================================================\n",
      "Total params: 3,249,104\n",
      "Trainable params: 3,249,104\n",
      "Non-trainable params: 0\n",
      "__________________________________________________________________________________________________\n"
     ]
    }
   ],
   "source": [
    "# 디코더의 출력층\n",
    "decoder_softmax_layer = Dense(tar_vocab, activation='softmax')\n",
    "decoder_softmax_outputs = decoder_softmax_layer(decoder_outputs)\n",
    "\n",
    "# 모델 정의\n",
    "model = Model([encoder_inputs, decoder_inputs], decoder_softmax_outputs)\n",
    "model.summary()"
   ]
  },
  {
   "cell_type": "markdown",
   "metadata": {},
   "source": [
    "### 어텐션 메커니즘 적용"
   ]
  },
  {
   "cell_type": "code",
   "execution_count": 55,
   "metadata": {},
   "outputs": [],
   "source": [
    "urllib.request.urlretrieve(\"https://raw.githubusercontent.com/thushv89/attention_keras/master/src/layers/attention.py\", filename=\"attention.py\")\n",
    "from attention import AttentionLayer"
   ]
  },
  {
   "cell_type": "code",
   "execution_count": 56,
   "metadata": {},
   "outputs": [
    {
     "name": "stdout",
     "output_type": "stream",
     "text": [
      "Model: \"functional_3\"\n",
      "__________________________________________________________________________________________________\n",
      "Layer (type)                    Output Shape         Param #     Connected to                     \n",
      "==================================================================================================\n",
      "input_1 (InputLayer)            [(None, 50)]         0                                            \n",
      "__________________________________________________________________________________________________\n",
      "embedding (Embedding)           (None, 50, 128)      640000      input_1[0][0]                    \n",
      "__________________________________________________________________________________________________\n",
      "lstm (LSTM)                     [(None, 50, 256), (N 394240      embedding[0][0]                  \n",
      "__________________________________________________________________________________________________\n",
      "input_2 (InputLayer)            [(None, None)]       0                                            \n",
      "__________________________________________________________________________________________________\n",
      "lstm_1 (LSTM)                   [(None, 50, 256), (N 525312      lstm[0][0]                       \n",
      "__________________________________________________________________________________________________\n",
      "embedding_1 (Embedding)         (None, None, 128)    256000      input_2[0][0]                    \n",
      "__________________________________________________________________________________________________\n",
      "lstm_2 (LSTM)                   [(None, 50, 256), (N 525312      lstm_1[0][0]                     \n",
      "__________________________________________________________________________________________________\n",
      "lstm_3 (LSTM)                   [(None, None, 256),  394240      embedding_1[0][0]                \n",
      "                                                                 lstm_2[0][1]                     \n",
      "                                                                 lstm_2[0][2]                     \n",
      "__________________________________________________________________________________________________\n",
      "attention_layer (AttentionLayer ((None, None, 256),  131328      lstm_2[0][0]                     \n",
      "                                                                 lstm_3[0][0]                     \n",
      "__________________________________________________________________________________________________\n",
      "concat_layer (Concatenate)      (None, None, 512)    0           lstm_3[0][0]                     \n",
      "                                                                 attention_layer[0][0]            \n",
      "__________________________________________________________________________________________________\n",
      "dense_1 (Dense)                 (None, None, 2000)   1026000     concat_layer[0][0]               \n",
      "==================================================================================================\n",
      "Total params: 3,892,432\n",
      "Trainable params: 3,892,432\n",
      "Non-trainable params: 0\n",
      "__________________________________________________________________________________________________\n"
     ]
    }
   ],
   "source": [
    "# 어텐션 층(어텐션 함수)\n",
    "attn_layer = AttentionLayer(name = 'attention_layer')\n",
    "# 인코더와 디코더의 모든 time step의 hidden state를 어텐션 층에 전달하과 결과를 리턴\n",
    "attn_out, attn_states = attn_layer([encoder_outputs, decoder_outputs])\n",
    "\n",
    "# 어텐션 결과와 디코더의 hidden state들을 연결\n",
    "decoder_concat_input = Concatenate(axis=-1, name='concat_layer')([decoder_outputs, attn_out])\n",
    "\n",
    "# 디코더의 출력층\n",
    "decoder_softmax_layer = Dense(tar_vocab, activation = 'softmax')\n",
    "decoder_softmax_outputs = decoder_softmax_layer(decoder_concat_input)\n",
    "\n",
    "# 모델 정의\n",
    "model = Model([encoder_inputs, decoder_inputs], decoder_softmax_outputs)\n",
    "model.summary()"
   ]
  },
  {
   "cell_type": "markdown",
   "metadata": {},
   "source": [
    "## 모델 훈련하기"
   ]
  },
  {
   "cell_type": "code",
   "execution_count": 57,
   "metadata": {},
   "outputs": [
    {
     "name": "stdout",
     "output_type": "stream",
     "text": [
      "Epoch 1/50\n",
      "306/306 [==============================] - 330s 1s/step - loss: 3.6593 - val_loss: 3.5142\n",
      "Epoch 2/50\n",
      "306/306 [==============================] - 336s 1s/step - loss: 3.4808 - val_loss: 3.4392\n",
      "Epoch 3/50\n",
      "306/306 [==============================] - 333s 1s/step - loss: 3.4007 - val_loss: 3.3566\n",
      "Epoch 4/50\n",
      "306/306 [==============================] - 332s 1s/step - loss: 3.3036 - val_loss: 3.2688\n",
      "Epoch 5/50\n",
      "306/306 [==============================] - 299s 976ms/step - loss: 3.2208 - val_loss: 3.2078\n",
      "Epoch 6/50\n",
      "306/306 [==============================] - 302s 988ms/step - loss: 3.1615 - val_loss: 3.1706\n",
      "Epoch 7/50\n",
      "306/306 [==============================] - 298s 973ms/step - loss: 3.1185 - val_loss: 3.1468\n",
      "Epoch 8/50\n",
      "306/306 [==============================] - 303s 991ms/step - loss: 3.0780 - val_loss: 3.1227\n",
      "Epoch 9/50\n",
      "306/306 [==============================] - 304s 994ms/step - loss: 3.0442 - val_loss: 3.1070\n",
      "Epoch 10/50\n",
      "306/306 [==============================] - 287s 939ms/step - loss: 3.0170 - val_loss: 3.0949\n",
      "Epoch 11/50\n",
      "306/306 [==============================] - 273s 893ms/step - loss: 2.9903 - val_loss: 3.0861\n",
      "Epoch 12/50\n",
      "306/306 [==============================] - 273s 893ms/step - loss: 2.9580 - val_loss: 3.0805\n",
      "Epoch 13/50\n",
      "306/306 [==============================] - 273s 893ms/step - loss: 2.9324 - val_loss: 3.0758\n",
      "Epoch 14/50\n",
      "306/306 [==============================] - 273s 893ms/step - loss: 2.9079 - val_loss: 3.0734\n",
      "Epoch 15/50\n",
      "306/306 [==============================] - 273s 892ms/step - loss: 2.8834 - val_loss: 3.0737\n",
      "Epoch 16/50\n",
      "306/306 [==============================] - 273s 893ms/step - loss: 2.8607 - val_loss: 3.0756\n",
      "Epoch 00016: early stopping\n"
     ]
    }
   ],
   "source": [
    "model.compile(optimizer = 'rmsprop', loss = 'sparse_categorical_crossentropy')\n",
    "es = EarlyStopping(monitor = 'val_loss', mode = 'min', verbose = 1, patience = 2)\n",
    "history = model.fit(\n",
    "    x = [encoder_input_train, decoder_input_train],\n",
    "    y = decoder_target_train,\n",
    "    validation_data = ([encoder_input_test, decoder_input_test], decoder_target_test),\n",
    "    batch_size = 256,\n",
    "    callbacks = [es],\n",
    "    epochs = 50\n",
    ")"
   ]
  },
  {
   "cell_type": "code",
   "execution_count": 58,
   "metadata": {},
   "outputs": [
    {
     "data": {
      "image/png": "[encoded data removed]",
      "text/plain": [
       "<Figure size 432x288 with 1 Axes>"
      ]
     },
     "metadata": {
      "needs_background": "light"
     },
     "output_type": "display_data"
    }
   ],
   "source": [
    "plt.plot(history.history['loss'], label = 'train')\n",
    "plt.plot(history.history['val_loss'], label = 'test')\n",
    "plt.legend()\n",
    "plt.show()"
   ]
  },
  {
   "cell_type": "markdown",
   "metadata": {},
   "source": [
    "## 인퍼런스 모델 구현하기"
   ]
  },
  {
   "cell_type": "code",
   "execution_count": 59,
   "metadata": {},
   "outputs": [],
   "source": [
    "src_index_to_word = src_tokenizer.index_word \n",
    "tar_word_to_index = tar_tokenizer.word_index\n",
    "tar_index_to_word = tar_tokenizer.index_word"
   ]
  },
  {
   "cell_type": "code",
   "execution_count": 60,
   "metadata": {},
   "outputs": [],
   "source": [
    "# 인ㄴ코더 설계\n",
    "encoder_model = Model(inputs = encoder_inputs, outputs = [encoder_outputs, state_h, state_c])\n",
    "\n",
    "# 이전 시점들의 상태들을 저장하는 텐서\n",
    "decoder_state_input_h = Input(shape=(hidden_size,))\n",
    "decoder_state_input_c = Input(shape=(hidden_size,))\n",
    "\n",
    "dec_emb2 = dec_emb_layer(decoder_inputs)\n",
    "\n",
    "decoder_outputs2, state_h2, state_c2 = decoder_lstm(dec_emb2, initial_state=[decoder_state_input_h, decoder_state_input_c])"
   ]
  },
  {
   "cell_type": "code",
   "execution_count": 61,
   "metadata": {},
   "outputs": [],
   "source": [
    "decoder_hidden_state_input = Input(shape=(text_max_len, hidden_size))\n",
    "attn_out_inf, attn_states_inf = attn_layer([decoder_hidden_state_input, decoder_outputs2])\n",
    "decoder_inf_concat = Concatenate(axis = -1, name='concat')([decoder_outputs2, attn_out_inf])\n",
    "\n",
    "decoder_outputs2 = decoder_softmax_layer(decoder_inf_concat)\n",
    "\n",
    "decoder_model = Model(\n",
    "    [decoder_inputs] + [decoder_hidden_state_input, decoder_state_input_h, decoder_state_input_c],\n",
    "    [decoder_outputs2] + [state_h2, state_c2]\n",
    ")"
   ]
  },
  {
   "cell_type": "code",
   "execution_count": 62,
   "metadata": {},
   "outputs": [],
   "source": [
    "def decode_sequence(input_seq):\n",
    "    # 입력으로부터 인코더의 상태를 얻음\n",
    "    e_out, e_h, e_c = encoder_model.predict(input_seq)\n",
    "    \n",
    "    # <SOS>에 해당하는 토큰 생성\n",
    "    target_seq = np.zeros((1, 1))\n",
    "    target_seq[0, 0] = tar_word_to_index['sostoken']\n",
    "    \n",
    "    stop_condition = False\n",
    "    decoded_sentence = \"\"\n",
    "    \n",
    "    while not stop_condition:\n",
    "        output_tokens, h, c = decoder_model.predict([target_seq] + [e_out, e_h, e_c])\n",
    "        sampled_token_index = np.argmax(output_tokens[0, -1, :])\n",
    "        sampled_token = tar_index_to_word[sampled_token_index]\n",
    "        \n",
    "        if sampled_token != 'eostoken':\n",
    "            decoded_sentence += ' ' + sampled_token\n",
    "        \n",
    "        # <EOS>에 도달하거나 최대 길이를 넘으면 중단\n",
    "        if sampled_token == 'eostoken' or len(decoded_sentence.split()) >= summary_max_len - 1:\n",
    "            stop_condition = True\n",
    "        \n",
    "        # 길이가 1인 타겟 시퀀스를 업데이트\n",
    "        target_seq = np.zeros([1, 1])\n",
    "        target_seq[0, 0] = sampled_token_index\n",
    "        \n",
    "        # 상태 업데이트\n",
    "        e_h, e_c = h, c\n",
    "    \n",
    "    return decoded_sentence"
   ]
  },
  {
   "cell_type": "code",
   "execution_count": 63,
   "metadata": {},
   "outputs": [],
   "source": [
    "# 원문의 정수 시퀀스를 텍스트 시퀀스로 변환\n",
    "def seq2text(input_seq):\n",
    "    temp = ''\n",
    "    for i in input_seq:\n",
    "        if i != 0:\n",
    "            temp = temp + src_index_to_word[i] + ' '\n",
    "    return temp\n",
    "\n",
    "# 요약문의 정수 시퀀스를 텍스트 시퀀스로 변환\n",
    "def seq2summary(input_seq):\n",
    "    temp = \"\"\n",
    "    for i in input_seq:\n",
    "        if i != 0 and i != tar_word_to_index['sostoken'] and i != tar_word_to_index['eostoken']:\n",
    "            temp = temp + tar_index_to_word[i] + ' '\n",
    "    return temp"
   ]
  },
  {
   "cell_type": "code",
   "execution_count": 64,
   "metadata": {},
   "outputs": [
    {
     "name": "stdout",
     "output_type": "stream",
     "text": [
      "원문 :  brihanmumbai municipal corporation denied ganesh committee demand take approval process setting online committee claimed single window clearance system introduced improve approval rate reportedly meet mayor demand better clearance system \n",
      "실제 요약 :  former thai pm sentenced years prison \n",
      "예측 요약 :   man city beat arsenal win win\n",
      "\n",
      "\n",
      "원문 :  year old student singh happy punjab allegedly got girlfriend raped could use avoid according reports two happy friends took abandoned raped day supposed meet parents reports added \n",
      "실제 요약 :  kumar wins rd straight games gold \n",
      "예측 요약 :   man city beat arsenal win\n",
      "\n",
      "\n",
      "원문 :  mumbai residents protesting outside brihanmumbai municipal corporation office every monday friday since july complaints resolved months complaints filed public registration system set complaints include illegal issues tree cutting among others \n",
      "실제 요약 :  new zealand flight takes lands \n",
      "예측 요약 :   india beat pakistan hockey team\n",
      "\n",
      "\n",
      "원문 :  north korean officials said care us ban citizens travelling country saying effect tourism industry ban reportedly week comes death us student arrested north korea tour \n",
      "실제 요약 :  years cannot years ceo \n",
      "예측 요약 :   man city beat arsenal win cup win\n",
      "\n",
      "\n",
      "원문 :  australian church come fire video surfaced describing islam cancer must destroy described virus muslims adding islam western christian values called ban muslim immigration \n",
      "실제 요약 :  delhi startup raises cr cr valuation \n",
      "예측 요약 :   india first ever\n",
      "\n",
      "\n",
      "원문 :  new book last days withdrawn condemned house announced saying way intended book revealed several end life well family care \n",
      "실제 요약 :  india gdp fy \n",
      "예측 요약 :   india first female\n",
      "\n",
      "\n",
      "원문 :  man killed boy hit caused fall hit head ground court heard accused reportedly deceased mocking english victim knocked later died hospital head injuries \n",
      "실제 요약 :  karnataka govt took crore commission scam bjp \n",
      "예측 요약 :   man kills self driving car\n",
      "\n",
      "\n",
      "원문 :  us court ruled president donald trump commission election fraud resume voter information states commission asked states provide publicly available data including registered voters names birth dates social security numbers however group filed lawsuit commission citing privacy concerns \n",
      "실제 요약 :  microsoft acquires ai startup \n",
      "예측 요약 :   india beat pakistan hockey team\n",
      "\n",
      "\n",
      "원문 :  protesters france built wall around hotel prevent used shelter accusing authorities failing discuss plan protesters claimed town unable new french government bought several hotels house migrants sleeping streets \n",
      "실제 요약 :  gst going change india economy vice president naidu \n",
      "예측 요약 :   us startup raises mn\n",
      "\n",
      "\n",
      "원문 :  australian minister resources became third politician resign citizenship learning mother signed italian citizenship knowledge become italian citizen said notably australian politicians eligible elected parliament hold citizenship \n",
      "실제 요약 :  russian missile putin \n",
      "예측 요약 :   india beat pakistan runs series\n",
      "\n",
      "\n",
      "원문 :  us president donald trump sunday slammed members party protecting sad even carried line back little protect president trump tweeted comes come together bill replace \n",
      "실제 요약 :  indian batsman pujara becomes father baby girl \n",
      "예측 요약 :   india beat pakistan win series\n",
      "\n",
      "\n",
      "원문 :  govinda thanked rishi kapoor showing concern role removed added good blood never wrong said expected little director anurag want govinda work film ask first place rishi said \n",
      "실제 요약 :  rejects cr bid steel \n",
      "예측 요약 :   india first ever\n",
      "\n",
      "\n",
      "원문 :  hindi trailer kajol starrer film released sequel tamil film story also co producing sister law rajinikanth directing film scheduled release july \n",
      "실제 요약 :  shares details co star \n",
      "예측 요약 :   india first ever odi history\n",
      "\n",
      "\n",
      "원문 :  official james bond twitter handle announced november release date new film franchise titled bond film written robert produced michael daniel reportedly return character james bond film \n",
      "실제 요약 :  yr old girl dies people rescued \n",
      "예측 요약 :   india beat pakistan win world cup\n",
      "\n",
      "\n",
      "원문 :  many ministers mlas uttar pradesh failed declare assets despite cm yogi adityanath repeated directions according government notification per rules ministers mlas declare assets within three months office elected members state assembly \n",
      "실제 요약 :  bitcoin price hours \n",
      "예측 요약 :   india first ever\n",
      "\n",
      "\n",
      "원문 :  state owned planning change logo issued invitation asking public logo take new logo design till august winner awarded cash prize lakh current logo since \n",
      "실제 요약 :  australia joins mission rescue indian \n",
      "예측 요약 :   us sanctions iran\n",
      "\n",
      "\n",
      "원문 :  president ram nath kovind tuesday said speech nation building requires national pride adding citizen india nation talked various professionals india act nation also said india believed world family \n",
      "실제 요약 :  kerala girl trolled selling fish donates floods \n",
      "예측 요약 :   man kills self\n",
      "\n",
      "\n",
      "원문 :  police officials uk arrested gang criminals ran largest growing operation britain network drug built inside industrial facilities gang grew street value million year members convicted conspiracy produce illegal \n",
      "실제 요약 :  members french prez party resign \n",
      "예측 요약 :   india first ever\n",
      "\n",
      "\n",
      "원문 :  country largest telecom operator bharti airtel tuesday reported year year decline net profit crore quarter ended june total revenue company also slipped crore bharti airtel ceo gopal said caused entry new operator created stress sector \n",
      "실제 요약 :  north korea talk us south korea \n",
      "예측 요약 :   man arrested raping year old girl\n",
      "\n",
      "\n",
      "원문 :  government sent gold producer mining billion tax bill another billion interest bill equal almost two centuries worth company revenue government alleged company declared revenues company authorities resulted decline stock year \n",
      "실제 요약 :  employee internet target police \n",
      "예측 요약 :   india first ever\n",
      "\n",
      "\n",
      "원문 :  asked big task bring infosys board founders together co chairman ravi said know measure lot still left stated comments come public dispute co founders including murthy top management corporate governance \n",
      "실제 요약 :  delhi see fastest growth asia yrs study \n",
      "예측 요약 :   india beat pakistan runs runs series\n",
      "\n",
      "\n",
      "원문 :  actor varun dhawan star director next film titled october talking film said love story box kind story kind story life space notably varun first film \n",
      "실제 요약 :  warner scores takes catches run return \n",
      "예측 요약 :   man kills self driving car\n",
      "\n",
      "\n",
      "원문 :  actor arjun turned designer rohit india week show walked black featured newly collection featured gold silver \n",
      "실제 요약 :  ramdev patanjali launches new app \n",
      "예측 요약 :   man kills self driving\n",
      "\n",
      "\n",
      "원문 :  emmanuel game thrones said first nude scene show featured season second episode big deal added become good friends co star anderson fine done really said \n",
      "실제 요약 :  fb check user data report \n",
      "예측 요약 :   india first ever test series\n",
      "\n",
      "\n",
      "원문 :  former adult star started youtube channel review directorial video review said know whole thing hours rescue mission took two half months also slammed tweeting love \n",
      "실제 요약 :  apologises pic pak mp bridge \n",
      "예측 요약 :   india st female win asiad gold\n",
      "\n",
      "\n",
      "원문 :  actor nitin mukesh took twitter share first look poster upcoming film co stars alongside shroff film also stars karan singh film directed bhatt cast expected begin shooting august \n",
      "실제 요약 :  bank profit cr quarter \n",
      "예측 요약 :   india beat pakistan hockey world cup final\n",
      "\n",
      "\n",
      "원문 :  actor said advice talent compared six added talent film industry said one efforts talent cannot anything \n",
      "실제 요약 :  financial independence women pm modi \n",
      "예측 요약 :   man kills self driving car\n",
      "\n",
      "\n",
      "원문 :  actor ayushmann khurrana tweeted please change logo childhood statement comes recent reports planning changing logo create something appeal children current logo since \n",
      "실제 요약 :  big actor boyfriend \n",
      "예측 요약 :   india beat sl runs series\n",
      "\n",
      "\n",
      "원문 :  actor sushant singh rajput said think saif ali khan daughter sara ali khan feeling pressure making debut girl confident career sure well added sara make acting debut opposite sushant film kedarnath \n",
      "실제 요약 :  khan best world sachin \n",
      "예측 요약 :   india first female\n",
      "\n",
      "\n",
      "원문 :  karnataka government tuesday announced plans open new liquor stores drop revenue liquor sale along highways banned new stores reportedly run state government owned sales international limited comes amid protests opposition stores push people debt \n",
      "실제 요약 :  ex get jobs telangana \n",
      "예측 요약 :   india first ever\n",
      "\n",
      "\n",
      "원문 :  human resource development minister prakash javadekar monday announced soon give approval world class research teaching institutions called indian institutes adding approval given parliament monsoon session said ranked among top universities world \n",
      "실제 요약 :  anyone write sanjay dutt \n"
     ]
    },
    {
     "name": "stdout",
     "output_type": "stream",
     "text": [
      "예측 요약 :   man arrested raping year old girl\n",
      "\n",
      "\n",
      "원문 :  german carmaker rejected reports emissions tests illegal systems cars company also denied reports volkswagen diesel emissions treatment systems vehicle emissions came worldwide since volkswagen admitted illegal software us emissions tests diesel cars \n",
      "실제 요약 :  jd cong alliance bjp stake claim form karnataka govt \n",
      "예측 요약 :   india first ever\n",
      "\n",
      "\n",
      "원문 :  australian captured footage rare called caused instead going towards ground travel space observed australia new south \n",
      "실제 요약 :  times star scene oscar \n",
      "예측 요약 :   india first ever\n",
      "\n",
      "\n",
      "원문 :  reportedly stopped oil disputed area south china sea china threatened attack islands stop china claims islands calls islands notably several countries including philippines others dispute china claim region \n",
      "실제 요약 :  woman man refuses give metro seat \n",
      "예측 요약 :   india first ever win\n",
      "\n",
      "\n",
      "원문 :  russian lawmakers urged president vladimir putin bill soviet legislation part de law states cannot pay tribute persons organisations events systems notably lakh soviet soldiers died \n",
      "실제 요약 :  death toll assam floods rises cm visits \n",
      "예측 요약 :   india beat pakistan win asian\n",
      "\n",
      "\n",
      "원문 :  television personality snapchat hacked posted message caption add followed post alleged twitter account read got however hour later supposed wrote joke nude pictures \n",
      "실제 요약 :  salman priyanka people list \n",
      "예측 요약 :   india beat pakistan win runs series\n",
      "\n",
      "\n",
      "원문 :  supreme court tuesday directed group chief roy deposit crore september also said process group valley shall start next hearing case september supreme court ordered auction alleged failure deposit money investors \n",
      "실제 요약 :  fake whatsapp message says pm give free kids \n",
      "예측 요약 :   us startup raises mn\n",
      "\n",
      "\n",
      "원문 :  india host first tournament five years city mumbai lakh mumbai open november maharashtra state tennis association recently bagged hosting rights chennai open india world tour event maharashtra open held pune \n",
      "실제 요약 :  part time takes wickets aus end day \n",
      "예측 요약 :   india st test win vs australia\n",
      "\n",
      "\n",
      "원문 :  government raised increased prices different reports said people pay brands like gold navy cut premium brands gold kings seen hike cost earlier \n",
      "실제 요약 :  female islamic issue child marriage \n",
      "예측 요약 :   man arrested smuggling gold gold\n",
      "\n",
      "\n",
      "원문 :  ex cfo global indian arm filed defamation suit accusing accounts taxes breaking several laws accused cheating name refused cover crimes alleged government made expenses crore taxes \n",
      "실제 요약 :  firms lose giving people gst \n",
      "예측 요약 :   india beat world cup win\n",
      "\n",
      "\n",
      "원문 :  late veteran actress set get figure new delhi figure styled character film museum open later year also feature figures bollywood actors amitabh bachchan shah rukh khan singer among others \n",
      "실제 요약 :  allow turn sabarimala ayodhya kerala cm \n",
      "예측 요약 :   india beat sl runs runs\n",
      "\n",
      "\n",
      "원문 :  rock band park tribute lead singer allegedly committed suicide wrote broken facebook post read absence leaves never filled kind voice room missing also shared web link page \n",
      "실제 요약 :  india rises career high world number \n",
      "예측 요약 :   india beat pakistan win asia cup\n",
      "\n",
      "\n",
      "원문 :  video reportedly showing xiaomi note bengaluru store emerged online damage due third party used customer company claimed xiaomi india said replaced customer damaged unit brand new note \n",
      "실제 요약 :  kolkata market fire days \n",
      "예측 요약 :   india st test win\n",
      "\n",
      "\n",
      "원문 :  world richest man bill gates ventures invested us based startup along investors crore series funding round amazon ceo jeff bezos also invested startup earlier two year old startup makes software matches nearby available job \n",
      "실제 요약 :  teachers held yr old sexual assault wb school \n",
      "예측 요약 :   india beat pakistan win world cup\n",
      "\n",
      "\n",
      "원문 :  technology major alphabet monday reported jump revenue billion quarter ended june despite largest subsidiary google handed record billion fine european commission latest alphabet reported billion cash cash another billion securities \n",
      "실제 요약 :  yr old becomes rd youngest play ipl \n",
      "예측 요약 :   india beat pakistan win asian\n",
      "\n",
      "\n",
      "원문 :  civil responsible sweden largest ever data leak punished fine half month salary lakh discovered nearly months ago leak affected private data every swedish citizen driver license data exposed sweden transport agency management \n",
      "실제 요약 :  man kills self wife leaves house toilet \n",
      "예측 요약 :   india beat sl runs runs\n",
      "\n",
      "\n",
      "원문 :  bengaluru based education technology startup raised undisclosed amount funding chinese internet conglomerate tencent september raised crore investors including zuckerberg initiative sequoia capital also acquired platforms earlier year \n",
      "실제 요약 :  future cm yogi padmaavat release \n",
      "예측 요약 :   india beat pakistan hockey team\n",
      "\n",
      "\n",
      "원문 :  former chief marketing officer furniture urban sanjay gupta joined uber head marketing india according reports gupta left urban april joined uber may year earlier uber hired former bse ceo chief business officer india markets \n",
      "실제 요약 :  india first transgender joins tn police \n",
      "예측 요약 :   man arrested raping year old girl\n",
      "\n",
      "\n",
      "원문 :  former ceo infosys said indian companies need learn manage employees growth rate said technology companies must invest employees employees must invest time learning also said services like infrastructure management maintenance \n",
      "실제 요약 :  yadav illegal kejriwal \n",
      "예측 요약 :   man city beat win win title\n",
      "\n",
      "\n",
      "원문 :  ceo kumar sinha director arrested alleged fraud paying labour crore labour department received final recovery notice march failed pay police took action district administration said labour charged labour welfare group pay \n",
      "실제 요약 :  ex chief book ex head pak \n",
      "예측 요약 :   india beat pakistan runs runs series\n",
      "\n",
      "\n"
     ]
    }
   ],
   "source": [
    "for i in range(50, 100):\n",
    "    print(\"원문 : \", seq2text(encoder_input_test[i]))\n",
    "    print(\"실제 요약 : \", seq2summary(decoder_input_test[i]))\n",
    "    print(\"예측 요약 : \", decode_sequence(encoder_input_test[i].reshape(1, text_max_len)))\n",
    "    print(\"\\n\")"
   ]
  },
  {
   "cell_type": "markdown",
   "metadata": {},
   "source": [
    "예측 모델이 india에 꽂혀서 계속 나옵니다... 추상적인 방법으로는 잘 되는 것 같지가 않아요.\n",
    "\n",
    "추출적 방법으로 한번 도전해봅시다.\n",
    "\n",
    "---\n",
    "\n",
    "# 추출적 요약"
   ]
  },
  {
   "cell_type": "code",
   "execution_count": 94,
   "metadata": {},
   "outputs": [
    {
     "name": "stdout",
     "output_type": "stream",
     "text": [
      "Summary 51\n",
      "원문 :  former finance minister yashwant sinha tuesday demanded probe alleged diversion loans worth crore dewan housing finance agencies including regulators government failed track nefarious deals said comes media report tuesday accused dhfl controlling shareholders diverting funds shell companies buy assets\n",
      "요약 :  yashwant sinha demands probe alleged fund diversion dhfl\n",
      "추출적 요약 :  \n",
      "\n",
      "\n",
      "Summary 52\n",
      "원문 :  us based boeing wednesday reported annual sales worth billion first time planemaker sales crossed billion mark year history company said expects deliver commercial aircraft boeing retained position world largest planemaker seventh straight year delivering aircraft\n",
      "요약 :  boeing sales cross bn st time yr history\n",
      "추출적 요약 :  \n",
      "\n",
      "\n",
      "Summary 53\n",
      "원문 :  text\n",
      "요약 :  headlines\n",
      "추출적 요약 :  \n",
      "\n",
      "\n",
      "Summary 54\n",
      "원문 :  oneplus emerged india best selling premium smartphone brand per report counterpoint captured market share premium segment oneplus emerged highest selling premium smartphone followed oneplus\n",
      "요약 :  oneplus named bestselling premium smartphone brand report\n",
      "추출적 요약 :  \n",
      "\n",
      "\n",
      "Summary 55\n",
      "원문 :  filmmaker pooja bhatt talking presentation women films said never look female body even naked vulgar manner audience say women films bold sensual never ever vulgar added pooja said censor board heart mind\n",
      "요약 :  never look female body even naked vulgar way pooja\n",
      "추출적 요약 :  \n",
      "\n",
      "\n",
      "Summary 56\n",
      "원문 :  actress mishti featured manikarnika queen jhansi said film co director kangana ranaut made false promises cast kangana said want dates characters look jumbled trying best give everybody prominent space screen watching movie scope characters mishti added\n",
      "요약 :  kangana made fake promises cast manikarnika actress mishti\n",
      "추출적 요약 :  \n",
      "\n",
      "\n",
      "Summary 57\n",
      "원문 :  high powered committee led pm narendra modi select next cbi director meet february congress leader mallikarjun kharge said panel consisting kharge chief justice india ranjan gogoi met january meeting ended inconclusively kharge cited lack details list ips officers\n",
      "요약 :  pm led panel meet friday pick new cbi chief kharge\n",
      "추출적 요약 :  \n",
      "\n",
      "\n",
      "Summary 58\n",
      "원문 :  nevada state athletic commission banned mma fighters conor mcgregor khabib nurmagomedov six months nine months respectively roles mass brawl occurred fight ufc last october mcgregor khabib fined respectively brawl occurred nurmagomedov confronted mcgregor teammate\n",
      "요약 :  mcgregor fined lakh khabib crore brawl banned\n",
      "추출적 요약 :  \n",
      "\n",
      "\n",
      "Summary 59\n",
      "원문 :  pakistan captain sarfaraz ahmed banned four matches racist remarks took apparent dig critics sharing video child reciting log hai na poem twitter pyaar karna hai khud se kar dushmani karne ke liye log hai na poem read world sarfaraz wrote\n",
      "요약 :  banned matches sarfaraz shares log hai na poem critics\n",
      "추출적 요약 :  \n",
      "\n",
      "\n",
      "Summary 60\n",
      "원문 :  banned cricketer sreesanth told supreme court initially confessed delhi police alleged involvement ipl spot fixing scandal escape continuous police torture sreesanth said bookie tried dragging spot fixing fall citing sreesanth informing bcci fixing approach apex court said sreesanth conduct good\n",
      "요약 :  confessed spot fixing escape police torture sreesanth sc\n",
      "추출적 요약 :  \n",
      "\n",
      "\n",
      "Summary 61\n",
      "원문 :  finance ministry wednesday said government present interim budget february clarification came amid speculations full budget may presented session government recently assigned piyush goyal temporary additional charge finance corporate affairs ministries absence arun jaitley us treatment\n",
      "요약 :  govt present interim budget full budget february\n",
      "추출적 요약 :  \n",
      "\n",
      "\n",
      "Summary 62\n",
      "원문 :  us president donald trump wednesday called country top intelligence chiefs naive wrong iran added perhaps go back school trump claimed iran testing rockets calling country source potential danger conflict top us intelligence officials tuesday said iran currently taking steps towards building nuclear weapons\n",
      "요약 :  us intelligence naive wrong go back school trump\n",
      "추출적 요약 :  \n",
      "\n",
      "\n",
      "Summary 63\n",
      "원문 :  senior priest vatican handled cases sexual abuse quit accused sexual abuse former nun accused priest claimed innocent said would consider taking legal action vatican said statement church investigation case underway\n",
      "요약 :  vatican priest handling sex abuse cases quits alleged sex abuse\n",
      "추출적 요약 :  \n",
      "\n",
      "\n",
      "Summary 64\n",
      "원문 :  year old writer turned job offer claiming bullied point tears two hour interview uk company ceo olivia bland added brutal interview brought back painful memories abusive relationship sorry anyone hurt never intent web applications ceo craig dean replied\n",
      "요약 :  woman rejects job ceo bullies interview apologises\n",
      "추출적 요약 :  \n",
      "\n",
      "\n",
      "Summary 65\n",
      "원문 :  noida police arrested sector station charge manoj pant three journalists allegedly extorting money call centre owner removing name fir four caught taking bribe money lakh police said pant lead investigator paytm extortion case involving founder vijay shekhar sharma secretary sonia dhawan\n",
      "요약 :  police officer probing paytm extortion case arrested extortion\n",
      "추출적 요약 :  \n",
      "\n",
      "\n",
      "Summary 66\n",
      "원문 :  airtel wednesday said qatar sovereign wealth fund qatar investment authority invest million primary equity issuance airtel africa india second largest telecom operator africa unit recently raised billion six investors airtel africa holding company airtel operations african countries preparing initial public offering\n",
      "요약 :  qatar invest million airtel africa\n",
      "추출적 요약 :  \n",
      "\n",
      "\n",
      "Summary 67\n",
      "원문 :  actor shreyas talpade said golmaal filmmaker rohit shetty still working script fifth instalment golmaal film franchise telling us day cracked story done scripting take call actor added series features shreyas along ajay devgn arshad warsi tusshar kapoor\n",
      "요약 :  rohit shetty still working script golmaal shreyas\n",
      "추출적 요약 :  \n",
      "\n",
      "\n",
      "Summary 68\n",
      "원문 :  year old man named terry sanderson sued avengers actress gwyneth paltrow allegedly crashing skiing seeking million damages lawsuit states actress got skied away knocking man leaving broken ribs incident reportedly took place utah us\n",
      "요약 :  man sues avengers actress gwyneth crore ski crash\n",
      "추출적 요약 :  \n",
      "\n",
      "\n",
      "Summary 69\n",
      "원문 :  yami gautam felicitated border security force amritsar performance uri surgical strike bsf first line defence country gives pride met yami said film also stars vicky kaushal based indian army surgical strike operation took place\n",
      "요약 :  yami gautam felicitated bsf performance uri\n",
      "추출적 요약 :  \n",
      "\n",
      "\n",
      "Summary 70\n",
      "원문 :  social media giant facebook hired privacy critic nate cardozo formerly top legal counsel us privacy watchdog eff privacy policy manager whatsapp cardozo called facebook faceless corporation whose business model depends user confusion indifference privacy october facebook also hired attorney robyn greene privacy policy manager\n",
      "요약 :  facebook hires privacy critic privacy policy manager\n",
      "추출적 요약 :  \n",
      "\n",
      "\n",
      "Summary 71\n",
      "원문 :  apple ceo tim cook said company plans lower iphones prices markets currencies weakened us dollar past year decided go back commensurate local prices year ago cook added price cuts hopes increasing sales reportedly occurring second time years\n",
      "요약 :  apple cut iphones prices outside us strong dollar\n",
      "추출적 요약 :  \n",
      "\n",
      "\n",
      "Summary 72\n",
      "원문 :  scientists australia flinders university testing wetsuit prototype could protect wearer shark attack suit made synthetic material similar material used bulletproof vests could help reduce blood loss shark attack majority fatalities shark bites due blood loss shock blood loss scientist said\n",
      "요약 :  scientists test wetsuit protect wearer shark attack\n",
      "추출적 요약 :  \n",
      "\n",
      "\n",
      "Summary 73\n",
      "원문 :  bjp national secretary rahul sinha wednesday asked party workers west bengal come armed sticks pm narendra modi rally state february statement came day clashes broke following bjp chief amit shah wb rally sinha added tmc indulged violence afraid bjp strength\n",
      "요약 :  come armed sticks pm modi rally wb bjp leader\n",
      "추출적 요약 :  \n",
      "\n",
      "\n",
      "Summary 74\n",
      "원문 :  bjp president amit shah wednesday took dig opposition parties saying mahagathbandhan opposition bua bhatija bhai behen added bjp meant badhta bharat banta bharat said opposition government cannot take country ahead modiji provide mazboot government\n",
      "요약 :  opposition bua bhatija bhai behen amit shah\n",
      "추출적 요약 :  \n",
      "\n",
      "\n",
      "Summary 75\n",
      "원문 :  german automaker volkswagen group retained car industry top spot global sales beating japanese rival toyota volkswagen sales including man scania heavy trucks buses rose million company said toyota came second around million deliveries including affiliated brands daihatsu hino\n",
      "요약 :  volkswagen retains top spot global sales beats toyota\n",
      "추출적 요약 :  \n",
      "\n",
      "\n",
      "Summary 76\n",
      "원문 :  ousted nissan chairman carlos ghosn said arrest alleged financial misconduct led plot treason japanese carmaker executives opposed deeper integration renault mitsubishi ghosn added discussed integration plans nissan ceo september month arrest said would flee granted bail\n",
      "요약 :  plot treason nissan executives led arrest ghosn\n",
      "추출적 요약 :  \n",
      "\n",
      "\n",
      "Summary 77\n",
      "원문 :  government cut customs duty import parts components electric vehicles previous central board indirect taxes customs said disassembled parts attract duty whereas levied pre assembled packs however fully built electric vehicles continue attract import duty\n",
      "요약 :  govt cuts customs duty electric vehicle parts\n",
      "추출적 요약 :  \n",
      "\n",
      "\n",
      "Summary 78\n",
      "원문 :  government officials wednesday said swine flu outbreak killed people year rajasthan colder weather worsened seasonal outbreak virus country officials added rajasthan recorded third swine flu deaths india jodhpur worst affected area state officials said\n",
      "요약 :  swine flu outbreak kills rajasthan\n",
      "추출적 요약 :  \n",
      "\n",
      "\n",
      "Summary 79\n",
      "원문 :  north korea unlikely completely give nuclear weapons production capabilities director us national intelligence daniel coats said north korean leaders view nuclear arms critical regime survival added statements come despite north korea agreement us singapore summit last year denuclearise korean peninsula\n",
      "요약 :  korea unlikely give nuclear weapons us intelligence chief\n",
      "추출적 요약 :  \n",
      "\n",
      "\n",
      "Summary 80\n",
      "원문 :  jet airways wednesday denied directed ge capital aviation services ground aircraft due non payment dues airline said process delivering three aircraft lessors due expiry lease terms three aircraft temporarily grounded carry engine normalisation exercise added\n",
      "요약 :  jet airways denies told ground aircraft\n",
      "추출적 요약 :  \n",
      "\n",
      "\n",
      "Summary 81\n",
      "원문 :  retired justice srikrishna enquiry panel found ex ceo chanda kochhar violated icici bank code conduct bank said treat kochhar exit termination take back bonuses paid april march cbi recently filed case kochhar husband videocon md icici videocon loan case\n",
      "요약 :  icici fires chanda kochhar take back bonuses paid last yrs\n",
      "추출적 요약 :  \n",
      "\n",
      "\n",
      "Summary 82\n",
      "원문 :  ex india cricketer jacob martin shifted general ward icu ventilator nearly month following road accident wherein severely injured lungs martin wife khyati mentioned chances jacob hospital two months bcci csk various cricketers provided financial assistance martin treatment\n",
      "요약 :  ex cricketer martin icu ventilator month\n",
      "추출적 요약 :  \n",
      "\n",
      "\n",
      "Summary 83\n",
      "원문 :  sri lanka rounder thisara perera written sri lanka cricket ceo ashley de silva asking board intervene odi captain lasith malinga wife tanya targeted facebook tanya accused perera meeting country sports minister secure place team become laughing stock whole country one person personal vendetta perera wrote\n",
      "요약 :  malinga wife targets perera facebook seeks board help\n",
      "추출적 요약 :  \n",
      "\n",
      "\n",
      "Summary 84\n",
      "원문 :  goa cm ex defence minister manohar parrikar written letter congress president rahul gandhi claim parrikar told nothing new rafale deal parrikar wrote kindly use visit ailing person feed political opportunism five minute meeting discuss anything rafale added\n",
      "요약 :  use visit ailing man political gains goa cm rahul\n",
      "추출적 요약 :  \n",
      "\n",
      "\n",
      "Summary 85\n",
      "원문 :  prime minister narendra modi stopped speech inauguration new terminal building surat airport observing cameraman fainted pm modi asked officers urgently arrange ambulance cameraman good pm paying attention surroundings speech cameraman later said hospital\n",
      "요약 :  pm modi stops speech cameraman faints asks officers help\n",
      "추출적 요약 :  \n",
      "\n",
      "\n",
      "Summary 86\n",
      "원문 :  couple got divorced minutes wedding ceremony got gujarat gondal disagreement broke relatives sides started throwing dishes lunch advocates representing sides arrived marriage hall got couple divorced within minutes couple even reportedly returned gifts exchanged ceremony\n",
      "요약 :  couple divorces minutes marriage families fight lunch\n",
      "추출적 요약 :  \n",
      "\n",
      "\n",
      "Summary 87\n",
      "원문 :  gujarat education minister bhupendrasinh chudasma written congratulatory message yoga ashram run rape convict asaram organisation observing february matru pitru pujan divas congress termed letter unfortunate saying shows nexus bjp godman chudasma clarified done sent best wishes\n",
      "요약 :  minister praises rape convict asaram matru pitru divas\n",
      "추출적 요약 :  \n",
      "\n",
      "\n",
      "Summary 88\n",
      "원문 :  venezuelan president nicol maduro claimed american counterpart donald trump ordered colombian government colombian mafia kill something happens trump colombian president iv rquez bear responsibility added us blamed maduro economic crisis venezuela recognised opposition leader juan guaid interim president\n",
      "요약 :  trump ordered kill venezuela president maduro\n",
      "추출적 요약 :  \n",
      "\n",
      "\n",
      "Summary 89\n",
      "원문 :  eight asian billionaires aged bloomberg billionaires index world richest people combined net worth billion richest among hong kong li ka shing net worth billion india year old pallonji mistry controls tata sons shapoorji pallonji group worth billion\n",
      "요약 :  asian billionaires aged including mistry control bn\n",
      "추출적 요약 :  \n",
      "\n",
      "\n",
      "Summary 90\n",
      "원문 :  tamil nadu food safety officials wednesday raided seized kgs banned plastic items hotel saravana bhavan chennai vadapalani officials began surprise check branch state government banned single use plastics january said banned items handed offices city corporation\n",
      "요약 :  kg banned plastic seized saravana bhavan chennai\n",
      "추출적 요약 :  \n",
      "\n",
      "\n",
      "Summary 91\n",
      "원문 :  actress shamita shetty verbally abused driver slapped incident road rage mumbai tuesday per reports incident reportedly took place motorist accompanied two friends rammed vehicle shamita car men allegedly manhandled threatened shamita driver stepped inspect damage\n",
      "요약 :  shamita shetty abused driver slapped accident report\n",
      "추출적 요약 :  \n",
      "\n",
      "\n",
      "Summary 92\n",
      "원문 :  actress vaani kapoor said trolling become norm social media adding one got trolled social media everybody pull person bother let bother vaani added said social media offers platform people enjoy belittling everybody\n",
      "요약 :  trolling become norm social media vaani\n",
      "추출적 요약 :  \n",
      "\n",
      "\n",
      "Summary 93\n",
      "원문 :  actress sushmita sen took instagram share joke subject marriage whoever invented marriage creepy hell like love much gonna get government involved leave sushmita post read insult beauty marriage instagram user commented post\n",
      "요약 :  whoever invented marriage creepy hell sushmita posts joke\n",
      "추출적 요약 :  \n",
      "\n",
      "\n",
      "Summary 94\n",
      "원문 :  television actor karanvir bohra flew russia tuesday attend film festival detained moscow due passport damage contemplating deport back india actor wrote twitter indian embassy russia capital responded tweet said looking issue\n",
      "요약 :  actor karanvir bohra detained russia passport damage\n",
      "추출적 요약 :  \n",
      "\n",
      "\n",
      "Summary 95\n",
      "원문 :  speaking winning awards films shah rukh khan said get award award loss sometimes prestige award increases receive actor jokingly added shah rukh said extremely ambitious fair manner\n",
      "요약 :  get award award loss srk\n",
      "추출적 요약 :  \n",
      "\n",
      "\n",
      "Summary 96\n",
      "원문 :  actress patralekhaa make debut kannada film industry action comedy film kannadaka definitely say kind role portrayed screen far makes special actress said statement shooting film reportedly begin april\n",
      "요약 :  actress patralekhaa make kannada film debut\n",
      "추출적 요약 :  \n",
      "\n",
      "\n",
      "Summary 97\n",
      "원문 :  gmail tuesday faced global outage also affected india wherein certain users complained faced error message trying sign accounts error message read requested url found server know google responded saying problem gmail resolved apologise inconvenience\n",
      "요약 :  gmail faces temporary global outage users face error\n",
      "추출적 요약 :  \n",
      "\n",
      "\n",
      "Summary 98\n",
      "원문 :  shiv sena chief uddhav thackeray asked bjp decide alliance sena within days said bjp make concrete proposal alliance thackeray added bjp agrees sena terms conditions party agree alliance sena free fight independently said\n",
      "요약 :  decide alliance within days uddhav bjp\n",
      "추출적 요약 :  \n",
      "\n",
      "\n",
      "Summary 99\n",
      "원문 :  bjp president amit shah wednesday took dig opposition proposed grand alliance saying mahagathbandhan comes power opposition leader prime minister every day week added country go holiday sunday said opposition thinking leading country leader\n",
      "요약 :  grand alliance wins see new pm every day shah\n",
      "추출적 요약 :  \n",
      "\n",
      "\n",
      "Summary 100\n",
      "원문 :  prime minister narendra modi wednesday said government demonetisation decision made houses affordable aspiring youth added decisions like demonetisation rera put check black money used parked real estate sector said udan scheme boosted development country aviation sector\n",
      "요약 :  demonetisation made homes affordable youth pm modi\n",
      "추출적 요약 :  \n",
      "\n",
      "\n"
     ]
    }
   ],
   "source": [
    "from summa.summarizer import summarize\n",
    "\n",
    "for i in range(50, 100):\n",
    "    print(\"Summary\", i+1)\n",
    "    print(\"원문 : \", data['text'][i])\n",
    "    print(\"요약 : \", data['headlines'][i])\n",
    "    print(\"추출적 요약 : \", summarize(data['text'][i], ratio = 0.4))\n",
    "    print(\"\\n\")"
   ]
  },
  {
   "cell_type": "code",
   "execution_count": null,
   "metadata": {},
   "outputs": [],
   "source": []
  }
 ],
 "metadata": {
  "kernelspec": {
   "display_name": "aiffel",
   "language": "python",
   "name": "aiffel"
  },
  "language_info": {
   "codemirror_mode": {
    "name": "ipython",
    "version": 3
   },
   "file_extension": ".py",
   "mimetype": "text/x-python",
   "name": "python",
   "nbconvert_exporter": "python",
   "pygments_lexer": "ipython3",
   "version": "3.7.7"
  }
 },
 "nbformat": 4,
 "nbformat_minor": 4
}
